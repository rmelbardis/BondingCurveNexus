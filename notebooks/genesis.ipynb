{
 "cells": [
  {
   "cell_type": "code",
   "execution_count": 1,
   "id": "ea027cd5",
   "metadata": {},
   "outputs": [],
   "source": [
    "# Imports (numpy, pandas, matplotlib, seaborn imported autom)\n",
    "import requests\n",
    "from etherscan import Etherscan\n",
    "from BondingCurveNexus import config"
   ]
  },
  {
   "cell_type": "code",
   "execution_count": 2,
   "id": "f9d7512b",
   "metadata": {},
   "outputs": [],
   "source": [
    "# activate etherscan client\n",
    "eth_client = Etherscan(config.etherscan_api)"
   ]
  },
  {
   "cell_type": "code",
   "execution_count": 3,
   "id": "7b4a5554",
   "metadata": {},
   "outputs": [
    {
     "data": {
      "text/plain": [
       "{'ethbtc': '0.07518',\n",
       " 'ethbtc_timestamp': '1651828328',\n",
       " 'ethusd': '2722.33',\n",
       " 'ethusd_timestamp': '1651828328'}"
      ]
     },
     "execution_count": 3,
     "metadata": {},
     "output_type": "execute_result"
    }
   ],
   "source": [
    "eth_client.get_eth_last_price()"
   ]
  },
  {
   "cell_type": "markdown",
   "id": "22d16f6a",
   "metadata": {},
   "source": [
    "# Nexus Tokenomics Investigation"
   ]
  },
  {
   "cell_type": "markdown",
   "id": "fa20d2f8",
   "metadata": {},
   "source": [
    "## Current Bonding Curve Set-up & Parameters"
   ]
  },
  {
   "cell_type": "code",
   "execution_count": 5,
   "id": "80efc1a8",
   "metadata": {},
   "outputs": [
    {
     "name": "stdout",
     "output_type": "stream",
     "text": [
      "mcrp: 0.9573834077266431, book value: 0.02259368789579963\n"
     ]
    }
   ],
   "source": [
    "nxm_supply = 6_882_586\n",
    "act_cover = 140_192\n",
    "capital_factor = 4.8\n",
    "mcr_floor = 162_425\n",
    "mcr = max(mcr_floor, act_cover/capital_factor)\n",
    "cap_pool = 155_503\n",
    "mcrp = cap_pool/mcr\n",
    "book_value = cap_pool/nxm_supply\n",
    "print(f'mcrp: {mcrp}, book value: {book_value}')"
   ]
  },
  {
   "cell_type": "code",
   "execution_count": 6,
   "id": "82a13980",
   "metadata": {},
   "outputs": [
    {
     "data": {
      "text/plain": [
       "0.03380710376606992"
      ]
     },
     "execution_count": 6,
     "metadata": {},
     "output_type": "execute_result"
    }
   ],
   "source": [
    "a = 0.01028\n",
    "c = 5_800_000\n",
    "token_price = a + (mcr/c)*(mcrp**4)\n",
    "token_price"
   ]
  },
  {
   "cell_type": "code",
   "execution_count": 7,
   "id": "942344c4",
   "metadata": {},
   "outputs": [
    {
     "data": {
      "image/png": "[encoded data removed]",
      "text/plain": [
       "<Figure size 432x288 with 1 Axes>"
      ]
     },
     "metadata": {
      "needs_background": "light"
     },
     "output_type": "display_data"
    }
   ],
   "source": [
    "perc_range = np.linspace(0, 3, 31)\n",
    "\n",
    "token_price_range = a + (mcr/c)*(perc_range**4)\n",
    "plt.plot(perc_range, token_price_range);"
   ]
  },
  {
   "cell_type": "markdown",
   "id": "8c43e166",
   "metadata": {},
   "source": [
    "## New Version - Capital Entry"
   ]
  },
  {
   "cell_type": "markdown",
   "id": "a881ba42",
   "metadata": {},
   "source": [
    "### Current wNXM price feed"
   ]
  },
  {
   "cell_type": "code",
   "execution_count": 8,
   "id": "8c3c36e9",
   "metadata": {},
   "outputs": [
    {
     "data": {
      "text/plain": [
       "0.01038648"
      ]
     },
     "execution_count": 8,
     "metadata": {},
     "output_type": "execute_result"
    }
   ],
   "source": [
    "url = 'https://api.coingecko.com/api/v3/simple/price'\n",
    "params = {\n",
    "        'ids':'wrapped-nxm',\n",
    "        'vs_currencies': 'eth'\n",
    "        }\n",
    "current_wnxm_price_eth = requests.get(url, params=params).json()['wrapped-nxm']['eth']\n",
    "current_wnxm_price_eth"
   ]
  },
  {
   "cell_type": "markdown",
   "id": "07fc6a0a",
   "metadata": {},
   "source": [
    "### Bond Discount Formula"
   ]
  },
  {
   "cell_type": "code",
   "execution_count": 9,
   "id": "06d85215",
   "metadata": {},
   "outputs": [
    {
     "data": {
      "text/plain": [
       "array([0.  , 0.05, 0.1 , 0.15, 0.2 , 0.25, 0.3 , 0.35, 0.4 , 0.45, 0.5 ,\n",
       "       0.55, 0.6 , 0.65, 0.7 , 0.75, 0.8 , 0.85, 0.9 , 0.95, 1.  ])"
      ]
     },
     "execution_count": 9,
     "metadata": {},
     "output_type": "execute_result"
    }
   ],
   "source": [
    "perc_range_below_100 = np.linspace(0, 1, 21)\n",
    "perc_range_below_100"
   ]
  },
  {
   "cell_type": "code",
   "execution_count": 10,
   "id": "90863c14",
   "metadata": {},
   "outputs": [
    {
     "data": {
      "image/png": "[encoded data removed]",
      "text/plain": [
       "<Figure size 432x288 with 1 Axes>"
      ]
     },
     "metadata": {
      "needs_background": "light"
     },
     "output_type": "display_data"
    }
   ],
   "source": [
    "# creating shape of discount vs. mcr_perc below 100%\n",
    "def mcr_perc_bond_discount(mcr_perc):\n",
    "    return (1 - mcr_perc)**1.3 + mcr_perc*0.1\n",
    "\n",
    "mcr_discount_range = mcr_perc_bond_discount(perc_range_below_100)\n",
    "\n",
    "plt.plot(perc_range_below_100, mcr_discount_range);"
   ]
  },
  {
   "cell_type": "code",
   "execution_count": 11,
   "id": "4ba894b3",
   "metadata": {},
   "outputs": [
    {
     "name": "stdout",
     "output_type": "stream",
     "text": [
      "MCR% at 0.0:          Monthly interest at 100.0%,          Annual interest at 409500.0%\n",
      "MCR% at 0.01:          Monthly interest at 98.8%,          Annual interest at 381007.77%\n",
      "MCR% at 0.02:          Monthly interest at 97.61%,          Annual interest at 354427.53%\n",
      "MCR% at 0.03:          Monthly interest at 96.42%,          Annual interest at 329636.31%\n",
      "MCR% at 0.04:          Monthly interest at 95.23%,          Annual interest at 306518.67%\n",
      "MCR% at 0.05:          Monthly interest at 94.05%,          Annual interest at 284966.25%\n",
      "MCR% at 0.06:          Monthly interest at 92.87%,          Annual interest at 264877.39%\n",
      "MCR% at 0.07:          Monthly interest at 91.7%,          Annual interest at 246156.73%\n",
      "MCR% at 0.08:          Monthly interest at 90.53%,          Annual interest at 228714.83%\n",
      "MCR% at 0.09:          Monthly interest at 89.36%,          Annual interest at 212467.8%\n",
      "MCR% at 0.1:          Monthly interest at 88.2%,          Annual interest at 197337.04%\n",
      "MCR% at 0.11:          Monthly interest at 87.04%,          Annual interest at 183248.86%\n",
      "MCR% at 0.12:          Monthly interest at 85.89%,          Annual interest at 170134.22%\n",
      "MCR% at 0.13:          Monthly interest at 84.74%,          Annual interest at 157928.44%\n",
      "MCR% at 0.14:          Monthly interest at 83.6%,          Annual interest at 146570.95%\n",
      "MCR% at 0.15:          Monthly interest at 82.46%,          Annual interest at 136005.03%\n",
      "MCR% at 0.16:          Monthly interest at 81.32%,          Annual interest at 126177.59%\n",
      "MCR% at 0.17:          Monthly interest at 80.19%,          Annual interest at 117038.93%\n",
      "MCR% at 0.18:          Monthly interest at 79.06%,          Annual interest at 108542.58%\n",
      "MCR% at 0.19:          Monthly interest at 77.94%,          Annual interest at 100645.03%\n",
      "MCR% at 0.2:          Monthly interest at 76.82%,          Annual interest at 93305.61%\n",
      "MCR% at 0.21:          Monthly interest at 75.71%,          Annual interest at 86486.3%\n",
      "MCR% at 0.22:          Monthly interest at 74.6%,          Annual interest at 80151.53%\n",
      "MCR% at 0.23:          Monthly interest at 73.49%,          Annual interest at 74268.1%\n",
      "MCR% at 0.24:          Monthly interest at 72.39%,          Annual interest at 68804.95%\n",
      "MCR% at 0.25:          Monthly interest at 71.3%,          Annual interest at 63733.1%\n",
      "MCR% at 0.26:          Monthly interest at 70.21%,          Annual interest at 59025.47%\n",
      "MCR% at 0.27:          Monthly interest at 69.12%,          Annual interest at 54656.78%\n",
      "MCR% at 0.28:          Monthly interest at 68.04%,          Annual interest at 50603.43%\n",
      "MCR% at 0.29:          Monthly interest at 66.97%,          Annual interest at 46843.39%\n",
      "MCR% at 0.3:          Monthly interest at 65.9%,          Annual interest at 43356.14%\n",
      "MCR% at 0.31:          Monthly interest at 64.83%,          Annual interest at 40122.49%\n",
      "MCR% at 0.32:          Monthly interest at 63.77%,          Annual interest at 37124.6%\n",
      "MCR% at 0.33:          Monthly interest at 62.72%,          Annual interest at 34345.79%\n",
      "MCR% at 0.34:          Monthly interest at 61.66%,          Annual interest at 31770.53%\n",
      "MCR% at 0.35:          Monthly interest at 60.62%,          Annual interest at 29384.37%\n",
      "MCR% at 0.36:          Monthly interest at 59.58%,          Annual interest at 27173.82%\n",
      "MCR% at 0.37:          Monthly interest at 58.55%,          Annual interest at 25126.33%\n",
      "MCR% at 0.38:          Monthly interest at 57.52%,          Annual interest at 23230.21%\n",
      "MCR% at 0.39:          Monthly interest at 56.49%,          Annual interest at 21474.58%\n",
      "MCR% at 0.4:          Monthly interest at 55.48%,          Annual interest at 19849.31%\n",
      "MCR% at 0.41:          Monthly interest at 54.46%,          Annual interest at 18344.97%\n",
      "MCR% at 0.42:          Monthly interest at 53.46%,          Annual interest at 16952.81%\n",
      "MCR% at 0.43:          Monthly interest at 52.45%,          Annual interest at 15664.66%\n",
      "MCR% at 0.44:          Monthly interest at 51.46%,          Annual interest at 14472.95%\n",
      "MCR% at 0.45:          Monthly interest at 50.47%,          Annual interest at 13370.63%\n",
      "MCR% at 0.46:          Monthly interest at 49.49%,          Annual interest at 12351.16%\n",
      "MCR% at 0.47:          Monthly interest at 48.51%,          Annual interest at 11408.44%\n",
      "MCR% at 0.48:          Monthly interest at 47.54%,          Annual interest at 10536.84%\n",
      "MCR% at 0.49:          Monthly interest at 46.57%,          Annual interest at 9731.09%\n",
      "MCR% at 0.5:          Monthly interest at 45.61%,          Annual interest at 8986.32%\n",
      "MCR% at 0.51:          Monthly interest at 44.66%,          Annual interest at 8298.02%\n",
      "MCR% at 0.52:          Monthly interest at 43.71%,          Annual interest at 7661.98%\n",
      "MCR% at 0.53:          Monthly interest at 42.77%,          Annual interest at 7074.32%\n",
      "MCR% at 0.54:          Monthly interest at 41.84%,          Annual interest at 6531.41%\n",
      "MCR% at 0.55:          Monthly interest at 40.91%,          Annual interest at 6029.9%\n",
      "MCR% at 0.56:          Monthly interest at 39.99%,          Annual interest at 5566.7%\n",
      "MCR% at 0.57:          Monthly interest at 39.08%,          Annual interest at 5138.92%\n",
      "MCR% at 0.58:          Monthly interest at 38.18%,          Annual interest at 4743.89%\n",
      "MCR% at 0.59:          Monthly interest at 37.28%,          Annual interest at 4379.14%\n",
      "MCR% at 0.6:          Monthly interest at 36.39%,          Annual interest at 4042.38%\n",
      "MCR% at 0.61:          Monthly interest at 35.5%,          Annual interest at 3731.48%\n",
      "MCR% at 0.62:          Monthly interest at 34.63%,          Annual interest at 3444.5%\n",
      "MCR% at 0.63:          Monthly interest at 33.76%,          Annual interest at 3179.6%\n",
      "MCR% at 0.64:          Monthly interest at 32.9%,          Annual interest at 2935.11%\n",
      "MCR% at 0.65:          Monthly interest at 32.04%,          Annual interest at 2709.46%\n",
      "MCR% at 0.66:          Monthly interest at 31.2%,          Annual interest at 2501.22%\n",
      "MCR% at 0.67:          Monthly interest at 30.36%,          Annual interest at 2309.06%\n",
      "MCR% at 0.68:          Monthly interest at 29.54%,          Annual interest at 2131.75%\n",
      "MCR% at 0.69:          Monthly interest at 28.72%,          Annual interest at 1968.14%\n",
      "MCR% at 0.7:          Monthly interest at 27.91%,          Annual interest at 1817.19%\n",
      "MCR% at 0.71:          Monthly interest at 27.1%,          Annual interest at 1677.92%\n",
      "MCR% at 0.72:          Monthly interest at 26.31%,          Annual interest at 1549.43%\n",
      "MCR% at 0.73:          Monthly interest at 25.53%,          Annual interest at 1430.9%\n",
      "MCR% at 0.74:          Monthly interest at 24.76%,          Annual interest at 1321.55%\n",
      "MCR% at 0.75:          Monthly interest at 23.99%,          Annual interest at 1220.69%\n",
      "MCR% at 0.76:          Monthly interest at 23.24%,          Annual interest at 1127.66%\n",
      "MCR% at 0.77:          Monthly interest at 22.5%,          Annual interest at 1041.85%\n",
      "MCR% at 0.78:          Monthly interest at 21.77%,          Annual interest at 962.72%\n",
      "MCR% at 0.79:          Monthly interest at 21.05%,          Annual interest at 889.75%\n",
      "MCR% at 0.8:          Monthly interest at 20.34%,          Annual interest at 822.46%\n",
      "MCR% at 0.81:          Monthly interest at 19.64%,          Annual interest at 760.44%\n",
      "MCR% at 0.82:          Monthly interest at 18.96%,          Annual interest at 703.26%\n",
      "MCR% at 0.83:          Monthly interest at 18.29%,          Annual interest at 650.58%\n",
      "MCR% at 0.84:          Monthly interest at 17.63%,          Annual interest at 602.04%\n",
      "MCR% at 0.85:          Monthly interest at 16.99%,          Annual interest at 557.35%\n",
      "MCR% at 0.86:          Monthly interest at 16.36%,          Annual interest at 516.21%\n",
      "MCR% at 0.87:          Monthly interest at 15.75%,          Annual interest at 478.37%\n",
      "MCR% at 0.88:          Monthly interest at 15.15%,          Annual interest at 443.59%\n",
      "MCR% at 0.89:          Monthly interest at 14.57%,          Annual interest at 411.67%\n",
      "MCR% at 0.9:          Monthly interest at 14.01%,          Annual interest at 382.39%\n",
      "MCR% at 0.91:          Monthly interest at 13.47%,          Annual interest at 355.6%\n",
      "MCR% at 0.92:          Monthly interest at 12.95%,          Annual interest at 331.15%\n",
      "MCR% at 0.93:          Monthly interest at 12.45%,          Annual interest at 308.9%\n",
      "MCR% at 0.94:          Monthly interest at 11.98%,          Annual interest at 288.76%\n",
      "MCR% at 0.95:          Monthly interest at 11.54%,          Annual interest at 270.64%\n",
      "MCR% at 0.96:          Monthly interest at 11.12%,          Annual interest at 254.52%\n",
      "MCR% at 0.97:          Monthly interest at 10.75%,          Annual interest at 240.42%\n",
      "MCR% at 0.98:          Monthly interest at 10.42%,          Annual interest at 228.47%\n",
      "MCR% at 0.99:          Monthly interest at 10.15%,          Annual interest at 219.06%\n"
     ]
    }
   ],
   "source": [
    "for i in np.linspace(0, 0.99, 100):\n",
    "    print(f'MCR% at {round(i, 2)}:\\\n",
    "          Monthly interest at {round(mcr_perc_bond_discount(i)*100, 2)}%,\\\n",
    "          Annual interest at {round(((1+mcr_perc_bond_discount(i))**12 - 1)*100, 2)}%')"
   ]
  },
  {
   "cell_type": "code",
   "execution_count": 12,
   "id": "3e404945",
   "metadata": {},
   "outputs": [],
   "source": [
    "def bond_discount(days, mcr_perc):\n",
    "    # Instantaneous - you can buy NXM at the wNXM market price\n",
    "    # Linearly 365 days to provide 15% discount (equivalent to APY of 15%)\n",
    "    return (1 - min(1, mcr_perc))**1.3"
   ]
  },
  {
   "cell_type": "code",
   "execution_count": 14,
   "id": "e258f7c6",
   "metadata": {},
   "outputs": [
    {
     "data": {
      "text/plain": [
       "0.016536832800110087"
      ]
     },
     "execution_count": 14,
     "metadata": {},
     "output_type": "execute_result"
    }
   ],
   "source": [
    "bond_discount(365, mcrp)"
   ]
  },
  {
   "cell_type": "markdown",
   "id": "9d4f468d",
   "metadata": {},
   "source": [
    "## New Version - Capital Exit"
   ]
  },
  {
   "cell_type": "markdown",
   "id": "0c1c83f7",
   "metadata": {},
   "source": [
    "### Weighted average days on covers "
   ]
  },
  {
   "cell_type": "code",
   "execution_count": 35,
   "id": "a42a48db",
   "metadata": {},
   "outputs": [],
   "source": [
    "### TODO: Provide live feed instead of just pulling in .csv\n",
    "# https://github.com/rchen8/nexus-mutual-tracker"
   ]
  },
  {
   "cell_type": "code",
   "execution_count": 15,
   "id": "386620cd",
   "metadata": {},
   "outputs": [
    {
     "data": {
      "text/plain": [
       "63.34934315911215"
      ]
     },
     "execution_count": 15,
     "metadata": {},
     "output_type": "execute_result"
    }
   ],
   "source": [
    "# bring in csv\n",
    "active_covers_expiration = pd.read_csv('../raw_data/active_cover_amount_by_expiration_date.csv')\n",
    "# rename columns\n",
    "active_covers_expiration.columns = ['exp_time', 'USD', 'ETH']\n",
    "# convert expiry time from string to datetime\n",
    "active_covers_expiration['exp_time'] = pd.to_datetime(active_covers_expiration['exp_time'])\n",
    "# create a 'days remaining column by subtracting today's date in datetime format\n",
    "active_covers_expiration['days_remaining'] = active_covers_expiration['exp_time']-pd.Timestamp.now().normalize()\n",
    "# create an integer minutes remaining column by dividing by a timedelta minute object\n",
    "active_covers_expiration['minutes_remaining'] = active_covers_expiration['days_remaining']/np.timedelta64(1, 'm')\n",
    "\n",
    "#calculate weighted average minutes remaining based on cover amount\n",
    "wavg_minutes = ((active_covers_expiration['ETH']*active_covers_expiration['minutes_remaining'])\n",
    "                /active_covers_expiration['ETH'].sum()).sum()\n",
    "\n",
    "# calculate \n",
    "wavg_days = wavg_minutes/(24*60)\n",
    "wavg_days"
   ]
  },
  {
   "cell_type": "markdown",
   "id": "cedd8d10",
   "metadata": {},
   "source": [
    "### Calculating Exit Penalty"
   ]
  },
  {
   "cell_type": "code",
   "execution_count": 26,
   "id": "e63ac5d5",
   "metadata": {},
   "outputs": [],
   "source": [
    "## currently linear up to weighted average\n",
    "\n",
    "# TODO: this needs an amplification factor to allow for a margin - we don't want to just base it on weighted average days\n",
    "# TODO: we are also not going to make it perfectly linear - earlier exit should be punished more\n",
    "def exit_penalty(days_selected):\n",
    "    amp_factor = 1.5\n",
    "    amp_days = amp_factor * wavg_days\n",
    "    if mcrp > 100:\n",
    "        return 1\n",
    "    else:\n",
    "        return 1 - min(1, days_selected/amp_days)**2"
   ]
  },
  {
   "cell_type": "code",
   "execution_count": 27,
   "id": "106e38bc",
   "metadata": {},
   "outputs": [
    {
     "data": {
      "text/plain": [
       "0.9003274064959748"
      ]
     },
     "execution_count": 27,
     "metadata": {},
     "output_type": "execute_result"
    }
   ],
   "source": [
    "exit_penalty(30)"
   ]
  },
  {
   "cell_type": "markdown",
   "id": "469f89de",
   "metadata": {},
   "source": [
    "### Dynamic Current Assets"
   ]
  },
  {
   "cell_type": "markdown",
   "id": "d5bc8a7c",
   "metadata": {},
   "source": [
    "DCA(X) = Size of capital pool X-days in the future, i.e. current Capital Pool minus all the \n",
    "\n",
    "Few options for possible values of X:\n",
    "- X can be any number of days & is calculated as quotes for certain days come in (likely not possible due to gas)\n",
    "- X can be some set values, like 30, 60, 90, 180, 365 and we use the closest\n",
    "- X can be a single value - easiest from implementation and gas perspective, but this may result in selling policies with capital we don't have unless X = 365 "
   ]
  },
  {
   "cell_type": "code",
   "execution_count": null,
   "id": "3db03ec0",
   "metadata": {},
   "outputs": [],
   "source": [
    "def dca(x):\n",
    "    "
   ]
  },
  {
   "cell_type": "markdown",
   "id": "46659ed1",
   "metadata": {},
   "source": [
    "## Initial Reverse Dutch Auction Mechanism"
   ]
  },
  {
   "cell_type": "markdown",
   "id": "1e411995",
   "metadata": {},
   "source": [
    "At launch, exit price = wnxm price\n",
    "\n",
    "Price slowly increases, but starts dropping down once people try to exit through the mechanism\n",
    "\n",
    "Keeps going up, stops at book value.\n",
    "\n",
    "Incentive not to wait longer - some people may end up exiting in front of you and drive down the price.\n",
    "What if you believe it'll go up eventually anyway..."
   ]
  },
  {
   "cell_type": "markdown",
   "id": "bc90862f",
   "metadata": {},
   "source": [
    "## Scenario testing"
   ]
  },
  {
   "cell_type": "markdown",
   "id": "cf0331b8",
   "metadata": {},
   "source": [
    "1. WNXM price movements & how the market reacts\n",
    "2. Crowd exits quickly/slowly/doesn't want to exit at all\n",
    "    - 5/10/20/50/80% instant withdrawals?"
   ]
  },
  {
   "cell_type": "code",
   "execution_count": null,
   "id": "c494ba7d",
   "metadata": {},
   "outputs": [],
   "source": []
  }
 ],
 "metadata": {
  "kernelspec": {
   "display_name": "Python 3 (ipykernel)",
   "language": "python",
   "name": "python3"
  },
  "language_info": {
   "codemirror_mode": {
    "name": "ipython",
    "version": 3
   },
   "file_extension": ".py",
   "mimetype": "text/x-python",
   "name": "python",
   "nbconvert_exporter": "python",
   "pygments_lexer": "ipython3",
   "version": "3.8.12"
  },
  "toc": {
   "base_numbering": 1,
   "nav_menu": {},
   "number_sections": true,
   "sideBar": true,
   "skip_h1_title": false,
   "title_cell": "Table of Contents",
   "title_sidebar": "Contents",
   "toc_cell": false,
   "toc_position": {},
   "toc_section_display": true,
   "toc_window_display": false
  }
 },
 "nbformat": 4,
 "nbformat_minor": 5
}
