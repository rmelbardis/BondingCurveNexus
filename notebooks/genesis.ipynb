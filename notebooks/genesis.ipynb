{
 "cells": [
  {
   "cell_type": "code",
   "execution_count": 1,
   "id": "ea027cd5",
   "metadata": {},
   "outputs": [],
   "source": [
    "# Imports (numpy, pandas, matplotlib, seaborn imported autom)\n",
    "import requests\n",
    "from etherscan import Etherscan\n",
    "from BondingCurveNexus import config"
   ]
  },
  {
   "cell_type": "code",
   "execution_count": 5,
   "id": "f9d7512b",
   "metadata": {},
   "outputs": [],
   "source": [
    "# activate etherscan client\n",
    "eth_client = Etherscan(config.etherscan_api)"
   ]
  },
  {
   "cell_type": "code",
   "execution_count": 6,
   "id": "7b4a5554",
   "metadata": {},
   "outputs": [
    {
     "data": {
      "text/plain": [
       "{'ethbtc': '0.07336',\n",
       " 'ethbtc_timestamp': '1651073367',\n",
       " 'ethusd': '2846.23',\n",
       " 'ethusd_timestamp': '1651073369'}"
      ]
     },
     "execution_count": 6,
     "metadata": {},
     "output_type": "execute_result"
    }
   ],
   "source": [
    "eth_client.get_eth_last_price()"
   ]
  },
  {
   "cell_type": "markdown",
   "id": "22d16f6a",
   "metadata": {},
   "source": [
    "# Nexus Tokenomics Investigation"
   ]
  },
  {
   "cell_type": "markdown",
   "id": "fa20d2f8",
   "metadata": {},
   "source": [
    "## Current Bonding Curve Set-up"
   ]
  },
  {
   "cell_type": "code",
   "execution_count": 2,
   "id": "80efc1a8",
   "metadata": {},
   "outputs": [],
   "source": [
    "a = 0.01028\n",
    "c = 5_800_000\n",
    "mcr = 162_450\n",
    "mcr_perc = 0.956"
   ]
  },
  {
   "cell_type": "code",
   "execution_count": 3,
   "id": "82a13980",
   "metadata": {},
   "outputs": [],
   "source": [
    "token_price = a + (mcr/c)*(mcr_perc**4)"
   ]
  },
  {
   "cell_type": "code",
   "execution_count": 4,
   "id": "a2d9c467",
   "metadata": {},
   "outputs": [
    {
     "data": {
      "text/plain": [
       "0.033675013019826755"
      ]
     },
     "execution_count": 4,
     "metadata": {},
     "output_type": "execute_result"
    }
   ],
   "source": [
    "token_price"
   ]
  },
  {
   "cell_type": "code",
   "execution_count": 5,
   "id": "942344c4",
   "metadata": {},
   "outputs": [],
   "source": [
    "perc_range = np.linspace(0, 2, 21)"
   ]
  },
  {
   "cell_type": "code",
   "execution_count": 6,
   "id": "6e6413ec",
   "metadata": {},
   "outputs": [
    {
     "data": {
      "text/plain": [
       "array([0. , 0.1, 0.2, 0.3, 0.4, 0.5, 0.6, 0.7, 0.8, 0.9, 1. , 1.1, 1.2,\n",
       "       1.3, 1.4, 1.5, 1.6, 1.7, 1.8, 1.9, 2. ])"
      ]
     },
     "execution_count": 6,
     "metadata": {},
     "output_type": "execute_result"
    }
   ],
   "source": [
    "perc_range"
   ]
  },
  {
   "cell_type": "code",
   "execution_count": 7,
   "id": "ac349265",
   "metadata": {},
   "outputs": [],
   "source": [
    "token_price_range = a + (mcr/c)*(perc_range**4)"
   ]
  },
  {
   "cell_type": "code",
   "execution_count": 8,
   "id": "66da3531",
   "metadata": {},
   "outputs": [
    {
     "data": {
      "text/plain": [
       "[<matplotlib.lines.Line2D at 0x7fafc48e7a00>]"
      ]
     },
     "execution_count": 8,
     "metadata": {},
     "output_type": "execute_result"
    },
    {
     "data": {
      "image/png": "[encoded data removed]",
      "text/plain": [
       "<Figure size 432x288 with 1 Axes>"
      ]
     },
     "metadata": {
      "needs_background": "light"
     },
     "output_type": "display_data"
    }
   ],
   "source": [
    "plt.plot(perc_range, token_price_range)"
   ]
  },
  {
   "cell_type": "markdown",
   "id": "8c43e166",
   "metadata": {},
   "source": [
    "## New Version Testing"
   ]
  },
  {
   "cell_type": "markdown",
   "id": "a881ba42",
   "metadata": {},
   "source": [
    "### Current wNXM price feed"
   ]
  },
  {
   "cell_type": "code",
   "execution_count": 2,
   "id": "8c3c36e9",
   "metadata": {},
   "outputs": [],
   "source": [
    "url = 'https://api.coingecko.com/api/v3/simple/price'\n",
    "params = {\n",
    "        'ids':'wrapped-nxm',\n",
    "        'vs_currencies': 'eth'\n",
    "        }\n",
    "current_wnxm_price_eth = requests.get(url, params=params).json()['wrapped-nxm']['eth']"
   ]
  },
  {
   "cell_type": "code",
   "execution_count": 3,
   "id": "c1023358",
   "metadata": {},
   "outputs": [
    {
     "data": {
      "text/plain": [
       "0.00936202"
      ]
     },
     "execution_count": 3,
     "metadata": {},
     "output_type": "execute_result"
    }
   ],
   "source": [
    "current_wnxm_price_eth"
   ]
  },
  {
   "cell_type": "markdown",
   "id": "0c1c83f7",
   "metadata": {},
   "source": [
    "### Weighted average days on covers "
   ]
  },
  {
   "cell_type": "code",
   "execution_count": 35,
   "id": "a42a48db",
   "metadata": {},
   "outputs": [],
   "source": [
    "### TODO: Provide live feed instead of just pulling in .csv\n",
    "# https://github.com/rchen8/nexus-mutual-tracker"
   ]
  },
  {
   "cell_type": "code",
   "execution_count": 19,
   "id": "386620cd",
   "metadata": {},
   "outputs": [],
   "source": [
    "active_covers_expiration = pd.read_csv('../raw_data/active_cover_amount_by_expiration_date.csv')"
   ]
  },
  {
   "cell_type": "code",
   "execution_count": 20,
   "id": "27f06aa7",
   "metadata": {},
   "outputs": [],
   "source": [
    "active_covers_expiration.columns = ['exp_time', 'USD', 'ETH']"
   ]
  },
  {
   "cell_type": "code",
   "execution_count": 21,
   "id": "3395c535",
   "metadata": {},
   "outputs": [],
   "source": [
    "active_covers_expiration['exp_time'] = pd.to_datetime(active_covers_expiration['exp_time'])"
   ]
  },
  {
   "cell_type": "code",
   "execution_count": 22,
   "id": "dd13aae5",
   "metadata": {},
   "outputs": [
    {
     "data": {
      "text/plain": [
       "exp_time    datetime64[ns]\n",
       "USD                float64\n",
       "ETH                float64\n",
       "dtype: object"
      ]
     },
     "execution_count": 22,
     "metadata": {},
     "output_type": "execute_result"
    }
   ],
   "source": [
    "active_covers_expiration.dtypes"
   ]
  },
  {
   "cell_type": "code",
   "execution_count": 23,
   "id": "17cc6ad3",
   "metadata": {},
   "outputs": [
    {
     "data": {
      "text/html": [
       "<div>\n",
       "<style scoped>\n",
       "    .dataframe tbody tr th:only-of-type {\n",
       "        vertical-align: middle;\n",
       "    }\n",
       "\n",
       "    .dataframe tbody tr th {\n",
       "        vertical-align: top;\n",
       "    }\n",
       "\n",
       "    .dataframe thead th {\n",
       "        text-align: right;\n",
       "    }\n",
       "</style>\n",
       "<table border=\"1\" class=\"dataframe\">\n",
       "  <thead>\n",
       "    <tr style=\"text-align: right;\">\n",
       "      <th></th>\n",
       "      <th>exp_time</th>\n",
       "      <th>USD</th>\n",
       "      <th>ETH</th>\n",
       "    </tr>\n",
       "  </thead>\n",
       "  <tbody>\n",
       "    <tr>\n",
       "      <th>0</th>\n",
       "      <td>2022-04-25 18:10:27</td>\n",
       "      <td>3.994818e+08</td>\n",
       "      <td>139777.678632</td>\n",
       "    </tr>\n",
       "    <tr>\n",
       "      <th>1</th>\n",
       "      <td>2022-04-26 00:54:17</td>\n",
       "      <td>3.993961e+08</td>\n",
       "      <td>139747.678632</td>\n",
       "    </tr>\n",
       "    <tr>\n",
       "      <th>2</th>\n",
       "      <td>2022-04-26 01:52:07</td>\n",
       "      <td>3.993446e+08</td>\n",
       "      <td>139729.678632</td>\n",
       "    </tr>\n",
       "    <tr>\n",
       "      <th>3</th>\n",
       "      <td>2022-04-26 09:25:11</td>\n",
       "      <td>3.993418e+08</td>\n",
       "      <td>139728.678632</td>\n",
       "    </tr>\n",
       "    <tr>\n",
       "      <th>4</th>\n",
       "      <td>2022-04-26 09:34:52</td>\n",
       "      <td>3.991018e+08</td>\n",
       "      <td>139644.711634</td>\n",
       "    </tr>\n",
       "    <tr>\n",
       "      <th>...</th>\n",
       "      <td>...</td>\n",
       "      <td>...</td>\n",
       "      <td>...</td>\n",
       "    </tr>\n",
       "    <tr>\n",
       "      <th>816</th>\n",
       "      <td>2023-04-14 08:04:41</td>\n",
       "      <td>7.024883e+05</td>\n",
       "      <td>245.798900</td>\n",
       "    </tr>\n",
       "    <tr>\n",
       "      <th>817</th>\n",
       "      <td>2023-04-18 03:47:17</td>\n",
       "      <td>6.944891e+05</td>\n",
       "      <td>243.000000</td>\n",
       "    </tr>\n",
       "    <tr>\n",
       "      <th>818</th>\n",
       "      <td>2023-04-18 08:12:37</td>\n",
       "      <td>8.573940e+03</td>\n",
       "      <td>3.000000</td>\n",
       "    </tr>\n",
       "    <tr>\n",
       "      <th>819</th>\n",
       "      <td>2023-04-23 11:20:03</td>\n",
       "      <td>5.715960e+03</td>\n",
       "      <td>2.000000</td>\n",
       "    </tr>\n",
       "    <tr>\n",
       "      <th>820</th>\n",
       "      <td>2023-04-24 08:12:39</td>\n",
       "      <td>0.000000e+00</td>\n",
       "      <td>0.000000</td>\n",
       "    </tr>\n",
       "  </tbody>\n",
       "</table>\n",
       "<p>821 rows × 3 columns</p>\n",
       "</div>"
      ],
      "text/plain": [
       "               exp_time           USD            ETH\n",
       "0   2022-04-25 18:10:27  3.994818e+08  139777.678632\n",
       "1   2022-04-26 00:54:17  3.993961e+08  139747.678632\n",
       "2   2022-04-26 01:52:07  3.993446e+08  139729.678632\n",
       "3   2022-04-26 09:25:11  3.993418e+08  139728.678632\n",
       "4   2022-04-26 09:34:52  3.991018e+08  139644.711634\n",
       "..                  ...           ...            ...\n",
       "816 2023-04-14 08:04:41  7.024883e+05     245.798900\n",
       "817 2023-04-18 03:47:17  6.944891e+05     243.000000\n",
       "818 2023-04-18 08:12:37  8.573940e+03       3.000000\n",
       "819 2023-04-23 11:20:03  5.715960e+03       2.000000\n",
       "820 2023-04-24 08:12:39  0.000000e+00       0.000000\n",
       "\n",
       "[821 rows x 3 columns]"
      ]
     },
     "execution_count": 23,
     "metadata": {},
     "output_type": "execute_result"
    }
   ],
   "source": [
    "active_covers_expiration"
   ]
  },
  {
   "cell_type": "code",
   "execution_count": 24,
   "id": "c51f25b5",
   "metadata": {},
   "outputs": [],
   "source": [
    "active_covers_expiration['days_remaining'] = active_covers_expiration['exp_time']-pd.Timestamp.now().normalize()"
   ]
  },
  {
   "cell_type": "code",
   "execution_count": 25,
   "id": "7cecc992",
   "metadata": {},
   "outputs": [],
   "source": [
    "active_covers_expiration['minutes_remaining'] = active_covers_expiration['days_remaining']/np.timedelta64(1, 'm')"
   ]
  },
  {
   "cell_type": "code",
   "execution_count": 26,
   "id": "5e5525bd",
   "metadata": {},
   "outputs": [
    {
     "data": {
      "text/plain": [
       "84459.86370214474"
      ]
     },
     "execution_count": 26,
     "metadata": {},
     "output_type": "execute_result"
    }
   ],
   "source": [
    "((active_covers_expiration['ETH']*active_covers_expiration['minutes_remaining'])/active_covers_expiration['ETH'].sum()).sum()"
   ]
  },
  {
   "cell_type": "code",
   "execution_count": 27,
   "id": "570ca081",
   "metadata": {},
   "outputs": [],
   "source": [
    "# this needs an amplification factor\n",
    "wavg_days = 82912/(24*60)"
   ]
  },
  {
   "cell_type": "code",
   "execution_count": 28,
   "id": "beec2cd3",
   "metadata": {},
   "outputs": [
    {
     "data": {
      "text/html": [
       "<div>\n",
       "<style scoped>\n",
       "    .dataframe tbody tr th:only-of-type {\n",
       "        vertical-align: middle;\n",
       "    }\n",
       "\n",
       "    .dataframe tbody tr th {\n",
       "        vertical-align: top;\n",
       "    }\n",
       "\n",
       "    .dataframe thead th {\n",
       "        text-align: right;\n",
       "    }\n",
       "</style>\n",
       "<table border=\"1\" class=\"dataframe\">\n",
       "  <thead>\n",
       "    <tr style=\"text-align: right;\">\n",
       "      <th></th>\n",
       "      <th>exp_time</th>\n",
       "      <th>USD</th>\n",
       "      <th>ETH</th>\n",
       "      <th>days_remaining</th>\n",
       "      <th>minutes_remaining</th>\n",
       "    </tr>\n",
       "  </thead>\n",
       "  <tbody>\n",
       "    <tr>\n",
       "      <th>0</th>\n",
       "      <td>2022-04-25 18:10:27</td>\n",
       "      <td>3.994818e+08</td>\n",
       "      <td>139777.678632</td>\n",
       "      <td>0 days 18:10:27</td>\n",
       "      <td>1090.450000</td>\n",
       "    </tr>\n",
       "    <tr>\n",
       "      <th>1</th>\n",
       "      <td>2022-04-26 00:54:17</td>\n",
       "      <td>3.993961e+08</td>\n",
       "      <td>139747.678632</td>\n",
       "      <td>1 days 00:54:17</td>\n",
       "      <td>1494.283333</td>\n",
       "    </tr>\n",
       "    <tr>\n",
       "      <th>2</th>\n",
       "      <td>2022-04-26 01:52:07</td>\n",
       "      <td>3.993446e+08</td>\n",
       "      <td>139729.678632</td>\n",
       "      <td>1 days 01:52:07</td>\n",
       "      <td>1552.116667</td>\n",
       "    </tr>\n",
       "    <tr>\n",
       "      <th>3</th>\n",
       "      <td>2022-04-26 09:25:11</td>\n",
       "      <td>3.993418e+08</td>\n",
       "      <td>139728.678632</td>\n",
       "      <td>1 days 09:25:11</td>\n",
       "      <td>2005.183333</td>\n",
       "    </tr>\n",
       "    <tr>\n",
       "      <th>4</th>\n",
       "      <td>2022-04-26 09:34:52</td>\n",
       "      <td>3.991018e+08</td>\n",
       "      <td>139644.711634</td>\n",
       "      <td>1 days 09:34:52</td>\n",
       "      <td>2014.866667</td>\n",
       "    </tr>\n",
       "    <tr>\n",
       "      <th>...</th>\n",
       "      <td>...</td>\n",
       "      <td>...</td>\n",
       "      <td>...</td>\n",
       "      <td>...</td>\n",
       "      <td>...</td>\n",
       "    </tr>\n",
       "    <tr>\n",
       "      <th>816</th>\n",
       "      <td>2023-04-14 08:04:41</td>\n",
       "      <td>7.024883e+05</td>\n",
       "      <td>245.798900</td>\n",
       "      <td>354 days 08:04:41</td>\n",
       "      <td>510244.683333</td>\n",
       "    </tr>\n",
       "    <tr>\n",
       "      <th>817</th>\n",
       "      <td>2023-04-18 03:47:17</td>\n",
       "      <td>6.944891e+05</td>\n",
       "      <td>243.000000</td>\n",
       "      <td>358 days 03:47:17</td>\n",
       "      <td>515747.283333</td>\n",
       "    </tr>\n",
       "    <tr>\n",
       "      <th>818</th>\n",
       "      <td>2023-04-18 08:12:37</td>\n",
       "      <td>8.573940e+03</td>\n",
       "      <td>3.000000</td>\n",
       "      <td>358 days 08:12:37</td>\n",
       "      <td>516012.616667</td>\n",
       "    </tr>\n",
       "    <tr>\n",
       "      <th>819</th>\n",
       "      <td>2023-04-23 11:20:03</td>\n",
       "      <td>5.715960e+03</td>\n",
       "      <td>2.000000</td>\n",
       "      <td>363 days 11:20:03</td>\n",
       "      <td>523400.050000</td>\n",
       "    </tr>\n",
       "    <tr>\n",
       "      <th>820</th>\n",
       "      <td>2023-04-24 08:12:39</td>\n",
       "      <td>0.000000e+00</td>\n",
       "      <td>0.000000</td>\n",
       "      <td>364 days 08:12:39</td>\n",
       "      <td>524652.650000</td>\n",
       "    </tr>\n",
       "  </tbody>\n",
       "</table>\n",
       "<p>821 rows × 5 columns</p>\n",
       "</div>"
      ],
      "text/plain": [
       "               exp_time           USD            ETH    days_remaining  \\\n",
       "0   2022-04-25 18:10:27  3.994818e+08  139777.678632   0 days 18:10:27   \n",
       "1   2022-04-26 00:54:17  3.993961e+08  139747.678632   1 days 00:54:17   \n",
       "2   2022-04-26 01:52:07  3.993446e+08  139729.678632   1 days 01:52:07   \n",
       "3   2022-04-26 09:25:11  3.993418e+08  139728.678632   1 days 09:25:11   \n",
       "4   2022-04-26 09:34:52  3.991018e+08  139644.711634   1 days 09:34:52   \n",
       "..                  ...           ...            ...               ...   \n",
       "816 2023-04-14 08:04:41  7.024883e+05     245.798900 354 days 08:04:41   \n",
       "817 2023-04-18 03:47:17  6.944891e+05     243.000000 358 days 03:47:17   \n",
       "818 2023-04-18 08:12:37  8.573940e+03       3.000000 358 days 08:12:37   \n",
       "819 2023-04-23 11:20:03  5.715960e+03       2.000000 363 days 11:20:03   \n",
       "820 2023-04-24 08:12:39  0.000000e+00       0.000000 364 days 08:12:39   \n",
       "\n",
       "     minutes_remaining  \n",
       "0          1090.450000  \n",
       "1          1494.283333  \n",
       "2          1552.116667  \n",
       "3          2005.183333  \n",
       "4          2014.866667  \n",
       "..                 ...  \n",
       "816      510244.683333  \n",
       "817      515747.283333  \n",
       "818      516012.616667  \n",
       "819      523400.050000  \n",
       "820      524652.650000  \n",
       "\n",
       "[821 rows x 5 columns]"
      ]
     },
     "execution_count": 28,
     "metadata": {},
     "output_type": "execute_result"
    }
   ],
   "source": [
    "active_covers_expiration"
   ]
  },
  {
   "cell_type": "markdown",
   "id": "cedd8d10",
   "metadata": {},
   "source": [
    "### Calculating Exit Penalty"
   ]
  },
  {
   "cell_type": "code",
   "execution_count": 29,
   "id": "e63ac5d5",
   "metadata": {},
   "outputs": [],
   "source": [
    "def exit_penalty(days_selected):\n",
    "    if mcr_perc > 100:\n",
    "        return 1\n",
    "    else:\n",
    "        return min(1, days_selected/wavg_days)"
   ]
  },
  {
   "cell_type": "code",
   "execution_count": 30,
   "id": "106e38bc",
   "metadata": {},
   "outputs": [
    {
     "data": {
      "text/plain": [
       "0.5210343496719414"
      ]
     },
     "execution_count": 30,
     "metadata": {},
     "output_type": "execute_result"
    }
   ],
   "source": [
    "exit_penalty(30)"
   ]
  },
  {
   "cell_type": "markdown",
   "id": "bc90862f",
   "metadata": {},
   "source": [
    "### Pseudo-code for scenario testing"
   ]
  },
  {
   "cell_type": "markdown",
   "id": "cf0331b8",
   "metadata": {},
   "source": [
    "- WNXM price movements\n",
    "- Crowd exits quickly/slowly/doesn't want to exit at all\n",
    "    - 5/10/20/50/80% instant withdrawals?\n",
    "- Time value: 5% / 10% / 20% / 50%"
   ]
  },
  {
   "cell_type": "code",
   "execution_count": null,
   "id": "c494ba7d",
   "metadata": {},
   "outputs": [],
   "source": []
  }
 ],
 "metadata": {
  "kernelspec": {
   "display_name": "Python 3 (ipykernel)",
   "language": "python",
   "name": "python3"
  },
  "language_info": {
   "codemirror_mode": {
    "name": "ipython",
    "version": 3
   },
   "file_extension": ".py",
   "mimetype": "text/x-python",
   "name": "python",
   "nbconvert_exporter": "python",
   "pygments_lexer": "ipython3",
   "version": "3.8.12"
  },
  "toc": {
   "base_numbering": 1,
   "nav_menu": {},
   "number_sections": true,
   "sideBar": true,
   "skip_h1_title": false,
   "title_cell": "Table of Contents",
   "title_sidebar": "Contents",
   "toc_cell": false,
   "toc_position": {},
   "toc_section_display": true,
   "toc_window_display": false
  }
 },
 "nbformat": 4,
 "nbformat_minor": 5
}
