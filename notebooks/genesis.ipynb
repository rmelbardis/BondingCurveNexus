{
 "cells": [
  {
   "cell_type": "code",
   "execution_count": 1,
   "id": "ea027cd5",
   "metadata": {},
   "outputs": [],
   "source": [
    "# Imports (numpy, pandas, matplotlib, seaborn imported autom)\n",
    "import requests\n",
    "from etherscan import Etherscan\n",
    "from BondingCurveNexus import config"
   ]
  },
  {
   "cell_type": "code",
   "execution_count": 2,
   "id": "f9d7512b",
   "metadata": {},
   "outputs": [],
   "source": [
    "# activate etherscan client\n",
    "eth_client = Etherscan(config.etherscan_api)"
   ]
  },
  {
   "cell_type": "code",
   "execution_count": 3,
   "id": "7b4a5554",
   "metadata": {},
   "outputs": [
    {
     "data": {
      "text/plain": [
       "{'ethbtc': '0.07375',\n",
       " 'ethbtc_timestamp': '1651224118',\n",
       " 'ethusd': '2893.12',\n",
       " 'ethusd_timestamp': '1651224124'}"
      ]
     },
     "execution_count": 3,
     "metadata": {},
     "output_type": "execute_result"
    }
   ],
   "source": [
    "eth_client.get_eth_last_price()"
   ]
  },
  {
   "cell_type": "markdown",
   "id": "22d16f6a",
   "metadata": {},
   "source": [
    "# Nexus Tokenomics Investigation"
   ]
  },
  {
   "cell_type": "markdown",
   "id": "fa20d2f8",
   "metadata": {},
   "source": [
    "## Current Bonding Curve Set-up & Parameters"
   ]
  },
  {
   "cell_type": "code",
   "execution_count": 19,
   "id": "80efc1a8",
   "metadata": {},
   "outputs": [
    {
     "name": "stdout",
     "output_type": "stream",
     "text": [
      "mcrp: 0.9570263198399261, book value: 0.02258143524054905\n"
     ]
    }
   ],
   "source": [
    "nxm_supply = 6_883_752\n",
    "act_cover = 138_581\n",
    "capital_factor = 4.8\n",
    "mcr_floor = 162_425\n",
    "mcr = max(mcr_floor, act_cover/capital_factor)\n",
    "cap_pool = 155_445\n",
    "mcrp = cap_pool/mcr\n",
    "book_value = cap_pool/nxm_supply\n",
    "print(f'mcrp: {mcrp}, book value: {book_value}')"
   ]
  },
  {
   "cell_type": "code",
   "execution_count": 11,
   "id": "82a13980",
   "metadata": {},
   "outputs": [
    {
     "data": {
      "text/plain": [
       "0.03377202254539437"
      ]
     },
     "execution_count": 11,
     "metadata": {},
     "output_type": "execute_result"
    }
   ],
   "source": [
    "a = 0.01028\n",
    "c = 5_800_000\n",
    "token_price = a + (mcr/c)*(mcrp**4)\n",
    "token_price"
   ]
  },
  {
   "cell_type": "code",
   "execution_count": 20,
   "id": "942344c4",
   "metadata": {},
   "outputs": [
    {
     "data": {
      "image/png": "[encoded data removed]",
      "text/plain": [
       "<Figure size 432x288 with 1 Axes>"
      ]
     },
     "metadata": {
      "needs_background": "light"
     },
     "output_type": "display_data"
    }
   ],
   "source": [
    "perc_range = np.linspace(0, 3, 31)\n",
    "\n",
    "token_price_range = a + (mcr/c)*(perc_range**4)\n",
    "plt.plot(perc_range, token_price_range);"
   ]
  },
  {
   "cell_type": "markdown",
   "id": "8c43e166",
   "metadata": {},
   "source": [
    "## New Version - Capital Entry"
   ]
  },
  {
   "cell_type": "markdown",
   "id": "a881ba42",
   "metadata": {},
   "source": [
    "### Current wNXM price feed"
   ]
  },
  {
   "cell_type": "code",
   "execution_count": 8,
   "id": "8c3c36e9",
   "metadata": {},
   "outputs": [
    {
     "data": {
      "text/plain": [
       "0.00979169"
      ]
     },
     "execution_count": 8,
     "metadata": {},
     "output_type": "execute_result"
    }
   ],
   "source": [
    "url = 'https://api.coingecko.com/api/v3/simple/price'\n",
    "params = {\n",
    "        'ids':'wrapped-nxm',\n",
    "        'vs_currencies': 'eth'\n",
    "        }\n",
    "current_wnxm_price_eth = requests.get(url, params=params).json()['wrapped-nxm']['eth']\n",
    "current_wnxm_price_eth"
   ]
  },
  {
   "cell_type": "markdown",
   "id": "07fc6a0a",
   "metadata": {},
   "source": [
    "### Bond Discount Formula"
   ]
  },
  {
   "cell_type": "markdown",
   "id": "c536dc60",
   "metadata": {},
   "source": [
    "What are the discounts we want? Initial attempt:\n",
    " - **12.5%** per annum for time delay at 95%\n",
    " - Extra 5% at 90% MCR\n",
    " - Extra 15% at 80% MCR\n",
    " - Extra 30% at 70% MCR\n",
    " - Below grows at same rate\n",
    " \n",
    " Maybe this is something we can discuss with community"
   ]
  },
  {
   "cell_type": "code",
   "execution_count": 17,
   "id": "e2f93ce8",
   "metadata": {},
   "outputs": [
    {
     "data": {
      "text/plain": [
       "14.375"
      ]
     },
     "execution_count": 17,
     "metadata": {},
     "output_type": "execute_result"
    }
   ],
   "source": [
    "115*0.125"
   ]
  },
  {
   "cell_type": "code",
   "execution_count": 49,
   "id": "06d85215",
   "metadata": {},
   "outputs": [
    {
     "data": {
      "text/plain": [
       "array([0.  , 0.05, 0.1 , 0.15, 0.2 , 0.25, 0.3 , 0.35, 0.4 , 0.45, 0.5 ,\n",
       "       0.55, 0.6 , 0.65, 0.7 , 0.75, 0.8 , 0.85, 0.9 , 0.95, 1.  ])"
      ]
     },
     "execution_count": 49,
     "metadata": {},
     "output_type": "execute_result"
    }
   ],
   "source": [
    "perc_range_below_100 = np.linspace(0, 1, 21)\n",
    "perc_range_below_100"
   ]
  },
  {
   "cell_type": "markdown",
   "id": "f328598f",
   "metadata": {},
   "source": [
    "Aiming for:\n",
    "\n",
    "f(0.9) = 0.05\n",
    "\n",
    "f(0.8) = 0.15\n",
    "\n",
    "f(0.7) = 0.3\n",
    "\n",
    "Seems like (1-MCR%)^1.3 is a reasonable approximation"
   ]
  },
  {
   "cell_type": "code",
   "execution_count": 78,
   "id": "90863c14",
   "metadata": {},
   "outputs": [
    {
     "data": {
      "image/png": "[encoded data removed]",
      "text/plain": [
       "<Figure size 432x288 with 1 Axes>"
      ]
     },
     "metadata": {
      "needs_background": "light"
     },
     "output_type": "display_data"
    }
   ],
   "source": [
    "# creating shape of discount vs. mcr_perc below 100%\n",
    "def mcr_perc_bond_discount(mcr_perc):\n",
    "    return (1 - mcr_perc)**1.3\n",
    "\n",
    "mcr_discount_range = mcr_perc_bond_discount(perc_range_below_100)\n",
    "\n",
    "plt.plot(perc_range_below_100, mcr_discount_range);"
   ]
  },
  {
   "cell_type": "code",
   "execution_count": 80,
   "id": "4ba894b3",
   "metadata": {},
   "outputs": [
    {
     "data": {
      "text/plain": [
       "{'0.0': 1.0,\n",
       " '0.1': 0.871997545077537,\n",
       " '0.2': 0.7481987582580971,\n",
       " '0.3': 0.6289664092534478,\n",
       " '0.4': 0.514750320266457,\n",
       " '0.5': 0.40612619817811774,\n",
       " '0.6': 0.30386311717294956,\n",
       " '0.7': 0.2090535905807847,\n",
       " '0.8': 0.12340677254400188,\n",
       " '0.9': 0.050118723362727206,\n",
       " '1': 0.0}"
      ]
     },
     "execution_count": 80,
     "metadata": {},
     "output_type": "execute_result"
    }
   ],
   "source": [
    "{'0.0': mcr_perc_bond_discount(0.0),\n",
    "'0.1': mcr_perc_bond_discount(0.1),\n",
    "'0.2': mcr_perc_bond_discount(0.2),\n",
    "'0.3': mcr_perc_bond_discount(0.3),\n",
    "'0.4': mcr_perc_bond_discount(0.4),\n",
    "'0.5': mcr_perc_bond_discount(0.5),\n",
    "'0.6': mcr_perc_bond_discount(0.6),\n",
    "'0.7': mcr_perc_bond_discount(0.7),\n",
    "'0.8': mcr_perc_bond_discount(0.8),\n",
    "'0.9': mcr_perc_bond_discount(0.9),\n",
    " '1': mcr_perc_bond_discount(1)\n",
    "}"
   ]
  },
  {
   "cell_type": "code",
   "execution_count": 74,
   "id": "3e404945",
   "metadata": {},
   "outputs": [],
   "source": [
    "time_arb_discount = 0.15\n",
    "\n",
    "\n",
    "def bond_discount(days, mcr_perc):\n",
    "    # Instantaneous - you can buy NXM at the wNXM market price\n",
    "    # Linearly 365 days to provide 15% discount (equivalent to APY of 15%)\n",
    "    return 0.15*min(1, days/365) + (1 - min(1, mcr_perc))**1.3"
   ]
  },
  {
   "cell_type": "code",
   "execution_count": 75,
   "id": "e258f7c6",
   "metadata": {},
   "outputs": [
    {
     "data": {
      "text/plain": [
       "0.16723806362857296"
      ]
     },
     "execution_count": 75,
     "metadata": {},
     "output_type": "execute_result"
    }
   ],
   "source": [
    "bond_discount(365, mcr_perc)"
   ]
  },
  {
   "cell_type": "markdown",
   "id": "9d4f468d",
   "metadata": {},
   "source": [
    "## New Version - Capital Exit"
   ]
  },
  {
   "cell_type": "markdown",
   "id": "0c1c83f7",
   "metadata": {},
   "source": [
    "### Weighted average days on covers "
   ]
  },
  {
   "cell_type": "code",
   "execution_count": 35,
   "id": "a42a48db",
   "metadata": {},
   "outputs": [],
   "source": [
    "### TODO: Provide live feed instead of just pulling in .csv\n",
    "# https://github.com/rchen8/nexus-mutual-tracker"
   ]
  },
  {
   "cell_type": "code",
   "execution_count": 29,
   "id": "386620cd",
   "metadata": {},
   "outputs": [],
   "source": [
    "active_covers_expiration = pd.read_csv('../raw_data/active_cover_amount_by_expiration_date.csv')"
   ]
  },
  {
   "cell_type": "code",
   "execution_count": 30,
   "id": "27f06aa7",
   "metadata": {},
   "outputs": [],
   "source": [
    "active_covers_expiration.columns = ['exp_time', 'USD', 'ETH']"
   ]
  },
  {
   "cell_type": "code",
   "execution_count": 31,
   "id": "3395c535",
   "metadata": {},
   "outputs": [],
   "source": [
    "active_covers_expiration['exp_time'] = pd.to_datetime(active_covers_expiration['exp_time'])"
   ]
  },
  {
   "cell_type": "code",
   "execution_count": 32,
   "id": "dd13aae5",
   "metadata": {},
   "outputs": [
    {
     "data": {
      "text/plain": [
       "exp_time    datetime64[ns]\n",
       "USD                float64\n",
       "ETH                float64\n",
       "dtype: object"
      ]
     },
     "execution_count": 32,
     "metadata": {},
     "output_type": "execute_result"
    }
   ],
   "source": [
    "active_covers_expiration.dtypes"
   ]
  },
  {
   "cell_type": "code",
   "execution_count": 33,
   "id": "c51f25b5",
   "metadata": {},
   "outputs": [],
   "source": [
    "active_covers_expiration['days_remaining'] = active_covers_expiration['exp_time']-pd.Timestamp.now().normalize()"
   ]
  },
  {
   "cell_type": "code",
   "execution_count": 34,
   "id": "7cecc992",
   "metadata": {},
   "outputs": [],
   "source": [
    "active_covers_expiration['minutes_remaining'] = active_covers_expiration['days_remaining']/np.timedelta64(1, 'm')"
   ]
  },
  {
   "cell_type": "code",
   "execution_count": 35,
   "id": "5e5525bd",
   "metadata": {},
   "outputs": [
    {
     "data": {
      "text/plain": [
       "84635.90804891243"
      ]
     },
     "execution_count": 35,
     "metadata": {},
     "output_type": "execute_result"
    }
   ],
   "source": [
    "wavg_minutes = ((active_covers_expiration['ETH']*active_covers_expiration['minutes_remaining'])\n",
    "                /active_covers_expiration['ETH'].sum()).sum()\n",
    "wavg_minutes"
   ]
  },
  {
   "cell_type": "code",
   "execution_count": 37,
   "id": "570ca081",
   "metadata": {},
   "outputs": [
    {
     "data": {
      "text/plain": [
       "58.77493614507808"
      ]
     },
     "execution_count": 37,
     "metadata": {},
     "output_type": "execute_result"
    }
   ],
   "source": [
    "# this needs an amplification factor\n",
    "wavg_days = wavg_minutes/(24*60)\n",
    "wavg_days"
   ]
  },
  {
   "cell_type": "markdown",
   "id": "cedd8d10",
   "metadata": {},
   "source": [
    "### Calculating Exit Penalty"
   ]
  },
  {
   "cell_type": "code",
   "execution_count": 29,
   "id": "e63ac5d5",
   "metadata": {},
   "outputs": [],
   "source": [
    "def exit_penalty(days_selected):\n",
    "    if mcr_perc > 100:\n",
    "        return 1\n",
    "    else:\n",
    "        return min(1, days_selected/wavg_days)"
   ]
  },
  {
   "cell_type": "code",
   "execution_count": 30,
   "id": "106e38bc",
   "metadata": {},
   "outputs": [
    {
     "data": {
      "text/plain": [
       "0.5210343496719414"
      ]
     },
     "execution_count": 30,
     "metadata": {},
     "output_type": "execute_result"
    }
   ],
   "source": [
    "exit_penalty(30)"
   ]
  },
  {
   "cell_type": "markdown",
   "id": "46659ed1",
   "metadata": {},
   "source": [
    "## Initial Reverse Dutch Auction Mechanism"
   ]
  },
  {
   "cell_type": "markdown",
   "id": "1e411995",
   "metadata": {},
   "source": [
    "At launch, exit price = wnxm price\n",
    "\n",
    "Price slowly increases, but starts dropping down once people try to exit through the mechanism\n",
    "\n",
    "Keeps going up, stops at book value.\n",
    "\n",
    "Incentive not to wait longer - some people may end up exiting in front of you and drive down the price.\n",
    "What if you believe it'll go up eventually anyway..."
   ]
  },
  {
   "cell_type": "markdown",
   "id": "bc90862f",
   "metadata": {},
   "source": [
    "## Scenario testing"
   ]
  },
  {
   "cell_type": "markdown",
   "id": "cf0331b8",
   "metadata": {},
   "source": [
    "1. WNXM price movements & how the market reacts\n",
    "2. Crowd exits quickly/slowly/doesn't want to exit at all\n",
    "    - 5/10/20/50/80% instant withdrawals?"
   ]
  },
  {
   "cell_type": "code",
   "execution_count": null,
   "id": "c494ba7d",
   "metadata": {},
   "outputs": [],
   "source": []
  }
 ],
 "metadata": {
  "kernelspec": {
   "display_name": "Python 3 (ipykernel)",
   "language": "python",
   "name": "python3"
  },
  "language_info": {
   "codemirror_mode": {
    "name": "ipython",
    "version": 3
   },
   "file_extension": ".py",
   "mimetype": "text/x-python",
   "name": "python",
   "nbconvert_exporter": "python",
   "pygments_lexer": "ipython3",
   "version": "3.8.12"
  },
  "toc": {
   "base_numbering": 1,
   "nav_menu": {},
   "number_sections": true,
   "sideBar": true,
   "skip_h1_title": false,
   "title_cell": "Table of Contents",
   "title_sidebar": "Contents",
   "toc_cell": false,
   "toc_position": {},
   "toc_section_display": true,
   "toc_window_display": false
  }
 },
 "nbformat": 4,
 "nbformat_minor": 5
}
