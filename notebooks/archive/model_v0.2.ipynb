{
 "cells": [
  {
   "cell_type": "code",
   "execution_count": 1,
   "id": "ea027cd5",
   "metadata": {
    "ExecuteTime": {
     "end_time": "2022-06-07T08:45:40.036905Z",
     "start_time": "2022-06-07T08:45:39.934262Z"
    }
   },
   "outputs": [],
   "source": [
    "# Imports (numpy, pandas, matplotlib, seaborn imported automatically)\n",
    "import requests\n",
    "from etherscan import Etherscan\n",
    "from BondingCurveNexus import config\n",
    "from scipy.stats import poisson, lognorm, norm\n",
    "from random import shuffle"
   ]
  },
  {
   "cell_type": "code",
   "execution_count": 2,
   "id": "f9d7512b",
   "metadata": {
    "ExecuteTime": {
     "end_time": "2022-06-07T08:45:41.487178Z",
     "start_time": "2022-06-07T08:45:40.908963Z"
    },
    "scrolled": true
   },
   "outputs": [
    {
     "data": {
      "text/plain": [
       "{'ethbtc': '0.05967',\n",
       " 'ethbtc_timestamp': '1654591492',\n",
       " 'ethusd': '1772.01',\n",
       " 'ethusd_timestamp': '1654591491'}"
      ]
     },
     "execution_count": 2,
     "metadata": {},
     "output_type": "execute_result"
    }
   ],
   "source": [
    "# activate etherscan client\n",
    "eth_client = Etherscan(config.etherscan_api)\n",
    "\n",
    "eth_client.get_eth_last_price()"
   ]
  },
  {
   "cell_type": "markdown",
   "id": "22d16f6a",
   "metadata": {},
   "source": [
    "# Nexus Tokenomics Investigation"
   ]
  },
  {
   "cell_type": "markdown",
   "id": "fa20d2f8",
   "metadata": {},
   "source": [
    "## Set-up & Parameters"
   ]
  },
  {
   "cell_type": "code",
   "execution_count": 107,
   "id": "80efc1a8",
   "metadata": {
    "ExecuteTime": {
     "end_time": "2022-06-07T14:13:46.198475Z",
     "start_time": "2022-06-07T14:13:46.185352Z"
    }
   },
   "outputs": [
    {
     "name": "stdout",
     "output_type": "stream",
     "text": [
      "mcrp: 4.38508314614775, book value: 0.02256855133624564\n"
     ]
    }
   ],
   "source": [
    "nxm_supply_now = 6_793_923\n",
    "nxm_supply = nxm_supply_now\n",
    "act_cover_now = 167_837\n",
    "act_cover = act_cover_now\n",
    "capital_factor = 4.8\n",
    "cap_pool_now = 153_329\n",
    "cap_pool = cap_pool_now\n",
    "\n",
    "def mcr():\n",
    "    return act_cover/capital_factor\n",
    "\n",
    "def mcrp(capital):\n",
    "    return capital/mcr()\n",
    "\n",
    "def book_value(capital):\n",
    "    return capital/nxm_supply\n",
    "\n",
    "print(f'mcrp: {mcrp(cap_pool)}, book value: {book_value(cap_pool)}')"
   ]
  },
  {
   "cell_type": "code",
   "execution_count": 108,
   "id": "0d02d0ad",
   "metadata": {
    "ExecuteTime": {
     "end_time": "2022-06-07T14:13:49.619298Z",
     "start_time": "2022-06-07T14:13:49.002510Z"
    }
   },
   "outputs": [
    {
     "data": {
      "text/plain": [
       "39.67415913603966"
      ]
     },
     "execution_count": 108,
     "metadata": {},
     "output_type": "execute_result"
    }
   ],
   "source": [
    "book_value_usd = book_value(cap_pool)*float(eth_client.get_eth_last_price()['ethusd'])\n",
    "book_value_usd"
   ]
  },
  {
   "cell_type": "markdown",
   "id": "469f89de",
   "metadata": {},
   "source": [
    "### Dynamic Current Assets"
   ]
  },
  {
   "cell_type": "markdown",
   "id": "d5bc8a7c",
   "metadata": {},
   "source": [
    "DCA = Size of capital pool X-days in the future, i.e. current Capital Pool minus everything in the Exit Queue"
   ]
  },
  {
   "cell_type": "code",
   "execution_count": 110,
   "id": "ce478f68",
   "metadata": {
    "ExecuteTime": {
     "end_time": "2022-06-07T14:13:54.954621Z",
     "start_time": "2022-06-07T14:13:54.947595Z"
    }
   },
   "outputs": [],
   "source": [
    "model_days = 366\n",
    "bond_length = 30\n",
    "exit_period = 30\n",
    "base_exit_days = 60\n",
    "mcrp_max_days = 122\n",
    "queue_max_days = 122\n",
    "\n",
    "exit_array = np.zeros((1, model_days + base_exit_days + queue_max_days + mcrp_max_days + exit_period))\n",
    "entry_array = np.zeros((1, model_days+bond_length))"
   ]
  },
  {
   "cell_type": "code",
   "execution_count": 111,
   "id": "b0734366",
   "metadata": {
    "ExecuteTime": {
     "end_time": "2022-06-07T14:13:57.363478Z",
     "start_time": "2022-06-07T14:13:57.350173Z"
    }
   },
   "outputs": [],
   "source": [
    "# create function that calculates the size of the exit queue in NXM or ETH\n",
    "# current book value * notional number of NXM in the exit queue (maximum of each row)\n",
    "def exit_queue_size(denom='eth'):\n",
    "    nxm_in_queue = np.sum(np.amax(exit_array, axis=1))\n",
    "    if denom == 'nxm':\n",
    "        return nxm_in_queue\n",
    "    return book_value(cap_pool) * np.sum(np.amax(exit_array, axis=1))"
   ]
  },
  {
   "cell_type": "code",
   "execution_count": 112,
   "id": "0363f4a5",
   "metadata": {
    "ExecuteTime": {
     "end_time": "2022-06-07T14:13:57.872391Z",
     "start_time": "2022-06-07T14:13:57.862153Z"
    }
   },
   "outputs": [
    {
     "data": {
      "text/plain": [
       "0.0"
      ]
     },
     "execution_count": 112,
     "metadata": {},
     "output_type": "execute_result"
    }
   ],
   "source": [
    "exit_queue_size()"
   ]
  },
  {
   "cell_type": "code",
   "execution_count": 113,
   "id": "fc52eb95",
   "metadata": {
    "ExecuteTime": {
     "end_time": "2022-06-07T14:13:58.342098Z",
     "start_time": "2022-06-07T14:13:58.336835Z"
    }
   },
   "outputs": [],
   "source": [
    "def dca():\n",
    "    return cap_pool - exit_queue_size()"
   ]
  },
  {
   "cell_type": "code",
   "execution_count": 114,
   "id": "cf6322f7",
   "metadata": {
    "ExecuteTime": {
     "end_time": "2022-06-07T14:13:58.758589Z",
     "start_time": "2022-06-07T14:13:58.735494Z"
    }
   },
   "outputs": [
    {
     "data": {
      "text/plain": [
       "153329.0"
      ]
     },
     "execution_count": 114,
     "metadata": {},
     "output_type": "execute_result"
    }
   ],
   "source": [
    "dca()"
   ]
  },
  {
   "cell_type": "markdown",
   "id": "a881ba42",
   "metadata": {},
   "source": [
    "### wNXM price feed"
   ]
  },
  {
   "cell_type": "code",
   "execution_count": 10,
   "id": "8c3c36e9",
   "metadata": {
    "ExecuteTime": {
     "end_time": "2022-06-07T08:46:06.399864Z",
     "start_time": "2022-06-07T08:46:05.668625Z"
    }
   },
   "outputs": [
    {
     "data": {
      "text/plain": [
       "17.5900906368"
      ]
     },
     "execution_count": 10,
     "metadata": {},
     "output_type": "execute_result"
    }
   ],
   "source": [
    "url = 'https://api.coingecko.com/api/v3/simple/price'\n",
    "params = {\n",
    "        'ids':'wrapped-nxm',\n",
    "        'vs_currencies': 'eth'\n",
    "        }\n",
    "wnxm_price_now = requests.get(url, params=params).json()['wrapped-nxm']['eth']\n",
    "wnxm_price = wnxm_price_now\n",
    "wnxm_price_usd = wnxm_price * float(eth_client.get_eth_last_price()['ethusd'])\n",
    "wnxm_price_usd"
   ]
  },
  {
   "cell_type": "markdown",
   "id": "8c43e166",
   "metadata": {},
   "source": [
    "## New Tokenomics - Capital Entry"
   ]
  },
  {
   "cell_type": "markdown",
   "id": "07fc6a0a",
   "metadata": {},
   "source": [
    "### Bond Bonus Formula"
   ]
  },
  {
   "cell_type": "code",
   "execution_count": 11,
   "id": "be3a630c",
   "metadata": {
    "ExecuteTime": {
     "end_time": "2022-06-07T08:56:00.601629Z",
     "start_time": "2022-06-07T08:56:00.596341Z"
    }
   },
   "outputs": [],
   "source": [
    "# creating shape of discount vs. mcr_perc below 100%\n",
    "def bond_bonus(mcr_perc):\n",
    "    return 0.02 * (1 - np.exp(-30 * (1-mcr_perc)))"
   ]
  },
  {
   "cell_type": "code",
   "execution_count": 12,
   "id": "90863c14",
   "metadata": {
    "ExecuteTime": {
     "end_time": "2022-06-07T08:56:01.180624Z",
     "start_time": "2022-06-07T08:56:00.917859Z"
    }
   },
   "outputs": [
    {
     "name": "stdout",
     "output_type": "stream",
     "text": [
      "MCR% at 0.0:          Monthly interest at 2.0%,          Annual interest at 26.82%\n",
      "MCR% at 0.01:          Monthly interest at 2.0%,          Annual interest at 26.82%\n",
      "MCR% at 0.02:          Monthly interest at 2.0%,          Annual interest at 26.82%\n",
      "MCR% at 0.03:          Monthly interest at 2.0%,          Annual interest at 26.82%\n",
      "MCR% at 0.04:          Monthly interest at 2.0%,          Annual interest at 26.82%\n",
      "MCR% at 0.05:          Monthly interest at 2.0%,          Annual interest at 26.82%\n",
      "MCR% at 0.06:          Monthly interest at 2.0%,          Annual interest at 26.82%\n",
      "MCR% at 0.07:          Monthly interest at 2.0%,          Annual interest at 26.82%\n",
      "MCR% at 0.08:          Monthly interest at 2.0%,          Annual interest at 26.82%\n",
      "MCR% at 0.09:          Monthly interest at 2.0%,          Annual interest at 26.82%\n",
      "MCR% at 0.1:          Monthly interest at 2.0%,          Annual interest at 26.82%\n",
      "MCR% at 0.11:          Monthly interest at 2.0%,          Annual interest at 26.82%\n",
      "MCR% at 0.12:          Monthly interest at 2.0%,          Annual interest at 26.82%\n",
      "MCR% at 0.13:          Monthly interest at 2.0%,          Annual interest at 26.82%\n",
      "MCR% at 0.14:          Monthly interest at 2.0%,          Annual interest at 26.82%\n",
      "MCR% at 0.15:          Monthly interest at 2.0%,          Annual interest at 26.82%\n",
      "MCR% at 0.16:          Monthly interest at 2.0%,          Annual interest at 26.82%\n",
      "MCR% at 0.17:          Monthly interest at 2.0%,          Annual interest at 26.82%\n",
      "MCR% at 0.18:          Monthly interest at 2.0%,          Annual interest at 26.82%\n",
      "MCR% at 0.19:          Monthly interest at 2.0%,          Annual interest at 26.82%\n",
      "MCR% at 0.2:          Monthly interest at 2.0%,          Annual interest at 26.82%\n",
      "MCR% at 0.21:          Monthly interest at 2.0%,          Annual interest at 26.82%\n",
      "MCR% at 0.22:          Monthly interest at 2.0%,          Annual interest at 26.82%\n",
      "MCR% at 0.23:          Monthly interest at 2.0%,          Annual interest at 26.82%\n",
      "MCR% at 0.24:          Monthly interest at 2.0%,          Annual interest at 26.82%\n",
      "MCR% at 0.25:          Monthly interest at 2.0%,          Annual interest at 26.82%\n",
      "MCR% at 0.26:          Monthly interest at 2.0%,          Annual interest at 26.82%\n",
      "MCR% at 0.27:          Monthly interest at 2.0%,          Annual interest at 26.82%\n",
      "MCR% at 0.28:          Monthly interest at 2.0%,          Annual interest at 26.82%\n",
      "MCR% at 0.29:          Monthly interest at 2.0%,          Annual interest at 26.82%\n",
      "MCR% at 0.3:          Monthly interest at 2.0%,          Annual interest at 26.82%\n",
      "MCR% at 0.31:          Monthly interest at 2.0%,          Annual interest at 26.82%\n",
      "MCR% at 0.32:          Monthly interest at 2.0%,          Annual interest at 26.82%\n",
      "MCR% at 0.33:          Monthly interest at 2.0%,          Annual interest at 26.82%\n",
      "MCR% at 0.34:          Monthly interest at 2.0%,          Annual interest at 26.82%\n",
      "MCR% at 0.35:          Monthly interest at 2.0%,          Annual interest at 26.82%\n",
      "MCR% at 0.36:          Monthly interest at 2.0%,          Annual interest at 26.82%\n",
      "MCR% at 0.37:          Monthly interest at 2.0%,          Annual interest at 26.82%\n",
      "MCR% at 0.38:          Monthly interest at 2.0%,          Annual interest at 26.82%\n",
      "MCR% at 0.39:          Monthly interest at 2.0%,          Annual interest at 26.82%\n",
      "MCR% at 0.4:          Monthly interest at 2.0%,          Annual interest at 26.82%\n",
      "MCR% at 0.41:          Monthly interest at 2.0%,          Annual interest at 26.82%\n",
      "MCR% at 0.42:          Monthly interest at 2.0%,          Annual interest at 26.82%\n",
      "MCR% at 0.43:          Monthly interest at 2.0%,          Annual interest at 26.82%\n",
      "MCR% at 0.44:          Monthly interest at 2.0%,          Annual interest at 26.82%\n",
      "MCR% at 0.45:          Monthly interest at 2.0%,          Annual interest at 26.82%\n",
      "MCR% at 0.46:          Monthly interest at 2.0%,          Annual interest at 26.82%\n",
      "MCR% at 0.47:          Monthly interest at 2.0%,          Annual interest at 26.82%\n",
      "MCR% at 0.48:          Monthly interest at 2.0%,          Annual interest at 26.82%\n",
      "MCR% at 0.49:          Monthly interest at 2.0%,          Annual interest at 26.82%\n",
      "MCR% at 0.5:          Monthly interest at 2.0%,          Annual interest at 26.82%\n",
      "MCR% at 0.51:          Monthly interest at 2.0%,          Annual interest at 26.82%\n",
      "MCR% at 0.52:          Monthly interest at 2.0%,          Annual interest at 26.82%\n",
      "MCR% at 0.53:          Monthly interest at 2.0%,          Annual interest at 26.82%\n",
      "MCR% at 0.54:          Monthly interest at 2.0%,          Annual interest at 26.82%\n",
      "MCR% at 0.55:          Monthly interest at 2.0%,          Annual interest at 26.82%\n",
      "MCR% at 0.56:          Monthly interest at 2.0%,          Annual interest at 26.82%\n",
      "MCR% at 0.57:          Monthly interest at 2.0%,          Annual interest at 26.82%\n",
      "MCR% at 0.58:          Monthly interest at 2.0%,          Annual interest at 26.82%\n",
      "MCR% at 0.59:          Monthly interest at 2.0%,          Annual interest at 26.82%\n",
      "MCR% at 0.6:          Monthly interest at 2.0%,          Annual interest at 26.82%\n",
      "MCR% at 0.61:          Monthly interest at 2.0%,          Annual interest at 26.82%\n",
      "MCR% at 0.62:          Monthly interest at 2.0%,          Annual interest at 26.82%\n",
      "MCR% at 0.63:          Monthly interest at 2.0%,          Annual interest at 26.82%\n",
      "MCR% at 0.64:          Monthly interest at 2.0%,          Annual interest at 26.82%\n",
      "MCR% at 0.65:          Monthly interest at 2.0%,          Annual interest at 26.82%\n",
      "MCR% at 0.66:          Monthly interest at 2.0%,          Annual interest at 26.82%\n",
      "MCR% at 0.67:          Monthly interest at 2.0%,          Annual interest at 26.82%\n",
      "MCR% at 0.68:          Monthly interest at 2.0%,          Annual interest at 26.82%\n",
      "MCR% at 0.69:          Monthly interest at 2.0%,          Annual interest at 26.82%\n",
      "MCR% at 0.7:          Monthly interest at 2.0%,          Annual interest at 26.82%\n",
      "MCR% at 0.71:          Monthly interest at 2.0%,          Annual interest at 26.82%\n",
      "MCR% at 0.72:          Monthly interest at 2.0%,          Annual interest at 26.82%\n",
      "MCR% at 0.73:          Monthly interest at 2.0%,          Annual interest at 26.82%\n",
      "MCR% at 0.74:          Monthly interest at 2.0%,          Annual interest at 26.81%\n",
      "MCR% at 0.75:          Monthly interest at 2.0%,          Annual interest at 26.81%\n",
      "MCR% at 0.76:          Monthly interest at 2.0%,          Annual interest at 26.8%\n",
      "MCR% at 0.77:          Monthly interest at 2.0%,          Annual interest at 26.79%\n",
      "MCR% at 0.78:          Monthly interest at 2.0%,          Annual interest at 26.78%\n",
      "MCR% at 0.79:          Monthly interest at 2.0%,          Annual interest at 26.77%\n",
      "MCR% at 0.8:          Monthly interest at 2.0%,          Annual interest at 26.75%\n",
      "MCR% at 0.81:          Monthly interest at 1.99%,          Annual interest at 26.72%\n",
      "MCR% at 0.82:          Monthly interest at 1.99%,          Annual interest at 26.69%\n",
      "MCR% at 0.83:          Monthly interest at 1.99%,          Annual interest at 26.64%\n",
      "MCR% at 0.84:          Monthly interest at 1.98%,          Annual interest at 26.58%\n",
      "MCR% at 0.85:          Monthly interest at 1.98%,          Annual interest at 26.49%\n",
      "MCR% at 0.86:          Monthly interest at 1.97%,          Annual interest at 26.38%\n",
      "MCR% at 0.87:          Monthly interest at 1.96%,          Annual interest at 26.22%\n",
      "MCR% at 0.88:          Monthly interest at 1.95%,          Annual interest at 26.01%\n",
      "MCR% at 0.89:          Monthly interest at 1.93%,          Annual interest at 25.73%\n",
      "MCR% at 0.9:          Monthly interest at 1.9%,          Annual interest at 25.35%\n",
      "MCR% at 0.91:          Monthly interest at 1.87%,          Annual interest at 24.83%\n",
      "MCR% at 0.92:          Monthly interest at 1.82%,          Annual interest at 24.14%\n",
      "MCR% at 0.93:          Monthly interest at 1.76%,          Annual interest at 23.22%\n",
      "MCR% at 0.94:          Monthly interest at 1.67%,          Annual interest at 21.98%\n",
      "MCR% at 0.95:          Monthly interest at 1.55%,          Annual interest at 20.32%\n",
      "MCR% at 0.96:          Monthly interest at 1.4%,          Annual interest at 18.12%\n",
      "MCR% at 0.97:          Monthly interest at 1.19%,          Annual interest at 15.21%\n",
      "MCR% at 0.98:          Monthly interest at 0.9%,          Annual interest at 11.38%\n",
      "MCR% at 0.99:          Monthly interest at 0.52%,          Annual interest at 6.4%\n",
      "MCR% at 1.0:          Monthly interest at 0.0%,          Annual interest at 0.0%\n"
     ]
    },
    {
     "data": {
      "image/png": "[encoded data removed]",
      "text/plain": [
       "<Figure size 432x288 with 1 Axes>"
      ]
     },
     "metadata": {
      "needs_background": "light"
     },
     "output_type": "display_data"
    }
   ],
   "source": [
    "perc_range_below_100 = np.linspace(0, 1, 21)\n",
    "bond_bonus_range = bond_bonus(perc_range_below_100)\n",
    "for i in np.linspace(0, 1, 101):\n",
    "    print(f'MCR% at {round(i, 2)}:\\\n",
    "          Monthly interest at {round(bond_bonus(i)*100, 2)}%,\\\n",
    "          Annual interest at {round(((1+bond_bonus(i))**12 - 1)*100, 2)}%')\n",
    "plt.plot(perc_range_below_100, bond_bonus_range);"
   ]
  },
  {
   "cell_type": "markdown",
   "id": "2809ee7b",
   "metadata": {},
   "source": [
    "### Mechanism for Single Entry with Bond"
   ]
  },
  {
   "cell_type": "code",
   "execution_count": 13,
   "id": "df5c9d52",
   "metadata": {
    "ExecuteTime": {
     "end_time": "2022-06-07T08:56:10.851014Z",
     "start_time": "2022-06-07T08:56:10.845169Z"
    }
   },
   "outputs": [],
   "source": [
    "# this cell creates the numpy row vector with the redeemed NXM bond_length days from now.\n",
    "# Will only apply when MCR < 1, otherwise instantaneous exchange of ETH for NXM at wNXM price\n",
    "\n",
    "# length of simulation\n",
    "model_days = 366\n",
    "bond_length = 30 # can play around with this\n",
    "current_day = 0\n",
    "\n",
    "def single_bond(eth):\n",
    "    # create array of zeros representing whole modelling period\n",
    "    row_vec = np.zeros(model_days + bond_length)\n",
    "    \n",
    "    # what could someone get now at wnxm price or book value (incl. exit queue)\n",
    "    nxm_now = eth/wnxm_price\n",
    "    \n",
    "    # create array of entry-size NXM possibilities over 30 days (and cap at book value)\n",
    "#     nxm_obtained_array = np.linspace(nxm_now, nxm_now*(1+bond_bonus(mcrp(dca()))), bond_length+1)\n",
    "#     nxm_obtained_array[eth/nxm_obtained_array < book_value(dca())] = eth/book_value(dca())\n",
    "    \n",
    "    # pick at which point the user will claim their tokens - simplification\n",
    "#     actual_entry_delay = np.random.randint(bond_length + 1)\n",
    "\n",
    "    ## Simpler version - be locked for the duration of the bond and receive tokens at end of lock\n",
    "    # nxm obtained is lowest of nxm obtained at wnxm price + bond interest & nxm obtained at book value \n",
    "    nxm_obtained = min(eth/book_value(dca()), nxm_now*(1+max(0, bond_bonus(mcrp(dca())))))\n",
    "    \n",
    "    # replace the relevant time period in question in the array of zeros with the entry NXM obtained\n",
    "#     row_vec[current_day:current_day + actual_entry_delay] = nxm_obtained_array[actual_entry_delay] # replace with array\n",
    "    row_vec[current_day + bond_length] = nxm_obtained\n",
    "\n",
    "    return row_vec"
   ]
  },
  {
   "cell_type": "code",
   "execution_count": 14,
   "id": "b8ae2883",
   "metadata": {
    "ExecuteTime": {
     "end_time": "2022-06-07T08:56:13.373415Z",
     "start_time": "2022-06-07T08:56:13.358588Z"
    },
    "collapsed": true
   },
   "outputs": [
    {
     "data": {
      "text/plain": [
       "array([ 0.       ,  0.       ,  0.       ,  0.       ,  0.       ,\n",
       "        0.       ,  0.       ,  0.       ,  0.       ,  0.       ,\n",
       "        0.       ,  0.       ,  0.       ,  0.       ,  0.       ,\n",
       "        0.       ,  0.       ,  0.       ,  0.       ,  0.       ,\n",
       "        0.       ,  0.       ,  0.       ,  0.       ,  0.       ,\n",
       "        0.       ,  0.       ,  0.       ,  0.       ,  0.       ,\n",
       "       88.6188914,  0.       ,  0.       ,  0.       ,  0.       ,\n",
       "        0.       ,  0.       ,  0.       ,  0.       ,  0.       ,\n",
       "        0.       ,  0.       ,  0.       ,  0.       ,  0.       ,\n",
       "        0.       ,  0.       ,  0.       ,  0.       ,  0.       ,\n",
       "        0.       ,  0.       ,  0.       ,  0.       ,  0.       ,\n",
       "        0.       ,  0.       ,  0.       ,  0.       ,  0.       ,\n",
       "        0.       ,  0.       ,  0.       ,  0.       ,  0.       ,\n",
       "        0.       ,  0.       ,  0.       ,  0.       ,  0.       ,\n",
       "        0.       ,  0.       ,  0.       ,  0.       ,  0.       ,\n",
       "        0.       ,  0.       ,  0.       ,  0.       ,  0.       ,\n",
       "        0.       ,  0.       ,  0.       ,  0.       ,  0.       ,\n",
       "        0.       ,  0.       ,  0.       ,  0.       ,  0.       ,\n",
       "        0.       ,  0.       ,  0.       ,  0.       ,  0.       ,\n",
       "        0.       ,  0.       ,  0.       ,  0.       ,  0.       ,\n",
       "        0.       ,  0.       ,  0.       ,  0.       ,  0.       ,\n",
       "        0.       ,  0.       ,  0.       ,  0.       ,  0.       ,\n",
       "        0.       ,  0.       ,  0.       ,  0.       ,  0.       ,\n",
       "        0.       ,  0.       ,  0.       ,  0.       ,  0.       ,\n",
       "        0.       ,  0.       ,  0.       ,  0.       ,  0.       ,\n",
       "        0.       ,  0.       ,  0.       ,  0.       ,  0.       ,\n",
       "        0.       ,  0.       ,  0.       ,  0.       ,  0.       ,\n",
       "        0.       ,  0.       ,  0.       ,  0.       ,  0.       ,\n",
       "        0.       ,  0.       ,  0.       ,  0.       ,  0.       ,\n",
       "        0.       ,  0.       ,  0.       ,  0.       ,  0.       ,\n",
       "        0.       ,  0.       ,  0.       ,  0.       ,  0.       ,\n",
       "        0.       ,  0.       ,  0.       ,  0.       ,  0.       ,\n",
       "        0.       ,  0.       ,  0.       ,  0.       ,  0.       ,\n",
       "        0.       ,  0.       ,  0.       ,  0.       ,  0.       ,\n",
       "        0.       ,  0.       ,  0.       ,  0.       ,  0.       ,\n",
       "        0.       ,  0.       ,  0.       ,  0.       ,  0.       ,\n",
       "        0.       ,  0.       ,  0.       ,  0.       ,  0.       ,\n",
       "        0.       ,  0.       ,  0.       ,  0.       ,  0.       ,\n",
       "        0.       ,  0.       ,  0.       ,  0.       ,  0.       ,\n",
       "        0.       ,  0.       ,  0.       ,  0.       ,  0.       ,\n",
       "        0.       ,  0.       ,  0.       ,  0.       ,  0.       ,\n",
       "        0.       ,  0.       ,  0.       ,  0.       ,  0.       ,\n",
       "        0.       ,  0.       ,  0.       ,  0.       ,  0.       ,\n",
       "        0.       ,  0.       ,  0.       ,  0.       ,  0.       ,\n",
       "        0.       ,  0.       ,  0.       ,  0.       ,  0.       ,\n",
       "        0.       ,  0.       ,  0.       ,  0.       ,  0.       ,\n",
       "        0.       ,  0.       ,  0.       ,  0.       ,  0.       ,\n",
       "        0.       ,  0.       ,  0.       ,  0.       ,  0.       ,\n",
       "        0.       ,  0.       ,  0.       ,  0.       ,  0.       ,\n",
       "        0.       ,  0.       ,  0.       ,  0.       ,  0.       ,\n",
       "        0.       ,  0.       ,  0.       ,  0.       ,  0.       ,\n",
       "        0.       ,  0.       ,  0.       ,  0.       ,  0.       ,\n",
       "        0.       ,  0.       ,  0.       ,  0.       ,  0.       ,\n",
       "        0.       ,  0.       ,  0.       ,  0.       ,  0.       ,\n",
       "        0.       ,  0.       ,  0.       ,  0.       ,  0.       ,\n",
       "        0.       ,  0.       ,  0.       ,  0.       ,  0.       ,\n",
       "        0.       ,  0.       ,  0.       ,  0.       ,  0.       ,\n",
       "        0.       ,  0.       ,  0.       ,  0.       ,  0.       ,\n",
       "        0.       ,  0.       ,  0.       ,  0.       ,  0.       ,\n",
       "        0.       ,  0.       ,  0.       ,  0.       ,  0.       ,\n",
       "        0.       ,  0.       ,  0.       ,  0.       ,  0.       ,\n",
       "        0.       ,  0.       ,  0.       ,  0.       ,  0.       ,\n",
       "        0.       ,  0.       ,  0.       ,  0.       ,  0.       ,\n",
       "        0.       ,  0.       ,  0.       ,  0.       ,  0.       ,\n",
       "        0.       ,  0.       ,  0.       ,  0.       ,  0.       ,\n",
       "        0.       ,  0.       ,  0.       ,  0.       ,  0.       ,\n",
       "        0.       ,  0.       ,  0.       ,  0.       ,  0.       ,\n",
       "        0.       ,  0.       ,  0.       ,  0.       ,  0.       ,\n",
       "        0.       ,  0.       ,  0.       ,  0.       ,  0.       ,\n",
       "        0.       ,  0.       ,  0.       ,  0.       ,  0.       ,\n",
       "        0.       ,  0.       ,  0.       ,  0.       ,  0.       ,\n",
       "        0.       ,  0.       ,  0.       ,  0.       ,  0.       ,\n",
       "        0.       ,  0.       ,  0.       ,  0.       ,  0.       ,\n",
       "        0.       ,  0.       ,  0.       ,  0.       ,  0.       ,\n",
       "        0.       ,  0.       ,  0.       ,  0.       ,  0.       ,\n",
       "        0.       ,  0.       ,  0.       ,  0.       ,  0.       ,\n",
       "        0.       ,  0.       ,  0.       ,  0.       ,  0.       ,\n",
       "        0.       ,  0.       ,  0.       ,  0.       ,  0.       ,\n",
       "        0.       ,  0.       ,  0.       ,  0.       ,  0.       ,\n",
       "        0.       ])"
      ]
     },
     "execution_count": 14,
     "metadata": {},
     "output_type": "execute_result"
    }
   ],
   "source": [
    "single_bond(2)"
   ]
  },
  {
   "cell_type": "markdown",
   "id": "9d4f468d",
   "metadata": {},
   "source": [
    "## New Version - Capital Exit"
   ]
  },
  {
   "cell_type": "markdown",
   "id": "0c1c83f7",
   "metadata": {},
   "source": [
    "### Weighted average days on covers "
   ]
  },
  {
   "cell_type": "code",
   "execution_count": null,
   "id": "a42a48db",
   "metadata": {
    "ExecuteTime": {
     "end_time": "2022-05-28T15:21:05.678395Z",
     "start_time": "2022-05-28T15:21:05.663885Z"
    }
   },
   "outputs": [],
   "source": [
    "### TODO: Provide live feed instead of just pulling in .csv\n",
    "# https://github.com/rchen8/nexus-mutual-tracker"
   ]
  },
  {
   "cell_type": "markdown",
   "id": "f8cfe650",
   "metadata": {},
   "source": [
    "Treat Weighted Average Days of cover expiry as fixed - unlikely to be able to calculate this on-chain"
   ]
  },
  {
   "cell_type": "code",
   "execution_count": 15,
   "id": "386620cd",
   "metadata": {
    "ExecuteTime": {
     "end_time": "2022-06-07T08:56:20.400189Z",
     "start_time": "2022-06-07T08:56:20.364383Z"
    }
   },
   "outputs": [
    {
     "data": {
      "text/plain": [
       "63.60394299022312"
      ]
     },
     "execution_count": 15,
     "metadata": {},
     "output_type": "execute_result"
    }
   ],
   "source": [
    "# bring in csv\n",
    "active_covers_expiration = pd.read_csv('../raw_data/active_cover_amount_by_expiration_date.csv')\n",
    "# rename columns\n",
    "active_covers_expiration.columns = ['exp_time', 'USD', 'ETH']\n",
    "# convert expiry time from string to datetime\n",
    "active_covers_expiration['exp_time'] = pd.to_datetime(active_covers_expiration['exp_time'])\n",
    "# create a 'days remaining column by subtracting today's date in datetime format\n",
    "active_covers_expiration['days_remaining'] = active_covers_expiration['exp_time']-pd.Timestamp.now().normalize()\n",
    "# create an integer minutes remaining column by dividing by a timedelta minute object\n",
    "active_covers_expiration['minutes_remaining'] = active_covers_expiration['days_remaining']/np.timedelta64(1, 'm')\n",
    "\n",
    "#calculate weighted average minutes remaining based on cover amount\n",
    "wavg_minutes = ((active_covers_expiration['ETH']*active_covers_expiration['minutes_remaining'])\n",
    "                /active_covers_expiration['ETH'].sum()).sum()\n",
    "\n",
    "# calculate \n",
    "wavg_days = wavg_minutes/(24*60)\n",
    "wavg_days"
   ]
  },
  {
   "cell_type": "code",
   "execution_count": 16,
   "id": "3d2bf367",
   "metadata": {
    "ExecuteTime": {
     "end_time": "2022-06-07T08:56:20.961226Z",
     "start_time": "2022-06-07T08:56:20.953528Z"
    }
   },
   "outputs": [
    {
     "data": {
      "text/plain": [
       "127.20788598044624"
      ]
     },
     "execution_count": 16,
     "metadata": {},
     "output_type": "execute_result"
    }
   ],
   "source": [
    "2*wavg_days\n",
    "# use this as proxy for base level"
   ]
  },
  {
   "cell_type": "markdown",
   "id": "cedd8d10",
   "metadata": {},
   "source": [
    "### Mechanism for Single Exit Below 100%"
   ]
  },
  {
   "cell_type": "code",
   "execution_count": 115,
   "id": "e63ac5d5",
   "metadata": {
    "ExecuteTime": {
     "end_time": "2022-06-07T14:14:06.586227Z",
     "start_time": "2022-06-07T14:14:06.547848Z"
    }
   },
   "outputs": [],
   "source": [
    "model_days = 366\n",
    "current_day = 0\n",
    "\n",
    "# Exit mechanism is dynamic based on 1) mcrp and/or 2) size of exit queue\n",
    "# 122 days as baseline below 100%\n",
    "base_exit_days = 60\n",
    "\n",
    "# option to exit active for certain number of days\n",
    "minimum_exit_period = 14\n",
    "exit_period = 30\n",
    "\n",
    "# 122 days added linearly from mcr% at 100% down to 80%\n",
    "mcrp_max_days = 122\n",
    "def mcrp_exit_days():\n",
    "    mcrp_trigger = 1\n",
    "    mcrp_threshold = 0.8\n",
    "    return min(1, max(0, (mcrp_trigger - mcrp(dca())) / (mcrp_trigger - mcrp_threshold))) * mcrp_max_days\n",
    "\n",
    "# 122 days added linearly from 10% of NXM in exit queue to 20% of NXM in exit queue\n",
    "queue_max_days = 122\n",
    "def queue_exit_days():\n",
    "    queue_trigger = 0.1\n",
    "    queue_threshold = 0.2\n",
    "    queue_ratio = exit_queue_size('nxm') / nxm_supply\n",
    "    return min(1, max(0, (queue_ratio - queue_trigger) / (queue_threshold - queue_trigger))) * queue_max_days\n",
    "\n",
    "# combine the moving day target to 100% with a quadratic function to 100%\n",
    "# output the row vector reflecting the possibilities of exit\n",
    "# including 0 for first 14 days the period after getting to 100% and instant 100% after 14 days if mcrp > 1\n",
    "def exit_ratios():\n",
    "    \n",
    "    row_vec = np.zeros(model_days + base_exit_days + mcrp_max_days + queue_max_days + exit_period)\n",
    "\n",
    "    # if mcr% > 100%, user has option to exit 14 days from now at full book value for 30 days \n",
    "    if mcrp(dca()) > 1:\n",
    "        ratio_array = np.ones(exit_period)\n",
    "        row_vec[current_day + minimum_exit_period:current_day + minimum_exit_period + exit_period] = ratio_array\n",
    "    \n",
    "    else: # below 100% mcr\n",
    "        # determine number of days required to get to 100%\n",
    "        days = np.ceil(base_exit_days + mcrp_exit_days() + queue_exit_days()).astype('int')\n",
    "        # create array of exit possibilities\n",
    "        ratio_array = np.minimum(np.fromfunction(lambda x: (x/days)**2, (days+exit_period,)), 1)\n",
    "        # replace first 14 days with zero\n",
    "        ratio_array[:minimum_exit_period] = 0\n",
    "        # replace array of zeros with ratio array in right position\n",
    "        row_vec[current_day:current_day+days+exit_period] = ratio_array\n",
    "    \n",
    "    # return vector of exit possibilities\n",
    "    return row_vec"
   ]
  },
  {
   "cell_type": "code",
   "execution_count": 116,
   "id": "325570dc",
   "metadata": {
    "ExecuteTime": {
     "end_time": "2022-06-07T14:14:07.313341Z",
     "start_time": "2022-06-07T14:14:07.038929Z"
    }
   },
   "outputs": [
    {
     "data": {
      "text/plain": [
       "[<matplotlib.lines.Line2D at 0x7ff1e7e3d730>]"
      ]
     },
     "execution_count": 116,
     "metadata": {},
     "output_type": "execute_result"
    },
    {
     "data": {
      "image/png": "[encoded data removed]",
      "text/plain": [
       "<Figure size 432x288 with 1 Axes>"
      ]
     },
     "metadata": {
      "needs_background": "light"
     },
     "output_type": "display_data"
    }
   ],
   "source": [
    "plt.plot(exit_ratios())"
   ]
  },
  {
   "cell_type": "code",
   "execution_count": 19,
   "id": "64a066b7",
   "metadata": {
    "ExecuteTime": {
     "end_time": "2022-06-07T09:01:51.332084Z",
     "start_time": "2022-06-07T09:01:51.326213Z"
    }
   },
   "outputs": [],
   "source": [
    "# single_delayed_exit function converts desired ETH amount into nxm at book value (based on current capital)\n",
    "# in practice the users will choose NXM amount they want to sell\n",
    "# nxm value row will represent the amount that the user gets at book value\n",
    "# in practice user will always burn the full amount of NXM\n",
    "def single_exit(eth):\n",
    "    # calculate amount of nxm that user wants to sell from eth they want to obtain\n",
    "    nxm = eth/book_value(cap_pool)\n",
    "    \n",
    "    # multiply nxm value into row vector\n",
    "    return exit_ratios() * nxm"
   ]
  },
  {
   "cell_type": "code",
   "execution_count": 120,
   "id": "f4bcaf4e",
   "metadata": {
    "ExecuteTime": {
     "end_time": "2022-06-07T14:22:06.745725Z",
     "start_time": "2022-06-07T14:22:06.739075Z"
    }
   },
   "outputs": [
    {
     "data": {
      "text/plain": [
       "0.04239115827521624"
      ]
     },
     "execution_count": 120,
     "metadata": {},
     "output_type": "execute_result"
    }
   ],
   "source": [
    "# test out various fixed probabilities at different lengths:\n",
    "(1-0.1)**30"
   ]
  },
  {
   "cell_type": "markdown",
   "id": "81a1aa16",
   "metadata": {},
   "source": [
    "### Account for Different Exit Scenarios"
   ]
  },
  {
   "cell_type": "markdown",
   "id": "96c4abd6",
   "metadata": {},
   "source": [
    "## Nexus System Development"
   ]
  },
  {
   "cell_type": "markdown",
   "id": "ef60915e",
   "metadata": {},
   "source": [
    "Every day, the following happens:\n",
    "\n",
    "- Users **enter** the system by buying NXM from the mutual **at wNXM price** (or with some discount)\n",
    "    - expect this number to be higher when mcrp < 1 because there is a discount to wNXM depending on vesting period\n",
    "    - some will want to buy wNXM for ease, some will want to buy NXM for use on the platform\n",
    "- Users **exit** from the system **at book value**\n",
    "    - noone if wNXM price > book value, as first, NXM would be converted to wNXM and sold on the open market. This will drive the price down to book value if more users want to exit.\n",
    "    - If wNXM price <= book value, expect wNXM buys and exits through book value, driving wNXM price up to book value (with a slight time value discount, assume 5% per year)\n",
    "- Change in wNXM price\n",
    "    - if below book value, price gets driven up towards *book value less time discount*\n",
    "    - if above book value, could go up if mutual doing well, could go down if mutual perceived to be doing badly (e.g. after a big claim)\n",
    "- Funds come in to capital pool separately through premiums & investment\n",
    "    - steady stream of income from premiums, possibly increasing, test decrease as well\n",
    "    - steady stream of income from investments, say 5% on 30% of capital pool to reflect current position\n",
    "- Funds exit the capital pool through claims\n",
    "    - rare, but large events\n",
    "    - possible hits to wNXM price if above book value\n",
    "- Change in NXM supply\n",
    "    - entries and exits through capital mechanism (even if NXM created in future)\n",
    "    - cover buys still create some?\n",
    "    - some irregular governance rewards\n",
    "    - burned through cover buys in NXM\n",
    "    - upon claim, burns of stakers' NXM\n",
    "- Update active cover amount for tracking mcr requirement\n",
    "- Update exit queue size\n",
    "- Update dca & mcrp as a result"
   ]
  },
  {
   "cell_type": "code",
   "execution_count": 121,
   "id": "4ccefc88",
   "metadata": {
    "ExecuteTime": {
     "end_time": "2022-06-07T14:25:46.433533Z",
     "start_time": "2022-06-07T14:25:46.381791Z"
    }
   },
   "outputs": [],
   "source": [
    "# parameters of various developments\n",
    "# length of simulation\n",
    "model_days = 366\n",
    "\n",
    "# ENTERING AND EXITING THE SYSTEM\n",
    "\n",
    "# assume there are, on average, some same base distribution of entries and exits each day\n",
    "# modelled by a poisson distribution\n",
    "lambda_entries = 10\n",
    "lambda_exits = 10\n",
    "\n",
    "# modifier functions for entries & exit\n",
    "def entry_mod():\n",
    "    return 1\n",
    "\n",
    "def exit_mod():\n",
    "    return 1\n",
    "\n",
    "# lognormal distribution of size of entries & exits in ETH\n",
    "# parameterised to have  values be small < 1 ETH, the median value to be ~1 ETH,\n",
    "# upper quartile around 4-5 ETH and the occasional multi-million buy\n",
    "sale_shape = 2\n",
    "sale_loc = 0\n",
    "sale_scale = 1\n",
    "\n",
    "# allow a 30 day period for exit option\n",
    "exit_period = 30\n",
    "# minimum exit period of 14 days to avoid rush once claims comes in\n",
    "minimum_exit_period = 14\n",
    "\n",
    "# parameters for moving number of days to get to 100% of book value\n",
    "base_exit_days = 60\n",
    "mcrp_max_days = 122\n",
    "queue_max_days = 122\n",
    "\n",
    "# there is some exit probability each day there is a non-zero value\n",
    "# assume that there's a 4% chance of exit at full book value each day that option is available\n",
    "# this 4% probability scales down linearly with the ratio of book value that is available\n",
    "# (so e.g. if the user can get 50% of book value, the probability of exiting is 2% )\n",
    "p_exit_full = 0.04\n",
    "def p_exit(idx, nxm):\n",
    "    row = exit_array[idx]\n",
    "    ratio = nxm/np.max(row)\n",
    "    return p_exit_full * ratio\n",
    "# cost of exit option in nxm\n",
    "option_cost = 0.1\n",
    "\n",
    "# COVER AMOUNT\n",
    "\n",
    "# normal distribution of change in cover amount\n",
    "cover_amount_mean = 0.0075\n",
    "cover_amount_stdev = 0.07\n",
    "\n",
    "# PREMIUM INCOME\n",
    "\n",
    "# lognormal distribution of daily premium income\n",
    "# parameterised to have median value of a handful of ETH,\n",
    "# upper quartile around 10 ETH and the occasional multi-million $ day\n",
    "premium_shape = 2\n",
    "premium_loc = 0.02\n",
    "premium_scale = 3\n",
    "\n",
    "# CLAIM OCCURENCES\n",
    "\n",
    "# claim frequency\n",
    "claim_prob = 0.03\n",
    "\n",
    "# lognormal distribution of claim size\n",
    "# parameterised to have values of at least 1 ETH, the median value to be ~9 ETH,\n",
    "# upper quartile around 30 ETH and the occasional multi-million payout\n",
    "claim_shape = 2\n",
    "claim_loc = 1\n",
    "claim_scale = 15\n",
    "\n",
    "# assume premium was 2.6% of claim size (for assessor NXM rewards)\n",
    "claim_ass_reward = 0.026 * 0.2\n",
    "\n",
    "# WNXM PRICE MOVEMENTS\n",
    "\n",
    "# Random Movement\n",
    "# normal distribution of change in wnxm price, before any adjustments we assume for what happens\n",
    "wnxm_drift = 0   # assume there's no long-term drift from ETH\n",
    "wnxm_diffusion = 0.0655 # st.dev. of historic returns since summer 2020\n",
    "\n",
    "# Closing to Book Value\n",
    "# assume that people ascribe a 5% time value to the fixed 122 day exit period \n",
    "wnxm_discount_to_book = 0.05\n",
    "# assume that price moves 2% with every 60 ETH (based on liquidity at Bancor), equivalent to 0.033% per 1 ETH\n",
    "gap_eth_sale = 60\n",
    "def gap_wnxm_move(gap_eth_sale):\n",
    "    return gap_eth_sale / 3000"
   ]
  },
  {
   "cell_type": "code",
   "execution_count": 122,
   "id": "46411d64",
   "metadata": {
    "ExecuteTime": {
     "end_time": "2022-06-07T14:25:59.255407Z",
     "start_time": "2022-06-07T14:25:55.474701Z"
    }
   },
   "outputs": [],
   "source": [
    "### ---MAIN SIMULATION LOOP--- ###\n",
    "\n",
    "# start at day 0\n",
    "current_day = 0\n",
    "nxm_supply = nxm_supply_now\n",
    "act_cover = act_cover_now\n",
    "capital_factor = 4.8\n",
    "cap_pool = cap_pool_now\n",
    "wnxm_price = wnxm_price_now\n",
    "\n",
    "# set randomised number of base daily entries and exits\n",
    "daily_entries = poisson.rvs(lambda_entries, size=model_days)\n",
    "daily_exits = poisson.rvs(lambda_exits, size=model_days)\n",
    "\n",
    "# create empty exit array of ETH liabilities to users and entry array of NXM claims via bonds\n",
    "exit_array = np.zeros((1, model_days + base_exit_days + mcrp_max_days + queue_max_days + exit_period))\n",
    "entry_array = np.zeros((1, model_days + bond_length))\n",
    "\n",
    "# set cumulative premium and claims to 0\n",
    "cum_premiums = 0\n",
    "cum_claims = 0\n",
    "\n",
    "# create tracking lists for metrics we want to track with opening values\n",
    "mcr_prediction = [mcr()]\n",
    "cap_pool_prediction = [cap_pool]\n",
    "mcrp_prediction = [mcrp(dca())]\n",
    "wnxm_prediction = [wnxm_price]\n",
    "nxm_supply_prediction = [nxm_supply]\n",
    "book_value_prediction = [book_value(dca())]\n",
    "exit_queue_eth_prediction = [exit_queue_size()]\n",
    "exit_queue_nxm_prediction = [exit_queue_size(denom='nxm')]\n",
    "dca_prediction = [dca()]\n",
    "premium_prediction = [0]\n",
    "act_cover_prediction = [act_cover]\n",
    "claim_prediction = [0]\n",
    "num_exits_prediction = [0]\n",
    "\n",
    "for i in range(model_days):\n",
    "    \n",
    "    # create list of events that happen today and shuffle them to be random\n",
    "    events_today = []\n",
    "    events_today.extend(['entry'] * daily_entries[i] * entry_mod())\n",
    "    events_today.extend(['exit'] * daily_exits[i] * exit_mod())\n",
    "    events_today.extend(['wnxm_shift'])\n",
    "    events_today.extend(['premium_income'])\n",
    "    events_today.extend(['claim_check'])\n",
    "    events_today.extend(['cover_amount_change'])\n",
    "    #events_today.extend(['bond_entries'])\n",
    "    events_today.extend(['delayed_exits'])\n",
    "    shuffle(events_today)\n",
    "    \n",
    "    # loop through the day's events\n",
    "    for event in events_today:\n",
    "        \n",
    "        #-----SINGLE ENTRIES-----#\n",
    "        if event == 'entry':\n",
    "            # no entries if wnxm price is below book\n",
    "            if wnxm_price < book_value(dca()):\n",
    "                continue\n",
    "            \n",
    "            # draw entry size from lognormal distribution\n",
    "            eth_size = lognorm.rvs(s=sale_shape, loc=sale_loc, scale=sale_scale)\n",
    "            \n",
    "            # eth enters the capital pool\n",
    "            cap_pool += eth_size\n",
    "            \n",
    "            # NXM Supply changes\n",
    "            # instantaneous @ wnxm price if mcrp >= 1\n",
    "            if mcrp(dca()) >= 1:\n",
    "                nxm_supply += eth_size / wnxm_price\n",
    "                \n",
    "            # add to queued entry array if mcrp < 1 & increase NXM supply immediately\n",
    "            else:\n",
    "                bond_row = single_bond(eth_size)\n",
    "                entry_array = np.vstack((entry_array, bond_row))\n",
    "                nxm_supply += sum(bond_row)\n",
    "        \n",
    "        #-----SINGLE EXITS & GAP CLOSING-----#\n",
    "        elif event == 'exit':\n",
    "            # no exits if wnxm price is above book\n",
    "            if wnxm_price > book_value(dca()):\n",
    "                continue\n",
    "            \n",
    "            # CLOSE WNXM TO BOOK GAP, IF RELEVANT #\n",
    "            while wnxm_price < book_value(dca())*(1-wnxm_discount_to_book):\n",
    "                # set assumed individual arbitrage sale size\n",
    "                eth_size = gap_eth_sale\n",
    "                \n",
    "                # if mcr% > 100%,\n",
    "                # check whether size reduces mcrp below 1 & turn eth_size into maximum possible\n",
    "                # such that mcrp doesn't go below 1 \n",
    "                if mcrp(dca()) > 1:\n",
    "                    if mcrp(dca() - gap_eth_sale) <= 1:\n",
    "                        eth_size = dca() - mcr()\n",
    "                \n",
    "#                     # reduce nxm supply and remove ETH from capital pool\n",
    "#                     nxm_supply -= eth_size/wnxm_price  # book_value(dca())\n",
    "#                     cap_pool -= eth_size\n",
    "\n",
    "                # add row of potential NXM exits to exit array\n",
    "                exit_array = np.vstack((exit_array, single_exit(eth=eth_size)))\n",
    "#                     # burn 10% of NXM size\n",
    "#                     nxm_supply -= gap_eth_sale/book_value(dca()) * option_cost\n",
    "                \n",
    "                # move wNXM price\n",
    "                wnxm_price *= 1 + gap_wnxm_move(eth_size)\n",
    "\n",
    "            \n",
    "            # SINGLE EXIT #\n",
    "            # draw exit size from lognormal distribution\n",
    "            eth_size = lognorm.rvs(s=sale_shape, loc=sale_loc, scale=sale_scale)\n",
    "            \n",
    "                # if mcr% > 100%,\n",
    "                # check whether size reduces mcrp below 1 & turn eth_size into maximum possible\n",
    "                # such that mcrp doesn't go below 1 \n",
    "            if mcrp(dca()) > 1:\n",
    "                if mcrp(dca() - gap_eth_sale) <= 1:\n",
    "                    eth_size = dca() - mcr()\n",
    "\n",
    "#             # reduce nxm supply and remove ETH from capital pool\n",
    "#             nxm_supply -= eth_size/wnxm_price # book_value(dca())\n",
    "#             cap_pool -= eth_size\n",
    "             \n",
    "#             # add to exit queue if mcrp <= 1\n",
    "#             else:\n",
    "            \n",
    "            # add single exit to the exit array\n",
    "            exit_array = np.vstack((exit_array, single_exit(eth=eth_size)))\n",
    "            \n",
    "#                 # burn 10% of NXM size\n",
    "#                 nxm_supply -= eth_size/wnxm_price * option_cost # book_value(dca()) \n",
    "        \n",
    "        #-----WNXM RANDOM MARKET MOVEMENT-----#\n",
    "        elif event == 'wnxm_shift':\n",
    "            # percentage change according to pre-defined normal distribution\n",
    "            wnxm_price *= 1 + norm.rvs(loc=wnxm_drift, scale=wnxm_diffusion)\n",
    "        \n",
    "        #-----PREMIUM INCOME TO POOL-----#\n",
    "        elif event == 'premium_income':\n",
    "            # work out daily premium size in ETH assuming a lognormal distribution\n",
    "            daily_premiums = lognorm.rvs(s=premium_shape, loc=premium_loc, scale=premium_scale)\n",
    "            # 50% of premium size gets transformed to NXM and paid out to stakers\n",
    "            # entry is at wNXM price\n",
    "            cap_pool += daily_premiums\n",
    "            nxm_supply += 0.5 * daily_premiums/wnxm_price\n",
    "            cum_premiums += daily_premiums\n",
    "        \n",
    "        #-----DAILY CHANGE IN COVER AMOUNT-----#\n",
    "        elif event == 'cover_amount_change':\n",
    "            # random fluctuation based on normal distribution\n",
    "            act_cover *= 1 + norm.rvs(loc=cover_amount_mean, scale=cover_amount_stdev)\n",
    "            \n",
    "        #-----CLAIM EVENT-----#\n",
    "        elif event == 'claim_check':\n",
    "            # check if claims occur\n",
    "            if np.random.random() > claim_prob:\n",
    "                continue\n",
    "            # if a claim has occured, determine size\n",
    "            claim_size = lognorm.rvs(s=claim_shape, loc=claim_loc, scale=claim_scale)\n",
    "            # burn 50% of nxm at wnxm price and remove claims amount from capital pool\n",
    "            nxm_supply -= 0.5 * claim_size/wnxm_price\n",
    "            cap_pool -= claim_size\n",
    "            cum_claims += claim_size\n",
    "            # NB: could introduce wNXM shock if claim is over a certain size?\n",
    "        \n",
    "        #-----BOND ENTRIES-----#\n",
    "        ### commented out because makes more sense to add NXM to supply immediately\n",
    "#         elif event == 'bond_entries':\n",
    "#             # sum up entries on current day and add to NXM supply\n",
    "#             nxm_supply += np.sum(entry_array[:, current_day])\n",
    "        \n",
    "        #-----DELAYED EXITS-----#\n",
    "        elif event == 'delayed_exits':\n",
    "            # don't do this for first days within minimum exit period\n",
    "            if current_day < minimum_exit_period:\n",
    "                continue\n",
    "            \n",
    "            removal_rows = []\n",
    "            # slice exit array to current day & loop through entries\n",
    "            current_exits = exit_array[:, current_day]\n",
    "            for idx, number_nxm in np.ndenumerate(current_exits):\n",
    "                # if value is non-zero, check whether user chooses to exit\n",
    "                if number_nxm != 0:\n",
    "                    # successful exit\n",
    "                    if np.random.random() < p_exit(idx, number_nxm):\n",
    "                        # burn full NXM value of row\n",
    "                        nxm_supply -= np.max(exit_array[idx[0]])\n",
    "                        # remove eth value from capital pool\n",
    "                        cap_pool -= number_nxm * book_value(cap_pool)\n",
    "                        # add row to removal_rows\n",
    "                        removal_rows.append(idx[0])\n",
    "                        \n",
    "                # check whether the option hasn't been exercised - row should be removed & option cost burnt\n",
    "                elif exit_array[idx, current_day-1] != 0:\n",
    "                    nxm_supply -= option_cost*exit_array[idx[0], current_day-1]\n",
    "                    # add row to removal rows\n",
    "                    removal_rows.append(idx[0])\n",
    "                    \n",
    "                        \n",
    "            # remove rows from exit array:\n",
    "            exit_array = np.delete(exit_array, removal_rows, axis=0)\n",
    "\n",
    "                    \n",
    "    mcr_prediction.append(mcr())\n",
    "    cap_pool_prediction.append(cap_pool)\n",
    "    exit_queue_eth_prediction.append(exit_queue_size())\n",
    "    exit_queue_nxm_prediction.append(exit_queue_size(denom='nxm'))\n",
    "    dca_prediction.append(dca())\n",
    "    book_value_prediction.append(book_value(dca()))\n",
    "    mcrp_prediction.append(mcrp(dca()))\n",
    "    wnxm_prediction.append(wnxm_price)\n",
    "    nxm_supply_prediction.append(nxm_supply)\n",
    "    premium_prediction.append(cum_premiums)\n",
    "    claim_prediction.append(cum_claims)\n",
    "    act_cover_prediction.append(act_cover)\n",
    "    num_exits_prediction.append(exit_array.shape[0])\n",
    "    \n",
    "    current_day += 1"
   ]
  },
  {
   "cell_type": "code",
   "execution_count": 123,
   "id": "90c97238",
   "metadata": {
    "ExecuteTime": {
     "end_time": "2022-06-07T14:26:03.473058Z",
     "start_time": "2022-06-07T14:26:01.003852Z"
    }
   },
   "outputs": [
    {
     "data": {
      "image/png": "[encoded data removed]",
      "text/plain": [
       "<Figure size 1080x1944 with 14 Axes>"
      ]
     },
     "metadata": {
      "needs_background": "light"
     },
     "output_type": "display_data"
    }
   ],
   "source": [
    "#-----GRAPHS-----#\n",
    "# Destructuring initialization\n",
    "fig, axs = plt.subplots(7, 2, figsize=(15,27)) # axs is a (7,2) nd-array\n",
    "\n",
    "# Subplot 1\n",
    "axs[0, 0].plot(range(model_days+1), mcr_prediction)\n",
    "axs[0, 0].set_title('mcr')\n",
    "# Subplot 2\n",
    "axs[0, 1].plot(range(model_days+1), cap_pool_prediction)\n",
    "axs[0, 1].set_title('cap_pool')\n",
    "# Subplot 3\n",
    "axs[1, 0].plot(range(model_days+1), exit_queue_eth_prediction)\n",
    "axs[1, 0].set_title('exit_queue_eth')\n",
    "# Subplot 4\n",
    "axs[1, 1].plot(range(model_days+1), dca_prediction)\n",
    "axs[1, 1].set_title('dca')\n",
    "# Subplot 5\n",
    "axs[2, 0].plot(range(model_days+1), book_value_prediction)\n",
    "axs[2, 0].set_title('book_value')\n",
    "# Subplot 6\n",
    "axs[2, 1].plot(range(model_days+1), mcrp_prediction)\n",
    "axs[2, 1].plot(range(model_days+1), np.ones(model_days+1), color='red')\n",
    "axs[2, 1].set_title('mcrp')\n",
    "# Subplot 7\n",
    "axs[3, 0].plot(range(model_days+1), wnxm_prediction)\n",
    "axs[3, 0].set_title('wnxm_price')\n",
    "# Subplot 8\n",
    "axs[3, 1].plot(range(model_days+1), nxm_supply_prediction)\n",
    "axs[3, 1].set_title('nxm_supply')\n",
    "# Subplot 9\n",
    "axs[4, 0].plot(range(model_days+1), premium_prediction)\n",
    "axs[4, 0].set_title('premium_income')\n",
    "# Subplot 10\n",
    "axs[4, 1].plot(range(model_days+1), claim_prediction)\n",
    "axs[4, 1].set_title('claim_outgo')\n",
    "# Subplot 11\n",
    "axs[5, 0].plot(range(model_days+1), act_cover_prediction)\n",
    "axs[5, 0].set_title('active_cover');\n",
    "# Subplot 12\n",
    "axs[5, 1].plot(range(model_days+1), exit_queue_nxm_prediction)\n",
    "axs[5, 1].set_title('exit_queue_nxm');\n",
    "# Subplot 13\n",
    "axs[6, 0].plot(range(model_days+1), num_exits_prediction)\n",
    "axs[6, 0].set_title('num_exits_in_queue');"
   ]
  },
  {
   "cell_type": "markdown",
   "id": "46659ed1",
   "metadata": {},
   "source": [
    "## Initial Reverse Dutch Auction Mechanism"
   ]
  },
  {
   "cell_type": "markdown",
   "id": "1e411995",
   "metadata": {},
   "source": [
    "At launch, exit price = wnxm price\n",
    "\n",
    "Price slowly increases, but starts dropping down once people try to exit through the mechanism\n",
    "\n",
    "Keeps going up, stops at book value.\n",
    "\n",
    "Incentive not to wait longer - some people may end up exiting in front of you and drive down the price.\n",
    "What if you believe it'll go up eventually anyway..."
   ]
  },
  {
   "cell_type": "code",
   "execution_count": null,
   "id": "c494ba7d",
   "metadata": {},
   "outputs": [],
   "source": []
  }
 ],
 "metadata": {
  "kernelspec": {
   "display_name": "Python 3 (ipykernel)",
   "language": "python",
   "name": "python3"
  },
  "language_info": {
   "codemirror_mode": {
    "name": "ipython",
    "version": 3
   },
   "file_extension": ".py",
   "mimetype": "text/x-python",
   "name": "python",
   "nbconvert_exporter": "python",
   "pygments_lexer": "ipython3",
   "version": "3.8.12"
  },
  "toc": {
   "base_numbering": 1,
   "nav_menu": {},
   "number_sections": true,
   "sideBar": true,
   "skip_h1_title": false,
   "title_cell": "Table of Contents",
   "title_sidebar": "Contents",
   "toc_cell": false,
   "toc_position": {},
   "toc_section_display": true,
   "toc_window_display": false
  }
 },
 "nbformat": 4,
 "nbformat_minor": 5
}
