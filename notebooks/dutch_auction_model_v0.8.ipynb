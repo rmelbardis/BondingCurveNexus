{
 "cells": [
  {
   "cell_type": "code",
   "execution_count": 1,
   "id": "ea027cd5",
   "metadata": {
    "ExecuteTime": {
     "end_time": "2022-12-20T15:56:27.121208Z",
     "start_time": "2022-12-20T15:56:26.028066Z"
    }
   },
   "outputs": [],
   "source": [
    "# Imports (numpy, pandas, matplotlib, seaborn imported automatically)\n",
    "import requests\n",
    "from etherscan import Etherscan\n",
    "from BondingCurveNexus import config, sys_params\n",
    "from BondingCurveNexus.param_functions import open_liq, wnxm_movement_per_eth\n",
    "from BondingCurveNexus.sys_class import NexusSystem\n",
    "from scipy.stats import lognorm\n",
    "from tqdm import tqdm\n",
    "from random import shuffle"
   ]
  },
  {
   "cell_type": "code",
   "execution_count": 2,
   "id": "f9d7512b",
   "metadata": {
    "ExecuteTime": {
     "end_time": "2022-12-20T15:56:28.525707Z",
     "start_time": "2022-12-20T15:56:27.808207Z"
    },
    "scrolled": true
   },
   "outputs": [
    {
     "data": {
      "text/plain": [
       "1219.66"
      ]
     },
     "execution_count": 2,
     "metadata": {},
     "output_type": "execute_result"
    }
   ],
   "source": [
    "# activate etherscan client\n",
    "eth_client = Etherscan(config.etherscan_api)\n",
    "eth_price_usd = float(eth_client.get_eth_last_price()['ethusd'])\n",
    "eth_price_usd"
   ]
  },
  {
   "cell_type": "code",
   "execution_count": 3,
   "id": "b1dc01ba",
   "metadata": {
    "ExecuteTime": {
     "end_time": "2022-12-20T15:56:29.331342Z",
     "start_time": "2022-12-20T15:56:29.170616Z"
    }
   },
   "outputs": [
    {
     "data": {
      "text/plain": [
       "2880163.64274334"
      ]
     },
     "execution_count": 3,
     "metadata": {},
     "output_type": "execute_result"
    }
   ],
   "source": [
    "supply_url = 'https://api.coingecko.com/api/v3/coins/wrapped-nxm'\n",
    "wnxm_supply_now = requests.get(supply_url).json()['market_data']['total_supply']\n",
    "wnxm_supply_now"
   ]
  },
  {
   "cell_type": "code",
   "execution_count": 4,
   "id": "c47efd68",
   "metadata": {
    "ExecuteTime": {
     "end_time": "2022-12-20T15:56:30.241558Z",
     "start_time": "2022-12-20T15:56:30.233440Z"
    }
   },
   "outputs": [],
   "source": [
    "system_instance = NexusSystem(liquidity_eth=open_liq(0.5), wnxm_move_size=wnxm_movement_per_eth(500_000))"
   ]
  },
  {
   "cell_type": "code",
   "execution_count": 5,
   "id": "d7c4bae8",
   "metadata": {
    "ExecuteTime": {
     "end_time": "2022-12-20T15:56:30.867547Z",
     "start_time": "2022-12-20T15:56:30.858704Z"
    }
   },
   "outputs": [
    {
     "name": "stdout",
     "output_type": "stream",
     "text": [
      "0.00723488 0.02234902190376523 32.372244437154144%\n"
     ]
    }
   ],
   "source": [
    "print(sys_params.wnxm_price_now, system_instance.book_value(),\n",
    "      f'{100 * sys_params.wnxm_price_now / system_instance.book_value()}%')"
   ]
  },
  {
   "cell_type": "markdown",
   "id": "22d16f6a",
   "metadata": {},
   "source": [
    "# Dutch Auction Modelling"
   ]
  },
  {
   "cell_type": "markdown",
   "id": "46659ed1",
   "metadata": {},
   "source": [
    "## Dutch Auction Mechanism"
   ]
  },
  {
   "cell_type": "markdown",
   "id": "1e411995",
   "metadata": {},
   "source": [
    "Assume that we start at wNXM, as new tokenomics will start slightly below; therefore the first \"interesting point\" will be when we hit wNXM price.\n",
    "\n",
    "Mechanism is a Uniswap v2 Curve to push price up when buys happen & down when sales happen.\n",
    "\n",
    "Exploring two options\n",
    "1. One-sided markets above and below book with price discovery through a ratchet mechanism.\n",
    "- Here, buys are disabled below book and sells are disabled above book in order to completely avoid book value dilution from users.\n",
    "- Mutual benefits mainly from rising price and positive sentiment\n",
    "- Soft anchoring to Book Value\n",
    "\n",
    "2. True two-sided market above and below book with a buy/sell spread.\n",
    "- Users can be diluted, but any dilution should be balanced with a positive boon. Spread should accrue slowly over time to the mutual.\n",
    "- No mechanism for anchoring to a specific value."
   ]
  },
  {
   "cell_type": "markdown",
   "id": "7f1898b7",
   "metadata": {},
   "source": [
    "### Liquidity parameters"
   ]
  },
  {
   "cell_type": "markdown",
   "id": "f69b432d",
   "metadata": {},
   "source": [
    "Current proposed approach to liquidity: \n",
    "- have a large opening liquidity that allows us to get to book value while draining wNXM markets (tens of thousands of ETH)\n",
    "- have a low target liquidity (<5k ETH) that liquidity approaches over time\n",
    "- increase liquidity towards target below BV and decrease liquidity above BV towards target, but not the other way around"
   ]
  },
  {
   "cell_type": "code",
   "execution_count": 6,
   "id": "1d3cbf4d",
   "metadata": {
    "ExecuteTime": {
     "end_time": "2022-12-20T15:56:37.570038Z",
     "start_time": "2022-12-20T15:56:37.565450Z"
    }
   },
   "outputs": [],
   "source": [
    "# opening liquidity provided\n",
    "opening_liq = 25_000\n",
    "# target liquidity\n",
    "liq_target = 2500\n",
    "# percentage of target per day that liquidity moves (additively) towards target\n",
    "liq_move_perc = 0.04\n",
    "# number of daily liquidity moves\n",
    "liq_moves_per_day = 10"
   ]
  },
  {
   "cell_type": "markdown",
   "id": "a6492192",
   "metadata": {},
   "source": [
    "### Ratchet sizing"
   ]
  },
  {
   "cell_type": "markdown",
   "id": "49da8f7a",
   "metadata": {},
   "source": [
    "Ratchet speed, for consistency, should be defined in relation to book value price. This enables a linear climb/descent towards book value instead of a percentage or fixed number of NXM liquidity.\n",
    "\n",
    "Also defining how many times this happens per day so that the ascent can be a bit smoother in the modelling. In practice, hopefully the ratchet is streamed.\n",
    "\n",
    "Process inside system class:\n",
    "- Define percentage x% of book value that increases on a daily basis as system parameter\n",
    "- Use current book value to define x% in NXM price terms\n",
    "- Solve for new NXM liquidity"
   ]
  },
  {
   "cell_type": "code",
   "execution_count": 7,
   "id": "d0457ee8",
   "metadata": {
    "ExecuteTime": {
     "end_time": "2022-12-20T15:56:40.031578Z",
     "start_time": "2022-12-20T15:56:40.002989Z"
    }
   },
   "outputs": [],
   "source": [
    "ratchet_bv_perc = 0.04\n",
    "ratchets_per_day = 10"
   ]
  },
  {
   "cell_type": "markdown",
   "id": "5644522d",
   "metadata": {},
   "source": [
    "### Buy/sell spread"
   ]
  },
  {
   "cell_type": "markdown",
   "id": "3eda2e8c",
   "metadata": {},
   "source": [
    "Price difference between buys & sells.\n",
    "\n",
    "- adds an x% bonus to buyers where users wishing to provide a worth of ETH will actually receive (1+x%) * a worth of NXM\n",
    "- this will not impact ETH amounts in the Uni market, but instead add extra NXM"
   ]
  },
  {
   "cell_type": "code",
   "execution_count": 8,
   "id": "fd8d1cac",
   "metadata": {
    "ExecuteTime": {
     "end_time": "2022-12-20T15:56:42.303625Z",
     "start_time": "2022-12-20T15:56:42.297918Z"
    }
   },
   "outputs": [],
   "source": [
    "spread = 0.02"
   ]
  },
  {
   "cell_type": "markdown",
   "id": "4b81bd5a",
   "metadata": {},
   "source": [
    "### wNXM Liquidity in Open Market"
   ]
  },
  {
   "cell_type": "markdown",
   "id": "314daa5b",
   "metadata": {},
   "source": [
    "Obtained from https://www.coingecko.com/en/coins/wrapped-nxm#markets, summed +2% and -2% depth across all exchanges & averaged the two. Rounded to nearest 10k (last 10/11/2022)\n",
    "\n",
    "Latest is 131k, typical in current price range is about 250k-300k, but typically using 500k which assumes that liquidity is higher at higher prices. Crude, to be improved.\n",
    "\n",
    "Function converts 2%-move USD liquidity to an absolute ETH value move per 1 ETH sold/bought on open market. This ETH value only depends on current wNXM price and not on the wNXM price at the time."
   ]
  },
  {
   "cell_type": "code",
   "execution_count": 9,
   "id": "cc8edb1c",
   "metadata": {
    "ExecuteTime": {
     "end_time": "2022-12-20T15:56:43.430066Z",
     "start_time": "2022-12-20T15:56:43.421723Z"
    }
   },
   "outputs": [
    {
     "data": {
      "text/plain": [
       "3.5310844723200004e-07"
      ]
     },
     "execution_count": 9,
     "metadata": {},
     "output_type": "execute_result"
    }
   ],
   "source": [
    "wnxm_move_size = wnxm_movement_per_eth(two_perc_liq_usd=500_000)\n",
    "wnxm_move_size"
   ]
  },
  {
   "cell_type": "code",
   "execution_count": 10,
   "id": "0efa690a",
   "metadata": {
    "ExecuteTime": {
     "end_time": "2022-12-20T15:56:44.470583Z",
     "start_time": "2022-12-20T15:56:44.460943Z"
    }
   },
   "outputs": [
    {
     "name": "stdout",
     "output_type": "stream",
     "text": [
      "0.00723488 361.74399999999997 0.0074903497242709855 0.03531084472320001\n"
     ]
    }
   ],
   "source": [
    "# How a wNXM buy works:\n",
    "# establish current price\n",
    "wnxm_open_price = sys_params.wnxm_price_now\n",
    "# establish number of wNXM bought\n",
    "n_wnxm = 50000\n",
    "# translate amount to ETH\n",
    "n_eth = n_wnxm * wnxm_open_price\n",
    "# establish closing price\n",
    "wnxm_close_price = wnxm_open_price + n_eth * wnxm_movement_per_eth(250_000)\n",
    "print(wnxm_open_price, n_eth, wnxm_close_price, wnxm_close_price/wnxm_open_price - 1)"
   ]
  },
  {
   "cell_type": "markdown",
   "id": "e9097c04",
   "metadata": {},
   "source": [
    "### NXM buy/sell sizing - Lognormal"
   ]
  },
  {
   "cell_type": "markdown",
   "id": "5c7219c3",
   "metadata": {},
   "source": [
    "lognormal distribution of size of a typical entry and exit in ETH\n",
    "\n",
    "parameterised to median value being ~1 ETH, upper quartile ~3 ETH"
   ]
  },
  {
   "cell_type": "code",
   "execution_count": 11,
   "id": "161ffb0a",
   "metadata": {
    "ExecuteTime": {
     "end_time": "2022-12-20T15:56:46.904676Z",
     "start_time": "2022-12-20T15:56:46.897588Z"
    }
   },
   "outputs": [],
   "source": [
    "entry_shape = 1.7\n",
    "entry_loc = 0\n",
    "entry_scale = 1\n",
    "\n",
    "exit_shape = 1.7\n",
    "exit_loc = 0\n",
    "exit_scale = 1"
   ]
  },
  {
   "cell_type": "code",
   "execution_count": 12,
   "id": "f8f190d0",
   "metadata": {
    "ExecuteTime": {
     "end_time": "2022-12-20T15:56:47.477067Z",
     "start_time": "2022-12-20T15:56:47.442235Z"
    }
   },
   "outputs": [
    {
     "data": {
      "text/html": [
       "<div>\n",
       "<style scoped>\n",
       "    .dataframe tbody tr th:only-of-type {\n",
       "        vertical-align: middle;\n",
       "    }\n",
       "\n",
       "    .dataframe tbody tr th {\n",
       "        vertical-align: top;\n",
       "    }\n",
       "\n",
       "    .dataframe thead th {\n",
       "        text-align: right;\n",
       "    }\n",
       "</style>\n",
       "<table border=\"1\" class=\"dataframe\">\n",
       "  <thead>\n",
       "    <tr style=\"text-align: right;\">\n",
       "      <th></th>\n",
       "      <th>0</th>\n",
       "    </tr>\n",
       "  </thead>\n",
       "  <tbody>\n",
       "    <tr>\n",
       "      <th>count</th>\n",
       "      <td>100000.000000</td>\n",
       "    </tr>\n",
       "    <tr>\n",
       "      <th>mean</th>\n",
       "      <td>4.236874</td>\n",
       "    </tr>\n",
       "    <tr>\n",
       "      <th>std</th>\n",
       "      <td>17.801560</td>\n",
       "    </tr>\n",
       "    <tr>\n",
       "      <th>min</th>\n",
       "      <td>0.000225</td>\n",
       "    </tr>\n",
       "    <tr>\n",
       "      <th>25%</th>\n",
       "      <td>0.318994</td>\n",
       "    </tr>\n",
       "    <tr>\n",
       "      <th>50%</th>\n",
       "      <td>1.001169</td>\n",
       "    </tr>\n",
       "    <tr>\n",
       "      <th>75%</th>\n",
       "      <td>3.146580</td>\n",
       "    </tr>\n",
       "    <tr>\n",
       "      <th>max</th>\n",
       "      <td>2832.114725</td>\n",
       "    </tr>\n",
       "  </tbody>\n",
       "</table>\n",
       "</div>"
      ],
      "text/plain": [
       "                   0\n",
       "count  100000.000000\n",
       "mean        4.236874\n",
       "std        17.801560\n",
       "min         0.000225\n",
       "25%         0.318994\n",
       "50%         1.001169\n",
       "75%         3.146580\n",
       "max      2832.114725"
      ]
     },
     "execution_count": 12,
     "metadata": {},
     "output_type": "execute_result"
    }
   ],
   "source": [
    "pd.DataFrame(lognorm.rvs(s=exit_shape, loc=exit_loc, scale=exit_scale, size=100_000)).describe()"
   ]
  },
  {
   "cell_type": "markdown",
   "id": "15ec7c3d",
   "metadata": {},
   "source": [
    "### NXM buy/sell sizing - Deterministic"
   ]
  },
  {
   "cell_type": "markdown",
   "id": "f65cc334",
   "metadata": {},
   "source": [
    "To be able to properly assess the differences between individual runs, we may want to have deterministic buy & sell pressure within and outside the platform.\n",
    "\n",
    "Size is mean of lognormal, so about 4.3 ETH."
   ]
  },
  {
   "cell_type": "code",
   "execution_count": 13,
   "id": "ae08d743",
   "metadata": {
    "ExecuteTime": {
     "end_time": "2022-12-20T15:56:48.962831Z",
     "start_time": "2022-12-20T15:56:48.956752Z"
    }
   },
   "outputs": [],
   "source": [
    "det_sell_size = 4.3"
   ]
  },
  {
   "cell_type": "markdown",
   "id": "8b7e35ab",
   "metadata": {},
   "source": [
    "### NXM buys/sells from platform per day"
   ]
  },
  {
   "cell_type": "markdown",
   "id": "13bd54ca",
   "metadata": {},
   "source": [
    "Poisson distribution of number of entries & exits per day.\n",
    "\n",
    "Lambda parameters can also be used as deterministic numbers for runs."
   ]
  },
  {
   "cell_type": "code",
   "execution_count": 14,
   "id": "970e09fa",
   "metadata": {
    "ExecuteTime": {
     "end_time": "2022-12-20T15:56:50.101788Z",
     "start_time": "2022-12-20T15:56:50.095908Z"
    }
   },
   "outputs": [],
   "source": [
    "lambda_entries = 100\n",
    "lambda_exits = 100"
   ]
  },
  {
   "cell_type": "code",
   "execution_count": 15,
   "id": "9d04b444",
   "metadata": {
    "ExecuteTime": {
     "end_time": "2022-12-20T15:56:50.839481Z",
     "start_time": "2022-12-20T15:56:50.818956Z"
    }
   },
   "outputs": [
    {
     "data": {
      "text/html": [
       "<div>\n",
       "<style scoped>\n",
       "    .dataframe tbody tr th:only-of-type {\n",
       "        vertical-align: middle;\n",
       "    }\n",
       "\n",
       "    .dataframe tbody tr th {\n",
       "        vertical-align: top;\n",
       "    }\n",
       "\n",
       "    .dataframe thead th {\n",
       "        text-align: right;\n",
       "    }\n",
       "</style>\n",
       "<table border=\"1\" class=\"dataframe\">\n",
       "  <thead>\n",
       "    <tr style=\"text-align: right;\">\n",
       "      <th></th>\n",
       "      <th>0</th>\n",
       "    </tr>\n",
       "  </thead>\n",
       "  <tbody>\n",
       "    <tr>\n",
       "      <th>count</th>\n",
       "      <td>10000.000000</td>\n",
       "    </tr>\n",
       "    <tr>\n",
       "      <th>mean</th>\n",
       "      <td>100.049600</td>\n",
       "    </tr>\n",
       "    <tr>\n",
       "      <th>std</th>\n",
       "      <td>9.909821</td>\n",
       "    </tr>\n",
       "    <tr>\n",
       "      <th>min</th>\n",
       "      <td>62.000000</td>\n",
       "    </tr>\n",
       "    <tr>\n",
       "      <th>25%</th>\n",
       "      <td>93.000000</td>\n",
       "    </tr>\n",
       "    <tr>\n",
       "      <th>50%</th>\n",
       "      <td>100.000000</td>\n",
       "    </tr>\n",
       "    <tr>\n",
       "      <th>75%</th>\n",
       "      <td>107.000000</td>\n",
       "    </tr>\n",
       "    <tr>\n",
       "      <th>max</th>\n",
       "      <td>141.000000</td>\n",
       "    </tr>\n",
       "  </tbody>\n",
       "</table>\n",
       "</div>"
      ],
      "text/plain": [
       "                  0\n",
       "count  10000.000000\n",
       "mean     100.049600\n",
       "std        9.909821\n",
       "min       62.000000\n",
       "25%       93.000000\n",
       "50%      100.000000\n",
       "75%      107.000000\n",
       "max      141.000000"
      ]
     },
     "execution_count": 15,
     "metadata": {},
     "output_type": "execute_result"
    }
   ],
   "source": [
    "pd.DataFrame(np.random.poisson(lam=lambda_entries, size=10_000)).describe()"
   ]
  },
  {
   "cell_type": "markdown",
   "id": "934f35aa",
   "metadata": {},
   "source": [
    "### wNXM drift & diffusion"
   ]
  },
  {
   "cell_type": "markdown",
   "id": "0da96c37",
   "metadata": {},
   "source": [
    "Relative % change in wNXM price on open market due to random fluctuations based on a normal distribution"
   ]
  },
  {
   "cell_type": "code",
   "execution_count": 16,
   "id": "989d92cf",
   "metadata": {
    "ExecuteTime": {
     "end_time": "2022-12-20T15:56:52.323198Z",
     "start_time": "2022-12-20T15:56:52.318607Z"
    }
   },
   "outputs": [],
   "source": [
    "wnxm_shifts_per_day = 1\n",
    "wnxm_drift = (1+0.000)**(1/wnxm_shifts_per_day) - 1\n",
    "wnxm_diffusion = (1+0.02)**(1/wnxm_shifts_per_day) - 1"
   ]
  },
  {
   "cell_type": "code",
   "execution_count": 17,
   "id": "25803caa",
   "metadata": {
    "ExecuteTime": {
     "end_time": "2022-12-20T15:56:52.616978Z",
     "start_time": "2022-12-20T15:56:52.610249Z"
    }
   },
   "outputs": [
    {
     "name": "stdout",
     "output_type": "stream",
     "text": [
      "0.0 0.020000000000000018\n"
     ]
    }
   ],
   "source": [
    "print(wnxm_drift, wnxm_diffusion)"
   ]
  },
  {
   "cell_type": "markdown",
   "id": "44b72332",
   "metadata": {},
   "source": [
    "## Uniswap v2 OOP Classes"
   ]
  },
  {
   "cell_type": "markdown",
   "id": "6189997a",
   "metadata": {},
   "source": [
    "1. UniPool - Base class with separate opening and target liquidities & movement towards target\n",
    "\n",
    "\n",
    "2. UniOne - subclass of 1. with a one-sided market and ratchet mechanism above BV\n",
    "3. UniTwo - subclass of 1. with a two-sided market with spread above BV\n",
    "\n",
    "\n",
    "4. UniOneStoch - subclass of 2. that runs stochastically\n",
    "5. UniTwoStoch - subclass of 3. that runs stochastically\n",
    "\n",
    "\n",
    "6. UniOneDet - subclass of 2. that runs deterministically\n",
    "7. UniTwoDet - subclass of 3. that runs deterministically"
   ]
  },
  {
   "cell_type": "markdown",
   "id": "8e49cf90",
   "metadata": {},
   "source": [
    "### UniPool Base Class"
   ]
  },
  {
   "cell_type": "code",
   "execution_count": 18,
   "id": "ca2dc6d3",
   "metadata": {
    "ExecuteTime": {
     "end_time": "2022-12-20T15:56:55.770831Z",
     "start_time": "2022-12-20T15:56:55.717158Z"
    }
   },
   "outputs": [],
   "source": [
    "# Create class with specified initial liquidity & target liquidity\n",
    "\n",
    "class UniPool:\n",
    "    # initial parameters\n",
    "    def __init__(self, open_liq, target_liq):\n",
    "        # start at day 0\n",
    "        self.current_day = 0\n",
    "        \n",
    "        # set wNXM and NXM supply, Capital Pool\n",
    "        self.nxm_supply = system_instance.nxm_supply\n",
    "        self.wnxm_supply = wnxm_supply_now\n",
    "        self.cap_pool = system_instance.cap_pool\n",
    "        \n",
    "        # set initial wNXM price\n",
    "        self.wnxm_price = wnxm_open_price     \n",
    "        # set initial ETH liquidity\n",
    "        self.liquidity_eth = open_liq\n",
    "        # set target liquidity\n",
    "        self.target_liq = target_liq\n",
    "        \n",
    "        # set change in wnxm price per 1 ETH of wnxm bought/sold\n",
    "        self.wnxm_move_size = wnxm_move_size\n",
    "        \n",
    "        # set buy/sell spread above BV. Zero by default and set in two-sided market\n",
    "        self.spread = 0\n",
    "        \n",
    "        # set initial NXM liquidity based on opening wNXM price\n",
    "        # assume that prices have converged after initial period\n",
    "        self.liquidity_nxm = self.liquidity_eth / self.wnxm_price\n",
    "        \n",
    "        # set intial invariant \n",
    "        self.invariant = self.liquidity_eth * self.liquidity_nxm\n",
    "        \n",
    "        # base entries and exits - set stochasically or deterministically in subclasses\n",
    "        self.base_daily_platform_buys = np.zeros(shape=model_days, dtype=int)\n",
    "        self.base_daily_platform_sales = np.zeros(shape=model_days, dtype=int)\n",
    "        \n",
    "        # set cumulative parameters to 0\n",
    "        self.eth_sold = 0\n",
    "        self.eth_acquired = 0\n",
    "        self.nxm_burned = 0\n",
    "        self.nxm_minted = 0\n",
    "        self.wnxm_removed = 0\n",
    "        self.wnxm_created = 0\n",
    "        \n",
    "        # set tracking lists for individual instance\n",
    "        self.cap_pool_prediction = [self.cap_pool]\n",
    "        self.nxm_price_prediction = [self.nxm_price(action='sale')]\n",
    "        self.wnxm_price_prediction = [self.wnxm_price]\n",
    "        self.nxm_supply_prediction = [self.nxm_supply]\n",
    "        self.wnxm_supply_prediction = [self.wnxm_supply]\n",
    "        self.book_value_prediction = [self.book_value()]\n",
    "        self.liquidity_nxm_prediction = [self.liquidity_nxm]\n",
    "        self.liquidity_eth_prediction = [self.liquidity_eth]\n",
    "        self.eth_sold_prediction = [self.eth_sold]\n",
    "        self.eth_acquired_prediction = [self.eth_acquired]\n",
    "        self.nxm_burned_prediction = [self.nxm_burned]\n",
    "        self.nxm_minted_prediction = [self.nxm_minted]\n",
    "        self.wnxm_removed_prediction = [self.wnxm_removed]\n",
    "        self.wnxm_created_prediction = [self.wnxm_created]\n",
    "        \n",
    "        \n",
    "    # system nxm price expressed in ETH\n",
    "    def book_value(self):\n",
    "        if self.nxm_supply == 0:\n",
    "            return 0\n",
    "        return self.cap_pool/self.nxm_supply\n",
    "    \n",
    "    def nxm_price(self, action):\n",
    "        # apply spread to buys    \n",
    "        if action == 'buy':\n",
    "            return self.liquidity_eth / (self.liquidity_nxm * (1 - self.spread))\n",
    "        # otherwise return price without spread\n",
    "        return self.liquidity_eth / self.liquidity_nxm\n",
    "    \n",
    "    def nxm_sale_size(self):\n",
    "        # defined in stoch v det subclasses - can be stochastic or deterministic \n",
    "        return 0\n",
    "        \n",
    "    # one sale of n_nxm NXM\n",
    "    def platform_nxm_sale(self, n_nxm):\n",
    "        # limit number to total NXM\n",
    "        n_nxm = min(n_nxm, self.nxm_supply)\n",
    "        \n",
    "        # add sold NXM to pool\n",
    "        self.liquidity_nxm += n_nxm\n",
    "        self.nxm_supply -= n_nxm\n",
    "        \n",
    "        # establish new value of eth in pool\n",
    "        new_eth = self.invariant / self.liquidity_nxm\n",
    "        delta_eth = self.liquidity_eth - new_eth\n",
    "        \n",
    "        # add ETH removed and nxm burned to cumulative total, update capital pool\n",
    "        self.eth_sold += delta_eth\n",
    "        self.cap_pool -= delta_eth\n",
    "        self.nxm_burned += n_nxm\n",
    "        \n",
    "        # update ETH liquidity & invariant (which will change due to spread)\n",
    "        self.liquidity_eth = new_eth\n",
    "        self.invariant = self.liquidity_eth * self.liquidity_nxm\n",
    "        \n",
    "    # one buy of n_nxm NXM, allowing for spread\n",
    "    def platform_nxm_buy(self, n_nxm):\n",
    "        \n",
    "        # limit number of single buy to 50% of NXM liquidity to avoid silly results\n",
    "        n_nxm = min(n_nxm, 0.5 * self.liquidity_nxm)\n",
    "        \n",
    "        # remove bought NXM from pool (with spread) and add actual mint to supply\n",
    "        self.liquidity_nxm -= n_nxm * (1 + self.spread)\n",
    "        self.nxm_supply += n_nxm\n",
    "\n",
    "        # establish new value of eth in pool\n",
    "        new_eth = self.invariant / self.liquidity_nxm\n",
    "        delta_eth = new_eth - self.liquidity_eth\n",
    "\n",
    "        # add ETH acquired and nxm minted to cumulative total, update capital pool\n",
    "        self.eth_acquired += delta_eth\n",
    "        self.cap_pool += delta_eth\n",
    "        self.nxm_minted += n_nxm\n",
    "\n",
    "        # update ETH liquidity\n",
    "        self.liquidity_eth = new_eth\n",
    "    \n",
    "    def wnxm_market_buy(self, n_wnxm, remove=True):\n",
    "        # limit number of wnxm bought to total supply\n",
    "        n_wnxm = min(n_wnxm, self.wnxm_supply)\n",
    "        \n",
    "        # crude calc for ETH amount (assuming whole buy happens on opening price)\n",
    "        n_eth = n_wnxm * self.wnxm_price\n",
    "        \n",
    "        # increase price depending on defined liquidity parameters\n",
    "        self.wnxm_price += n_eth * self.wnxm_move_size\n",
    "        \n",
    "        # if used for arb, remove from supply\n",
    "        if remove:\n",
    "            self.wnxm_supply -= n_wnxm\n",
    "            self.wnxm_removed += n_wnxm\n",
    "    \n",
    "    def wnxm_market_sell(self, n_wnxm, create=True):\n",
    "        # limit number of wnxm sold to total supply unless new wnxm is created\n",
    "        if not create:\n",
    "            n_wnxm = min(n_wnxm, self.wnxm_supply)\n",
    "        \n",
    "        # crude calc for ETH amount (assuming whole sell happens on opening price)\n",
    "        n_eth = n_wnxm * self.wnxm_price\n",
    "        \n",
    "        # decrease price depending on defined liquidity parameters\n",
    "        self.wnxm_price -= n_eth * self.wnxm_move_size\n",
    "        \n",
    "        # if used for arb, add to supply\n",
    "        if create:\n",
    "            self.wnxm_supply += n_wnxm\n",
    "            self.wnxm_created += n_wnxm\n",
    "    \n",
    "    def arb_sale_transaction(self):\n",
    "        # establish size of nxm sell, limit to number of nxm supply and wnxm supply\n",
    "        num = min(self.nxm_sale_size(), self.wnxm_supply, self.nxm_supply)\n",
    "        # buy from open market\n",
    "        self.wnxm_market_buy(n_wnxm=num, remove=True)\n",
    "        # sell to platform\n",
    "        self.platform_nxm_sale(n_nxm=num)\n",
    "        \n",
    "    def arb_buy_transaction(self):\n",
    "        # establish size of nxm buy, limit to 50% of nxm liquidity in virtual pool to avoid spikes\n",
    "        num = min(self.nxm_sale_size(), self.liquidity_nxm * 0.5)\n",
    "        # buy from platform\n",
    "        self.platform_nxm_buy(n_nxm=num)\n",
    "        # sell to open market\n",
    "        self.wnxm_market_sell(n_wnxm=num, create=True)\n",
    "    \n",
    "    def ratchet_up(self): \n",
    "        # not enabled by default, enabled in one-sided market\n",
    "        pass\n",
    "\n",
    "    def ratchet_down(self): \n",
    "        # not enabled by default, enabled in one-sided market\n",
    "        pass        \n",
    "\n",
    "    def liq_move(self, new_liq):\n",
    "        # solve for required NXM liquidity first from current NXM price\n",
    "        self.liquidity_nxm = new_liq / self.nxm_price(action='sale')\n",
    "        \n",
    "        # update ETH liquidity\n",
    "        self.liquidity_eth = new_liq\n",
    "        \n",
    "        # update invariant\n",
    "        self.invariant = self.liquidity_nxm * self.liquidity_eth\n",
    "        \n",
    "    def new_liq(self, kind):\n",
    "        # defined in one-sided and two-sided markets\n",
    "        pass\n",
    "\n",
    "    def wnxm_shift(self):\n",
    "        # defined in subclasses - can be stochastic or deterministic \n",
    "        self.wnxm_price *= 1\n",
    "        \n",
    "    def arbitrage(self):\n",
    "        # system price > wnxm_price arb\n",
    "        # in one-sided market subclass, disable sells above BV\n",
    "        while self.nxm_price(action='sale') > self.wnxm_price and\\\n",
    "        self.nxm_supply > 0 and self.wnxm_supply > 0:\n",
    "            self.arb_sale_transaction()\n",
    "        # system price < wnxm_price arb\n",
    "        # in one-sided market subclass, disable buys below BV\n",
    "        while self.nxm_price(action='buy') < self.wnxm_price and\\\n",
    "        self.nxm_supply > 0:\n",
    "            self.arb_buy_transaction()\n",
    "\n",
    "    def one_day_passes(self):\n",
    "        # create list of events and shuffle it\n",
    "        events_today = []\n",
    "        events_today.extend(['ratchet'] * ratchets_per_day)\n",
    "        events_today.extend(['liq_move'] * liq_moves_per_day)\n",
    "        events_today.extend(['wnxm_shift'] * wnxm_shifts_per_day)\n",
    "        events_today.extend(['platform_buy'] * self.base_daily_platform_buys[self.current_day])\n",
    "        events_today.extend(['platform_sale'] * self.base_daily_platform_sales[self.current_day])\n",
    "        shuffle(events_today)\n",
    "\n",
    "        # LOOP THROUGH EVENTS OF DAY\n",
    "        for event in events_today:\n",
    "            \n",
    "            #-----WNXM ARBITRAGE-----#\n",
    "            # happens in between all events\n",
    "            self.arbitrage()\n",
    "\n",
    "            #-----RATCHET-----#\n",
    "            if event == 'ratchet':\n",
    "                # up if below BV\n",
    "                if self.book_value() > self.nxm_price(action='sale'):\n",
    "                    self.ratchet_up()\n",
    "                # down if above BV (but ratchet_down method only enabled in one-sided subclass)\n",
    "                if self.book_value() < self.nxm_price(action='sale'):\n",
    "                    self.ratchet_down()\n",
    "\n",
    "            #-----LIQUIDITY MOVE-----#\n",
    "            if event == 'liq_move':\n",
    "                # liquidity down towards target if liquidity above target \n",
    "                if self.liquidity_eth > self.target_liq:\n",
    "                    self.liq_move(new_liq=self.new_liq(kind='down'))\n",
    "                \n",
    "                # liquidity up towards target if liquidity below target\n",
    "                if self.liquidity_eth < self.target_liq:\n",
    "                    self.liq_move(new_liq=self.new_liq(kind='up'))\n",
    "            \n",
    "            #-----WNXM SHIFT-----#\n",
    "            if event == 'wnxm_shift':\n",
    "                self.wnxm_shift()\n",
    "\n",
    "            #-----PLATFORM BUY-----#\n",
    "            # not arbitrage-driven\n",
    "            if event == 'platform_buy':\n",
    "                # doesn't happen if wnxm price is below platform price\n",
    "                # instead a buy happens of wNXM on open market\n",
    "                if self.nxm_price(action='buy') > self.wnxm_price:\n",
    "                    self.wnxm_market_buy(n_wnxm=self.nxm_sale_size(), remove=False)\n",
    "\n",
    "                # otherwise execute the buy (subject to constraints within instance method)\n",
    "                else:\n",
    "                    self.platform_nxm_buy(n_nxm=self.nxm_sale_size())\n",
    "\n",
    "            #-----PLATFORM SALE-----#\n",
    "            # not arbitrage-driven\n",
    "            if event == 'platform_sale':\n",
    "                # doesn't happen if wnxm price is above platform price\n",
    "                # instead a sell happens of wNXM on open market\n",
    "                if self.nxm_price(action='sale') < self.wnxm_price:\n",
    "                    self.wnxm_market_sell(n_wnxm=self.nxm_sale_size(), create=False)\n",
    "\n",
    "                # otherwise execute the sell (subject to constraints within instance method)\n",
    "                else:\n",
    "                    self.platform_nxm_sale(n_nxm=self.nxm_sale_size())\n",
    "        \n",
    "        # append values to tracking metrics\n",
    "        self.cap_pool_prediction.append(self.cap_pool)\n",
    "        self.nxm_price_prediction.append(self.nxm_price(action='sale'))\n",
    "        self.wnxm_price_prediction.append(self.wnxm_price)\n",
    "        self.nxm_supply_prediction.append(self.nxm_supply)\n",
    "        self.wnxm_supply_prediction.append(self.wnxm_supply)\n",
    "        self.book_value_prediction.append(self.book_value())\n",
    "        self.liquidity_nxm_prediction.append(self.liquidity_nxm)\n",
    "        self.liquidity_eth_prediction.append(self.liquidity_eth)\n",
    "        self.eth_sold_prediction.append(self.eth_sold)\n",
    "        self.eth_acquired_prediction.append(self.eth_acquired)\n",
    "        self.nxm_burned_prediction.append(self.nxm_burned)\n",
    "        self.nxm_minted_prediction.append(self.nxm_minted)\n",
    "        self.wnxm_removed_prediction.append(self.wnxm_removed)\n",
    "        self.wnxm_created_prediction.append(self.wnxm_created)\n",
    "        \n",
    "        # increment day\n",
    "        self.current_day += 1"
   ]
  },
  {
   "cell_type": "markdown",
   "id": "85e23b9b",
   "metadata": {},
   "source": [
    "### One-sided + ratchet & Two-sided markets above BV"
   ]
  },
  {
   "cell_type": "code",
   "execution_count": 19,
   "id": "cfbd09eb",
   "metadata": {
    "ExecuteTime": {
     "end_time": "2022-12-20T15:56:57.869899Z",
     "start_time": "2022-12-20T15:56:57.836326Z"
    }
   },
   "outputs": [],
   "source": [
    "class UniOne(UniPool):\n",
    "    # one-sided market above Book Value\n",
    "    def __init__(self, open_liq, target_liq):\n",
    "        \n",
    "        # initialise all the same stuff as UniPool\n",
    "        super().__init__(open_liq, target_liq)\n",
    "\n",
    "    def ratchet_down(self): \n",
    "        # establish price movement required to be relevant percentage of BV\n",
    "        price_movement = self.book_value() * ratchet_bv_perc / ratchets_per_day\n",
    "        \n",
    "        # establish target price and cap at book value\n",
    "        target_price = max(self.nxm_price(action='sale') - price_movement, self.book_value())\n",
    "        \n",
    "        # update NXM liquidity to reflect new price\n",
    "        self.liquidity_nxm = self.liquidity_eth / target_price\n",
    "        \n",
    "        # update invariant\n",
    "        self.invariant = self.liquidity_eth * self.liquidity_nxm\n",
    "\n",
    "    def ratchet_up(self): \n",
    "        # establish price movement required to be relevant percentage of BV\n",
    "        price_movement = self.book_value() * ratchet_bv_perc / ratchets_per_day\n",
    "        \n",
    "        # establish target price and cap at book value\n",
    "        target_price = min(self.nxm_price(action='sale') + price_movement, self.book_value())\n",
    "        \n",
    "        # update NXM liquidity to reflect new price\n",
    "        self.liquidity_nxm = self.liquidity_eth / target_price\n",
    "        \n",
    "        # update invariant\n",
    "        self.invariant = self.liquidity_eth * self.liquidity_nxm        \n",
    "\n",
    "    def platform_nxm_sale(self, n_nxm):\n",
    "        # sells disabled above book, so above book user would sell wNXM on open market instead\n",
    "        if round(self.nxm_price(action='sale'), 4) > round(self.book_value(), 4):\n",
    "            self.wnxm_market_sell(n_wnxm=n_nxm, create=False)\n",
    "        \n",
    "        # otherwise, execute platform sale\n",
    "        else:\n",
    "            super().platform_nxm_sale(n_nxm)        \n",
    "\n",
    "    def platform_nxm_buy(self, n_nxm):\n",
    "        # buys disabled below book, so user would buy wNXM on open market instead and unwrap\n",
    "        if round(self.nxm_price(action='buy'), 4) < round(self.book_value(), 4):\n",
    "            self.wnxm_market_buy(n_wnxm=n_nxm, remove=False)\n",
    "        \n",
    "        # otherwise execute buy from platform\n",
    "        else:\n",
    "            super().platform_nxm_buy(n_nxm)\n",
    "\n",
    "    def new_liq(self, kind):\n",
    "        # move ETH liquidity towards target\n",
    "        \n",
    "        # downward move\n",
    "        if kind == 'down':\n",
    "            # don't move if below book\n",
    "            if self.nxm_price(action='sale') < self.book_value():\n",
    "                return self.liquidity_eth\n",
    "            \n",
    "        # if above book & above target liq, down to target at daily percentage rate (limit at target)\n",
    "        # divided by number of times we're moving liquidity per day \n",
    "            return max(self.liquidity_eth - self.target_liq * liq_move_perc / liq_moves_per_day, self.target_liq)\n",
    "        \n",
    "        # if below target liq, up to target at daily percentage rate (limit at target)\n",
    "        # divided by number of times we're moving liquidity per day        \n",
    "        if kind == 'up':\n",
    "            return min(self.liquidity_eth + self.target_liq * liq_move_perc / liq_moves_per_day, self.target_liq)\n",
    "            \n",
    "    def arbitrage(self):\n",
    "        # in one-sided market subclass, also disable sells above BV and buys below BV\n",
    "        \n",
    "        # system price > wnxm_price arb\n",
    "                # disable sales below book\n",
    "                # platform sale price has to be higher than wnxm price for arbitrage\n",
    "                # nxm supply has to be greater than zero\n",
    "        while  self.nxm_price(action='sale') <= self.book_value() and \\\n",
    "        self.nxm_price(action='sale') > self.wnxm_price and \\\n",
    "        self.nxm_supply > 0 and self.wnxm_supply > 0:\n",
    "            self.arb_sale_transaction()\n",
    "            \n",
    "        # system price < wnxm_price arb\n",
    "                # buys disabled below book\n",
    "                # platform price has to be lower than wnxm price for arbitrage\n",
    "        while self.nxm_price(action='buy') >= self.book_value() and \\\n",
    "        self.nxm_price(action='buy') < self.wnxm_price and \\\n",
    "        self.nxm_supply > 0:\n",
    "            self.arb_buy_transaction()\n",
    "\n",
    "class UniTwo(UniPool):\n",
    "    def __init__(self, open_liq, target_liq):\n",
    "        \n",
    "        # initialise all the same stuff as UniPool\n",
    "        super().__init__(open_liq, target_liq)\n",
    "        \n",
    "        # set spread to be non-zero value\n",
    "        self.spread = spread\n",
    "        \n",
    "    def new_liq(self, kind):\n",
    "        # move ETH liquidity towards target, change 'down' move for two-sided market to switch to target liquidity\n",
    "        \n",
    "        # if above target liq, down to target straight away \n",
    "        if kind == 'down':\n",
    "            return self.target_liq\n",
    "        \n",
    "        # if below target liq, up to target at daily percentage rate (limit at target)\n",
    "        # divided by number of times we're moving liquidity per day        \n",
    "        if kind == 'up':\n",
    "            return min(self.liquidity_eth + self.target_liq * liq_move_perc / liq_moves_per_day, self.target_liq)"
   ]
  },
  {
   "cell_type": "markdown",
   "id": "6c3e99e7",
   "metadata": {},
   "source": [
    "### Stochastic vs Deterministic Classes"
   ]
  },
  {
   "cell_type": "code",
   "execution_count": 20,
   "id": "ba2cd293",
   "metadata": {
    "ExecuteTime": {
     "end_time": "2022-12-20T15:56:59.548581Z",
     "start_time": "2022-12-20T15:56:59.528619Z"
    }
   },
   "outputs": [],
   "source": [
    "# stochastic subclasses\n",
    "\n",
    "class UniOneStoch(UniOne):\n",
    "    def __init__(self, open_liq, target_liq):\n",
    "        \n",
    "        # initialise all the same stuff as UniOne\n",
    "        super().__init__(open_liq, target_liq)\n",
    "        \n",
    "        # base entries and exits using a poisson distribution\n",
    "        self.base_daily_platform_buys = np.random.poisson(\n",
    "                                                lam=lambda_entries,\n",
    "                                                size=model_days)\n",
    "        self.base_daily_platform_sales = np.random.poisson(\n",
    "                                                lam=lambda_exits,\n",
    "                                                size=model_days)\n",
    "    \n",
    "    def nxm_sale_size(self):\n",
    "        # lognormal distribution of nxm sales\n",
    "        return lognorm.rvs(s=exit_shape, loc=exit_loc, scale=exit_scale) / self.nxm_price(action='sale')\n",
    "    \n",
    "    def wnxm_shift(self):\n",
    "        # set percentage changes in wnxm price using a normal distribution\n",
    "        self.wnxm_price *= (1 + np.random.normal(loc=wnxm_drift, scale=wnxm_diffusion))\n",
    "        \n",
    "class UniTwoStoch(UniTwo):\n",
    "    def __init__(self, open_liq, target_liq):\n",
    "        \n",
    "        # initialise all the same stuff as UniTwo\n",
    "        super().__init__(open_liq, target_liq)\n",
    "        \n",
    "        # base entries and exits using a poisson distribution\n",
    "        self.base_daily_platform_buys = np.random.poisson(\n",
    "                                                lam=lambda_entries,\n",
    "                                                size=model_days)\n",
    "        self.base_daily_platform_sales = np.random.poisson(\n",
    "                                                lam=lambda_exits,\n",
    "                                                size=model_days)\n",
    "    \n",
    "    def nxm_sale_size(self):\n",
    "        # lognormal distribution of nxm sales\n",
    "        return lognorm.rvs(s=exit_shape, loc=exit_loc, scale=exit_scale) / self.nxm_price(action='sale')\n",
    "    \n",
    "    def wnxm_shift(self):\n",
    "        # set percentage changes in wnxm price using a normal distribution\n",
    "        self.wnxm_price *= (1 + np.random.normal(loc=wnxm_drift, scale=wnxm_diffusion))"
   ]
  },
  {
   "cell_type": "code",
   "execution_count": 21,
   "id": "a162e753",
   "metadata": {
    "ExecuteTime": {
     "end_time": "2022-12-20T15:56:59.923918Z",
     "start_time": "2022-12-20T15:56:59.916393Z"
    }
   },
   "outputs": [],
   "source": [
    "# deterministic subclasses\n",
    "\n",
    "class UniOneDet(UniOne):\n",
    "    def __init__(self, open_liq, target_liq):\n",
    "        \n",
    "        # initialise all the same stuff as UniOne\n",
    "        super().__init__(open_liq, target_liq)\n",
    "        \n",
    "        # base entries and exits fixed per day\n",
    "        self.base_daily_platform_buys = np.full(shape=model_days, fill_value=lambda_entries, dtype=int)\n",
    "        self.base_daily_platform_sales = np.full(shape=model_days, fill_value=lambda_exits, dtype=int)\n",
    "    \n",
    "    def nxm_sale_size(self):\n",
    "        # standard deterministic size of nxm sales\n",
    "        return det_sell_size / self.nxm_price(action='sale')\n",
    "    \n",
    "    def wnxm_shift(self):\n",
    "        # no random changes in wnxm price\n",
    "        self.wnxm_price *= 1\n",
    "        \n",
    "class UniTwoDet(UniTwo):\n",
    "    def __init__(self, open_liq, target_liq):\n",
    "        \n",
    "        # initialise all the same stuff as UniTwo\n",
    "        super().__init__(open_liq, target_liq)\n",
    "        \n",
    "        # standard deterministic size of nxm sales\n",
    "        self.base_daily_platform_buys = np.full(shape=model_days, fill_value=lambda_entries, dtype=int)\n",
    "        self.base_daily_platform_sales = np.full(shape=model_days, fill_value=lambda_exits, dtype=int)\n",
    "    \n",
    "    def nxm_sale_size(self):\n",
    "        # standard deterministic size of nxm sales\n",
    "        return det_sell_size / self.nxm_price(action='sale')\n",
    "    \n",
    "    def wnxm_shift(self):\n",
    "        # no random changes in wnxm price\n",
    "        self.wnxm_price *= 1"
   ]
  },
  {
   "cell_type": "markdown",
   "id": "933e67a5",
   "metadata": {},
   "source": [
    "## Runs"
   ]
  },
  {
   "cell_type": "markdown",
   "id": "3766179a",
   "metadata": {},
   "source": [
    "### Set up Single Simulation"
   ]
  },
  {
   "cell_type": "code",
   "execution_count": 27,
   "id": "2e43c83d",
   "metadata": {
    "ExecuteTime": {
     "end_time": "2022-12-20T15:59:12.626578Z",
     "start_time": "2022-12-20T15:58:59.204652Z"
    }
   },
   "outputs": [
    {
     "name": "stderr",
     "output_type": "stream",
     "text": [
      "100%|█████████████████████████████████████████████████████████████████████████████████| 730/730 [00:13<00:00, 54.49it/s]\n"
     ]
    }
   ],
   "source": [
    "# model days\n",
    "model_days = 730\n",
    "\n",
    "# opening liquidity\n",
    "open_liq = 25_000\n",
    "#target liquidity\n",
    "target_liq = 2500\n",
    "\n",
    "# ratchet speed\n",
    "ratchet_bv_perc = 0.04\n",
    "# number of ratchets per day\n",
    "ratchets_per_day = 10\n",
    "\n",
    "# amount of USD it takes to make a 2% change in NXM price\n",
    "wnxm_move_size = wnxm_movement_per_eth(two_perc_liq_usd=500_000)\n",
    "# opening wnxm price\n",
    "wnxm_open_price = sys_params.wnxm_price_now\n",
    "\n",
    "# number of entries & exits per day\n",
    "lambda_entries = 110\n",
    "lambda_exits = 100\n",
    "\n",
    "# lognormal dist of size of entries and exits\n",
    "entry_shape = 1.7\n",
    "entry_loc = 0\n",
    "entry_scale = 1\n",
    "exit_shape = 1.7\n",
    "exit_loc = 0\n",
    "exit_scale = 1\n",
    "\n",
    "# deterministic entry & exit size\n",
    "det_sell_size = 4.3\n",
    "\n",
    "sim = UniOneStoch(open_liq=open_liq, target_liq=target_liq)\n",
    "days_run = 0\n",
    "\n",
    "for i in tqdm(range(model_days)):\n",
    "    try:\n",
    "        sim.one_day_passes()\n",
    "        days_run += 1\n",
    "    except ZeroDivisionError:\n",
    "        print('Something went to Zero!')\n",
    "        break"
   ]
  },
  {
   "cell_type": "code",
   "execution_count": 28,
   "id": "a6c6e405",
   "metadata": {
    "ExecuteTime": {
     "end_time": "2022-12-20T15:59:13.549091Z",
     "start_time": "2022-12-20T15:59:12.630910Z"
    },
    "scrolled": true
   },
   "outputs": [
    {
     "data": {
      "image/png": "[encoded data removed]",
      "text/plain": [
       "<Figure size 1080x1296 with 6 Axes>"
      ]
     },
     "metadata": {
      "needs_background": "light"
     },
     "output_type": "display_data"
    }
   ],
   "source": [
    "#-----GRAPHS-----#\n",
    "# Destructuring initialization\n",
    "fig, axs = plt.subplots(3, 2, figsize=(15,18)) # axs is a (7,2) nd-array\n",
    "\n",
    "# Subplot\n",
    "axs[0, 0].plot(range(days_run+1), sim.nxm_price_prediction, label='nxm_price')\n",
    "axs[0, 0].plot(range(days_run+1), sim.wnxm_price_prediction, label='wnxm_price')\n",
    "axs[0, 0].plot(range(days_run+1), sim.book_value_prediction, label='book_value')\n",
    "axs[0, 0].legend()\n",
    "axs[0, 0].set_title('token_prices_in_ETH')\n",
    "# Subplot\n",
    "axs[0, 1].plot(range(days_run+1), sim.cap_pool_prediction)\n",
    "axs[0, 1].set_title('cap_pool')\n",
    "# Subplot\n",
    "axs[1, 0].plot(range(days_run+1), sim.nxm_supply_prediction)\n",
    "axs[1, 0].set_title('nxm_supply')\n",
    "# Subplot\n",
    "axs[1, 1].plot(range(days_run+1), sim.wnxm_supply_prediction)\n",
    "axs[1, 1].set_title('wnxm_supply')\n",
    "# Subplot\n",
    "axs[2, 0].plot(range(days_run+1), sim.liquidity_nxm_prediction)\n",
    "axs[2, 0].set_title('liquidity_nxm')\n",
    "# Subplot\n",
    "axs[2, 1].plot(range(days_run+1), sim.liquidity_eth_prediction)\n",
    "axs[2, 1].plot(range(days_run+1), np.full(shape=days_run+1, fill_value=target_liq))\n",
    "axs[2, 1].set_title('liquidity_eth')\n",
    "# # Subplot\n",
    "# axs[4, 0].plot(range(days_run+1), sim.nxm_burned_prediction)\n",
    "# axs[4, 0].set_title('nxm_burned')\n",
    "# # Subplot\n",
    "# axs[4, 1].plot(range(days_run+1), sim.nxm_minted_prediction)\n",
    "# axs[4, 1].set_title('nxm_minted')\n",
    "# # Subplot\n",
    "# axs[5, 0].plot(range(days_run+1), sim.eth_sold_prediction)\n",
    "# axs[5, 0].set_title('eth_sold')\n",
    "# # Subplot\n",
    "# axs[5, 1].plot(range(days_run+1), sim.eth_acquired_prediction)\n",
    "# axs[5, 1].set_title('eth_acquired')\n",
    "# # Subplot\n",
    "# axs[6, 0].plot(range(days_run+1), sim.wnxm_removed_prediction)\n",
    "# axs[6, 0].set_title('wnxm_removed')\n",
    "# # Subplot\n",
    "# axs[6, 1].plot(range(days_run+1), sim.wnxm_created_prediction)\n",
    "# axs[6, 1].set_title('wnxm_created')\n",
    "\n",
    "fig.suptitle('One-sided Stochastic Model - 1 ratio of buys/sales', fontsize=16)\n",
    "fig.tight_layout()\n",
    "fig.subplots_adjust(top=0.95)\n",
    "plt.show()"
   ]
  },
  {
   "cell_type": "code",
   "execution_count": 24,
   "id": "c45cb578",
   "metadata": {
    "ExecuteTime": {
     "end_time": "2022-12-20T15:57:17.384436Z",
     "start_time": "2022-12-20T15:57:17.369314Z"
    }
   },
   "outputs": [
    {
     "name": "stdout",
     "output_type": "stream",
     "text": [
      "Closing state:\n",
      "nxm_price: 0.009841646965915083\n",
      "wnxm_price: 0.009908482776772315\n",
      "book_value: 0.0406495357375655\n",
      "cap_pool: 79592.14594002528\n",
      "nxm_supply: 1958008.732347506\n",
      "wnxm_supply: 0.0\n",
      "liquidity_eth: 1342.7591880696336\n",
      "liquidity_nxm: 136436.43108923314\n",
      "\n"
     ]
    }
   ],
   "source": [
    "print(f'''Closing state:\n",
    "nxm_price: {sim.nxm_price(action='sale')}\n",
    "wnxm_price: {sim.wnxm_price}\n",
    "book_value: {sim.book_value()}\n",
    "cap_pool: {sim.cap_pool}\n",
    "nxm_supply: {sim.nxm_supply}\n",
    "wnxm_supply: {sim.wnxm_supply}\n",
    "liquidity_eth: {sim.liquidity_eth}\n",
    "liquidity_nxm: {sim.liquidity_nxm}\n",
    "''')"
   ]
  },
  {
   "cell_type": "markdown",
   "id": "f2b676c3",
   "metadata": {},
   "source": [
    "### Multi-sim set-ups"
   ]
  },
  {
   "cell_type": "markdown",
   "id": "b03f2158",
   "metadata": {},
   "source": [
    "#### Global Parameters"
   ]
  },
  {
   "cell_type": "code",
   "execution_count": null,
   "id": "a9004dc2",
   "metadata": {
    "ExecuteTime": {
     "end_time": "2022-12-02T10:34:09.812005Z",
     "start_time": "2022-12-02T10:34:09.802200Z"
    }
   },
   "outputs": [],
   "source": [
    "# model days\n",
    "model_days = 730\n",
    "\n",
    "# amount of USD it takes to make a 2% change in NXM price\n",
    "wnxm_move_size = wnxm_movement_per_eth(two_perc_liq_usd=500_000)\n",
    "# opening wnxm price\n",
    "wnxm_open_price = sys_params.wnxm_price_now\n",
    "\n",
    "# number of entries & exits per day\n",
    "lambda_entries = 110\n",
    "lambda_exits = 100\n",
    "\n",
    "# lognormal dist of size of entries and exits\n",
    "entry_shape = 1.7\n",
    "entry_loc = 0\n",
    "entry_scale = 1\n",
    "exit_shape = 1.7\n",
    "exit_loc = 0\n",
    "exit_scale = 1\n",
    "\n",
    "# deterministic entry & exit size\n",
    "det_sell_size = 4.3"
   ]
  },
  {
   "cell_type": "markdown",
   "id": "b0898927",
   "metadata": {},
   "source": [
    "#### Two-sided Stochastic Model"
   ]
  },
  {
   "cell_type": "code",
   "execution_count": 29,
   "id": "84c11536",
   "metadata": {
    "ExecuteTime": {
     "end_time": "2022-12-20T16:24:37.241970Z",
     "start_time": "2022-12-20T16:11:23.409422Z"
    }
   },
   "outputs": [
    {
     "name": "stderr",
     "output_type": "stream",
     "text": [
      "100%|█████████████████████████████████████████████████████████████████████████████████| 100/100 [13:13<00:00,  7.94s/it]\n"
     ]
    }
   ],
   "source": [
    "# opening liquidity\n",
    "open_liq = 2500\n",
    "#target liquidity\n",
    "target_liq = 2500\n",
    "\n",
    "# number of simulations & initialise list of instances\n",
    "num_sims = 100\n",
    "sims = [UniTwoStoch(open_liq=open_liq, target_liq=target_liq) for x in range(num_sims)]\n",
    "\n",
    "# loop through individual instances and number of days for each simulation\n",
    "for sim in tqdm(sims):\n",
    "    for i in range(model_days):\n",
    "        sim.one_day_passes()\n",
    "        \n",
    " #-----RESULT VISUALISATION-----#\n",
    "# Final outcome arrays\n",
    "final_cap_pool_list = [sim.cap_pool_prediction[-1] for sim in sims]\n",
    "final_book_value_list = [sim.book_value_prediction[-1] for sim in sims]\n",
    "final_nxm_price_list = [sim.nxm_price_prediction[-1] for sim in sims]\n",
    "final_wnxm_price_list = [sim.wnxm_price_prediction[-1] for sim in sims]\n",
    "final_nxm_supply_list = [sim.nxm_supply_prediction[-1] for sim in sims]\n",
    "final_wnxm_supply_list = [sim.wnxm_supply_prediction[-1] for sim in sims]\n",
    "final_liquidity_nxm_list = [sim.liquidity_nxm_prediction[-1] for sim in sims]\n",
    "final_liquidity_eth_list = [sim.liquidity_eth_prediction[-1] for sim in sims]\n",
    "final_eth_sold_list = [sim.eth_sold_prediction[-1] for sim in sims]\n",
    "final_eth_acquired_list = [sim.eth_acquired_prediction[-1] for sim in sims]\n",
    "final_nxm_burned_list = [sim.nxm_burned_prediction[-1] for sim in sims]\n",
    "final_nxm_minted_list = [sim.nxm_minted_prediction[-1] for sim in sims]\n",
    "final_wnxm_removed_list = [sim.wnxm_removed_prediction[-1] for sim in sims]\n",
    "final_wnxm_created_list = [sim.wnxm_created_prediction[-1] for sim in sims]"
   ]
  },
  {
   "cell_type": "code",
   "execution_count": 30,
   "id": "a55b3b8f",
   "metadata": {
    "ExecuteTime": {
     "end_time": "2022-12-20T16:24:38.533233Z",
     "start_time": "2022-12-20T16:24:37.246993Z"
    }
   },
   "outputs": [
    {
     "data": {
      "image/png": "[encoded data removed]",
      "text/plain": [
       "<Figure size 1080x1296 with 8 Axes>"
      ]
     },
     "metadata": {
      "needs_background": "light"
     },
     "output_type": "display_data"
    }
   ],
   "source": [
    "#-----HISTOGRAMS-----#\n",
    "# Destructuring initialization\n",
    "fig, axs = plt.subplots(4, 2, figsize=(15,18)) # axs is a (7,2) nd-array\n",
    "\n",
    "# Subplot\n",
    "axs[0, 0].hist(final_cap_pool_list, bins=20)\n",
    "axs[0, 0].set_title('cap_pool')\n",
    "# Subplot\n",
    "axs[0, 1].hist(final_book_value_list, bins=20)\n",
    "axs[0, 1].set_title('book_value')\n",
    "# Subplot\n",
    "axs[1, 0].hist(final_nxm_price_list, bins=20)\n",
    "axs[1, 0].set_title('nxm_price')\n",
    "# Subplot\n",
    "axs[1, 1].hist(final_wnxm_price_list, bins=20)\n",
    "axs[1, 1].set_title('wnxm_price')\n",
    "# Subplot\n",
    "axs[2, 0].hist(final_nxm_supply_list, bins=20)\n",
    "axs[2, 0].set_title('nxm_supply')\n",
    "# Subplot\n",
    "axs[2, 1].hist(final_wnxm_supply_list, bins=20)\n",
    "axs[2, 1].set_title('wnxm_supply')\n",
    "# Subplot\n",
    "axs[3, 0].hist(final_liquidity_nxm_list, bins=20)\n",
    "axs[3, 0].set_title('liquidity_nxm')\n",
    "# Subplot\n",
    "axs[3, 1].hist(final_liquidity_eth_list, bins=20)\n",
    "axs[3, 1].set_title('liquidity_eth')\n",
    "# # Subplot\n",
    "# axs[4, 0].hist(final_eth_sold_list, bins=20)\n",
    "# axs[4, 0].set_title('eth_sold')\n",
    "# # Subplot\n",
    "# axs[4, 1].hist(final_eth_acquired_list, bins=20)\n",
    "# axs[4, 1].set_title('eth_acquired')\n",
    "# # Subplot\n",
    "# axs[5, 0].hist(final_nxm_burned_list, bins=20)\n",
    "# axs[5, 0].set_title('nxm_burned')\n",
    "# # Subplot\n",
    "# axs[5, 1].hist(final_nxm_minted_list, bins=20)\n",
    "# axs[5, 1].set_title('nxm_minted')\n",
    "# # Subplot\n",
    "# axs[6, 0].hist(final_wnxm_removed_list, bins=20)\n",
    "# axs[6, 0].set_title('wnxm_removed')\n",
    "# # Subplot\n",
    "# axs[6, 1].hist(final_wnxm_created_list, bins=20)\n",
    "# axs[6, 1].set_title('wnxm_created')\n",
    "\n",
    "fig.suptitle('Two-sided Stochastic Model - 1-1 buys/sales', fontsize=16)\n",
    "fig.tight_layout()\n",
    "fig.subplots_adjust(top=0.95)\n",
    "plt.show()"
   ]
  },
  {
   "cell_type": "markdown",
   "id": "6c2dd314",
   "metadata": {},
   "source": [
    "#### One-sided Stochastic Model"
   ]
  },
  {
   "cell_type": "code",
   "execution_count": 31,
   "id": "8076cf95",
   "metadata": {
    "ExecuteTime": {
     "end_time": "2022-12-20T16:44:11.646444Z",
     "start_time": "2022-12-20T16:24:38.538205Z"
    }
   },
   "outputs": [
    {
     "name": "stderr",
     "output_type": "stream",
     "text": [
      "100%|█████████████████████████████████████████████████████████████████████████████████| 100/100 [19:33<00:00, 11.73s/it]\n"
     ]
    }
   ],
   "source": [
    "# opening liquidity\n",
    "open_liq = 25_000\n",
    "#target liquidity\n",
    "target_liq = 2500\n",
    "\n",
    "# ratchet speed\n",
    "ratchet_bv_perc = 0.04\n",
    "# number of ratchets per day\n",
    "ratchets_per_day = 10\n",
    "\n",
    "# number of simulations & initialise list of instances\n",
    "num_sims = 100\n",
    "sims = [UniOneStoch(open_liq=open_liq, target_liq=target_liq) for x in range(num_sims)]\n",
    "\n",
    "# loop through individual instances and number of days for each simulation\n",
    "for sim in tqdm(sims):\n",
    "    for i in range(model_days):\n",
    "        sim.one_day_passes()\n",
    "        \n",
    " #-----RESULT VISUALISATION-----#\n",
    "# Final outcome arrays\n",
    "final_cap_pool_list = [sim.cap_pool_prediction[-1] for sim in sims]\n",
    "final_book_value_list = [sim.book_value_prediction[-1] for sim in sims]\n",
    "final_nxm_price_list = [sim.nxm_price_prediction[-1] for sim in sims]\n",
    "final_wnxm_price_list = [sim.wnxm_price_prediction[-1] for sim in sims]\n",
    "final_nxm_supply_list = [sim.nxm_supply_prediction[-1] for sim in sims]\n",
    "final_wnxm_supply_list = [sim.wnxm_supply_prediction[-1] for sim in sims]\n",
    "final_liquidity_nxm_list = [sim.liquidity_nxm_prediction[-1] for sim in sims]\n",
    "final_liquidity_eth_list = [sim.liquidity_eth_prediction[-1] for sim in sims]\n",
    "final_eth_sold_list = [sim.eth_sold_prediction[-1] for sim in sims]\n",
    "final_eth_acquired_list = [sim.eth_acquired_prediction[-1] for sim in sims]\n",
    "final_nxm_burned_list = [sim.nxm_burned_prediction[-1] for sim in sims]\n",
    "final_nxm_minted_list = [sim.nxm_minted_prediction[-1] for sim in sims]\n",
    "final_wnxm_removed_list = [sim.wnxm_removed_prediction[-1] for sim in sims]\n",
    "final_wnxm_created_list = [sim.wnxm_created_prediction[-1] for sim in sims]"
   ]
  },
  {
   "cell_type": "code",
   "execution_count": 32,
   "id": "e8d8e3e2",
   "metadata": {
    "ExecuteTime": {
     "end_time": "2022-12-20T16:44:13.265675Z",
     "start_time": "2022-12-20T16:44:11.651772Z"
    }
   },
   "outputs": [
    {
     "data": {
      "image/png": "[encoded data removed]",
      "text/plain": [
       "<Figure size 1080x1296 with 8 Axes>"
      ]
     },
     "metadata": {
      "needs_background": "light"
     },
     "output_type": "display_data"
    }
   ],
   "source": [
    "#-----HISTOGRAMS-----#\n",
    "# Destructuring initialization\n",
    "fig, axs = plt.subplots(4, 2, figsize=(15,18)) # axs is a (7,2) nd-array\n",
    "\n",
    "# Subplot\n",
    "axs[0, 0].hist(final_cap_pool_list, bins=20)\n",
    "axs[0, 0].set_title('cap_pool')\n",
    "# Subplot\n",
    "axs[0, 1].hist(final_book_value_list, bins=20)\n",
    "axs[0, 1].set_title('book_value')\n",
    "# Subplot\n",
    "axs[1, 0].hist(final_nxm_price_list, bins=20)\n",
    "axs[1, 0].set_title('nxm_price')\n",
    "# Subplot\n",
    "axs[1, 1].hist(final_wnxm_price_list, bins=20)\n",
    "axs[1, 1].set_title('wnxm_price')\n",
    "# Subplot\n",
    "axs[2, 0].hist(final_nxm_supply_list, bins=20)\n",
    "axs[2, 0].set_title('nxm_supply')\n",
    "# Subplot\n",
    "axs[2, 1].hist(final_wnxm_supply_list, bins=20)\n",
    "axs[2, 1].set_title('wnxm_supply')\n",
    "# Subplot\n",
    "axs[3, 0].hist(final_liquidity_nxm_list, bins=20)\n",
    "axs[3, 0].set_title('liquidity_nxm')\n",
    "# Subplot\n",
    "axs[3, 1].hist(final_liquidity_eth_list, bins=20)\n",
    "axs[3, 1].set_title('liquidity_eth')\n",
    "# # Subplot\n",
    "# axs[4, 0].hist(final_eth_sold_list, bins=20)\n",
    "# axs[4, 0].set_title('eth_sold')\n",
    "# # Subplot\n",
    "# axs[4, 1].hist(final_eth_acquired_list, bins=20)\n",
    "# axs[4, 1].set_title('eth_acquired')\n",
    "# # Subplot\n",
    "# axs[5, 0].hist(final_nxm_burned_list, bins=20)\n",
    "# axs[5, 0].set_title('nxm_burned')\n",
    "# # Subplot\n",
    "# axs[5, 1].hist(final_nxm_minted_list, bins=20)\n",
    "# axs[5, 1].set_title('nxm_minted')\n",
    "# # Subplot\n",
    "# axs[6, 0].hist(final_wnxm_removed_list, bins=20)\n",
    "# axs[6, 0].set_title('wnxm_removed')\n",
    "# # Subplot\n",
    "# axs[6, 1].hist(final_wnxm_created_list, bins=20)\n",
    "# axs[6, 1].set_title('wnxm_created')\n",
    "\n",
    "fig.suptitle('One-sided Stochastic Model - 1.1 buys/sales', fontsize=16)\n",
    "fig.tight_layout()\n",
    "fig.subplots_adjust(top=0.95)\n",
    "plt.show()"
   ]
  },
  {
   "cell_type": "code",
   "execution_count": null,
   "id": "e8e47b90",
   "metadata": {
    "ExecuteTime": {
     "end_time": "2022-11-23T10:35:03.952788Z",
     "start_time": "2022-11-23T10:35:03.944969Z"
    }
   },
   "outputs": [],
   "source": [
    "final_cap_pool_list.index(min(final_cap_pool_list))"
   ]
  },
  {
   "cell_type": "code",
   "execution_count": null,
   "id": "be39ce88",
   "metadata": {
    "ExecuteTime": {
     "end_time": "2022-11-23T10:35:26.035269Z",
     "start_time": "2022-11-23T10:35:24.533416Z"
    }
   },
   "outputs": [],
   "source": [
    "#-----GRAPHS-----#\n",
    "# Destructuring initialization\n",
    "fig, axs = plt.subplots(7, 2, figsize=(15,27)) # axs is a (7,2) nd-array\n",
    "\n",
    "# Subplot\n",
    "axs[0, 0].plot(range(days_run+1), sims[45].nxm_price_prediction)\n",
    "axs[0, 0].set_title('nxm_price')\n",
    "# Subplot\n",
    "axs[0, 1].plot(range(days_run+1), sims[45].wnxm_price_prediction)\n",
    "axs[0, 1].set_title('wnxm_price')\n",
    "# Subplot\n",
    "axs[1, 0].plot(range(days_run+1), sims[45].nxm_supply_prediction)\n",
    "axs[1, 0].set_title('nxm_supply')\n",
    "# Subplot\n",
    "axs[1, 1].plot(range(days_run+1), sims[45].wnxm_supply_prediction)\n",
    "axs[1, 1].set_title('wnxm_supply')\n",
    "# Subplot\n",
    "axs[2, 0].plot(range(days_run+1), sims[45].book_value_prediction)\n",
    "axs[2, 0].set_title('book_value')\n",
    "# Subplot\n",
    "axs[2, 1].plot(range(days_run+1), sims[45].cap_pool_prediction)\n",
    "axs[2, 1].set_title('cap_pool')\n",
    "# Subplot\n",
    "axs[3, 0].plot(range(days_run+1), sims[45].liquidity_nxm_prediction)\n",
    "axs[3, 0].set_title('liquidity_nxm')\n",
    "# Subplot\n",
    "axs[3, 1].plot(range(days_run+1), sims[45].liquidity_eth_prediction)\n",
    "axs[3, 1].plot(range(days_run+1), np.full(shape=days_run+1, fill_value=target_liq))\n",
    "axs[3, 1].set_title('liquidity_eth')\n",
    "# Subplot\n",
    "axs[4, 0].plot(range(days_run+1), sims[45].nxm_burned_prediction)\n",
    "axs[4, 0].set_title('nxm_burned')\n",
    "# Subplot\n",
    "axs[4, 1].plot(range(days_run+1), sims[45].nxm_minted_prediction)\n",
    "axs[4, 1].set_title('nxm_minted')\n",
    "# Subplot\n",
    "axs[5, 0].plot(range(days_run+1), sims[45].eth_sold_prediction)\n",
    "axs[5, 0].set_title('eth_sold')\n",
    "# Subplot\n",
    "axs[5, 1].plot(range(days_run+1), sims[45].eth_acquired_prediction)\n",
    "axs[5, 1].set_title('eth_acquired')\n",
    "# Subplot\n",
    "axs[6, 0].plot(range(days_run+1), sims[45].wnxm_removed_prediction)\n",
    "axs[6, 0].set_title('wnxm_removed')\n",
    "# Subplot\n",
    "axs[6, 1].plot(range(days_run+1), sims[45].wnxm_created_prediction)\n",
    "axs[6, 1].set_title('wnxm_created')\n",
    "\n",
    "plt.show()"
   ]
  },
  {
   "cell_type": "code",
   "execution_count": null,
   "id": "1a772674",
   "metadata": {
    "ExecuteTime": {
     "end_time": "2022-11-23T10:45:55.792754Z",
     "start_time": "2022-11-23T10:45:55.783265Z"
    }
   },
   "outputs": [],
   "source": [
    "sims[45].invariant"
   ]
  },
  {
   "cell_type": "markdown",
   "id": "9cd0dd1f",
   "metadata": {
    "heading_collapsed": true
   },
   "source": [
    "#### Two-sided Deterministic Model"
   ]
  },
  {
   "cell_type": "code",
   "execution_count": null,
   "id": "c43733fe",
   "metadata": {
    "ExecuteTime": {
     "end_time": "2022-11-21T17:38:28.004762Z",
     "start_time": "2022-11-21T17:37:47.842021Z"
    },
    "hidden": true
   },
   "outputs": [],
   "source": [
    "# model days\n",
    "model_days = 730\n",
    "\n",
    "# opening liquidity\n",
    "open_liq = 25_000\n",
    "#target liquidity\n",
    "target_liq = 2500\n",
    "\n",
    "# amount of USD it takes to make a 2% change in NXM price\n",
    "wnxm_move_size = wnxm_movement_per_eth(two_perc_liq_usd=500_000)\n",
    "# opening wnxm price\n",
    "wnxm_open_price = sys_params.wnxm_price_now\n",
    "\n",
    "# number of entries & exits per day\n",
    "lambda_entries = 110\n",
    "lambda_exits = 100\n",
    "\n",
    "# lognormal dist of size of entries and exits\n",
    "entry_shape = 1.7\n",
    "entry_loc = 0\n",
    "entry_scale = 1\n",
    "exit_shape = 1.7\n",
    "exit_loc = 0\n",
    "exit_scale = 1\n",
    "\n",
    "# deterministic entry & exit size\n",
    "det_sell_size = 7.5\n",
    "\n",
    "# number of simulations & initialise list of instances\n",
    "num_sims = 100\n",
    "sims = [UniTwoDet(open_liq=open_liq, target_liq=target_liq) for x in range(num_sims)]\n",
    "\n",
    "# loop through individual instances and number of days for each simulation\n",
    "for sim in tqdm(sims):\n",
    "    for i in range(model_days):\n",
    "        sim.one_day_passes()\n",
    "        \n",
    " #-----RESULT VISUALISATION-----#\n",
    "# Final outcome arrays\n",
    "final_cap_pool_list = [sim.cap_pool_prediction[-1] for sim in sims]\n",
    "final_book_value_list = [sim.book_value_prediction[-1] for sim in sims]\n",
    "final_nxm_price_list = [sim.nxm_price_prediction[-1] for sim in sims]\n",
    "final_wnxm_price_list = [sim.wnxm_price_prediction[-1] for sim in sims]\n",
    "final_nxm_supply_list = [sim.nxm_supply_prediction[-1] for sim in sims]\n",
    "final_wnxm_supply_list = [sim.wnxm_supply_prediction[-1] for sim in sims]\n",
    "final_liquidity_nxm_list = [sim.liquidity_nxm_prediction[-1] for sim in sims]\n",
    "final_liquidity_eth_list = [sim.liquidity_eth_prediction[-1] for sim in sims]\n",
    "final_eth_sold_list = [sim.eth_sold_prediction[-1] for sim in sims]\n",
    "final_eth_acquired_list = [sim.eth_acquired_prediction[-1] for sim in sims]\n",
    "final_nxm_burned_list = [sim.nxm_burned_prediction[-1] for sim in sims]\n",
    "final_nxm_minted_list = [sim.nxm_minted_prediction[-1] for sim in sims]\n",
    "final_wnxm_removed_list = [sim.wnxm_removed_prediction[-1] for sim in sims]\n",
    "final_wnxm_created_list = [sim.wnxm_created_prediction[-1] for sim in sims]\n",
    "\n",
    "#-----HISTOGRAMS-----#\n",
    "# Destructuring initialization\n",
    "fig, axs = plt.subplots(7, 2, figsize=(15,27)) # axs is a (7,2) nd-array\n",
    "\n",
    "# Subplot\n",
    "axs[0, 0].hist(final_cap_pool_list, bins=20)\n",
    "axs[0, 0].set_title('cap_pool')\n",
    "# Subplot\n",
    "axs[0, 1].hist(final_book_value_list, bins=20)\n",
    "axs[0, 1].set_title('book_value')\n",
    "# Subplot\n",
    "axs[1, 0].hist(final_nxm_price_list, bins=20)\n",
    "axs[1, 0].set_title('nxm_price')\n",
    "# Subplot\n",
    "axs[1, 1].hist(final_wnxm_price_list, bins=20)\n",
    "axs[1, 1].set_title('wnxm_price')\n",
    "# Subplot\n",
    "axs[2, 0].hist(final_nxm_supply_list, bins=20)\n",
    "axs[2, 0].set_title('nxm_supply')\n",
    "# Subplot\n",
    "axs[2, 1].hist(final_wnxm_supply_list, bins=20)\n",
    "axs[2, 1].set_title('wnxm_supply')\n",
    "# Subplot\n",
    "axs[3, 0].hist(final_liquidity_nxm_list, bins=20)\n",
    "axs[3, 0].set_title('liquidity_nxm')\n",
    "# Subplot\n",
    "axs[3, 1].hist(final_liquidity_eth_list, bins=20)\n",
    "axs[3, 1].set_title('liquidity_eth')\n",
    "# Subplot\n",
    "axs[4, 0].hist(final_eth_sold_list, bins=20)\n",
    "axs[4, 0].set_title('eth_sold')\n",
    "# Subplot\n",
    "axs[4, 1].hist(final_eth_acquired_list, bins=20)\n",
    "axs[4, 1].set_title('eth_acquired')\n",
    "# Subplot\n",
    "axs[5, 0].hist(final_nxm_burned_list, bins=20)\n",
    "axs[5, 0].set_title('nxm_burned')\n",
    "# Subplot\n",
    "axs[5, 1].hist(final_nxm_minted_list, bins=20)\n",
    "axs[5, 1].set_title('nxm_minted')\n",
    "# Subplot\n",
    "axs[6, 0].hist(final_wnxm_removed_list, bins=20)\n",
    "axs[6, 0].set_title('wnxm_removed')\n",
    "# Subplot\n",
    "axs[6, 1].hist(final_wnxm_created_list, bins=20)\n",
    "axs[6, 1].set_title('wnxm_created')\n",
    "\n",
    "plt.show()"
   ]
  },
  {
   "cell_type": "markdown",
   "id": "1677392b",
   "metadata": {},
   "source": [
    "#### One-sided Deterministic Model"
   ]
  },
  {
   "cell_type": "code",
   "execution_count": null,
   "id": "dfb7e2aa",
   "metadata": {
    "ExecuteTime": {
     "end_time": "2022-11-21T17:39:35.359452Z",
     "start_time": "2022-11-21T17:38:28.008475Z"
    }
   },
   "outputs": [],
   "source": [
    "# model days\n",
    "model_days = 730\n",
    "\n",
    "# opening liquidity\n",
    "open_liq = 25_000\n",
    "#target liquidity\n",
    "target_liq = 2500\n",
    "\n",
    "# amount of USD it takes to make a 2% change in NXM price\n",
    "wnxm_move_size = wnxm_movement_per_eth(two_perc_liq_usd=500_000)\n",
    "# opening wnxm price\n",
    "wnxm_open_price = sys_params.wnxm_price_now\n",
    "\n",
    "# number of entries & exits per day\n",
    "lambda_entries = 110\n",
    "lambda_exits = 100\n",
    "\n",
    "# lognormal dist of size of entries and exits\n",
    "entry_shape = 1.7\n",
    "entry_loc = 0\n",
    "entry_scale = 1\n",
    "exit_shape = 1.7\n",
    "exit_loc = 0\n",
    "exit_scale = 1\n",
    "\n",
    "# deterministic entry & exit size\n",
    "det_sell_size = 7.5\n",
    "\n",
    "# number of simulations & initialise list of instances\n",
    "num_sims = 100\n",
    "sims = [UniOneDet(open_liq=open_liq, target_liq=target_liq) for x in range(num_sims)]\n",
    "\n",
    "# loop through individual instances and number of days for each simulation\n",
    "for sim in tqdm(sims):\n",
    "    for i in range(model_days):\n",
    "        sim.one_day_passes()\n",
    "        \n",
    " #-----RESULT VISUALISATION-----#\n",
    "# Final outcome arrays\n",
    "final_cap_pool_list = [sim.cap_pool_prediction[-1] for sim in sims]\n",
    "final_book_value_list = [sim.book_value_prediction[-1] for sim in sims]\n",
    "final_nxm_price_list = [sim.nxm_price_prediction[-1] for sim in sims]\n",
    "final_wnxm_price_list = [sim.wnxm_price_prediction[-1] for sim in sims]\n",
    "final_nxm_supply_list = [sim.nxm_supply_prediction[-1] for sim in sims]\n",
    "final_wnxm_supply_list = [sim.wnxm_supply_prediction[-1] for sim in sims]\n",
    "final_liquidity_nxm_list = [sim.liquidity_nxm_prediction[-1] for sim in sims]\n",
    "final_liquidity_eth_list = [sim.liquidity_eth_prediction[-1] for sim in sims]\n",
    "final_eth_sold_list = [sim.eth_sold_prediction[-1] for sim in sims]\n",
    "final_eth_acquired_list = [sim.eth_acquired_prediction[-1] for sim in sims]\n",
    "final_nxm_burned_list = [sim.nxm_burned_prediction[-1] for sim in sims]\n",
    "final_nxm_minted_list = [sim.nxm_minted_prediction[-1] for sim in sims]\n",
    "final_wnxm_removed_list = [sim.wnxm_removed_prediction[-1] for sim in sims]\n",
    "final_wnxm_created_list = [sim.wnxm_created_prediction[-1] for sim in sims]\n",
    "\n",
    "#-----HISTOGRAMS-----#\n",
    "# Destructuring initialization\n",
    "fig, axs = plt.subplots(7, 2, figsize=(15,27)) # axs is a (7,2) nd-array\n",
    "\n",
    "# Subplot\n",
    "axs[0, 0].hist(final_cap_pool_list, bins=20)\n",
    "axs[0, 0].set_title('cap_pool')\n",
    "# Subplot\n",
    "axs[0, 1].hist(final_book_value_list, bins=20)\n",
    "axs[0, 1].set_title('book_value')\n",
    "# Subplot\n",
    "axs[1, 0].hist(final_nxm_price_list, bins=20)\n",
    "axs[1, 0].set_title('nxm_price')\n",
    "# Subplot\n",
    "axs[1, 1].hist(final_wnxm_price_list, bins=20)\n",
    "axs[1, 1].set_title('wnxm_price')\n",
    "# Subplot\n",
    "axs[2, 0].hist(final_nxm_supply_list, bins=20)\n",
    "axs[2, 0].set_title('nxm_supply')\n",
    "# Subplot\n",
    "axs[2, 1].hist(final_wnxm_supply_list, bins=20)\n",
    "axs[2, 1].set_title('wnxm_supply')\n",
    "# Subplot\n",
    "axs[3, 0].hist(final_liquidity_nxm_list, bins=20)\n",
    "axs[3, 0].set_title('liquidity_nxm')\n",
    "# Subplot\n",
    "axs[3, 1].hist(final_liquidity_eth_list, bins=20)\n",
    "axs[3, 1].set_title('liquidity_eth')\n",
    "# Subplot\n",
    "axs[4, 0].hist(final_eth_sold_list, bins=20)\n",
    "axs[4, 0].set_title('eth_sold')\n",
    "# Subplot\n",
    "axs[4, 1].hist(final_eth_acquired_list, bins=20)\n",
    "axs[4, 1].set_title('eth_acquired')\n",
    "# Subplot\n",
    "axs[5, 0].hist(final_nxm_burned_list, bins=20)\n",
    "axs[5, 0].set_title('nxm_burned')\n",
    "# Subplot\n",
    "axs[5, 1].hist(final_nxm_minted_list, bins=20)\n",
    "axs[5, 1].set_title('nxm_minted')\n",
    "# Subplot\n",
    "axs[6, 0].hist(final_wnxm_removed_list, bins=20)\n",
    "axs[6, 0].set_title('wnxm_removed')\n",
    "# Subplot\n",
    "axs[6, 1].hist(final_wnxm_created_list, bins=20)\n",
    "axs[6, 1].set_title('wnxm_created')\n",
    "\n",
    "plt.show()"
   ]
  },
  {
   "cell_type": "markdown",
   "id": "1716fef4",
   "metadata": {},
   "source": [
    "### Testing Ratchet Speed and Liquidity for different drain speeds"
   ]
  },
  {
   "cell_type": "markdown",
   "id": "c8dc9f91",
   "metadata": {},
   "source": [
    "This section aims to investigate how quickly we can the capital pool drains in worst-case scenarios depending on different parameter rates."
   ]
  },
  {
   "cell_type": "markdown",
   "id": "8a4dbbf9",
   "metadata": {
    "ExecuteTime": {
     "end_time": "2022-12-16T16:44:58.633267Z",
     "start_time": "2022-12-16T16:44:58.624475Z"
    }
   },
   "source": [
    "Parameters that can be investigated:\n",
    "- sell pressure vs buy pressure\n",
    "- drops in wNXM value\n",
    "- ratchet speed up\n",
    "- liquidity provision speed\n",
    "- liquidity target\n",
    "- initial liquidity provision"
   ]
  },
  {
   "cell_type": "markdown",
   "id": "7b02e37c",
   "metadata": {},
   "source": [
    "#### Sell Pressure levels"
   ]
  },
  {
   "cell_type": "code",
   "execution_count": null,
   "id": "16ebcddf",
   "metadata": {
    "ExecuteTime": {
     "end_time": "2022-12-20T11:43:03.886298Z",
     "start_time": "2022-12-20T11:40:27.748970Z"
    }
   },
   "outputs": [],
   "source": [
    "# model days\n",
    "model_days = 730\n",
    "\n",
    "# opening liquidity\n",
    "open_liq = 25_000\n",
    "#target liquidity\n",
    "target_liq = 2500\n",
    "\n",
    "# amount of USD it takes to make a 2% change in NXM price\n",
    "wnxm_move_size = wnxm_movement_per_eth(two_perc_liq_usd=500_000)\n",
    "# opening wnxm price - SET TO BOOK VALUE TO MAXIMISE DRAIN\n",
    "wnxm_open_price = system_instance.book_value()\n",
    "\n",
    "# number of entries & exits per day\n",
    "lambda_entries = 100\n",
    "# EXITS TO BE TESTED\n",
    "\n",
    "# lognormal dist of size of entries and exits\n",
    "entry_shape = 1.7\n",
    "entry_loc = 0\n",
    "entry_scale = 1\n",
    "exit_shape = 1.7\n",
    "exit_loc = 0\n",
    "exit_scale = 1\n",
    "\n",
    "# deterministic entry & exit size\n",
    "det_sell_size = 4.3\n",
    "\n",
    "# range of variables to test\n",
    "lambda_exits_range = [100, 110, 120, 140, 160, 180, 200]\n",
    "\n",
    "# create sims and names\n",
    "sims = []\n",
    "\n",
    "for i in lambda_exits_range:\n",
    "    lambda_exits = i\n",
    "    sims.append(UniOneStoch(open_liq=open_liq, target_liq=target_liq))\n",
    "    \n",
    "for sim in sims:\n",
    "    days_run = 0\n",
    "    for i in tqdm(range(model_days)):\n",
    "        try:\n",
    "            sim.one_day_passes()\n",
    "            days_run += 1\n",
    "        except ZeroDivisionError:\n",
    "            print('Something went to Zero!')\n",
    "            break"
   ]
  },
  {
   "cell_type": "code",
   "execution_count": null,
   "id": "8b674bb8",
   "metadata": {
    "ExecuteTime": {
     "end_time": "2022-12-20T11:44:02.605351Z",
     "start_time": "2022-12-20T11:44:01.065331Z"
    }
   },
   "outputs": [],
   "source": [
    "#-----GRAPHS-----#\n",
    "# Destructuring initialization\n",
    "fig, axs = plt.subplots(4, 2, figsize=(15,18)) # axs is a (6,2) nd-array\n",
    "# Subplot\n",
    "for i in range(len(sims)):\n",
    "    axs[0, 0].plot(range(days_run+1), sims[i].nxm_price_prediction, label=f'Sell pressure = {lambda_exits_range[i]*100/lambda_entries}% of buy pressure')\n",
    "axs[0, 0].set_title('nxm_price')\n",
    "axs[0, 0].legend()\n",
    "# Subplot\n",
    "for i in range(len(sims)):\n",
    "    axs[0, 1].plot(range(days_run+1), sims[i].wnxm_price_prediction, label=f'Sell pressure = {lambda_exits_range[i]*100/lambda_entries}% of buy pressure')\n",
    "axs[0, 1].set_title('wnxm_price')\n",
    "axs[0, 1].legend()\n",
    "# Subplot\n",
    "for i in range(len(sims)):\n",
    "    axs[1, 0].plot(range(days_run+1), sims[i].nxm_supply_prediction, label=f'Sell pressure = {lambda_exits_range[i]*100/lambda_entries}% of buy pressure')\n",
    "axs[1, 0].set_title('nxm_supply')\n",
    "axs[1, 0].legend()\n",
    "# Subplot\n",
    "for i in range(len(sims)):\n",
    "    axs[1, 1].plot(range(days_run+1), sims[i].wnxm_supply_prediction, label=f'Sell pressure = {lambda_exits_range[i]*100/lambda_entries}% of buy pressure')\n",
    "axs[1, 1].set_title('wnxm_supply')\n",
    "axs[1, 1].legend()\n",
    "# Subplot\n",
    "for i in range(len(sims)):\n",
    "    axs[2, 0].plot(range(days_run+1), sims[i].book_value_prediction, label=f'Sell pressure = {lambda_exits_range[i]*100/lambda_entries}% of buy pressure')\n",
    "axs[2, 0].set_title('book_value')\n",
    "axs[2, 0].legend()\n",
    "# Subplot\n",
    "for i in range(len(sims)):\n",
    "    axs[2, 1].plot(range(days_run+1), sims[i].cap_pool_prediction, label=f'Sell pressure = {lambda_exits_range[i]*100/lambda_entries}% of buy pressure')\n",
    "axs[2, 1].set_title('cap_pool')\n",
    "axs[2, 1].legend()\n",
    "# Subplot\n",
    "for i in range(len(sims)):\n",
    "    axs[3, 0].plot(range(days_run+1), sims[i].liquidity_nxm_prediction, label=f'Sell pressure = {lambda_exits_range[i]*100/lambda_entries}% of buy pressure')\n",
    "axs[3, 0].set_title('liquidity_nxm')\n",
    "axs[3, 0].legend()\n",
    "# Subplot\n",
    "for i in range(len(sims)):\n",
    "    axs[3, 1].plot(range(days_run+1), sims[i].liquidity_eth_prediction, label=f'Sell pressure = {lambda_exits_range[i]*100/lambda_entries}% of buy pressure')\n",
    "axs[3, 1].set_title('liquidity_eth')\n",
    "axs[3, 1].legend()\n",
    "# Subplot\n",
    "# for i in range(len(sims)):\n",
    "#     axs[4, 0].plot(range(days_run+1), sims[i].nxm_burned_prediction, label=f'Sell pressure = {lambda_exits_range[i]*100/lambda_entries}% of buy pressure')\n",
    "# axs[4, 0].set_title('nxm_burned')\n",
    "# axs[4, 0].legend()\n",
    "# # Subplot\n",
    "# for i in range(len(sims)):\n",
    "#     axs[4, 1].plot(range(days_run+1), sims[i].nxm_minted_prediction, label=f'Sell pressure = {lambda_exits_range[i]*100/lambda_entries}% of buy pressure')\n",
    "# axs[4, 1].set_title('nxm_minted')\n",
    "# axs[4, 1].legend()\n",
    "# # Subplot\n",
    "# for i in range(len(sims)):\n",
    "#     axs[5, 0].plot(range(days_run+1), sims[i].eth_sold_prediction, label=f'Sells = {lambda_exits_range[i]*100/lambda_entries}% of buys')\n",
    "# axs[5, 0].set_title('eth_sold')\n",
    "# axs[5, 0].legend()\n",
    "# # Subplot\n",
    "# for i in range(len(sims)):\n",
    "#     axs[5, 1].plot(range(days_run+1), sims[i].eth_acquired_prediction, label=f'Sell pressure = {lambda_exits_range[i]*100/lambda_entries}% of buy pressure')\n",
    "# axs[5, 1].set_title('eth_acquired')\n",
    "# axs[5, 1].legend()\n",
    "# # Subplot\n",
    "# for i in range(len(sims)):\n",
    "#     axs[6, 0].plot(range(days_run+1), sims[i].wnxm_removed_prediction, label=f'Sell pressure = {lambda_exits_range[i]*100/lambda_entries}% of buy pressure')\n",
    "# axs[6, 0].set_title('wnxm_removed')\n",
    "# axs[6, 0].legend()\n",
    "# # Subplot\n",
    "# for i in range(len(sims)):\n",
    "#     axs[6, 1].plot(range(days_run+1), sims[i].wnxm_created_prediction, label=f'Sell pressure = {lambda_exits_range[i]*100/lambda_entries}% of buy pressure')\n",
    "# axs[6, 1].set_title('wnxm_created')\n",
    "# axs[6, 1].legend()\n",
    "\n",
    "fig.suptitle('One-sided Stochastic Model - Sales ranges', fontsize=16)\n",
    "fig.tight_layout()\n",
    "fig.subplots_adjust(top=0.95)\n",
    "plt.show()"
   ]
  },
  {
   "cell_type": "markdown",
   "id": "294486c8",
   "metadata": {},
   "source": [
    "### wNXM liquidity in markets - WIP"
   ]
  },
  {
   "cell_type": "markdown",
   "id": "320b4c6a",
   "metadata": {},
   "source": [
    "We test a range of available wNXM liquidity in markets. At current prices, according to coingecko, a 2% shift occurs approximately at $250k sold/bought. Likely that more market sellers will be available at higher prices, so most alternative liquidity parameter tests are explored upwards."
   ]
  },
  {
   "cell_type": "code",
   "execution_count": null,
   "id": "999cfd55",
   "metadata": {
    "ExecuteTime": {
     "end_time": "2022-11-21T17:04:43.698891Z",
     "start_time": "2022-11-21T17:04:42.485405Z"
    }
   },
   "outputs": [],
   "source": [
    "#--------FIXED VARIABLES----------#\n",
    "# model days\n",
    "model_days = 730\n",
    "\n",
    "# opening liquidity\n",
    "open_liq = 25_000\n",
    "#target liquidity\n",
    "target_liq = 2500\n",
    "\n",
    "# opening wnxm price\n",
    "wnxm_open_price = sys_params.wnxm_price_now\n",
    "\n",
    "# number of entries & exits per day\n",
    "lambda_entries = 110\n",
    "lambda_exits = 100\n",
    "\n",
    "# lognormal dist of size of entries and exits\n",
    "entry_shape = 1.7\n",
    "entry_loc = 0\n",
    "entry_scale = 1\n",
    "exit_shape = 1.7\n",
    "exit_loc = 0\n",
    "exit_scale = 1\n",
    "\n",
    "# deterministic entry & exit size\n",
    "det_sell_size = 4.2\n",
    "\n",
    "#--------TESTING VARIABLES----------#\n",
    "# models to be tested\n",
    "models = {'One-sided model': UniOneDet(open_liq=open_liq, target_liq=target_liq),\n",
    "          'Two-sided model': UniTwoDet(open_liq=open_liq, target_liq=target_liq)}\n",
    "# amount of USD it takes to make a 2% change in NXM price\n",
    "wnxm_liq_range_usd = [100_000, 250_000, 500_000, 1_000_000, 2_000_000]\n",
    "\n",
    "\n",
    "#--------SIMULATION & LABEL LIST SET-UP---------#\n",
    "sims = []\n",
    "labels = []\n",
    "# loop through model name strings & models themselves\n",
    "for k, v in models.items():\n",
    "    # loop through variable values to be tested\n",
    "    for liq in wnxm_liq_range_usd:\n",
    "        # establish value to instantiate class with\n",
    "        wnxm_move_size = wnxm_movement_per_eth(liq)\n",
    "        # append class to sims list\n",
    "        sims.append(v)\n",
    "        # add name to labels\n",
    "        labels.append(f'{k} & 2% wNXM liquidity = {liq}')\n",
    "\n",
    "#--------RUNNING SIMULATIONS---------#\n",
    "days_run = 0\n",
    "for sim in sims:\n",
    "    for i in range(model_days):\n",
    "        try:\n",
    "            sim.one_day_passes()\n",
    "            days_run += 1\n",
    "        except ZeroDivisionError:\n",
    "            print('Something went to Zero!')\n",
    "            break  \n",
    "\n",
    "#-----GRAPHS-----#\n",
    "# Destructuring initialization\n",
    "fig, axs = plt.subplots(7, 2, figsize=(15,27)) # axs is a (6,2) nd-array\n",
    "# Subplot\n",
    "for i in range(len(sims)):\n",
    "    axs[0, 0].plot(range(days_run+1), sims[i].nxm_price_prediction, label=label_list[i])\n",
    "axs[0, 0].set_title('nxm_price')\n",
    "axs[0, 0].legend()\n",
    "# Subplot\n",
    "for i in range(len(sims)):\n",
    "    axs[0, 1].plot(range(days_run+1), sims[i].wnxm_price_prediction, label=label_list[i])\n",
    "axs[0, 1].set_title('wnxm_price')\n",
    "axs[0, 1].legend()\n",
    "# Subplot\n",
    "for i in range(len(sims)):\n",
    "    axs[1, 0].plot(range(days_run+1), sims[i].nxm_supply_prediction, label=label_list[i])\n",
    "axs[1, 0].set_title('nxm_supply')\n",
    "axs[1, 0].legend()\n",
    "# Subplot\n",
    "for i in range(len(sims)):\n",
    "    axs[1, 1].plot(range(days_run+1), sims[i].wnxm_supply_prediction, label=label_list[i])\n",
    "axs[1, 1].set_title('wnxm_supply')\n",
    "axs[1, 1].legend()\n",
    "# Subplot\n",
    "for i in range(len(sims)):\n",
    "    axs[2, 0].plot(range(days_run+1), sims[i].book_value_prediction, label=label_list[i])\n",
    "axs[2, 0].set_title('book_value')\n",
    "axs[2, 0].legend()\n",
    "# Subplot\n",
    "for i in range(len(sims)):\n",
    "    axs[2, 1].plot(range(days_run+1), sims[i].cap_pool_prediction, label=label_list[i])\n",
    "axs[2, 1].set_title('cap_pool')\n",
    "axs[2, 1].legend()\n",
    "# Subplot\n",
    "for i in range(len(sims)):\n",
    "    axs[3, 0].plot(range(days_run+1), sims[i].liquidity_nxm_prediction, label=label_list[i])\n",
    "axs[3, 0].set_title('liquidity_nxm')\n",
    "axs[3, 0].legend()\n",
    "# Subplot\n",
    "for i in range(len(sims)):\n",
    "    axs[3, 1].plot(range(days_run+1), sims[i].liquidity_eth_prediction, label=label_list[i])\n",
    "axs[3, 1].set_title('liquidity_eth')\n",
    "axs[3, 1].legend()\n",
    "# Subplot\n",
    "for i in range(len(sims)):\n",
    "    axs[4, 0].plot(range(days_run+1), sims[i].nxm_burned_prediction, label=label_list[i])\n",
    "axs[4, 0].set_title('nxm_burned')\n",
    "axs[4, 0].legend()\n",
    "# Subplot\n",
    "for i in range(len(sims)):\n",
    "    axs[4, 1].plot(range(days_run+1), sims[i].nxm_minted_prediction, label=label_list[i])\n",
    "axs[4, 1].set_title('nxm_minted')\n",
    "axs[4, 1].legend()\n",
    "# Subplot\n",
    "for i in range(len(sims)):\n",
    "    axs[5, 0].plot(range(days_run+1), sims[i].eth_sold_prediction, label=label_list[i])\n",
    "axs[5, 0].set_title('eth_sold')\n",
    "axs[5, 0].legend()\n",
    "# Subplot\n",
    "for i in range(len(sims)):\n",
    "    axs[5, 1].plot(range(days_run+1), sims[i].eth_acquired_prediction, label=label_list[i])\n",
    "axs[5, 1].set_title('eth_acquired')\n",
    "axs[5, 1].legend()\n",
    "# Subplot\n",
    "for i in range(len(sims)):\n",
    "    axs[6, 0].plot(range(days_run+1), sims[i].wnxm_removed_prediction, label=label_list[i])\n",
    "axs[6, 0].set_title('wnxm_removed')\n",
    "axs[6, 0].legend()\n",
    "# Subplot\n",
    "for i in range(len(sims)):\n",
    "    axs[6, 1].plot(range(days_run+1), sims[i].wnxm_created_prediction, label=label_list[i])\n",
    "axs[6, 1].set_title('wnxm_created')\n",
    "axs[6, 1].legend()\n",
    "\n",
    "plt.show()"
   ]
  },
  {
   "cell_type": "markdown",
   "id": "69b0c91e",
   "metadata": {},
   "source": [
    "Again, outcome depends on wNXM price fluctuation."
   ]
  },
  {
   "cell_type": "markdown",
   "id": "3a988fba",
   "metadata": {},
   "source": [
    "**Use for other range tests:** 500k USD shifts the wNXM price by _current wNXM price in ETH * 0.02_"
   ]
  },
  {
   "cell_type": "markdown",
   "id": "0320259a",
   "metadata": {},
   "source": [
    "### Change in initial ETH supply"
   ]
  },
  {
   "cell_type": "markdown",
   "id": "17e21758",
   "metadata": {},
   "source": [
    "Test whether there is much impact in terms of changing the initial supply of ETH that is provided to the liquidity pool."
   ]
  },
  {
   "cell_type": "code",
   "execution_count": null,
   "id": "a458a755",
   "metadata": {
    "ExecuteTime": {
     "end_time": "2022-10-11T16:07:53.690570Z",
     "start_time": "2022-10-11T16:07:51.352236Z"
    }
   },
   "outputs": [],
   "source": [
    "# model days\n",
    "model_days = 360\n",
    "\n",
    "# opening liquidity\n",
    "# liquidity_eth = 4_000\n",
    "\n",
    "# amount of USD it takes to make a 2% change in NXM price\n",
    "wnxm_move_size = wnxm_movement_per_eth(two_perc_liq_usd=500_000)\n",
    "# opening NXM price\n",
    "wnxm_price = sys_params.wnxm_price_now\n",
    "\n",
    "# number of entries & exits per day\n",
    "lambda_entries = 10\n",
    "lambda_exits = 10\n",
    "\n",
    "# lognormal dist of size of entries and exits\n",
    "entry_shape = 2\n",
    "entry_loc = 0\n",
    "entry_scale = 1\n",
    "exit_shape = 2\n",
    "exit_loc = 0\n",
    "exit_scale = 1\n",
    "\n",
    "# deterministic entry & exit size\n",
    "det_sell_size = 15\n",
    "\n",
    "# opening liquidity options\n",
    "open_liq_range = [2_000, 4_000, 7_000, 10_000, 20_000, 30_000]\n",
    "\n",
    "sims = [UniPoolDet(liquidity_eth=liq, wnxm_move_size=wnxm_move_size, wnxm_price=wnxm_price)\n",
    "        for liq in open_liq_range]\n",
    "\n",
    "for sim in sims:\n",
    "    for i in range(model_days):\n",
    "        try:\n",
    "            sim.one_day_passes()\n",
    "            days_run += 1\n",
    "        except ZeroDivisionError:\n",
    "            print('Something went to Zero!')\n",
    "            break\n",
    "\n",
    "# for i in range(len(sims)):\n",
    "#     plt.plot(range(model_days+1), sims[i].nxm_price_prediction, label=f'{open_liq_range[i]*100}% free cap to Uni pool')\n",
    "# plt.title('nxm_price')\n",
    "# plt.legend(); \n",
    "        \n",
    "#-----GRAPHS-----#\n",
    "# Destructuring initialization\n",
    "fig, axs = plt.subplots(7, 2, figsize=(15,27)) # axs is a (6,2) nd-array\n",
    "# Subplot\n",
    "for i in range(len(sims)):\n",
    "    axs[0, 0].plot(range(model_days+1), sims[i].nxm_price_prediction, label=f'{open_liq_range[i]} ETH Opening Liq & Limit')\n",
    "axs[0, 0].set_title('nxm_price')\n",
    "axs[0, 0].legend()\n",
    "# Subplot\n",
    "for i in range(len(sims)):\n",
    "    axs[0, 1].plot(range(model_days+1), sims[i].wnxm_price_prediction, label=f'{open_liq_range[i]} ETH Opening Liq & Limit')\n",
    "axs[0, 1].set_title('wnxm_price')\n",
    "axs[0, 1].legend()\n",
    "# Subplot\n",
    "for i in range(len(sims)):\n",
    "    axs[1, 0].plot(range(model_days+1), sims[i].nxm_supply_prediction, label=f'{open_liq_range[i]} ETH Opening Liq & Limit')\n",
    "axs[1, 0].set_title('nxm_supply')\n",
    "axs[1, 0].legend()\n",
    "# Subplot\n",
    "for i in range(len(sims)):\n",
    "    axs[1, 1].plot(range(model_days+1), sims[i].wnxm_supply_prediction, label=f'{open_liq_range[i]} ETH Opening Liq & Limit')\n",
    "axs[1, 1].set_title('wnxm_supply')\n",
    "axs[1, 1].legend()\n",
    "# Subplot\n",
    "for i in range(len(sims)):\n",
    "    axs[2, 0].plot(range(model_days+1), sims[i].book_value_prediction, label=f'{open_liq_range[i]} ETH Opening Liq & Limit')\n",
    "axs[2, 0].set_title('book_value')\n",
    "axs[2, 0].legend()\n",
    "# Subplot\n",
    "for i in range(len(sims)):\n",
    "    axs[2, 1].plot(range(model_days+1), sims[i].cap_pool_prediction, label=f'{open_liq_range[i]} ETH Opening Liq & Limit')\n",
    "axs[2, 1].set_title('cap_pool')\n",
    "axs[2, 1].legend()\n",
    "# Subplot\n",
    "for i in range(len(sims)):\n",
    "    axs[3, 0].plot(range(model_days+1), sims[i].liquidity_nxm_prediction, label=f'{open_liq_range[i]} ETH Opening Liq & Limit')\n",
    "axs[3, 0].set_title('liquidity_nxm')\n",
    "axs[3, 0].legend()\n",
    "# Subplot\n",
    "for i in range(len(sims)):\n",
    "    axs[3, 1].plot(range(model_days+1), sims[i].liquidity_eth_prediction, label=f'{open_liq_range[i]} ETH Opening Liq & Limit')\n",
    "axs[3, 1].set_title('liquidity_eth')\n",
    "axs[3, 1].legend()\n",
    "# Subplot\n",
    "for i in range(len(sims)):\n",
    "    axs[4, 0].plot(range(model_days+1), sims[i].nxm_burned_prediction, label=f'{open_liq_range[i]} ETH Opening Liq & Limit')\n",
    "axs[4, 0].set_title('nxm_burned')\n",
    "axs[4, 0].legend()\n",
    "# Subplot\n",
    "for i in range(len(sims)):\n",
    "    axs[4, 1].plot(range(model_days+1), sims[i].nxm_minted_prediction, label=f'{open_liq_range[i]} ETH Opening Liq & Limit')\n",
    "axs[4, 1].set_title('nxm_minted')\n",
    "axs[4, 1].legend()\n",
    "# Subplot\n",
    "for i in range(len(sims)):\n",
    "    axs[5, 0].plot(range(model_days+1), sims[i].eth_sold_prediction, label=f'{open_liq_range[i]} ETH Opening Liq & Limit')\n",
    "axs[5, 0].set_title('eth_sold')\n",
    "axs[5, 0].legend()\n",
    "# Subplot\n",
    "for i in range(len(sims)):\n",
    "    axs[5, 1].plot(range(model_days+1), sims[i].eth_acquired_prediction, label=f'{open_liq_range[i]} ETH Opening Liq & Limit')\n",
    "axs[5, 1].set_title('eth_acquired')\n",
    "axs[5, 1].legend()\n",
    "# Subplot\n",
    "for i in range(len(sims)):\n",
    "    axs[6, 0].plot(range(model_days+1), sims[i].wnxm_removed_prediction, label=f'{open_liq_range[i]} ETH Opening Liq & Limit')\n",
    "axs[6, 0].set_title('wnxm_removed')\n",
    "axs[6, 0].legend()\n",
    "# Subplot\n",
    "for i in range(len(sims)):\n",
    "    axs[6, 1].plot(range(model_days+1), sims[i].wnxm_created_prediction, label=f'{open_liq_range[i]} ETH Opening Liq & Limit')\n",
    "axs[6, 1].set_title('wnxm_created')\n",
    "axs[6, 1].legend()\n",
    "\n",
    "plt.show()"
   ]
  },
  {
   "cell_type": "code",
   "execution_count": null,
   "id": "cfef4e7e",
   "metadata": {},
   "outputs": [],
   "source": []
  }
 ],
 "metadata": {
  "kernelspec": {
   "display_name": "Python 3 (ipykernel)",
   "language": "python",
   "name": "python3"
  },
  "language_info": {
   "codemirror_mode": {
    "name": "ipython",
    "version": 3
   },
   "file_extension": ".py",
   "mimetype": "text/x-python",
   "name": "python",
   "nbconvert_exporter": "python",
   "pygments_lexer": "ipython3",
   "version": "3.8.12"
  },
  "toc": {
   "base_numbering": 1,
   "nav_menu": {},
   "number_sections": true,
   "sideBar": true,
   "skip_h1_title": false,
   "title_cell": "Table of Contents",
   "title_sidebar": "Contents",
   "toc_cell": false,
   "toc_position": {},
   "toc_section_display": true,
   "toc_window_display": false
  }
 },
 "nbformat": 4,
 "nbformat_minor": 5
}
