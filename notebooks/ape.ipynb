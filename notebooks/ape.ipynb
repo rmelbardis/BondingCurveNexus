{
 "cells": [
  {
   "cell_type": "code",
   "execution_count": 1,
   "id": "66b35e2f-e7d5-438e-b479-dc5b0f64cb1e",
   "metadata": {},
   "outputs": [],
   "source": [
    "%load_ext autoreload\n",
    "%autoreload 2"
   ]
  },
  {
   "cell_type": "code",
   "execution_count": 2,
   "id": "f00e994c-e806-4de4-b27f-8aaf85f9bb1d",
   "metadata": {},
   "outputs": [],
   "source": [
    "import ape\n"
   ]
  },
  {
   "cell_type": "code",
   "execution_count": 3,
   "id": "76376511-14b7-4006-b470-81fd1ccb90d0",
   "metadata": {},
   "outputs": [
    {
     "name": "stdout",
     "output_type": "stream",
     "text": [
      "/opt/conda/bin:/usr/local/sbin:/usr/local/bin:/usr/sbin:/usr/bin:/sbin:/bin\n"
     ]
    }
   ],
   "source": [
    "!echo $PATH"
   ]
  },
  {
   "cell_type": "code",
   "execution_count": 4,
   "id": "e5272c0e-eb9d-43c8-9937-79e3f98348d2",
   "metadata": {},
   "outputs": [],
   "source": [
    "!which forge"
   ]
  },
  {
   "cell_type": "code",
   "execution_count": null,
   "id": "978e85c2-1ef2-4513-9bc8-886361a2802e",
   "metadata": {},
   "outputs": [],
   "source": []
  }
 ],
 "metadata": {
  "kernelspec": {
   "display_name": "Python 3 (ipykernel)",
   "language": "python",
   "name": "python3"
  },
  "language_info": {
   "codemirror_mode": {
    "name": "ipython",
    "version": 3
   },
   "file_extension": ".py",
   "mimetype": "text/x-python",
   "name": "python",
   "nbconvert_exporter": "python",
   "pygments_lexer": "ipython3",
   "version": "3.11.4"
  }
 },
 "nbformat": 4,
 "nbformat_minor": 5
}
