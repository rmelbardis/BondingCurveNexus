{
 "cells": [
  {
   "cell_type": "code",
   "execution_count": 1,
   "id": "ea027cd5",
   "metadata": {
    "ExecuteTime": {
     "end_time": "2022-10-07T09:52:57.123974Z",
     "start_time": "2022-10-07T09:52:54.840288Z"
    }
   },
   "outputs": [],
   "source": [
    "# Imports (numpy, pandas, matplotlib, seaborn imported automatically)\n",
    "import requests\n",
    "from etherscan import Etherscan\n",
    "from BondingCurveNexus import config, sys_params\n",
    "from BondingCurveNexus.param_functions import open_liq, wnxm_movement_per_eth\n",
    "from BondingCurveNexus.sys_class import NexusSystem\n",
    "from scipy.stats import lognorm\n",
    "from tqdm import tqdm\n",
    "from random import shuffle"
   ]
  },
  {
   "cell_type": "code",
   "execution_count": 2,
   "id": "f9d7512b",
   "metadata": {
    "ExecuteTime": {
     "end_time": "2022-10-07T09:52:58.692212Z",
     "start_time": "2022-10-07T09:52:58.121079Z"
    },
    "scrolled": true
   },
   "outputs": [
    {
     "data": {
      "text/plain": [
       "1356.82"
      ]
     },
     "execution_count": 2,
     "metadata": {},
     "output_type": "execute_result"
    }
   ],
   "source": [
    "# activate etherscan client\n",
    "eth_client = Etherscan(config.etherscan_api)\n",
    "eth_price_usd = float(eth_client.get_eth_last_price()['ethusd'])\n",
    "eth_price_usd"
   ]
  },
  {
   "cell_type": "code",
   "execution_count": 3,
   "id": "b1dc01ba",
   "metadata": {
    "ExecuteTime": {
     "end_time": "2022-10-07T09:53:00.045597Z",
     "start_time": "2022-10-07T09:52:59.793470Z"
    }
   },
   "outputs": [
    {
     "data": {
      "text/plain": [
       "2933622.68391656"
      ]
     },
     "execution_count": 3,
     "metadata": {},
     "output_type": "execute_result"
    }
   ],
   "source": [
    "supply_url = 'https://api.coingecko.com/api/v3/coins/wrapped-nxm'\n",
    "wnxm_supply_now = requests.get(supply_url).json()['market_data']['total_supply']\n",
    "wnxm_supply_now"
   ]
  },
  {
   "cell_type": "code",
   "execution_count": 4,
   "id": "c47efd68",
   "metadata": {
    "ExecuteTime": {
     "end_time": "2022-10-07T09:53:04.497209Z",
     "start_time": "2022-10-07T09:53:04.465319Z"
    }
   },
   "outputs": [],
   "source": [
    "system_instance = NexusSystem(liquidity_eth=open_liq(0.5), wnxm_move_size=wnxm_movement_per_eth(500_000))"
   ]
  },
  {
   "cell_type": "code",
   "execution_count": 5,
   "id": "d7c4bae8",
   "metadata": {
    "ExecuteTime": {
     "end_time": "2022-10-07T09:53:05.404220Z",
     "start_time": "2022-10-07T09:53:05.398548Z"
    }
   },
   "outputs": [
    {
     "data": {
      "text/plain": [
       "0.5409592239581504"
      ]
     },
     "execution_count": 5,
     "metadata": {},
     "output_type": "execute_result"
    }
   ],
   "source": [
    "sys_params.wnxm_price_now / system_instance.book_value()"
   ]
  },
  {
   "cell_type": "markdown",
   "id": "22d16f6a",
   "metadata": {},
   "source": [
    "# Dutch Auction Modelling"
   ]
  },
  {
   "cell_type": "markdown",
   "id": "46659ed1",
   "metadata": {},
   "source": [
    "## Dutch Auction Mechanism"
   ]
  },
  {
   "cell_type": "markdown",
   "id": "1e411995",
   "metadata": {},
   "source": [
    "Assume that we start at wNXM, as new tokenomics will start slightly below; therefore the first \"interesting point\" will be when the ratchet hits wNXM price.\n",
    "\n",
    "Mechanisms:\n",
    "1. Uniswap v2 Curve to push price up when buys happen & down when sales happen\n",
    "2. Two-sided market above book with a x% penalty for sales\n",
    "3. Buys disabled below book and price discovery through ratchet mechanism\n",
    "\n",
    "Floor at book value for buys - we don't want to allow people to buy for less than BV to avoid dilution with cheap NXM. However, to allow price to go up we also must allow sells above BV."
   ]
  },
  {
   "cell_type": "markdown",
   "id": "7b4ec739",
   "metadata": {},
   "source": [
    "### Initial Liquidity"
   ]
  },
  {
   "cell_type": "markdown",
   "id": "cc92caa4",
   "metadata": {},
   "source": [
    "40% is commited to investments and 10% can be treated as a buffer for claims, so let's assume we have ~50% of the capital pool to play with - define this as free_capital_perc.\n",
    "\n",
    "We probably don't want to use all of it (need buffer for writing new covers etc.), so we can define another percentage for actual liquidity allocation to the notional uni curve, call this liq_alloc_perc.\n",
    "\n",
    "We then use a formula to derive the initial liquidity of the ETH pool, with liq_alloc_perc as an input that can be varied.\n",
    "\n",
    "One of the main purposes of this iteration of the workbook is to experiment with different liquidity provisions and ratchet speeds, so often this formula will not be used in favour of a fixed ETH amount."
   ]
  },
  {
   "cell_type": "code",
   "execution_count": 18,
   "id": "5b8b7bc2",
   "metadata": {
    "ExecuteTime": {
     "end_time": "2022-10-07T10:17:53.998126Z",
     "start_time": "2022-10-07T10:17:53.989606Z"
    }
   },
   "outputs": [
    {
     "data": {
      "text/plain": [
       "19223.625"
      ]
     },
     "execution_count": 18,
     "metadata": {},
     "output_type": "execute_result"
    }
   ],
   "source": [
    "opening_liquidity_eth = open_liq(0.25)\n",
    "opening_liquidity_eth"
   ]
  },
  {
   "cell_type": "markdown",
   "id": "a6492192",
   "metadata": {},
   "source": [
    "### Ratchet sizing"
   ]
  },
  {
   "cell_type": "markdown",
   "id": "49da8f7a",
   "metadata": {},
   "source": [
    "Ratchet speed, for consistency, should be defined in relation to book value price. This enables a linear climb towards book value instead of a percentage or fixed number of NXM liquidity.\n",
    "\n",
    "Also defining how many times this happens per day so that the ascent can be a bit smoother in the modelling. In practice, hopefully the ratchet is streamed.\n",
    "\n",
    "Process inside system class:\n",
    "- Define percentage x% of book value that increases on a daily basis as system parameter\n",
    "- Use current book value to define x% in NXM price terms\n",
    "- Solve for new NXM liquidity"
   ]
  },
  {
   "cell_type": "code",
   "execution_count": 19,
   "id": "d0457ee8",
   "metadata": {
    "ExecuteTime": {
     "end_time": "2022-10-07T11:30:40.944356Z",
     "start_time": "2022-10-07T11:30:40.938874Z"
    }
   },
   "outputs": [],
   "source": [
    "ratchet_bv_perc = 0.04\n",
    "ratchets_per_day = 5"
   ]
  },
  {
   "cell_type": "markdown",
   "id": "5644522d",
   "metadata": {},
   "source": [
    "### Buy/sell spread"
   ]
  },
  {
   "cell_type": "markdown",
   "id": "3eda2e8c",
   "metadata": {},
   "source": [
    "Price difference between buys & sells.\n",
    "\n",
    "- adds an x% bonus to buyers where users wishing to provide a worth of ETH will actually receive (1+x%) * a worth of NXM\n",
    "- this will not impact ETH amounts in the Uni market, but instead add extra NXM"
   ]
  },
  {
   "cell_type": "code",
   "execution_count": 8,
   "id": "fd8d1cac",
   "metadata": {
    "ExecuteTime": {
     "end_time": "2022-10-07T09:54:10.016936Z",
     "start_time": "2022-10-07T09:54:10.012772Z"
    }
   },
   "outputs": [],
   "source": [
    "spread = 0.02"
   ]
  },
  {
   "cell_type": "markdown",
   "id": "4b81bd5a",
   "metadata": {},
   "source": [
    "### wNXM Liquidity in Open Market"
   ]
  },
  {
   "cell_type": "markdown",
   "id": "314daa5b",
   "metadata": {},
   "source": [
    "Obtained from https://www.coingecko.com/en/coins/wrapped-nxm#markets, summed +2% and -2% depth across all exchanges & averaged the two. Rounded to nearest 10k (last 05/10/2022)\n",
    "\n",
    "Average is about 260k, but typically using 500k which assumes that liquidity is higher at higher prices. Crude, to be improved.\n",
    "\n",
    "Function converts 2%-move USD liquidity to an absolute ETH value move per 1 ETH sold/bought on open market. This ETH value only depends on current wNXM price and not on the wNXM price at the time."
   ]
  },
  {
   "cell_type": "code",
   "execution_count": 9,
   "id": "cc8edb1c",
   "metadata": {
    "ExecuteTime": {
     "end_time": "2022-10-07T09:54:12.085959Z",
     "start_time": "2022-10-07T09:54:12.077661Z"
    }
   },
   "outputs": [
    {
     "data": {
      "text/plain": [
       "6.654722036e-07"
      ]
     },
     "execution_count": 9,
     "metadata": {},
     "output_type": "execute_result"
    }
   ],
   "source": [
    "wnxm_move_size = wnxm_movement_per_eth(two_perc_liq_usd=500_000)\n",
    "wnxm_move_size"
   ]
  },
  {
   "cell_type": "code",
   "execution_count": 10,
   "id": "0efa690a",
   "metadata": {
    "ExecuteTime": {
     "end_time": "2022-10-07T09:54:13.603562Z",
     "start_time": "2022-10-07T09:54:13.597650Z"
    }
   },
   "outputs": [
    {
     "name": "stdout",
     "output_type": "stream",
     "text": [
      "0.0122627 613.135 0.013078748599108571 0.06654722035999994\n"
     ]
    }
   ],
   "source": [
    "# How a wNXM buy works:\n",
    "# establish current price\n",
    "wnxm_open_price = sys_params.wnxm_price_now\n",
    "# establish number of wNXM bought\n",
    "n_wnxm = 50000\n",
    "# translate amount to ETH\n",
    "n_eth = n_wnxm * wnxm_open_price\n",
    "# establish closing price\n",
    "wnxm_close_price = wnxm_open_price + n_eth * wnxm_movement_per_eth(250_000)\n",
    "print(wnxm_open_price, n_eth, wnxm_close_price, wnxm_close_price/wnxm_open_price - 1)"
   ]
  },
  {
   "cell_type": "markdown",
   "id": "e9097c04",
   "metadata": {},
   "source": [
    "### NXM buy/sell sizing - Lognormal"
   ]
  },
  {
   "cell_type": "markdown",
   "id": "5c7219c3",
   "metadata": {},
   "source": [
    "lognormal distribution of size of a typical entry and exit in ETH\n",
    "\n",
    "parameterised to median value being ~1 ETH, upper quartile ~4 ETH"
   ]
  },
  {
   "cell_type": "code",
   "execution_count": 11,
   "id": "161ffb0a",
   "metadata": {
    "ExecuteTime": {
     "end_time": "2022-10-07T09:54:16.420705Z",
     "start_time": "2022-10-07T09:54:16.415472Z"
    }
   },
   "outputs": [],
   "source": [
    "entry_shape = 2\n",
    "entry_loc = 0\n",
    "entry_scale = 1\n",
    "\n",
    "exit_shape = 2\n",
    "exit_loc = 0\n",
    "exit_scale = 1"
   ]
  },
  {
   "cell_type": "code",
   "execution_count": 12,
   "id": "f8f190d0",
   "metadata": {
    "ExecuteTime": {
     "end_time": "2022-10-07T09:54:17.708572Z",
     "start_time": "2022-10-07T09:54:17.648147Z"
    }
   },
   "outputs": [
    {
     "data": {
      "text/html": [
       "<div>\n",
       "<style scoped>\n",
       "    .dataframe tbody tr th:only-of-type {\n",
       "        vertical-align: middle;\n",
       "    }\n",
       "\n",
       "    .dataframe tbody tr th {\n",
       "        vertical-align: top;\n",
       "    }\n",
       "\n",
       "    .dataframe thead th {\n",
       "        text-align: right;\n",
       "    }\n",
       "</style>\n",
       "<table border=\"1\" class=\"dataframe\">\n",
       "  <thead>\n",
       "    <tr style=\"text-align: right;\">\n",
       "      <th></th>\n",
       "      <th>0</th>\n",
       "    </tr>\n",
       "  </thead>\n",
       "  <tbody>\n",
       "    <tr>\n",
       "      <th>count</th>\n",
       "      <td>10000.000000</td>\n",
       "    </tr>\n",
       "    <tr>\n",
       "      <th>mean</th>\n",
       "      <td>7.464075</td>\n",
       "    </tr>\n",
       "    <tr>\n",
       "      <th>std</th>\n",
       "      <td>37.535023</td>\n",
       "    </tr>\n",
       "    <tr>\n",
       "      <th>min</th>\n",
       "      <td>0.000629</td>\n",
       "    </tr>\n",
       "    <tr>\n",
       "      <th>25%</th>\n",
       "      <td>0.246235</td>\n",
       "    </tr>\n",
       "    <tr>\n",
       "      <th>50%</th>\n",
       "      <td>0.978320</td>\n",
       "    </tr>\n",
       "    <tr>\n",
       "      <th>75%</th>\n",
       "      <td>3.837839</td>\n",
       "    </tr>\n",
       "    <tr>\n",
       "      <th>max</th>\n",
       "      <td>1220.642307</td>\n",
       "    </tr>\n",
       "  </tbody>\n",
       "</table>\n",
       "</div>"
      ],
      "text/plain": [
       "                  0\n",
       "count  10000.000000\n",
       "mean       7.464075\n",
       "std       37.535023\n",
       "min        0.000629\n",
       "25%        0.246235\n",
       "50%        0.978320\n",
       "75%        3.837839\n",
       "max     1220.642307"
      ]
     },
     "execution_count": 12,
     "metadata": {},
     "output_type": "execute_result"
    }
   ],
   "source": [
    "pd.DataFrame(lognorm.rvs(s=exit_shape, loc=exit_loc, scale=exit_scale, size=10_000)).describe()"
   ]
  },
  {
   "cell_type": "markdown",
   "id": "8b7e35ab",
   "metadata": {},
   "source": [
    "### NXM buys/sells from platform per day"
   ]
  },
  {
   "cell_type": "markdown",
   "id": "13bd54ca",
   "metadata": {},
   "source": [
    "Poisson distribution of number of entries & exits per day"
   ]
  },
  {
   "cell_type": "code",
   "execution_count": 13,
   "id": "970e09fa",
   "metadata": {
    "ExecuteTime": {
     "end_time": "2022-10-07T09:54:20.090236Z",
     "start_time": "2022-10-07T09:54:20.086271Z"
    }
   },
   "outputs": [],
   "source": [
    "lambda_entries = 5\n",
    "lambda_exits = 5"
   ]
  },
  {
   "cell_type": "code",
   "execution_count": 14,
   "id": "9d04b444",
   "metadata": {
    "ExecuteTime": {
     "end_time": "2022-10-07T09:54:21.101984Z",
     "start_time": "2022-10-07T09:54:21.081537Z"
    }
   },
   "outputs": [
    {
     "data": {
      "text/html": [
       "<div>\n",
       "<style scoped>\n",
       "    .dataframe tbody tr th:only-of-type {\n",
       "        vertical-align: middle;\n",
       "    }\n",
       "\n",
       "    .dataframe tbody tr th {\n",
       "        vertical-align: top;\n",
       "    }\n",
       "\n",
       "    .dataframe thead th {\n",
       "        text-align: right;\n",
       "    }\n",
       "</style>\n",
       "<table border=\"1\" class=\"dataframe\">\n",
       "  <thead>\n",
       "    <tr style=\"text-align: right;\">\n",
       "      <th></th>\n",
       "      <th>0</th>\n",
       "    </tr>\n",
       "  </thead>\n",
       "  <tbody>\n",
       "    <tr>\n",
       "      <th>count</th>\n",
       "      <td>10000.0000</td>\n",
       "    </tr>\n",
       "    <tr>\n",
       "      <th>mean</th>\n",
       "      <td>4.9979</td>\n",
       "    </tr>\n",
       "    <tr>\n",
       "      <th>std</th>\n",
       "      <td>2.2482</td>\n",
       "    </tr>\n",
       "    <tr>\n",
       "      <th>min</th>\n",
       "      <td>0.0000</td>\n",
       "    </tr>\n",
       "    <tr>\n",
       "      <th>25%</th>\n",
       "      <td>3.0000</td>\n",
       "    </tr>\n",
       "    <tr>\n",
       "      <th>50%</th>\n",
       "      <td>5.0000</td>\n",
       "    </tr>\n",
       "    <tr>\n",
       "      <th>75%</th>\n",
       "      <td>6.0000</td>\n",
       "    </tr>\n",
       "    <tr>\n",
       "      <th>max</th>\n",
       "      <td>17.0000</td>\n",
       "    </tr>\n",
       "  </tbody>\n",
       "</table>\n",
       "</div>"
      ],
      "text/plain": [
       "                0\n",
       "count  10000.0000\n",
       "mean       4.9979\n",
       "std        2.2482\n",
       "min        0.0000\n",
       "25%        3.0000\n",
       "50%        5.0000\n",
       "75%        6.0000\n",
       "max       17.0000"
      ]
     },
     "execution_count": 14,
     "metadata": {},
     "output_type": "execute_result"
    }
   ],
   "source": [
    "pd.DataFrame(np.random.poisson(lam=lambda_entries, size=10_000)).describe()"
   ]
  },
  {
   "cell_type": "markdown",
   "id": "934f35aa",
   "metadata": {},
   "source": [
    "### wNXM drift & diffusion"
   ]
  },
  {
   "cell_type": "markdown",
   "id": "0da96c37",
   "metadata": {},
   "source": [
    "Relative % change in wNXM price on open market due to random fluctuations based on a normal distribution"
   ]
  },
  {
   "cell_type": "code",
   "execution_count": 15,
   "id": "989d92cf",
   "metadata": {
    "ExecuteTime": {
     "end_time": "2022-10-07T09:54:24.378553Z",
     "start_time": "2022-10-07T09:54:24.374771Z"
    }
   },
   "outputs": [],
   "source": [
    "wnxm_shifts_per_day = 5\n",
    "wnxm_drift = 0\n",
    "wnxm_diffusion = (1+0.02)**(1/wnxm_shifts_per_day) - 1"
   ]
  },
  {
   "cell_type": "code",
   "execution_count": 16,
   "id": "25803caa",
   "metadata": {
    "ExecuteTime": {
     "end_time": "2022-10-07T09:54:24.831195Z",
     "start_time": "2022-10-07T09:54:24.825479Z"
    }
   },
   "outputs": [
    {
     "data": {
      "text/plain": [
       "0.003968378704429121"
      ]
     },
     "execution_count": 16,
     "metadata": {},
     "output_type": "execute_result"
    }
   ],
   "source": [
    "wnxm_diffusion"
   ]
  },
  {
   "cell_type": "markdown",
   "id": "44b72332",
   "metadata": {},
   "source": [
    "## Uniswap v2 OOP Class - Double-sided above BV"
   ]
  },
  {
   "cell_type": "code",
   "execution_count": 23,
   "id": "ca2dc6d3",
   "metadata": {
    "ExecuteTime": {
     "end_time": "2022-10-07T11:36:25.143638Z",
     "start_time": "2022-10-07T11:36:25.106124Z"
    }
   },
   "outputs": [],
   "source": [
    "# Create class with specified initial liquidity & wnxm parameters\n",
    "model_days = 730\n",
    "\n",
    "class UniPool:\n",
    "    # initial parameters\n",
    "    def __init__(self, liquidity_eth, wnxm_price, wnxm_move_size):\n",
    "        # start at day 0\n",
    "        self.current_day = 0\n",
    "        \n",
    "        # set wNXM and NXM supply, Capital Pool\n",
    "        self.nxm_supply = system_instance.nxm_supply\n",
    "        self.wnxm_supply = wnxm_supply_now\n",
    "        self.cap_pool = system_instance.cap_pool\n",
    "        \n",
    "        # set initial wNXM price\n",
    "        self.wnxm_price = wnxm_price      \n",
    "        # set initial ETH liquidity\n",
    "        self.liquidity_eth = liquidity_eth\n",
    "        # set change in wnxm price per 1 ETH of wnxm bought/sold\n",
    "        self.wnxm_move_size = wnxm_move_size\n",
    "        \n",
    "        # set buy/sell spread above BV\n",
    "        self.spread = spread\n",
    "        \n",
    "        # set initial NXM liquidity based on opening wNXM price\n",
    "        # assume that prices have converged after initial period\n",
    "        self.liquidity_nxm = self.liquidity_eth / self.wnxm_price\n",
    "        \n",
    "        # set intial invariant \n",
    "        self.invariant = self.liquidity_eth * self.liquidity_nxm\n",
    "        \n",
    "        # base entries and exits using a poisson distribution\n",
    "        self.base_daily_platform_buys = np.random.poisson(\n",
    "                                                lam=lambda_entries,\n",
    "                                                size=model_days)\n",
    "        self.base_daily_platform_sales = np.random.poisson(\n",
    "                                                lam=lambda_exits,\n",
    "                                                size=model_days)\n",
    "        \n",
    "\n",
    "        \n",
    "        # set cumulative parameters to 0\n",
    "        self.eth_sold = 0\n",
    "        self.eth_acquired = 0\n",
    "        self.nxm_burned = 0\n",
    "        self.nxm_minted = 0\n",
    "        self.wnxm_removed = 0\n",
    "        self.wnxm_created = 0\n",
    "        \n",
    "        # set tracking lists for individual instance\n",
    "        self.cap_pool_prediction = [self.cap_pool]\n",
    "        self.nxm_price_prediction = [self.nxm_price(action='sale')]\n",
    "        self.wnxm_price_prediction = [self.wnxm_price]\n",
    "        self.nxm_supply_prediction = [self.nxm_supply]\n",
    "        self.wnxm_supply_prediction = [self.wnxm_supply]\n",
    "        self.book_value_prediction = [self.book_value()]\n",
    "        self.liquidity_nxm_prediction = [self.liquidity_nxm]\n",
    "        self.liquidity_eth_prediction = [self.liquidity_eth]\n",
    "        self.eth_sold_prediction = [self.eth_sold]\n",
    "        self.eth_acquired_prediction = [self.eth_acquired]\n",
    "        self.nxm_burned_prediction = [self.nxm_burned]\n",
    "        self.nxm_minted_prediction = [self.nxm_minted]\n",
    "        self.wnxm_removed_prediction = [self.wnxm_removed]\n",
    "        self.wnxm_created_prediction = [self.wnxm_created]\n",
    "        \n",
    "        \n",
    "    # system nxm price expressed in ETH\n",
    "    def book_value(self):\n",
    "        if self.nxm_supply == 0:\n",
    "            return 0\n",
    "        return self.cap_pool/self.nxm_supply\n",
    "    \n",
    "    def nxm_price(self, action):\n",
    "        # apply spread to buys\n",
    "        if action == 'buy':\n",
    "            return self.liquidity_eth / (self.liquidity_nxm * (1 - self.spread))\n",
    "        # otherwise return price without spread\n",
    "        return self.liquidity_eth / self.liquidity_nxm\n",
    "    \n",
    "    def nxm_sale_size(self, denom='nxm'):\n",
    "        if denom == 'nxm':\n",
    "            return lognorm.rvs(s=exit_shape, loc=exit_loc, scale=exit_scale) / self.nxm_price(action='sale')\n",
    "        elif denom == 'eth':\n",
    "            return lognorm.rvs(s=exit_shape, loc=exit_loc, scale=exit_scale)\n",
    "        \n",
    "    # one sale of n_nxm NXM\n",
    "    def platform_nxm_sale(self, n_nxm):\n",
    "        # limit number to total NXM\n",
    "        n_nxm = min(n_nxm, self.nxm_supply)\n",
    "        \n",
    "        # add sold NXM to pool\n",
    "        self.liquidity_nxm += n_nxm\n",
    "        self.nxm_supply -= n_nxm\n",
    "        \n",
    "        # establish new value of eth in pool\n",
    "        new_eth = self.invariant / self.liquidity_nxm\n",
    "        delta_eth = self.liquidity_eth - new_eth\n",
    "        \n",
    "        # add ETH removed and nxm burned to cumulative total, update capital pool\n",
    "        self.eth_sold += delta_eth\n",
    "        self.cap_pool -= delta_eth\n",
    "        self.nxm_burned += n_nxm\n",
    "        \n",
    "        # update ETH liquidity & invariant (which will change due to spread)\n",
    "        self.liquidity_eth = new_eth\n",
    "        self.invariant = self.liquidity_eth * self.liquidity_nxm\n",
    "        \n",
    "    # one buy of n_nxm NXM, allowing for spread\n",
    "    def platform_nxm_buy(self, n_nxm):\n",
    "        # remove bought NXM from pool (with spread) and add actual mint to supply\n",
    "        self.liquidity_nxm -= n_nxm * (1 + self.spread)\n",
    "        self.nxm_supply += n_nxm\n",
    "        \n",
    "        # establish new value of eth in pool\n",
    "        new_eth = self.invariant / self.liquidity_nxm\n",
    "        delta_eth = new_eth - self.liquidity_eth\n",
    "        \n",
    "        # add ETH acquired and nxm minted to cumulative total, update capital pool\n",
    "        self.eth_acquired += delta_eth\n",
    "        self.cap_pool += delta_eth\n",
    "        self.nxm_minted += n_nxm\n",
    "        \n",
    "        # update ETH liquidity\n",
    "        self.liquidity_eth = new_eth\n",
    "    \n",
    "    def wnxm_market_buy(self, n_wnxm, arb=True):\n",
    "        # limit number of wnxm bought to total supply\n",
    "        n_wnxm = min(n_wnxm, self.wnxm_supply)\n",
    "        \n",
    "        # crude calc for ETH amount (assuming whole buy happens on opening price)\n",
    "        n_eth = n_wnxm * self.wnxm_price\n",
    "        \n",
    "        # increase price depending on defined liquidity parameters\n",
    "        self.wnxm_price += n_eth * self.wnxm_move_size\n",
    "        \n",
    "        # if used for arb, remove from supply\n",
    "        if arb:\n",
    "            self.wnxm_supply -= n_wnxm\n",
    "            self.wnxm_removed += n_wnxm\n",
    "    \n",
    "    def wnxm_market_sell(self, n_wnxm, arb=True):\n",
    "        # limit number of wnxm sold to total supply\n",
    "        n_wnxm = min(n_wnxm, self.wnxm_supply)\n",
    "        \n",
    "        # crude calc for ETH amount (assuming whole sell happens on opening price)\n",
    "        n_eth = n_wnxm * self.wnxm_price\n",
    "        \n",
    "        # decrease price depending on defined liquidity parameters\n",
    "        self.wnxm_price -= n_eth * self.wnxm_move_size\n",
    "        \n",
    "        # if used for arb, add to supply\n",
    "        if arb:\n",
    "            self.wnxm_supply += n_wnxm\n",
    "            self.wnxm_created += n_wnxm\n",
    "    \n",
    "    def arb_sale_transaction(self):\n",
    "        # establish size of nxm sell\n",
    "        num = self.nxm_sale_size(denom='nxm')\n",
    "        # buy from open market\n",
    "        self.wnxm_market_buy(n_wnxm=num, arb=True)\n",
    "        # sell to platform\n",
    "        self.platform_nxm_sale(n_nxm=num)\n",
    "        \n",
    "    def arb_buy_transaction(self):\n",
    "        # establish size of nxm buy\n",
    "        num = self.nxm_sale_size(denom='nxm')\n",
    "        # buy from platform\n",
    "        self.platform_nxm_buy(n_nxm=num)\n",
    "        # sell to open market\n",
    "        self.wnxm_market_sell(n_wnxm=num, arb=True)\n",
    "    \n",
    "    def ratchet_up(self): \n",
    "        # establish price movement required to be relevant percentage of BV\n",
    "        price_movement = self.book_value() * ratchet_bv_perc / ratchets_per_day\n",
    "        \n",
    "        # update NXM liquidity to reflect new price\n",
    "        self.liquidity_nxm = self.liquidity_eth / (self.nxm_price(action='sale') + price_movement)\n",
    "        \n",
    "        # update invariant\n",
    "        self.invariant = self.liquidity_eth * self.liquidity_nxm\n",
    "    \n",
    "    def wnxm_shift(self):\n",
    "        # set percentage changes in wnxm price using a normal distribution\n",
    "        self.wnxm_price *= (1 + np.random.normal(loc=wnxm_drift, scale=wnxm_diffusion))\n",
    "\n",
    "    def one_day_passes(self):\n",
    "        # create list of events and shuffle it\n",
    "        events_today = []\n",
    "        events_today.extend(['ratchet'] * ratchets_per_day)\n",
    "        events_today.extend(['wnxm_shift'] * wnxm_shifts_per_day)\n",
    "        events_today.extend(['platform_buy'] * self.base_daily_platform_buys[self.current_day])\n",
    "        events_today.extend(['platform_sale'] * self.base_daily_platform_sales[self.current_day])\n",
    "        shuffle(events_today)\n",
    "\n",
    "        # LOOP THROUGH EVENTS OF DAY\n",
    "        for event in events_today:\n",
    "            \n",
    "            #-----WNXM ARBITRAGE-----#\n",
    "            # happens in between all events\n",
    "            while self.nxm_price(action='sale') > self.wnxm_price:\n",
    "                self.arb_sale_transaction()\n",
    "            while max(self.nxm_price(action='buy'), self.book_value()) < self.wnxm_price:\n",
    "                self.arb_buy_transaction()\n",
    "\n",
    "            #-----RATCHET-----#\n",
    "            if event == 'ratchet':\n",
    "                # up if below BV\n",
    "                if self.book_value() > self.nxm_price(action='sale'):\n",
    "                    self.ratchet_up()\n",
    "\n",
    "            #-----WNXM SHIFT-----#\n",
    "            if event == 'wnxm_shift':\n",
    "                self.wnxm_shift()\n",
    "\n",
    "            #-----PLATFORM BUY-----#\n",
    "            # not arbitrage-driven\n",
    "            if event == 'platform_buy':\n",
    "                # doesn't happen if wnxm price is below platform price or\n",
    "                # platform price is below book value\n",
    "                if self.nxm_price(action='buy') > self.wnxm_price or \\\n",
    "                self.nxm_price(action='buy') < self.book_value():\n",
    "                    continue\n",
    "\n",
    "                # otherwise execute the buy\n",
    "                self.platform_nxm_buy(n_nxm=self.nxm_sale_size())\n",
    "\n",
    "            #-----PLATFORM SALE-----#\n",
    "            # not arbitrage-driven\n",
    "            if event == 'platform_sale':\n",
    "                # doesn't happen if wnxm price is above platform price\n",
    "                if self.nxm_price(action='sale') < self.wnxm_price:\n",
    "                    continue\n",
    "\n",
    "                # otherwise execute the sell\n",
    "                self.platform_nxm_sale(n_nxm=self.nxm_sale_size())\n",
    "        \n",
    "        # append values to tracking metrics\n",
    "        self.cap_pool_prediction.append(self.cap_pool)\n",
    "        self.nxm_price_prediction.append(self.nxm_price(action='sale'))\n",
    "        self.wnxm_price_prediction.append(self.wnxm_price)\n",
    "        self.nxm_supply_prediction.append(self.nxm_supply)\n",
    "        self.wnxm_supply_prediction.append(self.wnxm_supply)\n",
    "        self.book_value_prediction.append(self.book_value())\n",
    "        self.liquidity_nxm_prediction.append(self.liquidity_nxm)\n",
    "        self.liquidity_eth_prediction.append(self.liquidity_eth)\n",
    "        self.eth_sold_prediction.append(self.eth_sold)\n",
    "        self.eth_acquired_prediction.append(self.eth_acquired)\n",
    "        self.nxm_burned_prediction.append(self.nxm_burned)\n",
    "        self.nxm_minted_prediction.append(self.nxm_minted)\n",
    "        self.wnxm_removed_prediction.append(self.wnxm_removed)\n",
    "        self.wnxm_created_prediction.append(self.wnxm_created)\n",
    "        \n",
    "        # increment day\n",
    "        self.current_day += 1"
   ]
  },
  {
   "cell_type": "markdown",
   "id": "933e67a5",
   "metadata": {},
   "source": [
    "## Runs"
   ]
  },
  {
   "cell_type": "markdown",
   "id": "3766179a",
   "metadata": {},
   "source": [
    "### Set up Single Simulation"
   ]
  },
  {
   "cell_type": "code",
   "execution_count": 27,
   "id": "a6c6e405",
   "metadata": {
    "ExecuteTime": {
     "end_time": "2022-10-07T11:38:12.910147Z",
     "start_time": "2022-10-07T11:38:11.086682Z"
    }
   },
   "outputs": [
    {
     "name": "stderr",
     "output_type": "stream",
     "text": [
      "100%|████████████████████████████████████████████████████████████████████████████████████████████| 730/730 [00:00<00:00, 1556.20it/s]\n"
     ]
    },
    {
     "data": {
      "image/png": "[encoded data removed]",
      "text/plain": [
       "<Figure size 1080x1944 with 14 Axes>"
      ]
     },
     "metadata": {
      "needs_background": "light"
     },
     "output_type": "display_data"
    }
   ],
   "source": [
    "liquidity_eth = 25_000\n",
    "wnxm_move_size = wnxm_movement_per_eth(500_000)\n",
    "wnxm_price = sys_params.wnxm_price_now\n",
    "\n",
    "sim = UniPool(liquidity_eth=liquidity_eth, wnxm_price=wnxm_price, wnxm_move_size=wnxm_move_size)\n",
    "\n",
    "for i in tqdm(range(model_days)):\n",
    "    sim.one_day_passes()\n",
    "    \n",
    "#-----GRAPHS-----#\n",
    "# Destructuring initialization\n",
    "fig, axs = plt.subplots(7, 2, figsize=(15,27)) # axs is a (7,2) nd-array\n",
    "\n",
    "# Subplot\n",
    "axs[0, 0].plot(range(model_days+1), sim.nxm_price_prediction)\n",
    "axs[0, 0].set_title('nxm_price')\n",
    "# Subplot\n",
    "axs[0, 1].plot(range(model_days+1), sim.wnxm_price_prediction)\n",
    "axs[0, 1].set_title('wnxm_price')\n",
    "# Subplot\n",
    "axs[1, 0].plot(range(model_days+1), sim.nxm_supply_prediction)\n",
    "axs[1, 0].set_title('nxm_supply')\n",
    "# Subplot\n",
    "axs[1, 1].plot(range(model_days+1), sim.wnxm_supply_prediction)\n",
    "axs[1, 1].set_title('wnxm_supply')\n",
    "# Subplot\n",
    "axs[2, 0].plot(range(model_days+1), sim.book_value_prediction)\n",
    "axs[2, 0].set_title('book_value')\n",
    "# Subplot\n",
    "axs[2, 1].plot(range(model_days+1), sim.cap_pool_prediction)\n",
    "axs[2, 1].set_title('cap_pool')\n",
    "# Subplot\n",
    "axs[3, 0].plot(range(model_days+1), sim.liquidity_nxm_prediction)\n",
    "axs[3, 0].set_title('liquidity_nxm')\n",
    "# Subplot\n",
    "axs[3, 1].plot(range(model_days+1), sim.liquidity_eth_prediction)\n",
    "axs[3, 1].set_title('liquidity_eth')\n",
    "# Subplot\n",
    "axs[4, 0].plot(range(model_days+1), sim.nxm_burned_prediction)\n",
    "axs[4, 0].set_title('nxm_burned')\n",
    "# Subplot\n",
    "axs[4, 1].plot(range(model_days+1), sim.nxm_minted_prediction)\n",
    "axs[4, 1].set_title('nxm_minted')\n",
    "# Subplot\n",
    "axs[5, 0].plot(range(model_days+1), sim.eth_sold_prediction)\n",
    "axs[5, 0].set_title('eth_sold')\n",
    "# Subplot\n",
    "axs[5, 1].plot(range(model_days+1), sim.eth_acquired_prediction)\n",
    "axs[5, 1].set_title('eth_acquired')\n",
    "# Subplot\n",
    "axs[6, 0].plot(range(model_days+1), sim.wnxm_removed_prediction)\n",
    "axs[6, 0].set_title('wnxm_removed')\n",
    "# Subplot\n",
    "axs[6, 1].plot(range(model_days+1), sim.wnxm_created_prediction)\n",
    "axs[6, 1].set_title('wnxm_created')\n",
    "\n",
    "plt.show()"
   ]
  },
  {
   "cell_type": "code",
   "execution_count": null,
   "id": "56f5349a",
   "metadata": {
    "ExecuteTime": {
     "end_time": "2022-09-29T16:56:53.712471Z",
     "start_time": "2022-09-29T16:56:53.704777Z"
    }
   },
   "outputs": [],
   "source": [
    "print(sim.wnxm_price_prediction[300], sim.nxm_price_prediction[300], sim.book_value_prediction[300])"
   ]
  },
  {
   "cell_type": "code",
   "execution_count": null,
   "id": "01dbcef1",
   "metadata": {
    "ExecuteTime": {
     "end_time": "2022-09-29T16:57:20.162636Z",
     "start_time": "2022-09-29T16:57:20.156581Z"
    }
   },
   "outputs": [],
   "source": [
    "sim.nxm_price_prediction[300] * (1-sim.spread)"
   ]
  },
  {
   "cell_type": "markdown",
   "id": "c3999bfa",
   "metadata": {},
   "source": [
    "### NXM Supply rate change"
   ]
  },
  {
   "cell_type": "markdown",
   "id": "66c82ce1",
   "metadata": {},
   "source": [
    "We provide a range by which the ratcheting mechanism moves the wNXM price."
   ]
  },
  {
   "cell_type": "code",
   "execution_count": null,
   "id": "5edfb9b8",
   "metadata": {
    "ExecuteTime": {
     "end_time": "2022-09-29T15:11:25.374122Z",
     "start_time": "2022-09-29T15:11:20.953372Z"
    }
   },
   "outputs": [],
   "source": [
    "liquidity_eth = open_liq(0.25)\n",
    "wnxm_move_size = wnxm_movement_per_eth(500_000)\n",
    "\n",
    "ratchet_perc_options = [0.001, 0.0025, 0.005, 0.01, 0.02]\n",
    "\n",
    "sims = [UniPool_AboveBV_One_Sided(liquidity_eth=liquidity_eth, wnxm_move_size=wnxm_move_size)\n",
    "        for x in range(len(ratchet_perc_options))]\n",
    "\n",
    "for n, sim in enumerate(sims):\n",
    "    ratchet_perc = ratchet_perc_options[n]\n",
    "    for i in range(model_days):\n",
    "        sim.one_day_passes()\n",
    "\n",
    "# for i in range(len(sims)):\n",
    "#     plt.plot(range(model_days+1), sims[i].nxm_price_prediction, label=f'{ratchet_perc_options[i]*100}% per day')\n",
    "# plt.title('nxm_price')\n",
    "# plt.legend();\n",
    "#-----GRAPHS-----#\n",
    "# Destructuring initialization\n",
    "fig, axs = plt.subplots(7, 2, figsize=(15,27)) # axs is a (7,2) nd-array\n",
    "# Subplot\n",
    "for i in range(len(sims)):\n",
    "    axs[0, 0].plot(range(model_days+1), sims[i].nxm_price_prediction, label=f'{ratchet_perc_options[i]*100}% per day')\n",
    "axs[0, 0].set_title('nxm_price')\n",
    "axs[0, 0].legend()\n",
    "# Subplot\n",
    "for i in range(len(sims)):\n",
    "    axs[0, 1].plot(range(model_days+1), sims[i].wnxm_price_prediction, label=f'{ratchet_perc_options[i]*100}% per day')\n",
    "axs[0, 1].set_title('wnxm_price')\n",
    "axs[0, 1].legend()\n",
    "# Subplot\n",
    "for i in range(len(sims)):\n",
    "    axs[1, 0].plot(range(model_days+1), sims[i].nxm_supply_prediction, label=f'{ratchet_perc_options[i]*100}% per day')\n",
    "axs[1, 0].set_title('nxm_supply')\n",
    "axs[1, 0].legend()\n",
    "# Subplot\n",
    "for i in range(len(sims)):\n",
    "    axs[1, 1].plot(range(model_days+1), sims[i].wnxm_supply_prediction, label=f'{ratchet_perc_options[i]*100}% per day')\n",
    "axs[1, 1].set_title('wnxm_supply')\n",
    "axs[1, 1].legend()\n",
    "# Subplot\n",
    "for i in range(len(sims)):\n",
    "    axs[2, 0].plot(range(model_days+1), sims[i].book_value_prediction, label=f'{ratchet_perc_options[i]*100}% per day')\n",
    "axs[2, 0].set_title('book_value')\n",
    "axs[2, 0].legend()\n",
    "# Subplot\n",
    "for i in range(len(sims)):\n",
    "    axs[2, 1].plot(range(model_days+1), sims[i].cap_pool_prediction, label=f'{ratchet_perc_options[i]*100}% per day')\n",
    "axs[2, 1].set_title('cap_pool')\n",
    "axs[2, 1].legend()\n",
    "# Subplot\n",
    "for i in range(len(sims)):\n",
    "    axs[3, 0].plot(range(model_days+1), sims[i].liquidity_nxm_prediction, label=f'{ratchet_perc_options[i]*100}% per day')\n",
    "axs[3, 0].set_title('liquidity_nxm')\n",
    "axs[3, 0].legend()\n",
    "# Subplot\n",
    "for i in range(len(sims)):\n",
    "    axs[3, 1].plot(range(model_days+1), sims[i].liquidity_eth_prediction, label=f'{ratchet_perc_options[i]*100}% per day')\n",
    "axs[3, 1].set_title('liquidity_eth')\n",
    "axs[3, 1].legend()\n",
    "# Subplot\n",
    "for i in range(len(sims)):\n",
    "    axs[4, 0].plot(range(model_days+1), sims[i].nxm_burned_prediction, label=f'{ratchet_perc_options[i]*100}% per day')\n",
    "axs[4, 0].set_title('nxm_burned')\n",
    "axs[4, 0].legend()\n",
    "# Subplot\n",
    "for i in range(len(sims)):\n",
    "    axs[4, 1].plot(range(model_days+1), sims[i].nxm_minted_prediction, label=f'{ratchet_perc_options[i]*100}% per day')\n",
    "axs[4, 1].set_title('nxm_minted')\n",
    "axs[4, 1].legend()\n",
    "# Subplot\n",
    "for i in range(len(sims)):\n",
    "    axs[5, 0].plot(range(model_days+1), sims[i].eth_sold_prediction, label=f'{ratchet_perc_options[i]*100}% per day')\n",
    "axs[5, 0].set_title('eth_sold')\n",
    "axs[5, 0].legend()\n",
    "# Subplot\n",
    "for i in range(len(sims)):\n",
    "    axs[5, 1].plot(range(model_days+1), sims[i].eth_acquired_prediction, label=f'{ratchet_perc_options[i]*100}% per day')\n",
    "axs[5, 1].set_title('eth_acquired')\n",
    "axs[5, 1].legend()\n",
    "# Subplot\n",
    "for i in range(len(sims)):\n",
    "    axs[6, 0].plot(range(model_days+1), sims[i].wnxm_removed_prediction, label=f'{ratchet_perc_options[i]*100}% per day')\n",
    "axs[6, 0].set_title('wnxm_removed')\n",
    "axs[6, 0].legend()\n",
    "# Subplot\n",
    "for i in range(len(sims)):\n",
    "    axs[6, 1].plot(range(model_days+1), sims[i].wnxm_created_prediction, label=f'{ratchet_perc_options[i]*100}% per day')\n",
    "axs[6, 1].set_title('wnxm_created')\n",
    "axs[6, 1].legend()\n",
    "\n",
    "#plt.suptitle('Ratchet speed values')\n",
    "plt.show()"
   ]
  },
  {
   "cell_type": "markdown",
   "id": "6881fd9c",
   "metadata": {},
   "source": [
    "Doesn't seem to make much difference - largely dependent on wNXM volatility"
   ]
  },
  {
   "cell_type": "markdown",
   "id": "294486c8",
   "metadata": {},
   "source": [
    "### wNXM liquidity in markets"
   ]
  },
  {
   "cell_type": "markdown",
   "id": "320b4c6a",
   "metadata": {},
   "source": [
    "We test a range of available wNXM liquidity in markets. At current prices, according to coingecko, a 2% shift occurs approximately at $250k sold/bought. Likely that more market sellers will be available at higher prices, so most alternative liquidity parameter tests are explored upwards."
   ]
  },
  {
   "cell_type": "code",
   "execution_count": null,
   "id": "999cfd55",
   "metadata": {
    "ExecuteTime": {
     "end_time": "2022-09-29T15:15:07.178280Z",
     "start_time": "2022-09-29T15:15:02.741498Z"
    }
   },
   "outputs": [],
   "source": [
    "ratchet_perc = 0.005\n",
    "opening_liquidity_eth = open_liq(0.5)\n",
    "\n",
    "wnxm_liq_range_usd = [100_000, 250_000, 500_000, 1_000_000, 2_000_000]\n",
    "\n",
    "sims = [UniPool_AboveBV_One_Sided(liquidity_eth=liquidity_eth, wnxm_move_size=wnxm_movement_per_eth(liq))\n",
    "        for liq in wnxm_liq_range_usd]\n",
    "\n",
    "for sim in sims:\n",
    "    for i in range(model_days):\n",
    "        sim.one_day_passes()\n",
    "\n",
    "# for i in range(len(sims)):\n",
    "#     plt.plot(range(model_days+1), sims[i].nxm_price_prediction, label=f'wNXM +2% on {wnxm_liq_range_usd[i]} traded')\n",
    "# plt.title('nxm_price')\n",
    "# plt.legend();        \n",
    "\n",
    "#-----GRAPHS-----#\n",
    "# Destructuring initialization\n",
    "fig, axs = plt.subplots(7, 2, figsize=(15,27)) # axs is a (6,2) nd-array\n",
    "# Subplot\n",
    "for i in range(len(sims)):\n",
    "    axs[0, 0].plot(range(model_days+1), sims[i].nxm_price_prediction, label=f'wNXM +2% on {wnxm_liq_range_usd[i]} traded')\n",
    "axs[0, 0].set_title('nxm_price')\n",
    "axs[0, 0].legend()\n",
    "# Subplot\n",
    "for i in range(len(sims)):\n",
    "    axs[0, 1].plot(range(model_days+1), sims[i].wnxm_price_prediction, label=f'wNXM +2% on {wnxm_liq_range_usd[i]} traded')\n",
    "axs[0, 1].set_title('wnxm_price')\n",
    "axs[0, 1].legend()\n",
    "# Subplot\n",
    "for i in range(len(sims)):\n",
    "    axs[1, 0].plot(range(model_days+1), sims[i].nxm_supply_prediction, label=f'wNXM +2% on {wnxm_liq_range_usd[i]} traded')\n",
    "axs[1, 0].set_title('nxm_supply')\n",
    "axs[1, 0].legend()\n",
    "# Subplot\n",
    "for i in range(len(sims)):\n",
    "    axs[1, 1].plot(range(model_days+1), sims[i].wnxm_supply_prediction, label=f'wNXM +2% on {wnxm_liq_range_usd[i]} traded')\n",
    "axs[1, 1].set_title('wnxm_supply')\n",
    "axs[1, 1].legend()\n",
    "# Subplot\n",
    "for i in range(len(sims)):\n",
    "    axs[2, 0].plot(range(model_days+1), sims[i].book_value_prediction, label=f'wNXM +2% on {wnxm_liq_range_usd[i]} traded')\n",
    "axs[2, 0].set_title('book_value')\n",
    "axs[2, 0].legend()\n",
    "# Subplot\n",
    "for i in range(len(sims)):\n",
    "    axs[2, 1].plot(range(model_days+1), sims[i].cap_pool_prediction, label=f'wNXM +2% on {wnxm_liq_range_usd[i]} traded')\n",
    "axs[2, 1].set_title('cap_pool')\n",
    "axs[2, 1].legend()\n",
    "# Subplot\n",
    "for i in range(len(sims)):\n",
    "    axs[3, 0].plot(range(model_days+1), sims[i].liquidity_nxm_prediction, label=f'wNXM +2% on {wnxm_liq_range_usd[i]} traded')\n",
    "axs[3, 0].set_title('liquidity_nxm')\n",
    "axs[3, 0].legend()\n",
    "# Subplot\n",
    "for i in range(len(sims)):\n",
    "    axs[3, 1].plot(range(model_days+1), sims[i].liquidity_eth_prediction, label=f'wNXM +2% on {wnxm_liq_range_usd[i]} traded')\n",
    "axs[3, 1].set_title('liquidity_eth')\n",
    "axs[3, 1].legend()\n",
    "# Subplot\n",
    "for i in range(len(sims)):\n",
    "    axs[4, 0].plot(range(model_days+1), sims[i].nxm_burned_prediction, label=f'wNXM +2% on {wnxm_liq_range_usd[i]} traded')\n",
    "axs[4, 0].set_title('nxm_burned')\n",
    "axs[4, 0].legend()\n",
    "# Subplot\n",
    "for i in range(len(sims)):\n",
    "    axs[4, 1].plot(range(model_days+1), sims[i].nxm_minted_prediction, label=f'wNXM +2% on {wnxm_liq_range_usd[i]} traded')\n",
    "axs[4, 1].set_title('nxm_minted')\n",
    "axs[4, 1].legend()\n",
    "# Subplot\n",
    "for i in range(len(sims)):\n",
    "    axs[5, 0].plot(range(model_days+1), sims[i].eth_sold_prediction, label=f'wNXM +2% on {wnxm_liq_range_usd[i]} traded')\n",
    "axs[5, 0].set_title('eth_sold')\n",
    "axs[5, 0].legend()\n",
    "# Subplot\n",
    "for i in range(len(sims)):\n",
    "    axs[5, 1].plot(range(model_days+1), sims[i].eth_acquired_prediction, label=f'wNXM +2% on {wnxm_liq_range_usd[i]} traded')\n",
    "axs[5, 1].set_title('eth_acquired')\n",
    "axs[5, 1].legend()\n",
    "# Subplot\n",
    "for i in range(len(sims)):\n",
    "    axs[6, 0].plot(range(model_days+1), sims[i].wnxm_removed_prediction, label=f'wNXM +2% on {wnxm_liq_range_usd[i]} traded')\n",
    "axs[6, 0].set_title('wnxm_removed')\n",
    "axs[6, 0].legend()\n",
    "# Subplot\n",
    "for i in range(len(sims)):\n",
    "    axs[6, 1].plot(range(model_days+1), sims[i].wnxm_created_prediction, label=f'wNXM +2% on {wnxm_liq_range_usd[i]} traded')\n",
    "axs[6, 1].set_title('wnxm_created')\n",
    "axs[6, 1].legend()\n",
    "\n",
    "plt.show()"
   ]
  },
  {
   "cell_type": "markdown",
   "id": "69b0c91e",
   "metadata": {},
   "source": [
    "Again, outcome depends on wNXM price fluctuation."
   ]
  },
  {
   "cell_type": "markdown",
   "id": "3a988fba",
   "metadata": {},
   "source": [
    "**Use for other range tests:** 500k USD shifts the wNXM price by _current wNXM price in ETH * 0.02_"
   ]
  },
  {
   "cell_type": "markdown",
   "id": "0320259a",
   "metadata": {},
   "source": [
    "### Change in initial ETH supply"
   ]
  },
  {
   "cell_type": "markdown",
   "id": "17e21758",
   "metadata": {},
   "source": [
    "Test whether there is much impact in terms of changing the initial supply of ETH that is provided to the liquidity pool."
   ]
  },
  {
   "cell_type": "code",
   "execution_count": null,
   "id": "a458a755",
   "metadata": {
    "ExecuteTime": {
     "end_time": "2022-09-29T15:17:52.813629Z",
     "start_time": "2022-09-29T15:17:48.287964Z"
    }
   },
   "outputs": [],
   "source": [
    "ratchet_perc = 0.005\n",
    "wnxm_move_size = wnxm_movement_per_eth(500_000)\n",
    "\n",
    "liq_perc_range = [0.05, 0.1, 0.2, 0.3, 0.4, 0.5]\n",
    "\n",
    "sims = [UniPool(liquidity_eth=open_liq(perc), wnxm_move_size=wnxm_move_size)\n",
    "        for perc in liq_perc_range]\n",
    "\n",
    "for sim in sims:\n",
    "    for i in range(model_days):\n",
    "        sim.one_day_passes()\n",
    "\n",
    "# for i in range(len(sims)):\n",
    "#     plt.plot(range(model_days+1), sims[i].nxm_price_prediction, label=f'{liq_perc_range[i]*100}% free cap to Uni pool')\n",
    "# plt.title('nxm_price')\n",
    "# plt.legend(); \n",
    "        \n",
    "#-----GRAPHS-----#\n",
    "# Destructuring initialization\n",
    "fig, axs = plt.subplots(7, 2, figsize=(15,27)) # axs is a (6,2) nd-array\n",
    "# Subplot\n",
    "for i in range(len(sims)):\n",
    "    axs[0, 0].plot(range(model_days+1), sims[i].nxm_price_prediction, label=f'{liq_perc_range[i]*100}% free cap to Uni pool')\n",
    "axs[0, 0].set_title('nxm_price')\n",
    "axs[0, 0].legend()\n",
    "# Subplot\n",
    "for i in range(len(sims)):\n",
    "    axs[0, 1].plot(range(model_days+1), sims[i].wnxm_price_prediction, label=f'{liq_perc_range[i]*100}% free cap to Uni pool')\n",
    "axs[0, 1].set_title('wnxm_price')\n",
    "axs[0, 1].legend()\n",
    "# Subplot\n",
    "for i in range(len(sims)):\n",
    "    axs[1, 0].plot(range(model_days+1), sims[i].nxm_supply_prediction, label=f'{liq_perc_range[i]*100}% free cap to Uni pool')\n",
    "axs[1, 0].set_title('nxm_supply')\n",
    "axs[1, 0].legend()\n",
    "# Subplot\n",
    "for i in range(len(sims)):\n",
    "    axs[1, 1].plot(range(model_days+1), sims[i].wnxm_supply_prediction, label=f'{liq_perc_range[i]*100}% free cap to Uni pool')\n",
    "axs[1, 1].set_title('wnxm_supply')\n",
    "axs[1, 1].legend()\n",
    "# Subplot\n",
    "for i in range(len(sims)):\n",
    "    axs[2, 0].plot(range(model_days+1), sims[i].book_value_prediction, label=f'{liq_perc_range[i]*100}% free cap to Uni pool')\n",
    "axs[2, 0].set_title('book_value')\n",
    "axs[2, 0].legend()\n",
    "# Subplot\n",
    "for i in range(len(sims)):\n",
    "    axs[2, 1].plot(range(model_days+1), sims[i].cap_pool_prediction, label=f'{liq_perc_range[i]*100}% free cap to Uni pool')\n",
    "axs[2, 1].set_title('cap_pool')\n",
    "axs[2, 1].legend()\n",
    "# Subplot\n",
    "for i in range(len(sims)):\n",
    "    axs[3, 0].plot(range(model_days+1), sims[i].liquidity_nxm_prediction, label=f'{liq_perc_range[i]*100}% free cap to Uni pool')\n",
    "axs[3, 0].set_title('liquidity_nxm')\n",
    "axs[3, 0].legend()\n",
    "# Subplot\n",
    "for i in range(len(sims)):\n",
    "    axs[3, 1].plot(range(model_days+1), sims[i].liquidity_eth_prediction, label=f'{liq_perc_range[i]*100}% free cap to Uni pool')\n",
    "axs[3, 1].set_title('liquidity_eth')\n",
    "axs[3, 1].legend()\n",
    "# Subplot\n",
    "for i in range(len(sims)):\n",
    "    axs[4, 0].plot(range(model_days+1), sims[i].nxm_burned_prediction, label=f'{liq_perc_range[i]*100}% free cap to Uni pool')\n",
    "axs[4, 0].set_title('nxm_burned')\n",
    "axs[4, 0].legend()\n",
    "# Subplot\n",
    "for i in range(len(sims)):\n",
    "    axs[4, 1].plot(range(model_days+1), sims[i].nxm_minted_prediction, label=f'{liq_perc_range[i]*100}% free cap to Uni pool')\n",
    "axs[4, 1].set_title('nxm_minted')\n",
    "axs[4, 1].legend()\n",
    "# Subplot\n",
    "for i in range(len(sims)):\n",
    "    axs[5, 0].plot(range(model_days+1), sims[i].eth_sold_prediction, label=f'{liq_perc_range[i]*100}% free cap to Uni pool')\n",
    "axs[5, 0].set_title('eth_sold')\n",
    "axs[5, 0].legend()\n",
    "# Subplot\n",
    "for i in range(len(sims)):\n",
    "    axs[5, 1].plot(range(model_days+1), sims[i].eth_acquired_prediction, label=f'{liq_perc_range[i]*100}% free cap to Uni pool')\n",
    "axs[5, 1].set_title('eth_acquired')\n",
    "axs[5, 1].legend()\n",
    "# Subplot\n",
    "for i in range(len(sims)):\n",
    "    axs[6, 0].plot(range(model_days+1), sims[i].wnxm_removed_prediction, label=f'{liq_perc_range[i]*100}% free cap to Uni pool')\n",
    "axs[6, 0].set_title('wnxm_removed')\n",
    "axs[6, 0].legend()\n",
    "# Subplot\n",
    "for i in range(len(sims)):\n",
    "    axs[6, 1].plot(range(model_days+1), sims[i].wnxm_created_prediction, label=f'{liq_perc_range[i]*100}% free cap to Uni pool')\n",
    "axs[6, 1].set_title('wnxm_created')\n",
    "axs[6, 1].legend()\n",
    "\n",
    "plt.show()"
   ]
  }
 ],
 "metadata": {
  "kernelspec": {
   "display_name": "Python 3 (ipykernel)",
   "language": "python",
   "name": "python3"
  },
  "language_info": {
   "codemirror_mode": {
    "name": "ipython",
    "version": 3
   },
   "file_extension": ".py",
   "mimetype": "text/x-python",
   "name": "python",
   "nbconvert_exporter": "python",
   "pygments_lexer": "ipython3",
   "version": "3.8.12"
  },
  "toc": {
   "base_numbering": 1,
   "nav_menu": {},
   "number_sections": true,
   "sideBar": true,
   "skip_h1_title": false,
   "title_cell": "Table of Contents",
   "title_sidebar": "Contents",
   "toc_cell": false,
   "toc_position": {},
   "toc_section_display": true,
   "toc_window_display": false
  }
 },
 "nbformat": 4,
 "nbformat_minor": 5
}
