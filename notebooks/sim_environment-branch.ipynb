{
 "cells": [
  {
   "cell_type": "code",
   "execution_count": 1,
   "id": "94a37c12",
   "metadata": {
    "ExecuteTime": {
     "end_time": "2022-06-29T15:00:25.835861Z",
     "start_time": "2022-06-29T15:00:25.801895Z"
    }
   },
   "outputs": [],
   "source": [
    "%load_ext autoreload\n",
    "%autoreload 2"
   ]
  },
  {
   "cell_type": "code",
   "execution_count": 2,
   "id": "cfa99602",
   "metadata": {
    "ExecuteTime": {
     "end_time": "2022-06-29T15:00:27.805797Z",
     "start_time": "2022-06-29T15:00:27.367878Z"
    }
   },
   "outputs": [],
   "source": [
    "from BondingCurveNexus.single_sim import single_sim\n",
    "from BondingCurveNexus.multi_sim import multi_sim"
   ]
  },
  {
   "cell_type": "code",
   "execution_count": 7,
   "id": "5ea013ce",
   "metadata": {
    "ExecuteTime": {
     "end_time": "2022-06-29T15:46:34.475597Z",
     "start_time": "2022-06-29T15:45:54.451435Z"
    }
   },
   "outputs": [
    {
     "name": "stderr",
     "output_type": "stream",
     "text": [
      " 55%|████████████████████████████████████████████████████▏                                         | 405/730 [00:39<00:32, 10.14it/s]\n"
     ]
    },
    {
     "ename": "KeyboardInterrupt",
     "evalue": "",
     "output_type": "error",
     "traceback": [
      "\u001b[0;31m---------------------------------------------------------------------------\u001b[0m",
      "\u001b[0;31mKeyboardInterrupt\u001b[0m                         Traceback (most recent call last)",
      "Input \u001b[0;32mIn [7]\u001b[0m, in \u001b[0;36m<cell line: 1>\u001b[0;34m()\u001b[0m\n\u001b[0;32m----> 1\u001b[0m \u001b[43msingle_sim\u001b[49m\u001b[43m(\u001b[49m\u001b[43m)\u001b[49m\n",
      "File \u001b[0;32m~/code/rmelbardis/BondingCurveNexus/BondingCurveNexus/single_sim.py:19\u001b[0m, in \u001b[0;36msingle_sim\u001b[0;34m()\u001b[0m\n\u001b[1;32m     16\u001b[0m sim \u001b[38;5;241m=\u001b[39m NexusSystem()\n\u001b[1;32m     18\u001b[0m \u001b[38;5;28;01mfor\u001b[39;00m i \u001b[38;5;129;01min\u001b[39;00m tqdm(\u001b[38;5;28mrange\u001b[39m(model_days)):\n\u001b[0;32m---> 19\u001b[0m     \u001b[43msim\u001b[49m\u001b[38;5;241;43m.\u001b[39;49m\u001b[43mone_day_passes\u001b[49m\u001b[43m(\u001b[49m\u001b[43m)\u001b[49m\n\u001b[1;32m     21\u001b[0m \u001b[38;5;66;03m#-----GRAPHS-----#\u001b[39;00m\n\u001b[1;32m     22\u001b[0m \u001b[38;5;66;03m# Destructuring initialization\u001b[39;00m\n\u001b[1;32m     23\u001b[0m fig, axs \u001b[38;5;241m=\u001b[39m plt\u001b[38;5;241m.\u001b[39msubplots(\u001b[38;5;241m7\u001b[39m, \u001b[38;5;241m2\u001b[39m, figsize\u001b[38;5;241m=\u001b[39m(\u001b[38;5;241m15\u001b[39m,\u001b[38;5;241m27\u001b[39m)) \u001b[38;5;66;03m# axs is a (7,2) nd-array\u001b[39;00m\n",
      "File \u001b[0;32m~/code/rmelbardis/BondingCurveNexus/BondingCurveNexus/sys_class.py:310\u001b[0m, in \u001b[0;36mNexusSystem.one_day_passes\u001b[0;34m(self)\u001b[0m\n\u001b[1;32m    308\u001b[0m eth_size \u001b[38;5;241m=\u001b[39m \u001b[38;5;28mself\u001b[39m\u001b[38;5;241m.\u001b[39meth_sale_size(model_params\u001b[38;5;241m.\u001b[39mgap_eth_sale)\n\u001b[1;32m    309\u001b[0m \u001b[38;5;66;03m# add exit to exit queue\u001b[39;00m\n\u001b[0;32m--> 310\u001b[0m \u001b[38;5;28;43mself\u001b[39;49m\u001b[38;5;241;43m.\u001b[39;49m\u001b[43msingle_exit\u001b[49m\u001b[43m(\u001b[49m\u001b[43meth\u001b[49m\u001b[38;5;241;43m=\u001b[39;49m\u001b[43meth_size\u001b[49m\u001b[43m)\u001b[49m\n\u001b[1;32m    311\u001b[0m \u001b[38;5;66;03m# move wNXM price (based on depth at t=0)\u001b[39;00m\n\u001b[1;32m    312\u001b[0m \u001b[38;5;28mself\u001b[39m\u001b[38;5;241m.\u001b[39mwnxm_price \u001b[38;5;241m+\u001b[39m\u001b[38;5;241m=\u001b[39m sys_params\u001b[38;5;241m.\u001b[39mwnxm_price_now \u001b[38;5;241m*\u001b[39m\\\n\u001b[1;32m    313\u001b[0m                     eth_size\u001b[38;5;241m/\u001b[39mmodel_params\u001b[38;5;241m.\u001b[39mwnxm_market_depth\n",
      "File \u001b[0;32m~/code/rmelbardis/BondingCurveNexus/BondingCurveNexus/sys_class.py:206\u001b[0m, in \u001b[0;36mNexusSystem.single_exit\u001b[0;34m(self, eth)\u001b[0m\n\u001b[1;32m    203\u001b[0m row_vec[\u001b[38;5;241m-\u001b[39m\u001b[38;5;241m1\u001b[39m] \u001b[38;5;241m=\u001b[39m nxm\n\u001b[1;32m    205\u001b[0m \u001b[38;5;66;03m# append vector to exit array\u001b[39;00m\n\u001b[0;32m--> 206\u001b[0m \u001b[38;5;28mself\u001b[39m\u001b[38;5;241m.\u001b[39mexit_array \u001b[38;5;241m=\u001b[39m \u001b[43mnp\u001b[49m\u001b[38;5;241;43m.\u001b[39;49m\u001b[43mvstack\u001b[49m\u001b[43m(\u001b[49m\u001b[43m(\u001b[49m\u001b[38;5;28;43mself\u001b[39;49m\u001b[38;5;241;43m.\u001b[39;49m\u001b[43mexit_array\u001b[49m\u001b[43m,\u001b[49m\u001b[43m \u001b[49m\u001b[43mrow_vec\u001b[49m\u001b[43m)\u001b[49m\u001b[43m)\u001b[49m\n",
      "File \u001b[0;32m<__array_function__ internals>:180\u001b[0m, in \u001b[0;36mvstack\u001b[0;34m(*args, **kwargs)\u001b[0m\n",
      "File \u001b[0;32m~/.pyenv/versions/3.8.12/envs/bonding_curve/lib/python3.8/site-packages/numpy/core/shape_base.py:282\u001b[0m, in \u001b[0;36mvstack\u001b[0;34m(tup)\u001b[0m\n\u001b[1;32m    280\u001b[0m \u001b[38;5;28;01mif\u001b[39;00m \u001b[38;5;129;01mnot\u001b[39;00m \u001b[38;5;28misinstance\u001b[39m(arrs, \u001b[38;5;28mlist\u001b[39m):\n\u001b[1;32m    281\u001b[0m     arrs \u001b[38;5;241m=\u001b[39m [arrs]\n\u001b[0;32m--> 282\u001b[0m \u001b[38;5;28;01mreturn\u001b[39;00m \u001b[43m_nx\u001b[49m\u001b[38;5;241;43m.\u001b[39;49m\u001b[43mconcatenate\u001b[49m\u001b[43m(\u001b[49m\u001b[43marrs\u001b[49m\u001b[43m,\u001b[49m\u001b[43m \u001b[49m\u001b[38;5;241;43m0\u001b[39;49m\u001b[43m)\u001b[49m\n",
      "File \u001b[0;32m<__array_function__ internals>:180\u001b[0m, in \u001b[0;36mconcatenate\u001b[0;34m(*args, **kwargs)\u001b[0m\n",
      "\u001b[0;31mKeyboardInterrupt\u001b[0m: "
     ]
    }
   ],
   "source": [
    "single_sim()"
   ]
  },
  {
   "cell_type": "code",
   "execution_count": null,
   "id": "e332cc12",
   "metadata": {},
   "outputs": [],
   "source": []
  }
 ],
 "metadata": {
  "kernelspec": {
   "display_name": "Python 3 (ipykernel)",
   "language": "python",
   "name": "python3"
  },
  "language_info": {
   "codemirror_mode": {
    "name": "ipython",
    "version": 3
   },
   "file_extension": ".py",
   "mimetype": "text/x-python",
   "name": "python",
   "nbconvert_exporter": "python",
   "pygments_lexer": "ipython3",
   "version": "3.8.12"
  },
  "toc": {
   "base_numbering": 1,
   "nav_menu": {},
   "number_sections": true,
   "sideBar": true,
   "skip_h1_title": false,
   "title_cell": "Table of Contents",
   "title_sidebar": "Contents",
   "toc_cell": false,
   "toc_position": {},
   "toc_section_display": true,
   "toc_window_display": false
  }
 },
 "nbformat": 4,
 "nbformat_minor": 5
}
