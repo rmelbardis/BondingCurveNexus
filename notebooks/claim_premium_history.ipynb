{
 "cells": [
  {
   "cell_type": "code",
   "execution_count": 8,
   "id": "7a4c9bb1",
   "metadata": {
    "ExecuteTime": {
     "end_time": "2022-06-29T15:13:33.864723Z",
     "start_time": "2022-06-29T15:13:33.860687Z"
    }
   },
   "outputs": [],
   "source": [
    "# Imports (numpy, pandas, matplotlib, seaborn imported automatically)\n",
    "from etherscan import Etherscan\n",
    "from BondingCurveNexus import config\n",
    "from scipy.stats import lognorm"
   ]
  },
  {
   "cell_type": "code",
   "execution_count": 9,
   "id": "4f0124d6",
   "metadata": {
    "ExecuteTime": {
     "end_time": "2022-06-29T15:13:34.712545Z",
     "start_time": "2022-06-29T15:13:34.218452Z"
    }
   },
   "outputs": [],
   "source": [
    "# activate etherscan client\n",
    "eth_client = Etherscan(config.etherscan_api)\n",
    "\n",
    "eth_price = float(eth_client.get_eth_last_price()['ethusd'])"
   ]
  },
  {
   "cell_type": "code",
   "execution_count": 10,
   "id": "74ca4aab",
   "metadata": {
    "ExecuteTime": {
     "end_time": "2022-06-29T15:13:34.867571Z",
     "start_time": "2022-06-29T15:13:34.860546Z"
    }
   },
   "outputs": [
    {
     "data": {
      "text/plain": [
       "1110.06"
      ]
     },
     "execution_count": 10,
     "metadata": {},
     "output_type": "execute_result"
    }
   ],
   "source": [
    "eth_price"
   ]
  },
  {
   "cell_type": "markdown",
   "id": "00b986b1",
   "metadata": {},
   "source": [
    "# Investigate patterns in cover amounts and claim frequencies"
   ]
  },
  {
   "cell_type": "markdown",
   "id": "5497fee9",
   "metadata": {},
   "source": [
    "## Bring in files and convert datetimes"
   ]
  },
  {
   "cell_type": "code",
   "execution_count": 11,
   "id": "bbe21bff",
   "metadata": {
    "ExecuteTime": {
     "end_time": "2022-06-29T15:13:36.753311Z",
     "start_time": "2022-06-29T15:13:36.682817Z"
    }
   },
   "outputs": [],
   "source": [
    "# bring in csvs\n",
    "\n",
    "# historic active cover amount\n",
    "active_cover_amount = pd.read_csv('../raw_data/active_cover_amount.csv')\n",
    "active_cover_amount.columns = ['date', 'USD', 'ETH']\n",
    "active_cover_amount['date'] = pd.to_datetime(active_cover_amount['date']).dt.date\n",
    "\n",
    "# claims history\n",
    "claims_history = pd.read_csv('../raw_data/all_claims.csv')\n",
    "claims_history['timestamp'] = pd.to_datetime(claims_history['timestamp'])\n",
    "\n",
    "# cover history\n",
    "cover_history = pd.read_csv('../raw_data/all_covers.csv')\n",
    "cover_history['start_time'] = pd.to_datetime(cover_history['start_time'])\n",
    "cover_history['end_time'] = pd.to_datetime(cover_history['end_time'])"
   ]
  },
  {
   "cell_type": "markdown",
   "id": "5a6ac9a8",
   "metadata": {},
   "source": [
    "## Investigate Distribution of Daily changes in Active cover amount"
   ]
  },
  {
   "cell_type": "code",
   "execution_count": 12,
   "id": "7b7a8d83",
   "metadata": {
    "ExecuteTime": {
     "end_time": "2022-06-29T15:13:39.389748Z",
     "start_time": "2022-06-29T15:13:39.350304Z"
    }
   },
   "outputs": [],
   "source": [
    "active_cover_amount = active_cover_amount.groupby('date').max()"
   ]
  },
  {
   "cell_type": "code",
   "execution_count": 13,
   "id": "51a63b37",
   "metadata": {
    "ExecuteTime": {
     "end_time": "2022-06-29T15:13:39.891509Z",
     "start_time": "2022-06-29T15:13:39.881469Z"
    }
   },
   "outputs": [],
   "source": [
    "active_cover_amount['ETH_change_perc'] = active_cover_amount['ETH'] / active_cover_amount['ETH'].shift(1) - 1\n",
    "active_cover_amount['ETH_change_val'] = active_cover_amount['ETH'] - active_cover_amount['ETH'].shift(1)"
   ]
  },
  {
   "cell_type": "code",
   "execution_count": 14,
   "id": "53281f57",
   "metadata": {
    "ExecuteTime": {
     "end_time": "2022-06-29T15:13:40.824832Z",
     "start_time": "2022-06-29T15:13:40.774083Z"
    }
   },
   "outputs": [
    {
     "data": {
      "text/html": [
       "<div>\n",
       "<style scoped>\n",
       "    .dataframe tbody tr th:only-of-type {\n",
       "        vertical-align: middle;\n",
       "    }\n",
       "\n",
       "    .dataframe tbody tr th {\n",
       "        vertical-align: top;\n",
       "    }\n",
       "\n",
       "    .dataframe thead th {\n",
       "        text-align: right;\n",
       "    }\n",
       "</style>\n",
       "<table border=\"1\" class=\"dataframe\">\n",
       "  <thead>\n",
       "    <tr style=\"text-align: right;\">\n",
       "      <th></th>\n",
       "      <th>USD</th>\n",
       "      <th>ETH</th>\n",
       "      <th>ETH_change_perc</th>\n",
       "      <th>ETH_change_val</th>\n",
       "    </tr>\n",
       "    <tr>\n",
       "      <th>date</th>\n",
       "      <th></th>\n",
       "      <th></th>\n",
       "      <th></th>\n",
       "      <th></th>\n",
       "    </tr>\n",
       "  </thead>\n",
       "  <tbody>\n",
       "    <tr>\n",
       "      <th>2019-07-12</th>\n",
       "      <td>9.775000e+02</td>\n",
       "      <td>3.549383</td>\n",
       "      <td>NaN</td>\n",
       "      <td>NaN</td>\n",
       "    </tr>\n",
       "    <tr>\n",
       "      <th>2019-07-13</th>\n",
       "      <td>2.807950e+04</td>\n",
       "      <td>103.606745</td>\n",
       "      <td>28.190074</td>\n",
       "      <td>100.057362</td>\n",
       "    </tr>\n",
       "    <tr>\n",
       "      <th>2019-07-14</th>\n",
       "      <td>7.119130e+04</td>\n",
       "      <td>304.197325</td>\n",
       "      <td>1.936076</td>\n",
       "      <td>200.590580</td>\n",
       "    </tr>\n",
       "    <tr>\n",
       "      <th>2019-07-15</th>\n",
       "      <td>1.085736e+05</td>\n",
       "      <td>472.018185</td>\n",
       "      <td>0.551684</td>\n",
       "      <td>167.820860</td>\n",
       "    </tr>\n",
       "    <tr>\n",
       "      <th>2019-07-16</th>\n",
       "      <td>2.327708e+05</td>\n",
       "      <td>1161.878556</td>\n",
       "      <td>1.461512</td>\n",
       "      <td>689.860371</td>\n",
       "    </tr>\n",
       "    <tr>\n",
       "      <th>...</th>\n",
       "      <td>...</td>\n",
       "      <td>...</td>\n",
       "      <td>...</td>\n",
       "      <td>...</td>\n",
       "    </tr>\n",
       "    <tr>\n",
       "      <th>2022-06-06</th>\n",
       "      <td>3.219952e+08</td>\n",
       "      <td>172156.440888</td>\n",
       "      <td>-0.006095</td>\n",
       "      <td>-1055.660376</td>\n",
       "    </tr>\n",
       "    <tr>\n",
       "      <th>2022-06-07</th>\n",
       "      <td>2.976967e+08</td>\n",
       "      <td>167008.480992</td>\n",
       "      <td>-0.029903</td>\n",
       "      <td>-5147.959896</td>\n",
       "    </tr>\n",
       "    <tr>\n",
       "      <th>2022-06-08</th>\n",
       "      <td>3.012918e+08</td>\n",
       "      <td>168740.869302</td>\n",
       "      <td>0.010373</td>\n",
       "      <td>1732.388310</td>\n",
       "    </tr>\n",
       "    <tr>\n",
       "      <th>2022-06-09</th>\n",
       "      <td>3.021231e+08</td>\n",
       "      <td>168264.606280</td>\n",
       "      <td>-0.002822</td>\n",
       "      <td>-476.263022</td>\n",
       "    </tr>\n",
       "    <tr>\n",
       "      <th>2022-06-10</th>\n",
       "      <td>3.149027e+08</td>\n",
       "      <td>177921.114797</td>\n",
       "      <td>0.057389</td>\n",
       "      <td>9656.508517</td>\n",
       "    </tr>\n",
       "  </tbody>\n",
       "</table>\n",
       "<p>946 rows × 4 columns</p>\n",
       "</div>"
      ],
      "text/plain": [
       "                     USD            ETH  ETH_change_perc  ETH_change_val\n",
       "date                                                                    \n",
       "2019-07-12  9.775000e+02       3.549383              NaN             NaN\n",
       "2019-07-13  2.807950e+04     103.606745        28.190074      100.057362\n",
       "2019-07-14  7.119130e+04     304.197325         1.936076      200.590580\n",
       "2019-07-15  1.085736e+05     472.018185         0.551684      167.820860\n",
       "2019-07-16  2.327708e+05    1161.878556         1.461512      689.860371\n",
       "...                  ...            ...              ...             ...\n",
       "2022-06-06  3.219952e+08  172156.440888        -0.006095    -1055.660376\n",
       "2022-06-07  2.976967e+08  167008.480992        -0.029903    -5147.959896\n",
       "2022-06-08  3.012918e+08  168740.869302         0.010373     1732.388310\n",
       "2022-06-09  3.021231e+08  168264.606280        -0.002822     -476.263022\n",
       "2022-06-10  3.149027e+08  177921.114797         0.057389     9656.508517\n",
       "\n",
       "[946 rows x 4 columns]"
      ]
     },
     "execution_count": 14,
     "metadata": {},
     "output_type": "execute_result"
    }
   ],
   "source": [
    "active_cover_amount"
   ]
  },
  {
   "cell_type": "code",
   "execution_count": 15,
   "id": "9fa000fe",
   "metadata": {
    "ExecuteTime": {
     "end_time": "2022-06-29T15:13:43.386978Z",
     "start_time": "2022-06-29T15:13:43.362260Z"
    }
   },
   "outputs": [
    {
     "data": {
      "text/html": [
       "<div>\n",
       "<style scoped>\n",
       "    .dataframe tbody tr th:only-of-type {\n",
       "        vertical-align: middle;\n",
       "    }\n",
       "\n",
       "    .dataframe tbody tr th {\n",
       "        vertical-align: top;\n",
       "    }\n",
       "\n",
       "    .dataframe thead th {\n",
       "        text-align: right;\n",
       "    }\n",
       "</style>\n",
       "<table border=\"1\" class=\"dataframe\">\n",
       "  <thead>\n",
       "    <tr style=\"text-align: right;\">\n",
       "      <th></th>\n",
       "      <th>USD</th>\n",
       "      <th>ETH</th>\n",
       "      <th>ETH_change_perc</th>\n",
       "      <th>ETH_change_val</th>\n",
       "    </tr>\n",
       "    <tr>\n",
       "      <th>date</th>\n",
       "      <th></th>\n",
       "      <th></th>\n",
       "      <th></th>\n",
       "      <th></th>\n",
       "    </tr>\n",
       "  </thead>\n",
       "  <tbody>\n",
       "    <tr>\n",
       "      <th>2021-10-14</th>\n",
       "      <td>4.316843e+08</td>\n",
       "      <td>114637.423597</td>\n",
       "      <td>-0.065447</td>\n",
       "      <td>-8028.045501</td>\n",
       "    </tr>\n",
       "    <tr>\n",
       "      <th>2021-10-15</th>\n",
       "      <td>4.637110e+08</td>\n",
       "      <td>119904.621381</td>\n",
       "      <td>0.045947</td>\n",
       "      <td>5267.197784</td>\n",
       "    </tr>\n",
       "    <tr>\n",
       "      <th>2021-10-16</th>\n",
       "      <td>4.721258e+08</td>\n",
       "      <td>123408.207362</td>\n",
       "      <td>0.029220</td>\n",
       "      <td>3503.585981</td>\n",
       "    </tr>\n",
       "    <tr>\n",
       "      <th>2021-10-17</th>\n",
       "      <td>4.784494e+08</td>\n",
       "      <td>123726.900447</td>\n",
       "      <td>0.002582</td>\n",
       "      <td>318.693085</td>\n",
       "    </tr>\n",
       "    <tr>\n",
       "      <th>2021-10-18</th>\n",
       "      <td>4.765855e+08</td>\n",
       "      <td>124704.274779</td>\n",
       "      <td>0.007899</td>\n",
       "      <td>977.374332</td>\n",
       "    </tr>\n",
       "    <tr>\n",
       "      <th>...</th>\n",
       "      <td>...</td>\n",
       "      <td>...</td>\n",
       "      <td>...</td>\n",
       "      <td>...</td>\n",
       "    </tr>\n",
       "    <tr>\n",
       "      <th>2022-06-06</th>\n",
       "      <td>3.219952e+08</td>\n",
       "      <td>172156.440888</td>\n",
       "      <td>-0.006095</td>\n",
       "      <td>-1055.660376</td>\n",
       "    </tr>\n",
       "    <tr>\n",
       "      <th>2022-06-07</th>\n",
       "      <td>2.976967e+08</td>\n",
       "      <td>167008.480992</td>\n",
       "      <td>-0.029903</td>\n",
       "      <td>-5147.959896</td>\n",
       "    </tr>\n",
       "    <tr>\n",
       "      <th>2022-06-08</th>\n",
       "      <td>3.012918e+08</td>\n",
       "      <td>168740.869302</td>\n",
       "      <td>0.010373</td>\n",
       "      <td>1732.388310</td>\n",
       "    </tr>\n",
       "    <tr>\n",
       "      <th>2022-06-09</th>\n",
       "      <td>3.021231e+08</td>\n",
       "      <td>168264.606280</td>\n",
       "      <td>-0.002822</td>\n",
       "      <td>-476.263022</td>\n",
       "    </tr>\n",
       "    <tr>\n",
       "      <th>2022-06-10</th>\n",
       "      <td>3.149027e+08</td>\n",
       "      <td>177921.114797</td>\n",
       "      <td>0.057389</td>\n",
       "      <td>9656.508517</td>\n",
       "    </tr>\n",
       "  </tbody>\n",
       "</table>\n",
       "<p>240 rows × 4 columns</p>\n",
       "</div>"
      ],
      "text/plain": [
       "                     USD            ETH  ETH_change_perc  ETH_change_val\n",
       "date                                                                    \n",
       "2021-10-14  4.316843e+08  114637.423597        -0.065447    -8028.045501\n",
       "2021-10-15  4.637110e+08  119904.621381         0.045947     5267.197784\n",
       "2021-10-16  4.721258e+08  123408.207362         0.029220     3503.585981\n",
       "2021-10-17  4.784494e+08  123726.900447         0.002582      318.693085\n",
       "2021-10-18  4.765855e+08  124704.274779         0.007899      977.374332\n",
       "...                  ...            ...              ...             ...\n",
       "2022-06-06  3.219952e+08  172156.440888        -0.006095    -1055.660376\n",
       "2022-06-07  2.976967e+08  167008.480992        -0.029903    -5147.959896\n",
       "2022-06-08  3.012918e+08  168740.869302         0.010373     1732.388310\n",
       "2022-06-09  3.021231e+08  168264.606280        -0.002822     -476.263022\n",
       "2022-06-10  3.149027e+08  177921.114797         0.057389     9656.508517\n",
       "\n",
       "[240 rows x 4 columns]"
      ]
     },
     "execution_count": 15,
     "metadata": {},
     "output_type": "execute_result"
    }
   ],
   "source": [
    "active_cover_amount[-240:]"
   ]
  },
  {
   "cell_type": "code",
   "execution_count": 29,
   "id": "af4d8b0d",
   "metadata": {
    "ExecuteTime": {
     "end_time": "2022-06-10T14:27:27.375729Z",
     "start_time": "2022-06-10T14:27:27.362593Z"
    }
   },
   "outputs": [
    {
     "data": {
      "text/plain": [
       "count      240.000000\n",
       "mean       230.231857\n",
       "std       4747.128874\n",
       "min     -19091.121391\n",
       "25%      -1501.448847\n",
       "50%         15.189586\n",
       "75%       2625.313310\n",
       "max      16371.068444\n",
       "Name: ETH_change_val, dtype: float64"
      ]
     },
     "execution_count": 29,
     "metadata": {},
     "output_type": "execute_result"
    }
   ],
   "source": [
    "active_cover_amount[-240:]['ETH_change_val'].describe()"
   ]
  },
  {
   "cell_type": "markdown",
   "id": "eaee58a7",
   "metadata": {},
   "source": [
    "## Investigate premium income & cover drop-off"
   ]
  },
  {
   "cell_type": "code",
   "execution_count": 16,
   "id": "3feda1a3",
   "metadata": {
    "ExecuteTime": {
     "end_time": "2022-06-29T15:13:46.651490Z",
     "start_time": "2022-06-29T15:13:46.624020Z"
    }
   },
   "outputs": [],
   "source": [
    "cover_history['start_time'] = pd.to_datetime(cover_history['start_time']).dt.date\n",
    "cover_history['end_time'] = pd.to_datetime(cover_history['end_time']).dt.date"
   ]
  },
  {
   "cell_type": "code",
   "execution_count": 17,
   "id": "89b9edfb",
   "metadata": {
    "ExecuteTime": {
     "end_time": "2022-06-29T15:13:47.295088Z",
     "start_time": "2022-06-29T15:13:47.262270Z"
    }
   },
   "outputs": [
    {
     "data": {
      "text/html": [
       "<div>\n",
       "<style scoped>\n",
       "    .dataframe tbody tr th:only-of-type {\n",
       "        vertical-align: middle;\n",
       "    }\n",
       "\n",
       "    .dataframe tbody tr th {\n",
       "        vertical-align: top;\n",
       "    }\n",
       "\n",
       "    .dataframe thead th {\n",
       "        text-align: right;\n",
       "    }\n",
       "</style>\n",
       "<table border=\"1\" class=\"dataframe\">\n",
       "  <thead>\n",
       "    <tr style=\"text-align: right;\">\n",
       "      <th></th>\n",
       "      <th>block_number</th>\n",
       "      <th>start_time</th>\n",
       "      <th>premium</th>\n",
       "      <th>address</th>\n",
       "      <th>cover_id</th>\n",
       "      <th>end_time</th>\n",
       "      <th>currency</th>\n",
       "      <th>amount</th>\n",
       "      <th>project</th>\n",
       "      <th>amount_usd</th>\n",
       "      <th>premium_usd</th>\n",
       "    </tr>\n",
       "  </thead>\n",
       "  <tbody>\n",
       "    <tr>\n",
       "      <th>0</th>\n",
       "      <td>8667271</td>\n",
       "      <td>2019-10-03</td>\n",
       "      <td>0.012991</td>\n",
       "      <td>0xc0a47dfe034b400b47bdad5fecda2621de6c4d95</td>\n",
       "      <td>84</td>\n",
       "      <td>2020-10-02</td>\n",
       "      <td>ETH</td>\n",
       "      <td>1.0</td>\n",
       "      <td>Uniswap v1</td>\n",
       "      <td>1114.7</td>\n",
       "      <td>14.481181</td>\n",
       "    </tr>\n",
       "    <tr>\n",
       "      <th>1</th>\n",
       "      <td>8759426</td>\n",
       "      <td>2019-10-17</td>\n",
       "      <td>0.064066</td>\n",
       "      <td>0xc0a47dfe034b400b47bdad5fecda2621de6c4d95</td>\n",
       "      <td>93</td>\n",
       "      <td>2020-03-15</td>\n",
       "      <td>ETH</td>\n",
       "      <td>12.0</td>\n",
       "      <td>Uniswap v1</td>\n",
       "      <td>13376.4</td>\n",
       "      <td>71.414045</td>\n",
       "    </tr>\n",
       "    <tr>\n",
       "      <th>2</th>\n",
       "      <td>8873386</td>\n",
       "      <td>2019-11-04</td>\n",
       "      <td>0.064066</td>\n",
       "      <td>0xc0a47dfe034b400b47bdad5fecda2621de6c4d95</td>\n",
       "      <td>98</td>\n",
       "      <td>2020-04-02</td>\n",
       "      <td>ETH</td>\n",
       "      <td>12.0</td>\n",
       "      <td>Uniswap v1</td>\n",
       "      <td>13376.4</td>\n",
       "      <td>71.414045</td>\n",
       "    </tr>\n",
       "    <tr>\n",
       "      <th>3</th>\n",
       "      <td>8895454</td>\n",
       "      <td>2019-11-08</td>\n",
       "      <td>0.074743</td>\n",
       "      <td>0xc0a47dfe034b400b47bdad5fecda2621de6c4d95</td>\n",
       "      <td>100</td>\n",
       "      <td>2020-04-06</td>\n",
       "      <td>ETH</td>\n",
       "      <td>14.0</td>\n",
       "      <td>Uniswap v1</td>\n",
       "      <td>15605.8</td>\n",
       "      <td>83.316386</td>\n",
       "    </tr>\n",
       "    <tr>\n",
       "      <th>4</th>\n",
       "      <td>8935109</td>\n",
       "      <td>2019-11-14</td>\n",
       "      <td>0.172977</td>\n",
       "      <td>0xc0a47dfe034b400b47bdad5fecda2621de6c4d95</td>\n",
       "      <td>106</td>\n",
       "      <td>2020-02-12</td>\n",
       "      <td>ETH</td>\n",
       "      <td>54.0</td>\n",
       "      <td>Uniswap v1</td>\n",
       "      <td>60193.8</td>\n",
       "      <td>192.817922</td>\n",
       "    </tr>\n",
       "    <tr>\n",
       "      <th>...</th>\n",
       "      <td>...</td>\n",
       "      <td>...</td>\n",
       "      <td>...</td>\n",
       "      <td>...</td>\n",
       "      <td>...</td>\n",
       "      <td>...</td>\n",
       "      <td>...</td>\n",
       "      <td>...</td>\n",
       "      <td>...</td>\n",
       "      <td>...</td>\n",
       "      <td>...</td>\n",
       "    </tr>\n",
       "    <tr>\n",
       "      <th>7563</th>\n",
       "      <td>15030977</td>\n",
       "      <td>2022-06-26</td>\n",
       "      <td>32.545380</td>\n",
       "      <td>0x364508a5ca0538d8119d3bf40a284635686c98c4</td>\n",
       "      <td>7564</td>\n",
       "      <td>2022-12-23</td>\n",
       "      <td>ETH</td>\n",
       "      <td>2540.0</td>\n",
       "      <td>dydx Perpetual</td>\n",
       "      <td>2831338.0</td>\n",
       "      <td>36278.334949</td>\n",
       "    </tr>\n",
       "    <tr>\n",
       "      <th>7564</th>\n",
       "      <td>15031000</td>\n",
       "      <td>2022-06-26</td>\n",
       "      <td>12.875484</td>\n",
       "      <td>0x364508a5ca0538d8119d3bf40a284635686c98c4</td>\n",
       "      <td>7565</td>\n",
       "      <td>2022-11-23</td>\n",
       "      <td>DAI</td>\n",
       "      <td>1205.0</td>\n",
       "      <td>dydx Perpetual</td>\n",
       "      <td>1205.0</td>\n",
       "      <td>12.875484</td>\n",
       "    </tr>\n",
       "    <tr>\n",
       "      <th>7565</th>\n",
       "      <td>15033219</td>\n",
       "      <td>2022-06-27</td>\n",
       "      <td>59.794661</td>\n",
       "      <td>0xc2edad668740f1aa35e4d8f227fb8e17dca888cd</td>\n",
       "      <td>7566</td>\n",
       "      <td>2022-07-27</td>\n",
       "      <td>DAI</td>\n",
       "      <td>28000.0</td>\n",
       "      <td>SushiSwap v1</td>\n",
       "      <td>28000.0</td>\n",
       "      <td>59.794661</td>\n",
       "    </tr>\n",
       "    <tr>\n",
       "      <th>7566</th>\n",
       "      <td>15037244</td>\n",
       "      <td>2022-06-28</td>\n",
       "      <td>95.869544</td>\n",
       "      <td>0xafce80b19a8ce13dec0739a1aab7a028d6845eb3</td>\n",
       "      <td>7567</td>\n",
       "      <td>2022-09-13</td>\n",
       "      <td>DAI</td>\n",
       "      <td>11400.0</td>\n",
       "      <td>mStable</td>\n",
       "      <td>11400.0</td>\n",
       "      <td>95.869544</td>\n",
       "    </tr>\n",
       "    <tr>\n",
       "      <th>7567</th>\n",
       "      <td>15039187</td>\n",
       "      <td>2022-06-28</td>\n",
       "      <td>2594.190569</td>\n",
       "      <td>0xafce80b19a8ce13dec0739a1aab7a028d6845eb3</td>\n",
       "      <td>7568</td>\n",
       "      <td>2022-09-26</td>\n",
       "      <td>DAI</td>\n",
       "      <td>262500.0</td>\n",
       "      <td>mStable</td>\n",
       "      <td>262500.0</td>\n",
       "      <td>2594.190569</td>\n",
       "    </tr>\n",
       "  </tbody>\n",
       "</table>\n",
       "<p>7568 rows × 11 columns</p>\n",
       "</div>"
      ],
      "text/plain": [
       "      block_number  start_time      premium  \\\n",
       "0          8667271  2019-10-03     0.012991   \n",
       "1          8759426  2019-10-17     0.064066   \n",
       "2          8873386  2019-11-04     0.064066   \n",
       "3          8895454  2019-11-08     0.074743   \n",
       "4          8935109  2019-11-14     0.172977   \n",
       "...            ...         ...          ...   \n",
       "7563      15030977  2022-06-26    32.545380   \n",
       "7564      15031000  2022-06-26    12.875484   \n",
       "7565      15033219  2022-06-27    59.794661   \n",
       "7566      15037244  2022-06-28    95.869544   \n",
       "7567      15039187  2022-06-28  2594.190569   \n",
       "\n",
       "                                         address  cover_id    end_time  \\\n",
       "0     0xc0a47dfe034b400b47bdad5fecda2621de6c4d95        84  2020-10-02   \n",
       "1     0xc0a47dfe034b400b47bdad5fecda2621de6c4d95        93  2020-03-15   \n",
       "2     0xc0a47dfe034b400b47bdad5fecda2621de6c4d95        98  2020-04-02   \n",
       "3     0xc0a47dfe034b400b47bdad5fecda2621de6c4d95       100  2020-04-06   \n",
       "4     0xc0a47dfe034b400b47bdad5fecda2621de6c4d95       106  2020-02-12   \n",
       "...                                          ...       ...         ...   \n",
       "7563  0x364508a5ca0538d8119d3bf40a284635686c98c4      7564  2022-12-23   \n",
       "7564  0x364508a5ca0538d8119d3bf40a284635686c98c4      7565  2022-11-23   \n",
       "7565  0xc2edad668740f1aa35e4d8f227fb8e17dca888cd      7566  2022-07-27   \n",
       "7566  0xafce80b19a8ce13dec0739a1aab7a028d6845eb3      7567  2022-09-13   \n",
       "7567  0xafce80b19a8ce13dec0739a1aab7a028d6845eb3      7568  2022-09-26   \n",
       "\n",
       "     currency    amount         project  amount_usd   premium_usd  \n",
       "0         ETH       1.0      Uniswap v1      1114.7     14.481181  \n",
       "1         ETH      12.0      Uniswap v1     13376.4     71.414045  \n",
       "2         ETH      12.0      Uniswap v1     13376.4     71.414045  \n",
       "3         ETH      14.0      Uniswap v1     15605.8     83.316386  \n",
       "4         ETH      54.0      Uniswap v1     60193.8    192.817922  \n",
       "...       ...       ...             ...         ...           ...  \n",
       "7563      ETH    2540.0  dydx Perpetual   2831338.0  36278.334949  \n",
       "7564      DAI    1205.0  dydx Perpetual      1205.0     12.875484  \n",
       "7565      DAI   28000.0    SushiSwap v1     28000.0     59.794661  \n",
       "7566      DAI   11400.0         mStable     11400.0     95.869544  \n",
       "7567      DAI  262500.0         mStable    262500.0   2594.190569  \n",
       "\n",
       "[7568 rows x 11 columns]"
      ]
     },
     "execution_count": 17,
     "metadata": {},
     "output_type": "execute_result"
    }
   ],
   "source": [
    "cover_history"
   ]
  },
  {
   "cell_type": "code",
   "execution_count": 18,
   "id": "1151e597",
   "metadata": {
    "ExecuteTime": {
     "end_time": "2022-06-29T15:13:49.593640Z",
     "start_time": "2022-06-29T15:13:49.581721Z"
    }
   },
   "outputs": [],
   "source": [
    "cover_history['premium_eth'] = np.where(cover_history['currency'] == 'DAI',\n",
    "                                         cover_history['premium']/eth_price, cover_history['premium'])\n",
    "cover_history['amount_eth'] = np.where(cover_history['currency'] == 'DAI',\n",
    "                                         cover_history['amount']/eth_price, cover_history['amount'])"
   ]
  },
  {
   "cell_type": "code",
   "execution_count": 19,
   "id": "9e365161",
   "metadata": {
    "ExecuteTime": {
     "end_time": "2022-06-29T15:13:50.219247Z",
     "start_time": "2022-06-29T15:13:50.210888Z"
    }
   },
   "outputs": [],
   "source": [
    "cover_history['rate'] = cover_history['premium_eth']/cover_history['amount_eth']"
   ]
  },
  {
   "cell_type": "code",
   "execution_count": 20,
   "id": "9b129a98",
   "metadata": {
    "ExecuteTime": {
     "end_time": "2022-06-29T15:13:50.844591Z",
     "start_time": "2022-06-29T15:13:50.827471Z"
    }
   },
   "outputs": [
    {
     "data": {
      "text/plain": [
       "count    7568.000000\n",
       "mean        0.009959\n",
       "std         0.014084\n",
       "min         0.001068\n",
       "25%         0.002136\n",
       "50%         0.006407\n",
       "75%         0.012813\n",
       "max         0.447375\n",
       "Name: rate, dtype: float64"
      ]
     },
     "execution_count": 20,
     "metadata": {},
     "output_type": "execute_result"
    }
   ],
   "source": [
    "cover_history['rate'].describe()"
   ]
  },
  {
   "cell_type": "markdown",
   "id": "43733137",
   "metadata": {},
   "source": [
    "### Premium & Amount History (since June 2020)"
   ]
  },
  {
   "cell_type": "code",
   "execution_count": 21,
   "id": "85675010",
   "metadata": {
    "ExecuteTime": {
     "end_time": "2022-06-29T15:13:53.617951Z",
     "start_time": "2022-06-29T15:13:53.569288Z"
    }
   },
   "outputs": [],
   "source": [
    "# group by day\n",
    "premium_history = cover_history.groupby('start_time')[['premium_eth']].sum().reset_index()\n",
    "amount_history = cover_history.groupby('start_time')[['amount_eth']].sum().reset_index()"
   ]
  },
  {
   "cell_type": "code",
   "execution_count": 22,
   "id": "b6b828ee",
   "metadata": {
    "ExecuteTime": {
     "end_time": "2022-06-29T15:13:54.206536Z",
     "start_time": "2022-06-29T15:13:54.200469Z"
    }
   },
   "outputs": [],
   "source": [
    "premium_history = premium_history.iloc[153:]\n",
    "amount_history = amount_history.iloc[153:]"
   ]
  },
  {
   "cell_type": "code",
   "execution_count": 23,
   "id": "4e8a5bf6",
   "metadata": {
    "ExecuteTime": {
     "end_time": "2022-06-29T15:13:54.794874Z",
     "start_time": "2022-06-29T15:13:54.785981Z"
    }
   },
   "outputs": [],
   "source": [
    "premium_history = premium_history.set_index('start_time')\n",
    "amount_history = amount_history.set_index('start_time')"
   ]
  },
  {
   "cell_type": "code",
   "execution_count": 24,
   "id": "c4ca1a53",
   "metadata": {
    "ExecuteTime": {
     "end_time": "2022-06-29T15:13:56.779446Z",
     "start_time": "2022-06-29T15:13:56.768531Z"
    }
   },
   "outputs": [],
   "source": [
    "# fill in empty dates with no cover buys\n",
    "idx = pd.date_range('2020-06-01', '2022-06-10')\n",
    "premium_history = premium_history.reindex(idx, fill_value=0)\n",
    "amount_history = amount_history.reindex(idx, fill_value=0)"
   ]
  },
  {
   "cell_type": "code",
   "execution_count": 25,
   "id": "773c8d24",
   "metadata": {
    "ExecuteTime": {
     "end_time": "2022-06-29T15:13:57.621161Z",
     "start_time": "2022-06-29T15:13:57.605765Z"
    }
   },
   "outputs": [
    {
     "data": {
      "text/html": [
       "<div>\n",
       "<style scoped>\n",
       "    .dataframe tbody tr th:only-of-type {\n",
       "        vertical-align: middle;\n",
       "    }\n",
       "\n",
       "    .dataframe tbody tr th {\n",
       "        vertical-align: top;\n",
       "    }\n",
       "\n",
       "    .dataframe thead th {\n",
       "        text-align: right;\n",
       "    }\n",
       "</style>\n",
       "<table border=\"1\" class=\"dataframe\">\n",
       "  <thead>\n",
       "    <tr style=\"text-align: right;\">\n",
       "      <th></th>\n",
       "      <th>premium_eth</th>\n",
       "    </tr>\n",
       "  </thead>\n",
       "  <tbody>\n",
       "    <tr>\n",
       "      <th>count</th>\n",
       "      <td>740.000000</td>\n",
       "    </tr>\n",
       "    <tr>\n",
       "      <th>mean</th>\n",
       "      <td>23.964079</td>\n",
       "    </tr>\n",
       "    <tr>\n",
       "      <th>std</th>\n",
       "      <td>143.467686</td>\n",
       "    </tr>\n",
       "    <tr>\n",
       "      <th>min</th>\n",
       "      <td>0.000000</td>\n",
       "    </tr>\n",
       "    <tr>\n",
       "      <th>25%</th>\n",
       "      <td>2.461218</td>\n",
       "    </tr>\n",
       "    <tr>\n",
       "      <th>50%</th>\n",
       "      <td>7.854165</td>\n",
       "    </tr>\n",
       "    <tr>\n",
       "      <th>75%</th>\n",
       "      <td>19.442901</td>\n",
       "    </tr>\n",
       "    <tr>\n",
       "      <th>max</th>\n",
       "      <td>3770.515245</td>\n",
       "    </tr>\n",
       "  </tbody>\n",
       "</table>\n",
       "</div>"
      ],
      "text/plain": [
       "       premium_eth\n",
       "count   740.000000\n",
       "mean     23.964079\n",
       "std     143.467686\n",
       "min       0.000000\n",
       "25%       2.461218\n",
       "50%       7.854165\n",
       "75%      19.442901\n",
       "max    3770.515245"
      ]
     },
     "execution_count": 25,
     "metadata": {},
     "output_type": "execute_result"
    }
   ],
   "source": [
    "premium_history.describe()"
   ]
  },
  {
   "cell_type": "code",
   "execution_count": 26,
   "id": "7e565fc3",
   "metadata": {
    "ExecuteTime": {
     "end_time": "2022-06-29T15:13:59.623039Z",
     "start_time": "2022-06-29T15:13:59.601624Z"
    }
   },
   "outputs": [
    {
     "data": {
      "text/html": [
       "<div>\n",
       "<style scoped>\n",
       "    .dataframe tbody tr th:only-of-type {\n",
       "        vertical-align: middle;\n",
       "    }\n",
       "\n",
       "    .dataframe tbody tr th {\n",
       "        vertical-align: top;\n",
       "    }\n",
       "\n",
       "    .dataframe thead th {\n",
       "        text-align: right;\n",
       "    }\n",
       "</style>\n",
       "<table border=\"1\" class=\"dataframe\">\n",
       "  <thead>\n",
       "    <tr style=\"text-align: right;\">\n",
       "      <th></th>\n",
       "      <th>amount_eth</th>\n",
       "    </tr>\n",
       "  </thead>\n",
       "  <tbody>\n",
       "    <tr>\n",
       "      <th>2021-10-14</th>\n",
       "      <td>1486.699187</td>\n",
       "    </tr>\n",
       "    <tr>\n",
       "      <th>2021-10-15</th>\n",
       "      <td>7876.977118</td>\n",
       "    </tr>\n",
       "    <tr>\n",
       "      <th>2021-10-16</th>\n",
       "      <td>12381.929229</td>\n",
       "    </tr>\n",
       "    <tr>\n",
       "      <th>2021-10-17</th>\n",
       "      <td>295.000000</td>\n",
       "    </tr>\n",
       "    <tr>\n",
       "      <th>2021-10-18</th>\n",
       "      <td>5347.368863</td>\n",
       "    </tr>\n",
       "    <tr>\n",
       "      <th>...</th>\n",
       "      <td>...</td>\n",
       "    </tr>\n",
       "    <tr>\n",
       "      <th>2022-06-06</th>\n",
       "      <td>4021.971659</td>\n",
       "    </tr>\n",
       "    <tr>\n",
       "      <th>2022-06-07</th>\n",
       "      <td>2530.981064</td>\n",
       "    </tr>\n",
       "    <tr>\n",
       "      <th>2022-06-08</th>\n",
       "      <td>5697.170603</td>\n",
       "    </tr>\n",
       "    <tr>\n",
       "      <th>2022-06-09</th>\n",
       "      <td>949.745960</td>\n",
       "    </tr>\n",
       "    <tr>\n",
       "      <th>2022-06-10</th>\n",
       "      <td>12412.077221</td>\n",
       "    </tr>\n",
       "  </tbody>\n",
       "</table>\n",
       "<p>240 rows × 1 columns</p>\n",
       "</div>"
      ],
      "text/plain": [
       "              amount_eth\n",
       "2021-10-14   1486.699187\n",
       "2021-10-15   7876.977118\n",
       "2021-10-16  12381.929229\n",
       "2021-10-17    295.000000\n",
       "2021-10-18   5347.368863\n",
       "...                  ...\n",
       "2022-06-06   4021.971659\n",
       "2022-06-07   2530.981064\n",
       "2022-06-08   5697.170603\n",
       "2022-06-09    949.745960\n",
       "2022-06-10  12412.077221\n",
       "\n",
       "[240 rows x 1 columns]"
      ]
     },
     "execution_count": 26,
     "metadata": {},
     "output_type": "execute_result"
    }
   ],
   "source": [
    "amount_history[500:]"
   ]
  },
  {
   "cell_type": "code",
   "execution_count": 27,
   "id": "ec94bbba",
   "metadata": {
    "ExecuteTime": {
     "end_time": "2022-06-29T15:14:01.501060Z",
     "start_time": "2022-06-29T15:14:01.482072Z"
    }
   },
   "outputs": [
    {
     "data": {
      "text/html": [
       "<div>\n",
       "<style scoped>\n",
       "    .dataframe tbody tr th:only-of-type {\n",
       "        vertical-align: middle;\n",
       "    }\n",
       "\n",
       "    .dataframe tbody tr th {\n",
       "        vertical-align: top;\n",
       "    }\n",
       "\n",
       "    .dataframe thead th {\n",
       "        text-align: right;\n",
       "    }\n",
       "</style>\n",
       "<table border=\"1\" class=\"dataframe\">\n",
       "  <thead>\n",
       "    <tr style=\"text-align: right;\">\n",
       "      <th></th>\n",
       "      <th>amount_eth</th>\n",
       "    </tr>\n",
       "  </thead>\n",
       "  <tbody>\n",
       "    <tr>\n",
       "      <th>count</th>\n",
       "      <td>240.000000</td>\n",
       "    </tr>\n",
       "    <tr>\n",
       "      <th>mean</th>\n",
       "      <td>4350.957539</td>\n",
       "    </tr>\n",
       "    <tr>\n",
       "      <th>std</th>\n",
       "      <td>5750.903577</td>\n",
       "    </tr>\n",
       "    <tr>\n",
       "      <th>min</th>\n",
       "      <td>0.000000</td>\n",
       "    </tr>\n",
       "    <tr>\n",
       "      <th>25%</th>\n",
       "      <td>741.805974</td>\n",
       "    </tr>\n",
       "    <tr>\n",
       "      <th>50%</th>\n",
       "      <td>2065.225691</td>\n",
       "    </tr>\n",
       "    <tr>\n",
       "      <th>75%</th>\n",
       "      <td>6049.177535</td>\n",
       "    </tr>\n",
       "    <tr>\n",
       "      <th>max</th>\n",
       "      <td>32193.961516</td>\n",
       "    </tr>\n",
       "  </tbody>\n",
       "</table>\n",
       "</div>"
      ],
      "text/plain": [
       "         amount_eth\n",
       "count    240.000000\n",
       "mean    4350.957539\n",
       "std     5750.903577\n",
       "min        0.000000\n",
       "25%      741.805974\n",
       "50%     2065.225691\n",
       "75%     6049.177535\n",
       "max    32193.961516"
      ]
     },
     "execution_count": 27,
     "metadata": {},
     "output_type": "execute_result"
    }
   ],
   "source": [
    "amount_history[500:].describe()"
   ]
  },
  {
   "cell_type": "markdown",
   "id": "50e29ac0",
   "metadata": {},
   "source": [
    "### Drop-off in cover amounts (since 14 Oct 2021)\n"
   ]
  },
  {
   "cell_type": "code",
   "execution_count": 28,
   "id": "ade7efa8",
   "metadata": {
    "ExecuteTime": {
     "end_time": "2022-06-29T15:14:03.160605Z",
     "start_time": "2022-06-29T15:14:03.137509Z"
    }
   },
   "outputs": [],
   "source": [
    "# group by day\n",
    "drop_history = cover_history.groupby('end_time')[['amount_eth']].sum().reset_index()\n",
    "drop_history = drop_history.iloc[569:807]\n",
    "drop_history = drop_history.set_index('end_time')\n",
    "idx = pd.date_range('2021-10-14', '2022-06-10')\n",
    "drop_history = drop_history.reindex(idx, fill_value=0)"
   ]
  },
  {
   "cell_type": "code",
   "execution_count": 29,
   "id": "c47e86f5",
   "metadata": {
    "ExecuteTime": {
     "end_time": "2022-06-29T15:14:04.055772Z",
     "start_time": "2022-06-29T15:14:04.036249Z"
    }
   },
   "outputs": [
    {
     "data": {
      "text/html": [
       "<div>\n",
       "<style scoped>\n",
       "    .dataframe tbody tr th:only-of-type {\n",
       "        vertical-align: middle;\n",
       "    }\n",
       "\n",
       "    .dataframe tbody tr th {\n",
       "        vertical-align: top;\n",
       "    }\n",
       "\n",
       "    .dataframe thead th {\n",
       "        text-align: right;\n",
       "    }\n",
       "</style>\n",
       "<table border=\"1\" class=\"dataframe\">\n",
       "  <thead>\n",
       "    <tr style=\"text-align: right;\">\n",
       "      <th></th>\n",
       "      <th>amount_eth</th>\n",
       "    </tr>\n",
       "  </thead>\n",
       "  <tbody>\n",
       "    <tr>\n",
       "      <th>2021-10-14</th>\n",
       "      <td>1556.890240</td>\n",
       "    </tr>\n",
       "    <tr>\n",
       "      <th>2021-10-15</th>\n",
       "      <td>242.793381</td>\n",
       "    </tr>\n",
       "    <tr>\n",
       "      <th>2021-10-16</th>\n",
       "      <td>1377.167522</td>\n",
       "    </tr>\n",
       "    <tr>\n",
       "      <th>2021-10-17</th>\n",
       "      <td>347.371439</td>\n",
       "    </tr>\n",
       "    <tr>\n",
       "      <th>2021-10-18</th>\n",
       "      <td>1157.332360</td>\n",
       "    </tr>\n",
       "    <tr>\n",
       "      <th>...</th>\n",
       "      <td>...</td>\n",
       "    </tr>\n",
       "    <tr>\n",
       "      <th>2022-06-06</th>\n",
       "      <td>18535.407888</td>\n",
       "    </tr>\n",
       "    <tr>\n",
       "      <th>2022-06-07</th>\n",
       "      <td>197.000000</td>\n",
       "    </tr>\n",
       "    <tr>\n",
       "      <th>2022-06-08</th>\n",
       "      <td>1234.167522</td>\n",
       "    </tr>\n",
       "    <tr>\n",
       "      <th>2022-06-09</th>\n",
       "      <td>606.158802</td>\n",
       "    </tr>\n",
       "    <tr>\n",
       "      <th>2022-06-10</th>\n",
       "      <td>2760.780877</td>\n",
       "    </tr>\n",
       "  </tbody>\n",
       "</table>\n",
       "<p>240 rows × 1 columns</p>\n",
       "</div>"
      ],
      "text/plain": [
       "              amount_eth\n",
       "2021-10-14   1556.890240\n",
       "2021-10-15    242.793381\n",
       "2021-10-16   1377.167522\n",
       "2021-10-17    347.371439\n",
       "2021-10-18   1157.332360\n",
       "...                  ...\n",
       "2022-06-06  18535.407888\n",
       "2022-06-07    197.000000\n",
       "2022-06-08   1234.167522\n",
       "2022-06-09    606.158802\n",
       "2022-06-10   2760.780877\n",
       "\n",
       "[240 rows x 1 columns]"
      ]
     },
     "execution_count": 29,
     "metadata": {},
     "output_type": "execute_result"
    }
   ],
   "source": [
    "drop_history"
   ]
  },
  {
   "cell_type": "code",
   "execution_count": 30,
   "id": "d17c9694",
   "metadata": {
    "ExecuteTime": {
     "end_time": "2022-06-29T15:14:06.216035Z",
     "start_time": "2022-06-29T15:14:06.203985Z"
    }
   },
   "outputs": [
    {
     "data": {
      "text/plain": [
       "amount_eth    4008.692536\n",
       "dtype: float64"
      ]
     },
     "execution_count": 30,
     "metadata": {},
     "output_type": "execute_result"
    }
   ],
   "source": [
    "drop_history.mean()"
   ]
  },
  {
   "cell_type": "markdown",
   "id": "217d9752",
   "metadata": {},
   "source": [
    "## Investigate frequency and size of accepted claims"
   ]
  },
  {
   "cell_type": "code",
   "execution_count": 31,
   "id": "2b7f9142",
   "metadata": {
    "ExecuteTime": {
     "end_time": "2022-06-29T15:14:08.369918Z",
     "start_time": "2022-06-29T15:14:08.358346Z"
    }
   },
   "outputs": [
    {
     "data": {
      "text/plain": [
       "0.030197444831591175"
      ]
     },
     "execution_count": 31,
     "metadata": {},
     "output_type": "execute_result"
    }
   ],
   "source": [
    "# filter accepted claims only\n",
    "accepted_claims = claims_history[claims_history['verdict'] == 'Accepted']\n",
    "\n",
    "# work out days since first claim\n",
    "days_since_first_claim = (pd.Timestamp.now() - accepted_claims['timestamp'].iloc[0]).days\n",
    "\n",
    "# count number of claims and divide by number of days\n",
    "avg_claim_freq = accepted_claims['verdict'].count() / days_since_first_claim\n",
    "\n",
    "avg_claim_freq "
   ]
  },
  {
   "cell_type": "code",
   "execution_count": 32,
   "id": "5fc28426",
   "metadata": {
    "ExecuteTime": {
     "end_time": "2022-06-29T15:14:10.210823Z",
     "start_time": "2022-06-29T15:14:10.027704Z"
    }
   },
   "outputs": [
    {
     "name": "stderr",
     "output_type": "stream",
     "text": [
      "/tmp/ipykernel_6553/834324826.py:1: SettingWithCopyWarning: \n",
      "A value is trying to be set on a copy of a slice from a DataFrame.\n",
      "Try using .loc[row_indexer,col_indexer] = value instead\n",
      "\n",
      "See the caveats in the documentation: https://pandas.pydata.org/pandas-docs/stable/user_guide/indexing.html#returning-a-view-versus-a-copy\n",
      "  accepted_claims['amount_eth'] = np.where(accepted_claims['currency'] == 'DAI',\n"
     ]
    }
   ],
   "source": [
    "accepted_claims['amount_eth'] = np.where(accepted_claims['currency'] == 'DAI',\n",
    "                                         accepted_claims['amount']/eth_price, accepted_claims['amount'])"
   ]
  },
  {
   "cell_type": "code",
   "execution_count": 33,
   "id": "7dfaa7ce",
   "metadata": {
    "ExecuteTime": {
     "end_time": "2022-06-29T15:14:17.568968Z",
     "start_time": "2022-06-29T15:14:17.541400Z"
    },
    "scrolled": true
   },
   "outputs": [
    {
     "data": {
      "text/html": [
       "<div>\n",
       "<style scoped>\n",
       "    .dataframe tbody tr th:only-of-type {\n",
       "        vertical-align: middle;\n",
       "    }\n",
       "\n",
       "    .dataframe tbody tr th {\n",
       "        vertical-align: top;\n",
       "    }\n",
       "\n",
       "    .dataframe thead th {\n",
       "        text-align: right;\n",
       "    }\n",
       "</style>\n",
       "<table border=\"1\" class=\"dataframe\">\n",
       "  <thead>\n",
       "    <tr style=\"text-align: right;\">\n",
       "      <th></th>\n",
       "      <th>timestamp</th>\n",
       "      <th>cover_id</th>\n",
       "      <th>block_number</th>\n",
       "      <th>verdict</th>\n",
       "      <th>claim_id</th>\n",
       "      <th>project</th>\n",
       "      <th>amount_usd</th>\n",
       "      <th>amount</th>\n",
       "      <th>currency</th>\n",
       "      <th>start_time</th>\n",
       "      <th>amount_eth</th>\n",
       "    </tr>\n",
       "  </thead>\n",
       "  <tbody>\n",
       "    <tr>\n",
       "      <th>0</th>\n",
       "      <td>2020-02-18 17:01:18</td>\n",
       "      <td>152</td>\n",
       "      <td>9508333</td>\n",
       "      <td>Accepted</td>\n",
       "      <td>2</td>\n",
       "      <td>bZx v1</td>\n",
       "      <td>8050.76</td>\n",
       "      <td>4.0</td>\n",
       "      <td>ETH</td>\n",
       "      <td>2020-02-03 19:58:33</td>\n",
       "      <td>4.000000</td>\n",
       "    </tr>\n",
       "    <tr>\n",
       "      <th>2</th>\n",
       "      <td>2020-02-19 23:55:22</td>\n",
       "      <td>158</td>\n",
       "      <td>9516760</td>\n",
       "      <td>Accepted</td>\n",
       "      <td>5</td>\n",
       "      <td>bZx v1</td>\n",
       "      <td>2598.70</td>\n",
       "      <td>2600.0</td>\n",
       "      <td>DAI</td>\n",
       "      <td>2020-02-05 01:27:47</td>\n",
       "      <td>2.342216</td>\n",
       "    </tr>\n",
       "    <tr>\n",
       "      <th>3</th>\n",
       "      <td>2020-02-18 17:07:50</td>\n",
       "      <td>121</td>\n",
       "      <td>9508364</td>\n",
       "      <td>Accepted</td>\n",
       "      <td>3</td>\n",
       "      <td>bZx v1</td>\n",
       "      <td>29985.00</td>\n",
       "      <td>30000.0</td>\n",
       "      <td>DAI</td>\n",
       "      <td>2019-12-10 15:49:23</td>\n",
       "      <td>27.025566</td>\n",
       "    </tr>\n",
       "    <tr>\n",
       "      <th>69</th>\n",
       "      <td>2021-02-04 23:20:43</td>\n",
       "      <td>729</td>\n",
       "      <td>11792745</td>\n",
       "      <td>Accepted</td>\n",
       "      <td>72</td>\n",
       "      <td>Yearn Finance (all vaults)</td>\n",
       "      <td>12076.14</td>\n",
       "      <td>6.0</td>\n",
       "      <td>ETH</td>\n",
       "      <td>2020-08-24 17:36:23</td>\n",
       "      <td>6.000000</td>\n",
       "    </tr>\n",
       "    <tr>\n",
       "      <th>70</th>\n",
       "      <td>2021-02-05 02:47:32</td>\n",
       "      <td>278</td>\n",
       "      <td>11793668</td>\n",
       "      <td>Accepted</td>\n",
       "      <td>73</td>\n",
       "      <td>Yearn Finance (all vaults)</td>\n",
       "      <td>1399.30</td>\n",
       "      <td>1400.0</td>\n",
       "      <td>DAI</td>\n",
       "      <td>2020-04-16 00:45:45</td>\n",
       "      <td>1.261193</td>\n",
       "    </tr>\n",
       "    <tr>\n",
       "      <th>72</th>\n",
       "      <td>2021-02-05 02:49:38</td>\n",
       "      <td>616</td>\n",
       "      <td>11793678</td>\n",
       "      <td>Accepted</td>\n",
       "      <td>74</td>\n",
       "      <td>Yearn Finance (all vaults)</td>\n",
       "      <td>48304.56</td>\n",
       "      <td>24.0</td>\n",
       "      <td>ETH</td>\n",
       "      <td>2020-08-16 10:02:18</td>\n",
       "      <td>24.000000</td>\n",
       "    </tr>\n",
       "    <tr>\n",
       "      <th>73</th>\n",
       "      <td>2021-02-05 03:19:09</td>\n",
       "      <td>203</td>\n",
       "      <td>11793813</td>\n",
       "      <td>Accepted</td>\n",
       "      <td>75</td>\n",
       "      <td>Yearn Finance (all vaults)</td>\n",
       "      <td>8995.50</td>\n",
       "      <td>9000.0</td>\n",
       "      <td>DAI</td>\n",
       "      <td>2020-02-20 04:33:53</td>\n",
       "      <td>8.107670</td>\n",
       "    </tr>\n",
       "    <tr>\n",
       "      <th>74</th>\n",
       "      <td>2021-02-05 17:42:46</td>\n",
       "      <td>652</td>\n",
       "      <td>11797703</td>\n",
       "      <td>Accepted</td>\n",
       "      <td>77</td>\n",
       "      <td>Yearn Finance (all vaults)</td>\n",
       "      <td>12076.14</td>\n",
       "      <td>6.0</td>\n",
       "      <td>ETH</td>\n",
       "      <td>2020-08-17 21:28:10</td>\n",
       "      <td>6.000000</td>\n",
       "    </tr>\n",
       "    <tr>\n",
       "      <th>75</th>\n",
       "      <td>2021-02-05 18:58:03</td>\n",
       "      <td>1815</td>\n",
       "      <td>11798055</td>\n",
       "      <td>Accepted</td>\n",
       "      <td>78</td>\n",
       "      <td>Yearn Finance (all vaults)</td>\n",
       "      <td>20126.90</td>\n",
       "      <td>10.0</td>\n",
       "      <td>ETH</td>\n",
       "      <td>2020-09-16 23:08:00</td>\n",
       "      <td>10.000000</td>\n",
       "    </tr>\n",
       "    <tr>\n",
       "      <th>76</th>\n",
       "      <td>2021-02-06 07:31:02</td>\n",
       "      <td>759</td>\n",
       "      <td>11801426</td>\n",
       "      <td>Accepted</td>\n",
       "      <td>80</td>\n",
       "      <td>Yearn Finance (all vaults)</td>\n",
       "      <td>100634.50</td>\n",
       "      <td>50.0</td>\n",
       "      <td>ETH</td>\n",
       "      <td>2020-08-28 06:40:35</td>\n",
       "      <td>50.000000</td>\n",
       "    </tr>\n",
       "    <tr>\n",
       "      <th>77</th>\n",
       "      <td>2021-02-06 19:01:51</td>\n",
       "      <td>768</td>\n",
       "      <td>11804529</td>\n",
       "      <td>Accepted</td>\n",
       "      <td>81</td>\n",
       "      <td>Yearn Finance (all vaults)</td>\n",
       "      <td>69225.37</td>\n",
       "      <td>69260.0</td>\n",
       "      <td>DAI</td>\n",
       "      <td>2020-08-28 16:58:51</td>\n",
       "      <td>62.393024</td>\n",
       "    </tr>\n",
       "    <tr>\n",
       "      <th>78</th>\n",
       "      <td>2021-02-06 19:01:51</td>\n",
       "      <td>767</td>\n",
       "      <td>11804529</td>\n",
       "      <td>Accepted</td>\n",
       "      <td>82</td>\n",
       "      <td>Yearn Finance (all vaults)</td>\n",
       "      <td>49975.00</td>\n",
       "      <td>50000.0</td>\n",
       "      <td>DAI</td>\n",
       "      <td>2020-08-28 16:57:43</td>\n",
       "      <td>45.042610</td>\n",
       "    </tr>\n",
       "    <tr>\n",
       "      <th>79</th>\n",
       "      <td>2021-02-06 20:41:39</td>\n",
       "      <td>517</td>\n",
       "      <td>11804973</td>\n",
       "      <td>Accepted</td>\n",
       "      <td>83</td>\n",
       "      <td>Yearn Finance (all vaults)</td>\n",
       "      <td>80507.60</td>\n",
       "      <td>40.0</td>\n",
       "      <td>ETH</td>\n",
       "      <td>2020-07-22 18:05:13</td>\n",
       "      <td>40.000000</td>\n",
       "    </tr>\n",
       "    <tr>\n",
       "      <th>80</th>\n",
       "      <td>2021-02-06 03:22:56</td>\n",
       "      <td>467</td>\n",
       "      <td>11800259</td>\n",
       "      <td>Accepted</td>\n",
       "      <td>79</td>\n",
       "      <td>Yearn Finance (all vaults)</td>\n",
       "      <td>201269.00</td>\n",
       "      <td>100.0</td>\n",
       "      <td>ETH</td>\n",
       "      <td>2020-07-19 22:50:19</td>\n",
       "      <td>100.000000</td>\n",
       "    </tr>\n",
       "    <tr>\n",
       "      <th>81</th>\n",
       "      <td>2021-02-07 01:11:41</td>\n",
       "      <td>1804</td>\n",
       "      <td>11806214</td>\n",
       "      <td>Accepted</td>\n",
       "      <td>84</td>\n",
       "      <td>Yearn Finance (all vaults)</td>\n",
       "      <td>2012690.00</td>\n",
       "      <td>1000.0</td>\n",
       "      <td>ETH</td>\n",
       "      <td>2020-09-16 22:07:31</td>\n",
       "      <td>1000.000000</td>\n",
       "    </tr>\n",
       "    <tr>\n",
       "      <th>82</th>\n",
       "      <td>2021-02-07 18:09:19</td>\n",
       "      <td>1159</td>\n",
       "      <td>11810842</td>\n",
       "      <td>Accepted</td>\n",
       "      <td>87</td>\n",
       "      <td>Yearn Finance (all vaults)</td>\n",
       "      <td>30190.35</td>\n",
       "      <td>15.0</td>\n",
       "      <td>ETH</td>\n",
       "      <td>2020-09-13 07:14:37</td>\n",
       "      <td>15.000000</td>\n",
       "    </tr>\n",
       "    <tr>\n",
       "      <th>83</th>\n",
       "      <td>2021-02-07 17:03:51</td>\n",
       "      <td>1044</td>\n",
       "      <td>11810546</td>\n",
       "      <td>Accepted</td>\n",
       "      <td>86</td>\n",
       "      <td>Yearn Finance (all vaults)</td>\n",
       "      <td>201269.00</td>\n",
       "      <td>100.0</td>\n",
       "      <td>ETH</td>\n",
       "      <td>2020-09-12 14:11:02</td>\n",
       "      <td>100.000000</td>\n",
       "    </tr>\n",
       "    <tr>\n",
       "      <th>86</th>\n",
       "      <td>2021-05-25 06:19:36</td>\n",
       "      <td>641</td>\n",
       "      <td>12501843</td>\n",
       "      <td>Accepted</td>\n",
       "      <td>93</td>\n",
       "      <td>Yearn Finance (all vaults)</td>\n",
       "      <td>2498.75</td>\n",
       "      <td>2500.0</td>\n",
       "      <td>DAI</td>\n",
       "      <td>2020-08-17 07:34:45</td>\n",
       "      <td>2.252131</td>\n",
       "    </tr>\n",
       "    <tr>\n",
       "      <th>97</th>\n",
       "      <td>2021-10-30 17:27:12</td>\n",
       "      <td>3951</td>\n",
       "      <td>13519778</td>\n",
       "      <td>Accepted</td>\n",
       "      <td>98</td>\n",
       "      <td>CREAM v1</td>\n",
       "      <td>29985.00</td>\n",
       "      <td>30000.0</td>\n",
       "      <td>DAI</td>\n",
       "      <td>2021-04-23 13:19:22</td>\n",
       "      <td>27.025566</td>\n",
       "    </tr>\n",
       "    <tr>\n",
       "      <th>98</th>\n",
       "      <td>2021-10-31 03:15:00</td>\n",
       "      <td>5803</td>\n",
       "      <td>13522367</td>\n",
       "      <td>Accepted</td>\n",
       "      <td>100</td>\n",
       "      <td>CREAM v1</td>\n",
       "      <td>49975.00</td>\n",
       "      <td>50000.0</td>\n",
       "      <td>DAI</td>\n",
       "      <td>2021-09-28 23:55:02</td>\n",
       "      <td>45.042610</td>\n",
       "    </tr>\n",
       "    <tr>\n",
       "      <th>99</th>\n",
       "      <td>2021-10-31 06:10:32</td>\n",
       "      <td>5722</td>\n",
       "      <td>13523153</td>\n",
       "      <td>Accepted</td>\n",
       "      <td>101</td>\n",
       "      <td>CREAM v1</td>\n",
       "      <td>18114.21</td>\n",
       "      <td>9.0</td>\n",
       "      <td>ETH</td>\n",
       "      <td>2021-09-16 14:16:17</td>\n",
       "      <td>9.000000</td>\n",
       "    </tr>\n",
       "    <tr>\n",
       "      <th>100</th>\n",
       "      <td>2021-10-30 20:04:47</td>\n",
       "      <td>5714</td>\n",
       "      <td>13520493</td>\n",
       "      <td>Accepted</td>\n",
       "      <td>99</td>\n",
       "      <td>CREAM v1</td>\n",
       "      <td>80507.60</td>\n",
       "      <td>40.0</td>\n",
       "      <td>ETH</td>\n",
       "      <td>2021-09-15 15:48:10</td>\n",
       "      <td>40.000000</td>\n",
       "    </tr>\n",
       "    <tr>\n",
       "      <th>102</th>\n",
       "      <td>2021-11-21 16:30:15</td>\n",
       "      <td>3308</td>\n",
       "      <td>13659255</td>\n",
       "      <td>Accepted</td>\n",
       "      <td>103</td>\n",
       "      <td>CREAM v1</td>\n",
       "      <td>9995.00</td>\n",
       "      <td>10000.0</td>\n",
       "      <td>DAI</td>\n",
       "      <td>2021-02-14 16:54:14</td>\n",
       "      <td>9.008522</td>\n",
       "    </tr>\n",
       "    <tr>\n",
       "      <th>104</th>\n",
       "      <td>2021-12-05 11:18:29</td>\n",
       "      <td>5920</td>\n",
       "      <td>13745752</td>\n",
       "      <td>Accepted</td>\n",
       "      <td>105</td>\n",
       "      <td>CREAM v1</td>\n",
       "      <td>24152.28</td>\n",
       "      <td>12.0</td>\n",
       "      <td>ETH</td>\n",
       "      <td>2021-10-16 20:30:47</td>\n",
       "      <td>12.000000</td>\n",
       "    </tr>\n",
       "    <tr>\n",
       "      <th>109</th>\n",
       "      <td>2022-05-04 08:30:09</td>\n",
       "      <td>6947</td>\n",
       "      <td>14709877</td>\n",
       "      <td>Accepted</td>\n",
       "      <td>110</td>\n",
       "      <td>Rari Capital</td>\n",
       "      <td>40253.80</td>\n",
       "      <td>20.0</td>\n",
       "      <td>ETH</td>\n",
       "      <td>2022-03-15 11:36:14</td>\n",
       "      <td>20.000000</td>\n",
       "    </tr>\n",
       "    <tr>\n",
       "      <th>110</th>\n",
       "      <td>2022-05-06 03:57:45</td>\n",
       "      <td>7185</td>\n",
       "      <td>14721312</td>\n",
       "      <td>Accepted</td>\n",
       "      <td>111</td>\n",
       "      <td>Rari Capital</td>\n",
       "      <td>7996.00</td>\n",
       "      <td>8000.0</td>\n",
       "      <td>DAI</td>\n",
       "      <td>2022-04-18 03:47:17</td>\n",
       "      <td>7.206818</td>\n",
       "    </tr>\n",
       "  </tbody>\n",
       "</table>\n",
       "</div>"
      ],
      "text/plain": [
       "              timestamp  cover_id  block_number   verdict  claim_id  \\\n",
       "0   2020-02-18 17:01:18       152       9508333  Accepted         2   \n",
       "2   2020-02-19 23:55:22       158       9516760  Accepted         5   \n",
       "3   2020-02-18 17:07:50       121       9508364  Accepted         3   \n",
       "69  2021-02-04 23:20:43       729      11792745  Accepted        72   \n",
       "70  2021-02-05 02:47:32       278      11793668  Accepted        73   \n",
       "72  2021-02-05 02:49:38       616      11793678  Accepted        74   \n",
       "73  2021-02-05 03:19:09       203      11793813  Accepted        75   \n",
       "74  2021-02-05 17:42:46       652      11797703  Accepted        77   \n",
       "75  2021-02-05 18:58:03      1815      11798055  Accepted        78   \n",
       "76  2021-02-06 07:31:02       759      11801426  Accepted        80   \n",
       "77  2021-02-06 19:01:51       768      11804529  Accepted        81   \n",
       "78  2021-02-06 19:01:51       767      11804529  Accepted        82   \n",
       "79  2021-02-06 20:41:39       517      11804973  Accepted        83   \n",
       "80  2021-02-06 03:22:56       467      11800259  Accepted        79   \n",
       "81  2021-02-07 01:11:41      1804      11806214  Accepted        84   \n",
       "82  2021-02-07 18:09:19      1159      11810842  Accepted        87   \n",
       "83  2021-02-07 17:03:51      1044      11810546  Accepted        86   \n",
       "86  2021-05-25 06:19:36       641      12501843  Accepted        93   \n",
       "97  2021-10-30 17:27:12      3951      13519778  Accepted        98   \n",
       "98  2021-10-31 03:15:00      5803      13522367  Accepted       100   \n",
       "99  2021-10-31 06:10:32      5722      13523153  Accepted       101   \n",
       "100 2021-10-30 20:04:47      5714      13520493  Accepted        99   \n",
       "102 2021-11-21 16:30:15      3308      13659255  Accepted       103   \n",
       "104 2021-12-05 11:18:29      5920      13745752  Accepted       105   \n",
       "109 2022-05-04 08:30:09      6947      14709877  Accepted       110   \n",
       "110 2022-05-06 03:57:45      7185      14721312  Accepted       111   \n",
       "\n",
       "                        project  amount_usd   amount currency  \\\n",
       "0                        bZx v1     8050.76      4.0      ETH   \n",
       "2                        bZx v1     2598.70   2600.0      DAI   \n",
       "3                        bZx v1    29985.00  30000.0      DAI   \n",
       "69   Yearn Finance (all vaults)    12076.14      6.0      ETH   \n",
       "70   Yearn Finance (all vaults)     1399.30   1400.0      DAI   \n",
       "72   Yearn Finance (all vaults)    48304.56     24.0      ETH   \n",
       "73   Yearn Finance (all vaults)     8995.50   9000.0      DAI   \n",
       "74   Yearn Finance (all vaults)    12076.14      6.0      ETH   \n",
       "75   Yearn Finance (all vaults)    20126.90     10.0      ETH   \n",
       "76   Yearn Finance (all vaults)   100634.50     50.0      ETH   \n",
       "77   Yearn Finance (all vaults)    69225.37  69260.0      DAI   \n",
       "78   Yearn Finance (all vaults)    49975.00  50000.0      DAI   \n",
       "79   Yearn Finance (all vaults)    80507.60     40.0      ETH   \n",
       "80   Yearn Finance (all vaults)   201269.00    100.0      ETH   \n",
       "81   Yearn Finance (all vaults)  2012690.00   1000.0      ETH   \n",
       "82   Yearn Finance (all vaults)    30190.35     15.0      ETH   \n",
       "83   Yearn Finance (all vaults)   201269.00    100.0      ETH   \n",
       "86   Yearn Finance (all vaults)     2498.75   2500.0      DAI   \n",
       "97                     CREAM v1    29985.00  30000.0      DAI   \n",
       "98                     CREAM v1    49975.00  50000.0      DAI   \n",
       "99                     CREAM v1    18114.21      9.0      ETH   \n",
       "100                    CREAM v1    80507.60     40.0      ETH   \n",
       "102                    CREAM v1     9995.00  10000.0      DAI   \n",
       "104                    CREAM v1    24152.28     12.0      ETH   \n",
       "109                Rari Capital    40253.80     20.0      ETH   \n",
       "110                Rari Capital     7996.00   8000.0      DAI   \n",
       "\n",
       "              start_time   amount_eth  \n",
       "0    2020-02-03 19:58:33     4.000000  \n",
       "2    2020-02-05 01:27:47     2.342216  \n",
       "3    2019-12-10 15:49:23    27.025566  \n",
       "69   2020-08-24 17:36:23     6.000000  \n",
       "70   2020-04-16 00:45:45     1.261193  \n",
       "72   2020-08-16 10:02:18    24.000000  \n",
       "73   2020-02-20 04:33:53     8.107670  \n",
       "74   2020-08-17 21:28:10     6.000000  \n",
       "75   2020-09-16 23:08:00    10.000000  \n",
       "76   2020-08-28 06:40:35    50.000000  \n",
       "77   2020-08-28 16:58:51    62.393024  \n",
       "78   2020-08-28 16:57:43    45.042610  \n",
       "79   2020-07-22 18:05:13    40.000000  \n",
       "80   2020-07-19 22:50:19   100.000000  \n",
       "81   2020-09-16 22:07:31  1000.000000  \n",
       "82   2020-09-13 07:14:37    15.000000  \n",
       "83   2020-09-12 14:11:02   100.000000  \n",
       "86   2020-08-17 07:34:45     2.252131  \n",
       "97   2021-04-23 13:19:22    27.025566  \n",
       "98   2021-09-28 23:55:02    45.042610  \n",
       "99   2021-09-16 14:16:17     9.000000  \n",
       "100  2021-09-15 15:48:10    40.000000  \n",
       "102  2021-02-14 16:54:14     9.008522  \n",
       "104  2021-10-16 20:30:47    12.000000  \n",
       "109  2022-03-15 11:36:14    20.000000  \n",
       "110  2022-04-18 03:47:17     7.206818  "
      ]
     },
     "execution_count": 33,
     "metadata": {},
     "output_type": "execute_result"
    }
   ],
   "source": [
    "accepted_claims"
   ]
  },
  {
   "cell_type": "code",
   "execution_count": 34,
   "id": "f8342ef3",
   "metadata": {
    "ExecuteTime": {
     "end_time": "2022-06-29T15:14:20.052721Z",
     "start_time": "2022-06-29T15:14:20.039612Z"
    }
   },
   "outputs": [
    {
     "data": {
      "text/plain": [
       "count      26.000000\n",
       "mean       64.334920\n",
       "std       192.802777\n",
       "min         1.261193\n",
       "25%         7.432031\n",
       "50%        17.500000\n",
       "75%        43.781958\n",
       "max      1000.000000\n",
       "Name: amount_eth, dtype: float64"
      ]
     },
     "execution_count": 34,
     "metadata": {},
     "output_type": "execute_result"
    }
   ],
   "source": [
    "accepted_claims.amount_eth.describe()"
   ]
  },
  {
   "cell_type": "code",
   "execution_count": null,
   "id": "2f55f3bf",
   "metadata": {},
   "outputs": [],
   "source": []
  },
  {
   "cell_type": "markdown",
   "id": "2bb28f28",
   "metadata": {},
   "source": [
    "## Check ratio of ETH vs USD Liabilities"
   ]
  },
  {
   "cell_type": "code",
   "execution_count": 35,
   "id": "594da36f",
   "metadata": {
    "ExecuteTime": {
     "end_time": "2022-06-29T15:14:26.989139Z",
     "start_time": "2022-06-29T15:14:26.938423Z"
    }
   },
   "outputs": [
    {
     "name": "stderr",
     "output_type": "stream",
     "text": [
      "/home/rei/.pyenv/versions/3.8.12/envs/bonding_curve/lib/python3.8/site-packages/pandas/core/ops/array_ops.py:73: FutureWarning: Comparison of Timestamp with datetime.date is deprecated in order to match the standard library behavior. In a future version these will be considered non-comparable. Use 'ts == pd.Timestamp(date)' or 'ts.date() == date' instead.\n",
      "  result = libops.scalar_compare(x.ravel(), y, op)\n"
     ]
    }
   ],
   "source": [
    "active_covers = cover_history[cover_history['end_time'] > pd.Timestamp.now()]"
   ]
  },
  {
   "cell_type": "code",
   "execution_count": 44,
   "id": "41f0fc18",
   "metadata": {
    "ExecuteTime": {
     "end_time": "2022-06-29T15:16:50.466107Z",
     "start_time": "2022-06-29T15:16:50.451244Z"
    }
   },
   "outputs": [
    {
     "data": {
      "text/plain": [
       "248343757.0"
      ]
     },
     "execution_count": 44,
     "metadata": {},
     "output_type": "execute_result"
    }
   ],
   "source": [
    "active_covers.groupby('currency').sum()['amount_usd'].sum()"
   ]
  },
  {
   "cell_type": "code",
   "execution_count": 36,
   "id": "8cb8470e",
   "metadata": {
    "ExecuteTime": {
     "end_time": "2022-06-29T15:14:42.864558Z",
     "start_time": "2022-06-29T15:14:42.843172Z"
    }
   },
   "outputs": [
    {
     "data": {
      "text/plain": [
       "currency\n",
       "DAI    0.75919\n",
       "ETH    0.24081\n",
       "Name: amount_usd, dtype: float64"
      ]
     },
     "execution_count": 36,
     "metadata": {},
     "output_type": "execute_result"
    }
   ],
   "source": [
    "active_covers.groupby('currency').sum()['amount_usd']/(active_covers.groupby('currency').sum()['amount_usd'].sum())"
   ]
  },
  {
   "cell_type": "code",
   "execution_count": 45,
   "id": "1fc7080b",
   "metadata": {
    "ExecuteTime": {
     "end_time": "2022-06-29T15:18:08.061938Z",
     "start_time": "2022-06-29T15:18:08.052500Z"
    }
   },
   "outputs": [],
   "source": [
    "active_covers_no_enzyme_anchor = active_covers[~active_covers['project'].isin(['Anchor', 'Enzyme v3'])]"
   ]
  },
  {
   "cell_type": "code",
   "execution_count": 46,
   "id": "f8e3c238",
   "metadata": {
    "ExecuteTime": {
     "end_time": "2022-06-29T15:18:08.491104Z",
     "start_time": "2022-06-29T15:18:08.477689Z"
    }
   },
   "outputs": [],
   "source": [
    "currency_df = active_covers_no_enzyme_anchor.groupby('currency').sum()"
   ]
  },
  {
   "cell_type": "code",
   "execution_count": 47,
   "id": "aab14a5f",
   "metadata": {
    "ExecuteTime": {
     "end_time": "2022-06-29T15:18:08.971788Z",
     "start_time": "2022-06-29T15:18:08.956835Z"
    }
   },
   "outputs": [
    {
     "data": {
      "text/html": [
       "<div>\n",
       "<style scoped>\n",
       "    .dataframe tbody tr th:only-of-type {\n",
       "        vertical-align: middle;\n",
       "    }\n",
       "\n",
       "    .dataframe tbody tr th {\n",
       "        vertical-align: top;\n",
       "    }\n",
       "\n",
       "    .dataframe thead th {\n",
       "        text-align: right;\n",
       "    }\n",
       "</style>\n",
       "<table border=\"1\" class=\"dataframe\">\n",
       "  <thead>\n",
       "    <tr style=\"text-align: right;\">\n",
       "      <th></th>\n",
       "      <th>block_number</th>\n",
       "      <th>premium</th>\n",
       "      <th>cover_id</th>\n",
       "      <th>amount</th>\n",
       "      <th>amount_usd</th>\n",
       "      <th>premium_usd</th>\n",
       "      <th>premium_eth</th>\n",
       "      <th>amount_eth</th>\n",
       "      <th>rate</th>\n",
       "    </tr>\n",
       "    <tr>\n",
       "      <th>currency</th>\n",
       "      <th></th>\n",
       "      <th></th>\n",
       "      <th></th>\n",
       "      <th></th>\n",
       "      <th></th>\n",
       "      <th></th>\n",
       "      <th></th>\n",
       "      <th></th>\n",
       "      <th></th>\n",
       "    </tr>\n",
       "  </thead>\n",
       "  <tbody>\n",
       "    <tr>\n",
       "      <th>DAI</th>\n",
       "      <td>4903053331</td>\n",
       "      <td>2.092827e+06</td>\n",
       "      <td>2368967</td>\n",
       "      <td>159846439.0</td>\n",
       "      <td>159846439.0</td>\n",
       "      <td>2.092827e+06</td>\n",
       "      <td>1885.327780</td>\n",
       "      <td>143998.017224</td>\n",
       "      <td>6.021520</td>\n",
       "    </tr>\n",
       "    <tr>\n",
       "      <th>ETH</th>\n",
       "      <td>3624468048</td>\n",
       "      <td>3.889894e+02</td>\n",
       "      <td>1725822</td>\n",
       "      <td>31745.0</td>\n",
       "      <td>35386151.5</td>\n",
       "      <td>4.336065e+05</td>\n",
       "      <td>388.989373</td>\n",
       "      <td>31745.000000</td>\n",
       "      <td>5.690234</td>\n",
       "    </tr>\n",
       "  </tbody>\n",
       "</table>\n",
       "</div>"
      ],
      "text/plain": [
       "          block_number       premium  cover_id       amount   amount_usd  \\\n",
       "currency                                                                   \n",
       "DAI         4903053331  2.092827e+06   2368967  159846439.0  159846439.0   \n",
       "ETH         3624468048  3.889894e+02   1725822      31745.0   35386151.5   \n",
       "\n",
       "           premium_usd  premium_eth     amount_eth      rate  \n",
       "currency                                                      \n",
       "DAI       2.092827e+06  1885.327780  143998.017224  6.021520  \n",
       "ETH       4.336065e+05   388.989373   31745.000000  5.690234  "
      ]
     },
     "execution_count": 47,
     "metadata": {},
     "output_type": "execute_result"
    }
   ],
   "source": [
    "currency_df"
   ]
  },
  {
   "cell_type": "code",
   "execution_count": 48,
   "id": "f5fec431",
   "metadata": {
    "ExecuteTime": {
     "end_time": "2022-06-29T15:18:12.456781Z",
     "start_time": "2022-06-29T15:18:12.444526Z"
    }
   },
   "outputs": [
    {
     "data": {
      "text/plain": [
       "currency\n",
       "DAI    0.818749\n",
       "ETH    0.181251\n",
       "Name: amount_usd, dtype: float64"
      ]
     },
     "execution_count": 48,
     "metadata": {},
     "output_type": "execute_result"
    }
   ],
   "source": [
    "percentages = currency_df['amount_usd']/(currency_df['amount_usd'].sum())\n",
    "percentages"
   ]
  },
  {
   "cell_type": "code",
   "execution_count": 49,
   "id": "abada54f",
   "metadata": {
    "ExecuteTime": {
     "end_time": "2022-06-29T15:18:14.940392Z",
     "start_time": "2022-06-29T15:18:14.926010Z"
    }
   },
   "outputs": [],
   "source": [
    "currency_df_with_enz_anch = active_covers[active_covers['project'].isin(['Anchor', 'Enzyme v3'])].groupby('currency').sum()"
   ]
  },
  {
   "cell_type": "code",
   "execution_count": 50,
   "id": "170491f9",
   "metadata": {
    "ExecuteTime": {
     "end_time": "2022-06-29T15:18:15.244343Z",
     "start_time": "2022-06-29T15:18:15.234403Z"
    }
   },
   "outputs": [
    {
     "data": {
      "text/plain": [
       "currency\n",
       "DAI    0.540257\n",
       "ETH    0.459743\n",
       "Name: amount_usd, dtype: float64"
      ]
     },
     "execution_count": 50,
     "metadata": {},
     "output_type": "execute_result"
    }
   ],
   "source": [
    "percentages = currency_df_with_enz_anch['amount_usd']/currency_df_with_enz_anch['amount_usd'].sum()\n",
    "percentages"
   ]
  },
  {
   "cell_type": "markdown",
   "id": "ca9a09f4",
   "metadata": {},
   "source": [
    "## Playground for distributions"
   ]
  },
  {
   "cell_type": "code",
   "execution_count": 15,
   "id": "fb5d315b",
   "metadata": {
    "ExecuteTime": {
     "end_time": "2022-06-28T14:19:40.407203Z",
     "start_time": "2022-06-28T14:19:40.203800Z"
    }
   },
   "outputs": [
    {
     "data": {
      "text/html": [
       "<div>\n",
       "<style scoped>\n",
       "    .dataframe tbody tr th:only-of-type {\n",
       "        vertical-align: middle;\n",
       "    }\n",
       "\n",
       "    .dataframe tbody tr th {\n",
       "        vertical-align: top;\n",
       "    }\n",
       "\n",
       "    .dataframe thead th {\n",
       "        text-align: right;\n",
       "    }\n",
       "</style>\n",
       "<table border=\"1\" class=\"dataframe\">\n",
       "  <thead>\n",
       "    <tr style=\"text-align: right;\">\n",
       "      <th></th>\n",
       "      <th>0</th>\n",
       "    </tr>\n",
       "  </thead>\n",
       "  <tbody>\n",
       "    <tr>\n",
       "      <th>count</th>\n",
       "      <td>10000.000000</td>\n",
       "    </tr>\n",
       "    <tr>\n",
       "      <th>mean</th>\n",
       "      <td>7.140724</td>\n",
       "    </tr>\n",
       "    <tr>\n",
       "      <th>std</th>\n",
       "      <td>39.163480</td>\n",
       "    </tr>\n",
       "    <tr>\n",
       "      <th>min</th>\n",
       "      <td>0.000854</td>\n",
       "    </tr>\n",
       "    <tr>\n",
       "      <th>25%</th>\n",
       "      <td>0.257125</td>\n",
       "    </tr>\n",
       "    <tr>\n",
       "      <th>50%</th>\n",
       "      <td>0.977785</td>\n",
       "    </tr>\n",
       "    <tr>\n",
       "      <th>75%</th>\n",
       "      <td>3.750230</td>\n",
       "    </tr>\n",
       "    <tr>\n",
       "      <th>max</th>\n",
       "      <td>1988.184589</td>\n",
       "    </tr>\n",
       "  </tbody>\n",
       "</table>\n",
       "</div>"
      ],
      "text/plain": [
       "                  0\n",
       "count  10000.000000\n",
       "mean       7.140724\n",
       "std       39.163480\n",
       "min        0.000854\n",
       "25%        0.257125\n",
       "50%        0.977785\n",
       "75%        3.750230\n",
       "max     1988.184589"
      ]
     },
     "execution_count": 15,
     "metadata": {},
     "output_type": "execute_result"
    }
   ],
   "source": [
    "randomizer = lognorm.rvs(s=2, loc=0, scale=1, size=10_000)\n",
    "pd.DataFrame(randomizer).describe()"
   ]
  },
  {
   "cell_type": "code",
   "execution_count": 16,
   "id": "82d192b1",
   "metadata": {
    "ExecuteTime": {
     "end_time": "2022-06-28T14:22:04.230813Z",
     "start_time": "2022-06-28T14:22:04.205722Z"
    }
   },
   "outputs": [
    {
     "data": {
      "text/html": [
       "<div>\n",
       "<style scoped>\n",
       "    .dataframe tbody tr th:only-of-type {\n",
       "        vertical-align: middle;\n",
       "    }\n",
       "\n",
       "    .dataframe tbody tr th {\n",
       "        vertical-align: top;\n",
       "    }\n",
       "\n",
       "    .dataframe thead th {\n",
       "        text-align: right;\n",
       "    }\n",
       "</style>\n",
       "<table border=\"1\" class=\"dataframe\">\n",
       "  <thead>\n",
       "    <tr style=\"text-align: right;\">\n",
       "      <th></th>\n",
       "      <th>0</th>\n",
       "    </tr>\n",
       "  </thead>\n",
       "  <tbody>\n",
       "    <tr>\n",
       "      <th>count</th>\n",
       "      <td>10000.000000</td>\n",
       "    </tr>\n",
       "    <tr>\n",
       "      <th>mean</th>\n",
       "      <td>107.328086</td>\n",
       "    </tr>\n",
       "    <tr>\n",
       "      <th>std</th>\n",
       "      <td>39.894548</td>\n",
       "    </tr>\n",
       "    <tr>\n",
       "      <th>min</th>\n",
       "      <td>100.000863</td>\n",
       "    </tr>\n",
       "    <tr>\n",
       "      <th>25%</th>\n",
       "      <td>100.257993</td>\n",
       "    </tr>\n",
       "    <tr>\n",
       "      <th>50%</th>\n",
       "      <td>101.010296</td>\n",
       "    </tr>\n",
       "    <tr>\n",
       "      <th>75%</th>\n",
       "      <td>103.852078</td>\n",
       "    </tr>\n",
       "    <tr>\n",
       "      <th>max</th>\n",
       "      <td>1897.985626</td>\n",
       "    </tr>\n",
       "  </tbody>\n",
       "</table>\n",
       "</div>"
      ],
      "text/plain": [
       "                  0\n",
       "count  10000.000000\n",
       "mean     107.328086\n",
       "std       39.894548\n",
       "min      100.000863\n",
       "25%      100.257993\n",
       "50%      101.010296\n",
       "75%      103.852078\n",
       "max     1897.985626"
      ]
     },
     "execution_count": 16,
     "metadata": {},
     "output_type": "execute_result"
    }
   ],
   "source": [
    "randomizer_2 = lognorm.rvs(s=2, loc=100, scale=1, size=10_000)\n",
    "pd.DataFrame(randomizer_2).describe()"
   ]
  },
  {
   "cell_type": "code",
   "execution_count": null,
   "id": "19143ca5",
   "metadata": {},
   "outputs": [],
   "source": []
  }
 ],
 "metadata": {
  "kernelspec": {
   "display_name": "Python 3 (ipykernel)",
   "language": "python",
   "name": "python3"
  },
  "language_info": {
   "codemirror_mode": {
    "name": "ipython",
    "version": 3
   },
   "file_extension": ".py",
   "mimetype": "text/x-python",
   "name": "python",
   "nbconvert_exporter": "python",
   "pygments_lexer": "ipython3",
   "version": "3.8.12"
  },
  "toc": {
   "base_numbering": 1,
   "nav_menu": {},
   "number_sections": true,
   "sideBar": true,
   "skip_h1_title": false,
   "title_cell": "Table of Contents",
   "title_sidebar": "Contents",
   "toc_cell": false,
   "toc_position": {},
   "toc_section_display": true,
   "toc_window_display": false
  }
 },
 "nbformat": 4,
 "nbformat_minor": 5
}
