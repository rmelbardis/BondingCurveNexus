{
 "cells": [
  {
   "cell_type": "code",
   "execution_count": 1,
   "id": "7a4c9bb1",
   "metadata": {
    "ExecuteTime": {
     "end_time": "2022-06-28T13:26:45.658318Z",
     "start_time": "2022-06-28T13:26:45.539241Z"
    }
   },
   "outputs": [],
   "source": [
    "# Imports (numpy, pandas, matplotlib, seaborn imported automatically)\n",
    "from etherscan import Etherscan\n",
    "from BondingCurveNexus import config\n",
    "from scipy.stats import lognorm"
   ]
  },
  {
   "cell_type": "code",
   "execution_count": 2,
   "id": "4f0124d6",
   "metadata": {
    "ExecuteTime": {
     "end_time": "2022-06-17T15:50:12.238177Z",
     "start_time": "2022-06-17T15:50:11.668772Z"
    }
   },
   "outputs": [],
   "source": [
    "# activate etherscan client\n",
    "eth_client = Etherscan(config.etherscan_api)\n",
    "\n",
    "eth_price = float(eth_client.get_eth_last_price()['ethusd'])"
   ]
  },
  {
   "cell_type": "code",
   "execution_count": 3,
   "id": "74ca4aab",
   "metadata": {
    "ExecuteTime": {
     "end_time": "2022-06-17T15:50:12.827191Z",
     "start_time": "2022-06-17T15:50:12.815664Z"
    }
   },
   "outputs": [
    {
     "data": {
      "text/plain": [
       "1077.66"
      ]
     },
     "execution_count": 3,
     "metadata": {},
     "output_type": "execute_result"
    }
   ],
   "source": [
    "eth_price"
   ]
  },
  {
   "cell_type": "markdown",
   "id": "00b986b1",
   "metadata": {},
   "source": [
    "# Investigate patterns in cover amounts and claim frequencies"
   ]
  },
  {
   "cell_type": "markdown",
   "id": "5497fee9",
   "metadata": {},
   "source": [
    "## Bring in files and convert datetimes"
   ]
  },
  {
   "cell_type": "code",
   "execution_count": 11,
   "id": "bbe21bff",
   "metadata": {
    "ExecuteTime": {
     "end_time": "2022-06-17T15:53:35.899675Z",
     "start_time": "2022-06-17T15:53:35.833339Z"
    }
   },
   "outputs": [],
   "source": [
    "# bring in csvs\n",
    "\n",
    "# historic active cover amount\n",
    "active_cover_amount = pd.read_csv('../raw_data/active_cover_amount.csv')\n",
    "active_cover_amount.columns = ['date', 'USD', 'ETH']\n",
    "active_cover_amount['date'] = pd.to_datetime(active_cover_amount['date']).dt.date\n",
    "\n",
    "# claims history\n",
    "claims_history = pd.read_csv('../raw_data/all_claims.csv')\n",
    "claims_history['timestamp'] = pd.to_datetime(claims_history['timestamp'])\n",
    "\n",
    "# cover history\n",
    "cover_history = pd.read_csv('../raw_data/all_covers.csv')\n",
    "cover_history['start_time'] = pd.to_datetime(cover_history['start_time'])\n",
    "cover_history['end_time'] = pd.to_datetime(cover_history['end_time'])"
   ]
  },
  {
   "cell_type": "markdown",
   "id": "5a6ac9a8",
   "metadata": {},
   "source": [
    "## Investigate Distribution of Daily changes in Active cover amount"
   ]
  },
  {
   "cell_type": "code",
   "execution_count": 5,
   "id": "7b7a8d83",
   "metadata": {
    "ExecuteTime": {
     "end_time": "2022-06-13T09:08:47.941081Z",
     "start_time": "2022-06-13T09:08:47.903277Z"
    }
   },
   "outputs": [],
   "source": [
    "active_cover_amount = active_cover_amount.groupby('date').max()"
   ]
  },
  {
   "cell_type": "code",
   "execution_count": 6,
   "id": "51a63b37",
   "metadata": {
    "ExecuteTime": {
     "end_time": "2022-06-13T09:08:48.528906Z",
     "start_time": "2022-06-13T09:08:48.515795Z"
    }
   },
   "outputs": [],
   "source": [
    "active_cover_amount['ETH_change_perc'] = active_cover_amount['ETH'] / active_cover_amount['ETH'].shift(1) - 1\n",
    "active_cover_amount['ETH_change_val'] = active_cover_amount['ETH'] - active_cover_amount['ETH'].shift(1)"
   ]
  },
  {
   "cell_type": "code",
   "execution_count": 7,
   "id": "53281f57",
   "metadata": {
    "ExecuteTime": {
     "end_time": "2022-06-13T09:08:49.161004Z",
     "start_time": "2022-06-13T09:08:49.112177Z"
    }
   },
   "outputs": [
    {
     "data": {
      "text/html": [
       "<div>\n",
       "<style scoped>\n",
       "    .dataframe tbody tr th:only-of-type {\n",
       "        vertical-align: middle;\n",
       "    }\n",
       "\n",
       "    .dataframe tbody tr th {\n",
       "        vertical-align: top;\n",
       "    }\n",
       "\n",
       "    .dataframe thead th {\n",
       "        text-align: right;\n",
       "    }\n",
       "</style>\n",
       "<table border=\"1\" class=\"dataframe\">\n",
       "  <thead>\n",
       "    <tr style=\"text-align: right;\">\n",
       "      <th></th>\n",
       "      <th>USD</th>\n",
       "      <th>ETH</th>\n",
       "      <th>ETH_change_perc</th>\n",
       "      <th>ETH_change_val</th>\n",
       "    </tr>\n",
       "    <tr>\n",
       "      <th>date</th>\n",
       "      <th></th>\n",
       "      <th></th>\n",
       "      <th></th>\n",
       "      <th></th>\n",
       "    </tr>\n",
       "  </thead>\n",
       "  <tbody>\n",
       "    <tr>\n",
       "      <th>2019-07-12</th>\n",
       "      <td>9.775000e+02</td>\n",
       "      <td>3.549383</td>\n",
       "      <td>NaN</td>\n",
       "      <td>NaN</td>\n",
       "    </tr>\n",
       "    <tr>\n",
       "      <th>2019-07-13</th>\n",
       "      <td>2.807950e+04</td>\n",
       "      <td>103.606745</td>\n",
       "      <td>28.190074</td>\n",
       "      <td>100.057362</td>\n",
       "    </tr>\n",
       "    <tr>\n",
       "      <th>2019-07-14</th>\n",
       "      <td>7.119130e+04</td>\n",
       "      <td>304.197325</td>\n",
       "      <td>1.936076</td>\n",
       "      <td>200.590580</td>\n",
       "    </tr>\n",
       "    <tr>\n",
       "      <th>2019-07-15</th>\n",
       "      <td>1.085736e+05</td>\n",
       "      <td>472.018185</td>\n",
       "      <td>0.551684</td>\n",
       "      <td>167.820860</td>\n",
       "    </tr>\n",
       "    <tr>\n",
       "      <th>2019-07-16</th>\n",
       "      <td>2.327708e+05</td>\n",
       "      <td>1161.878556</td>\n",
       "      <td>1.461512</td>\n",
       "      <td>689.860371</td>\n",
       "    </tr>\n",
       "    <tr>\n",
       "      <th>...</th>\n",
       "      <td>...</td>\n",
       "      <td>...</td>\n",
       "      <td>...</td>\n",
       "      <td>...</td>\n",
       "    </tr>\n",
       "    <tr>\n",
       "      <th>2022-06-06</th>\n",
       "      <td>3.219952e+08</td>\n",
       "      <td>172156.440888</td>\n",
       "      <td>-0.006095</td>\n",
       "      <td>-1055.660376</td>\n",
       "    </tr>\n",
       "    <tr>\n",
       "      <th>2022-06-07</th>\n",
       "      <td>2.976967e+08</td>\n",
       "      <td>167008.480992</td>\n",
       "      <td>-0.029903</td>\n",
       "      <td>-5147.959896</td>\n",
       "    </tr>\n",
       "    <tr>\n",
       "      <th>2022-06-08</th>\n",
       "      <td>3.012918e+08</td>\n",
       "      <td>168740.869302</td>\n",
       "      <td>0.010373</td>\n",
       "      <td>1732.388310</td>\n",
       "    </tr>\n",
       "    <tr>\n",
       "      <th>2022-06-09</th>\n",
       "      <td>3.021231e+08</td>\n",
       "      <td>168264.606280</td>\n",
       "      <td>-0.002822</td>\n",
       "      <td>-476.263022</td>\n",
       "    </tr>\n",
       "    <tr>\n",
       "      <th>2022-06-10</th>\n",
       "      <td>3.149027e+08</td>\n",
       "      <td>177921.114797</td>\n",
       "      <td>0.057389</td>\n",
       "      <td>9656.508517</td>\n",
       "    </tr>\n",
       "  </tbody>\n",
       "</table>\n",
       "<p>946 rows × 4 columns</p>\n",
       "</div>"
      ],
      "text/plain": [
       "                     USD            ETH  ETH_change_perc  ETH_change_val\n",
       "date                                                                    \n",
       "2019-07-12  9.775000e+02       3.549383              NaN             NaN\n",
       "2019-07-13  2.807950e+04     103.606745        28.190074      100.057362\n",
       "2019-07-14  7.119130e+04     304.197325         1.936076      200.590580\n",
       "2019-07-15  1.085736e+05     472.018185         0.551684      167.820860\n",
       "2019-07-16  2.327708e+05    1161.878556         1.461512      689.860371\n",
       "...                  ...            ...              ...             ...\n",
       "2022-06-06  3.219952e+08  172156.440888        -0.006095    -1055.660376\n",
       "2022-06-07  2.976967e+08  167008.480992        -0.029903    -5147.959896\n",
       "2022-06-08  3.012918e+08  168740.869302         0.010373     1732.388310\n",
       "2022-06-09  3.021231e+08  168264.606280        -0.002822     -476.263022\n",
       "2022-06-10  3.149027e+08  177921.114797         0.057389     9656.508517\n",
       "\n",
       "[946 rows x 4 columns]"
      ]
     },
     "execution_count": 7,
     "metadata": {},
     "output_type": "execute_result"
    }
   ],
   "source": [
    "active_cover_amount"
   ]
  },
  {
   "cell_type": "code",
   "execution_count": 8,
   "id": "9fa000fe",
   "metadata": {
    "ExecuteTime": {
     "end_time": "2022-06-13T09:08:53.473993Z",
     "start_time": "2022-06-13T09:08:53.453274Z"
    }
   },
   "outputs": [
    {
     "data": {
      "text/html": [
       "<div>\n",
       "<style scoped>\n",
       "    .dataframe tbody tr th:only-of-type {\n",
       "        vertical-align: middle;\n",
       "    }\n",
       "\n",
       "    .dataframe tbody tr th {\n",
       "        vertical-align: top;\n",
       "    }\n",
       "\n",
       "    .dataframe thead th {\n",
       "        text-align: right;\n",
       "    }\n",
       "</style>\n",
       "<table border=\"1\" class=\"dataframe\">\n",
       "  <thead>\n",
       "    <tr style=\"text-align: right;\">\n",
       "      <th></th>\n",
       "      <th>USD</th>\n",
       "      <th>ETH</th>\n",
       "      <th>ETH_change_perc</th>\n",
       "      <th>ETH_change_val</th>\n",
       "    </tr>\n",
       "    <tr>\n",
       "      <th>date</th>\n",
       "      <th></th>\n",
       "      <th></th>\n",
       "      <th></th>\n",
       "      <th></th>\n",
       "    </tr>\n",
       "  </thead>\n",
       "  <tbody>\n",
       "    <tr>\n",
       "      <th>2021-10-14</th>\n",
       "      <td>4.316843e+08</td>\n",
       "      <td>114637.423597</td>\n",
       "      <td>-0.065447</td>\n",
       "      <td>-8028.045501</td>\n",
       "    </tr>\n",
       "    <tr>\n",
       "      <th>2021-10-15</th>\n",
       "      <td>4.637110e+08</td>\n",
       "      <td>119904.621381</td>\n",
       "      <td>0.045947</td>\n",
       "      <td>5267.197784</td>\n",
       "    </tr>\n",
       "    <tr>\n",
       "      <th>2021-10-16</th>\n",
       "      <td>4.721258e+08</td>\n",
       "      <td>123408.207362</td>\n",
       "      <td>0.029220</td>\n",
       "      <td>3503.585981</td>\n",
       "    </tr>\n",
       "    <tr>\n",
       "      <th>2021-10-17</th>\n",
       "      <td>4.784494e+08</td>\n",
       "      <td>123726.900447</td>\n",
       "      <td>0.002582</td>\n",
       "      <td>318.693085</td>\n",
       "    </tr>\n",
       "    <tr>\n",
       "      <th>2021-10-18</th>\n",
       "      <td>4.765855e+08</td>\n",
       "      <td>124704.274779</td>\n",
       "      <td>0.007899</td>\n",
       "      <td>977.374332</td>\n",
       "    </tr>\n",
       "    <tr>\n",
       "      <th>...</th>\n",
       "      <td>...</td>\n",
       "      <td>...</td>\n",
       "      <td>...</td>\n",
       "      <td>...</td>\n",
       "    </tr>\n",
       "    <tr>\n",
       "      <th>2022-06-06</th>\n",
       "      <td>3.219952e+08</td>\n",
       "      <td>172156.440888</td>\n",
       "      <td>-0.006095</td>\n",
       "      <td>-1055.660376</td>\n",
       "    </tr>\n",
       "    <tr>\n",
       "      <th>2022-06-07</th>\n",
       "      <td>2.976967e+08</td>\n",
       "      <td>167008.480992</td>\n",
       "      <td>-0.029903</td>\n",
       "      <td>-5147.959896</td>\n",
       "    </tr>\n",
       "    <tr>\n",
       "      <th>2022-06-08</th>\n",
       "      <td>3.012918e+08</td>\n",
       "      <td>168740.869302</td>\n",
       "      <td>0.010373</td>\n",
       "      <td>1732.388310</td>\n",
       "    </tr>\n",
       "    <tr>\n",
       "      <th>2022-06-09</th>\n",
       "      <td>3.021231e+08</td>\n",
       "      <td>168264.606280</td>\n",
       "      <td>-0.002822</td>\n",
       "      <td>-476.263022</td>\n",
       "    </tr>\n",
       "    <tr>\n",
       "      <th>2022-06-10</th>\n",
       "      <td>3.149027e+08</td>\n",
       "      <td>177921.114797</td>\n",
       "      <td>0.057389</td>\n",
       "      <td>9656.508517</td>\n",
       "    </tr>\n",
       "  </tbody>\n",
       "</table>\n",
       "<p>240 rows × 4 columns</p>\n",
       "</div>"
      ],
      "text/plain": [
       "                     USD            ETH  ETH_change_perc  ETH_change_val\n",
       "date                                                                    \n",
       "2021-10-14  4.316843e+08  114637.423597        -0.065447    -8028.045501\n",
       "2021-10-15  4.637110e+08  119904.621381         0.045947     5267.197784\n",
       "2021-10-16  4.721258e+08  123408.207362         0.029220     3503.585981\n",
       "2021-10-17  4.784494e+08  123726.900447         0.002582      318.693085\n",
       "2021-10-18  4.765855e+08  124704.274779         0.007899      977.374332\n",
       "...                  ...            ...              ...             ...\n",
       "2022-06-06  3.219952e+08  172156.440888        -0.006095    -1055.660376\n",
       "2022-06-07  2.976967e+08  167008.480992        -0.029903    -5147.959896\n",
       "2022-06-08  3.012918e+08  168740.869302         0.010373     1732.388310\n",
       "2022-06-09  3.021231e+08  168264.606280        -0.002822     -476.263022\n",
       "2022-06-10  3.149027e+08  177921.114797         0.057389     9656.508517\n",
       "\n",
       "[240 rows x 4 columns]"
      ]
     },
     "execution_count": 8,
     "metadata": {},
     "output_type": "execute_result"
    }
   ],
   "source": [
    "active_cover_amount[-240:]"
   ]
  },
  {
   "cell_type": "code",
   "execution_count": 29,
   "id": "af4d8b0d",
   "metadata": {
    "ExecuteTime": {
     "end_time": "2022-06-10T14:27:27.375729Z",
     "start_time": "2022-06-10T14:27:27.362593Z"
    }
   },
   "outputs": [
    {
     "data": {
      "text/plain": [
       "count      240.000000\n",
       "mean       230.231857\n",
       "std       4747.128874\n",
       "min     -19091.121391\n",
       "25%      -1501.448847\n",
       "50%         15.189586\n",
       "75%       2625.313310\n",
       "max      16371.068444\n",
       "Name: ETH_change_val, dtype: float64"
      ]
     },
     "execution_count": 29,
     "metadata": {},
     "output_type": "execute_result"
    }
   ],
   "source": [
    "active_cover_amount[-240:]['ETH_change_val'].describe()"
   ]
  },
  {
   "cell_type": "markdown",
   "id": "eaee58a7",
   "metadata": {},
   "source": [
    "## Investigate premium income & cover drop-off"
   ]
  },
  {
   "cell_type": "code",
   "execution_count": null,
   "id": "3feda1a3",
   "metadata": {},
   "outputs": [],
   "source": [
    "cover_history['start_time'] = pd.to_datetime(cover_history['start_time']).dt.date\n",
    "cover_history['end_time'] = pd.to_datetime(cover_history['end_time']).dt.date"
   ]
  },
  {
   "cell_type": "code",
   "execution_count": 5,
   "id": "89b9edfb",
   "metadata": {
    "ExecuteTime": {
     "end_time": "2022-06-17T15:50:23.861777Z",
     "start_time": "2022-06-17T15:50:23.806695Z"
    }
   },
   "outputs": [
    {
     "data": {
      "text/html": [
       "<div>\n",
       "<style scoped>\n",
       "    .dataframe tbody tr th:only-of-type {\n",
       "        vertical-align: middle;\n",
       "    }\n",
       "\n",
       "    .dataframe tbody tr th {\n",
       "        vertical-align: top;\n",
       "    }\n",
       "\n",
       "    .dataframe thead th {\n",
       "        text-align: right;\n",
       "    }\n",
       "</style>\n",
       "<table border=\"1\" class=\"dataframe\">\n",
       "  <thead>\n",
       "    <tr style=\"text-align: right;\">\n",
       "      <th></th>\n",
       "      <th>block_number</th>\n",
       "      <th>start_time</th>\n",
       "      <th>premium</th>\n",
       "      <th>address</th>\n",
       "      <th>cover_id</th>\n",
       "      <th>end_time</th>\n",
       "      <th>currency</th>\n",
       "      <th>amount</th>\n",
       "      <th>project</th>\n",
       "      <th>amount_usd</th>\n",
       "      <th>premium_usd</th>\n",
       "    </tr>\n",
       "  </thead>\n",
       "  <tbody>\n",
       "    <tr>\n",
       "      <th>0</th>\n",
       "      <td>8667271</td>\n",
       "      <td>2019-10-03</td>\n",
       "      <td>0.012991</td>\n",
       "      <td>0xc0a47dfe034b400b47bdad5fecda2621de6c4d95</td>\n",
       "      <td>84</td>\n",
       "      <td>2020-10-02</td>\n",
       "      <td>ETH</td>\n",
       "      <td>1.0</td>\n",
       "      <td>Uniswap v1</td>\n",
       "      <td>1073.59</td>\n",
       "      <td>13.947117</td>\n",
       "    </tr>\n",
       "    <tr>\n",
       "      <th>1</th>\n",
       "      <td>8759426</td>\n",
       "      <td>2019-10-17</td>\n",
       "      <td>0.064066</td>\n",
       "      <td>0xc0a47dfe034b400b47bdad5fecda2621de6c4d95</td>\n",
       "      <td>93</td>\n",
       "      <td>2020-03-15</td>\n",
       "      <td>ETH</td>\n",
       "      <td>12.0</td>\n",
       "      <td>Uniswap v1</td>\n",
       "      <td>12883.08</td>\n",
       "      <td>68.780304</td>\n",
       "    </tr>\n",
       "    <tr>\n",
       "      <th>2</th>\n",
       "      <td>8873386</td>\n",
       "      <td>2019-11-04</td>\n",
       "      <td>0.064066</td>\n",
       "      <td>0xc0a47dfe034b400b47bdad5fecda2621de6c4d95</td>\n",
       "      <td>98</td>\n",
       "      <td>2020-04-02</td>\n",
       "      <td>ETH</td>\n",
       "      <td>12.0</td>\n",
       "      <td>Uniswap v1</td>\n",
       "      <td>12883.08</td>\n",
       "      <td>68.780304</td>\n",
       "    </tr>\n",
       "    <tr>\n",
       "      <th>3</th>\n",
       "      <td>8895454</td>\n",
       "      <td>2019-11-08</td>\n",
       "      <td>0.074743</td>\n",
       "      <td>0xc0a47dfe034b400b47bdad5fecda2621de6c4d95</td>\n",
       "      <td>100</td>\n",
       "      <td>2020-04-06</td>\n",
       "      <td>ETH</td>\n",
       "      <td>14.0</td>\n",
       "      <td>Uniswap v1</td>\n",
       "      <td>15030.26</td>\n",
       "      <td>80.243688</td>\n",
       "    </tr>\n",
       "    <tr>\n",
       "      <th>4</th>\n",
       "      <td>8935109</td>\n",
       "      <td>2019-11-14</td>\n",
       "      <td>0.172977</td>\n",
       "      <td>0xc0a47dfe034b400b47bdad5fecda2621de6c4d95</td>\n",
       "      <td>106</td>\n",
       "      <td>2020-02-12</td>\n",
       "      <td>ETH</td>\n",
       "      <td>54.0</td>\n",
       "      <td>Uniswap v1</td>\n",
       "      <td>57973.86</td>\n",
       "      <td>185.706821</td>\n",
       "    </tr>\n",
       "    <tr>\n",
       "      <th>...</th>\n",
       "      <td>...</td>\n",
       "      <td>...</td>\n",
       "      <td>...</td>\n",
       "      <td>...</td>\n",
       "      <td>...</td>\n",
       "      <td>...</td>\n",
       "      <td>...</td>\n",
       "      <td>...</td>\n",
       "      <td>...</td>\n",
       "      <td>...</td>\n",
       "      <td>...</td>\n",
       "    </tr>\n",
       "    <tr>\n",
       "      <th>7516</th>\n",
       "      <td>11785120</td>\n",
       "      <td>2021-02-03</td>\n",
       "      <td>1.127023</td>\n",
       "      <td>0xa4c8d221d8bb851f83aadd0223a8900a6921a349</td>\n",
       "      <td>3150</td>\n",
       "      <td>2022-02-03</td>\n",
       "      <td>ETH</td>\n",
       "      <td>7.0</td>\n",
       "      <td>Set Protocol v2</td>\n",
       "      <td>7515.13</td>\n",
       "      <td>1209.960722</td>\n",
       "    </tr>\n",
       "    <tr>\n",
       "      <th>7517</th>\n",
       "      <td>11812010</td>\n",
       "      <td>2021-02-07</td>\n",
       "      <td>4.015933</td>\n",
       "      <td>0xa4c8d221d8bb851f83aadd0223a8900a6921a349</td>\n",
       "      <td>3198</td>\n",
       "      <td>2022-02-07</td>\n",
       "      <td>ETH</td>\n",
       "      <td>25.0</td>\n",
       "      <td>Set Protocol v2</td>\n",
       "      <td>26839.75</td>\n",
       "      <td>4311.465267</td>\n",
       "    </tr>\n",
       "    <tr>\n",
       "      <th>7518</th>\n",
       "      <td>11965147</td>\n",
       "      <td>2021-03-03</td>\n",
       "      <td>0.134255</td>\n",
       "      <td>0xa4c8d221d8bb851f83aadd0223a8900a6921a349</td>\n",
       "      <td>3531</td>\n",
       "      <td>2021-06-01</td>\n",
       "      <td>ETH</td>\n",
       "      <td>10.0</td>\n",
       "      <td>Set Protocol v2</td>\n",
       "      <td>10735.90</td>\n",
       "      <td>144.134638</td>\n",
       "    </tr>\n",
       "    <tr>\n",
       "      <th>7519</th>\n",
       "      <td>12199390</td>\n",
       "      <td>2021-04-08</td>\n",
       "      <td>0.102505</td>\n",
       "      <td>0xa4c8d221d8bb851f83aadd0223a8900a6921a349</td>\n",
       "      <td>3818</td>\n",
       "      <td>2021-10-05</td>\n",
       "      <td>ETH</td>\n",
       "      <td>8.0</td>\n",
       "      <td>Set Protocol v2</td>\n",
       "      <td>8588.72</td>\n",
       "      <td>110.048486</td>\n",
       "    </tr>\n",
       "    <tr>\n",
       "      <th>7520</th>\n",
       "      <td>14954459</td>\n",
       "      <td>2022-06-13</td>\n",
       "      <td>202.874743</td>\n",
       "      <td>0xc57d000000000000000000000000000000000002</td>\n",
       "      <td>7489</td>\n",
       "      <td>2022-07-13</td>\n",
       "      <td>DAI</td>\n",
       "      <td>95000.0</td>\n",
       "      <td>BlockFi</td>\n",
       "      <td>94981.00</td>\n",
       "      <td>202.834168</td>\n",
       "    </tr>\n",
       "  </tbody>\n",
       "</table>\n",
       "<p>7521 rows × 11 columns</p>\n",
       "</div>"
      ],
      "text/plain": [
       "      block_number  start_time     premium  \\\n",
       "0          8667271  2019-10-03    0.012991   \n",
       "1          8759426  2019-10-17    0.064066   \n",
       "2          8873386  2019-11-04    0.064066   \n",
       "3          8895454  2019-11-08    0.074743   \n",
       "4          8935109  2019-11-14    0.172977   \n",
       "...            ...         ...         ...   \n",
       "7516      11785120  2021-02-03    1.127023   \n",
       "7517      11812010  2021-02-07    4.015933   \n",
       "7518      11965147  2021-03-03    0.134255   \n",
       "7519      12199390  2021-04-08    0.102505   \n",
       "7520      14954459  2022-06-13  202.874743   \n",
       "\n",
       "                                         address  cover_id    end_time  \\\n",
       "0     0xc0a47dfe034b400b47bdad5fecda2621de6c4d95        84  2020-10-02   \n",
       "1     0xc0a47dfe034b400b47bdad5fecda2621de6c4d95        93  2020-03-15   \n",
       "2     0xc0a47dfe034b400b47bdad5fecda2621de6c4d95        98  2020-04-02   \n",
       "3     0xc0a47dfe034b400b47bdad5fecda2621de6c4d95       100  2020-04-06   \n",
       "4     0xc0a47dfe034b400b47bdad5fecda2621de6c4d95       106  2020-02-12   \n",
       "...                                          ...       ...         ...   \n",
       "7516  0xa4c8d221d8bb851f83aadd0223a8900a6921a349      3150  2022-02-03   \n",
       "7517  0xa4c8d221d8bb851f83aadd0223a8900a6921a349      3198  2022-02-07   \n",
       "7518  0xa4c8d221d8bb851f83aadd0223a8900a6921a349      3531  2021-06-01   \n",
       "7519  0xa4c8d221d8bb851f83aadd0223a8900a6921a349      3818  2021-10-05   \n",
       "7520  0xc57d000000000000000000000000000000000002      7489  2022-07-13   \n",
       "\n",
       "     currency   amount          project  amount_usd  premium_usd  \n",
       "0         ETH      1.0       Uniswap v1     1073.59    13.947117  \n",
       "1         ETH     12.0       Uniswap v1    12883.08    68.780304  \n",
       "2         ETH     12.0       Uniswap v1    12883.08    68.780304  \n",
       "3         ETH     14.0       Uniswap v1    15030.26    80.243688  \n",
       "4         ETH     54.0       Uniswap v1    57973.86   185.706821  \n",
       "...       ...      ...              ...         ...          ...  \n",
       "7516      ETH      7.0  Set Protocol v2     7515.13  1209.960722  \n",
       "7517      ETH     25.0  Set Protocol v2    26839.75  4311.465267  \n",
       "7518      ETH     10.0  Set Protocol v2    10735.90   144.134638  \n",
       "7519      ETH      8.0  Set Protocol v2     8588.72   110.048486  \n",
       "7520      DAI  95000.0          BlockFi    94981.00   202.834168  \n",
       "\n",
       "[7521 rows x 11 columns]"
      ]
     },
     "execution_count": 5,
     "metadata": {},
     "output_type": "execute_result"
    }
   ],
   "source": [
    "cover_history"
   ]
  },
  {
   "cell_type": "code",
   "execution_count": 10,
   "id": "1151e597",
   "metadata": {
    "ExecuteTime": {
     "end_time": "2022-06-13T09:08:58.869908Z",
     "start_time": "2022-06-13T09:08:58.854113Z"
    }
   },
   "outputs": [],
   "source": [
    "cover_history['premium_eth'] = np.where(cover_history['currency'] == 'DAI',\n",
    "                                         cover_history['premium']/eth_price, cover_history['premium'])\n",
    "cover_history['amount_eth'] = np.where(cover_history['currency'] == 'DAI',\n",
    "                                         cover_history['amount']/eth_price, cover_history['amount'])"
   ]
  },
  {
   "cell_type": "code",
   "execution_count": 11,
   "id": "9e365161",
   "metadata": {
    "ExecuteTime": {
     "end_time": "2022-06-13T09:08:59.388293Z",
     "start_time": "2022-06-13T09:08:59.379383Z"
    }
   },
   "outputs": [],
   "source": [
    "cover_history['rate'] = cover_history['premium_eth']/cover_history['amount_eth']"
   ]
  },
  {
   "cell_type": "code",
   "execution_count": 12,
   "id": "9b129a98",
   "metadata": {
    "ExecuteTime": {
     "end_time": "2022-06-13T09:08:59.842408Z",
     "start_time": "2022-06-13T09:08:59.825371Z"
    }
   },
   "outputs": [
    {
     "data": {
      "text/plain": [
       "count    7467.000000\n",
       "mean        0.009966\n",
       "std         0.014127\n",
       "min         0.001068\n",
       "25%         0.002136\n",
       "50%         0.006407\n",
       "75%         0.012813\n",
       "max         0.447375\n",
       "Name: rate, dtype: float64"
      ]
     },
     "execution_count": 12,
     "metadata": {},
     "output_type": "execute_result"
    }
   ],
   "source": [
    "cover_history['rate'].describe()"
   ]
  },
  {
   "cell_type": "markdown",
   "id": "43733137",
   "metadata": {},
   "source": [
    "### Premium & Amount History (since June 2020)"
   ]
  },
  {
   "cell_type": "code",
   "execution_count": 13,
   "id": "85675010",
   "metadata": {
    "ExecuteTime": {
     "end_time": "2022-06-13T09:09:10.524086Z",
     "start_time": "2022-06-13T09:09:10.461156Z"
    }
   },
   "outputs": [],
   "source": [
    "# group by day\n",
    "premium_history = cover_history.groupby('start_time')[['premium_eth']].sum().reset_index()\n",
    "amount_history = cover_history.groupby('start_time')[['amount_eth']].sum().reset_index()"
   ]
  },
  {
   "cell_type": "code",
   "execution_count": 14,
   "id": "b6b828ee",
   "metadata": {
    "ExecuteTime": {
     "end_time": "2022-06-13T09:09:11.073415Z",
     "start_time": "2022-06-13T09:09:11.066955Z"
    }
   },
   "outputs": [],
   "source": [
    "premium_history = premium_history.iloc[153:]\n",
    "amount_history = amount_history.iloc[153:]"
   ]
  },
  {
   "cell_type": "code",
   "execution_count": 15,
   "id": "4e8a5bf6",
   "metadata": {
    "ExecuteTime": {
     "end_time": "2022-06-13T09:09:11.551352Z",
     "start_time": "2022-06-13T09:09:11.543687Z"
    }
   },
   "outputs": [],
   "source": [
    "premium_history = premium_history.set_index('start_time')\n",
    "amount_history = amount_history.set_index('start_time')"
   ]
  },
  {
   "cell_type": "code",
   "execution_count": 16,
   "id": "c4ca1a53",
   "metadata": {
    "ExecuteTime": {
     "end_time": "2022-06-13T09:09:12.775423Z",
     "start_time": "2022-06-13T09:09:12.737665Z"
    }
   },
   "outputs": [],
   "source": [
    "# fill in empty dates with no cover buys\n",
    "idx = pd.date_range('2020-06-01', '2022-06-10')\n",
    "premium_history = premium_history.reindex(idx, fill_value=0)\n",
    "amount_history = amount_history.reindex(idx, fill_value=0)"
   ]
  },
  {
   "cell_type": "code",
   "execution_count": 17,
   "id": "773c8d24",
   "metadata": {
    "ExecuteTime": {
     "end_time": "2022-06-13T09:09:13.886955Z",
     "start_time": "2022-06-13T09:09:13.871173Z"
    }
   },
   "outputs": [
    {
     "data": {
      "text/html": [
       "<div>\n",
       "<style scoped>\n",
       "    .dataframe tbody tr th:only-of-type {\n",
       "        vertical-align: middle;\n",
       "    }\n",
       "\n",
       "    .dataframe tbody tr th {\n",
       "        vertical-align: top;\n",
       "    }\n",
       "\n",
       "    .dataframe thead th {\n",
       "        text-align: right;\n",
       "    }\n",
       "</style>\n",
       "<table border=\"1\" class=\"dataframe\">\n",
       "  <thead>\n",
       "    <tr style=\"text-align: right;\">\n",
       "      <th></th>\n",
       "      <th>premium_eth</th>\n",
       "    </tr>\n",
       "  </thead>\n",
       "  <tbody>\n",
       "    <tr>\n",
       "      <th>count</th>\n",
       "      <td>740.000000</td>\n",
       "    </tr>\n",
       "    <tr>\n",
       "      <th>mean</th>\n",
       "      <td>23.327086</td>\n",
       "    </tr>\n",
       "    <tr>\n",
       "      <th>std</th>\n",
       "      <td>142.862217</td>\n",
       "    </tr>\n",
       "    <tr>\n",
       "      <th>min</th>\n",
       "      <td>0.000000</td>\n",
       "    </tr>\n",
       "    <tr>\n",
       "      <th>25%</th>\n",
       "      <td>2.319041</td>\n",
       "    </tr>\n",
       "    <tr>\n",
       "      <th>50%</th>\n",
       "      <td>7.551642</td>\n",
       "    </tr>\n",
       "    <tr>\n",
       "      <th>75%</th>\n",
       "      <td>18.817329</td>\n",
       "    </tr>\n",
       "    <tr>\n",
       "      <th>max</th>\n",
       "      <td>3757.889588</td>\n",
       "    </tr>\n",
       "  </tbody>\n",
       "</table>\n",
       "</div>"
      ],
      "text/plain": [
       "       premium_eth\n",
       "count   740.000000\n",
       "mean     23.327086\n",
       "std     142.862217\n",
       "min       0.000000\n",
       "25%       2.319041\n",
       "50%       7.551642\n",
       "75%      18.817329\n",
       "max    3757.889588"
      ]
     },
     "execution_count": 17,
     "metadata": {},
     "output_type": "execute_result"
    }
   ],
   "source": [
    "premium_history.describe()"
   ]
  },
  {
   "cell_type": "code",
   "execution_count": 19,
   "id": "7e565fc3",
   "metadata": {
    "ExecuteTime": {
     "end_time": "2022-06-13T09:09:35.950859Z",
     "start_time": "2022-06-13T09:09:35.933571Z"
    }
   },
   "outputs": [
    {
     "data": {
      "text/html": [
       "<div>\n",
       "<style scoped>\n",
       "    .dataframe tbody tr th:only-of-type {\n",
       "        vertical-align: middle;\n",
       "    }\n",
       "\n",
       "    .dataframe tbody tr th {\n",
       "        vertical-align: top;\n",
       "    }\n",
       "\n",
       "    .dataframe thead th {\n",
       "        text-align: right;\n",
       "    }\n",
       "</style>\n",
       "<table border=\"1\" class=\"dataframe\">\n",
       "  <thead>\n",
       "    <tr style=\"text-align: right;\">\n",
       "      <th></th>\n",
       "      <th>amount_eth</th>\n",
       "    </tr>\n",
       "  </thead>\n",
       "  <tbody>\n",
       "    <tr>\n",
       "      <th>2021-10-14</th>\n",
       "      <td>1384.428193</td>\n",
       "    </tr>\n",
       "    <tr>\n",
       "      <th>2021-10-15</th>\n",
       "      <td>7732.721091</td>\n",
       "    </tr>\n",
       "    <tr>\n",
       "      <th>2021-10-16</th>\n",
       "      <td>11555.317320</td>\n",
       "    </tr>\n",
       "    <tr>\n",
       "      <th>2021-10-17</th>\n",
       "      <td>295.000000</td>\n",
       "    </tr>\n",
       "    <tr>\n",
       "      <th>2021-10-18</th>\n",
       "      <td>5011.961723</td>\n",
       "    </tr>\n",
       "    <tr>\n",
       "      <th>...</th>\n",
       "      <td>...</td>\n",
       "    </tr>\n",
       "    <tr>\n",
       "      <th>2022-06-06</th>\n",
       "      <td>3767.210540</td>\n",
       "    </tr>\n",
       "    <tr>\n",
       "      <th>2022-06-07</th>\n",
       "      <td>2357.252038</td>\n",
       "    </tr>\n",
       "    <tr>\n",
       "      <th>2022-06-08</th>\n",
       "      <td>5305.316515</td>\n",
       "    </tr>\n",
       "    <tr>\n",
       "      <th>2022-06-09</th>\n",
       "      <td>884.191855</td>\n",
       "    </tr>\n",
       "    <tr>\n",
       "      <th>2022-06-10</th>\n",
       "      <td>11567.371130</td>\n",
       "    </tr>\n",
       "  </tbody>\n",
       "</table>\n",
       "<p>240 rows × 1 columns</p>\n",
       "</div>"
      ],
      "text/plain": [
       "              amount_eth\n",
       "2021-10-14   1384.428193\n",
       "2021-10-15   7732.721091\n",
       "2021-10-16  11555.317320\n",
       "2021-10-17    295.000000\n",
       "2021-10-18   5011.961723\n",
       "...                  ...\n",
       "2022-06-06   3767.210540\n",
       "2022-06-07   2357.252038\n",
       "2022-06-08   5305.316515\n",
       "2022-06-09    884.191855\n",
       "2022-06-10  11567.371130\n",
       "\n",
       "[240 rows x 1 columns]"
      ]
     },
     "execution_count": 19,
     "metadata": {},
     "output_type": "execute_result"
    }
   ],
   "source": [
    "amount_history[500:]"
   ]
  },
  {
   "cell_type": "code",
   "execution_count": 18,
   "id": "ec94bbba",
   "metadata": {
    "ExecuteTime": {
     "end_time": "2022-06-13T09:09:16.202685Z",
     "start_time": "2022-06-13T09:09:16.184109Z"
    }
   },
   "outputs": [
    {
     "data": {
      "text/html": [
       "<div>\n",
       "<style scoped>\n",
       "    .dataframe tbody tr th:only-of-type {\n",
       "        vertical-align: middle;\n",
       "    }\n",
       "\n",
       "    .dataframe tbody tr th {\n",
       "        vertical-align: top;\n",
       "    }\n",
       "\n",
       "    .dataframe thead th {\n",
       "        text-align: right;\n",
       "    }\n",
       "</style>\n",
       "<table border=\"1\" class=\"dataframe\">\n",
       "  <thead>\n",
       "    <tr style=\"text-align: right;\">\n",
       "      <th></th>\n",
       "      <th>amount_eth</th>\n",
       "    </tr>\n",
       "  </thead>\n",
       "  <tbody>\n",
       "    <tr>\n",
       "      <th>count</th>\n",
       "      <td>240.000000</td>\n",
       "    </tr>\n",
       "    <tr>\n",
       "      <th>mean</th>\n",
       "      <td>4108.938137</td>\n",
       "    </tr>\n",
       "    <tr>\n",
       "      <th>std</th>\n",
       "      <td>5429.763931</td>\n",
       "    </tr>\n",
       "    <tr>\n",
       "      <th>min</th>\n",
       "      <td>0.000000</td>\n",
       "    </tr>\n",
       "    <tr>\n",
       "      <th>25%</th>\n",
       "      <td>717.171710</td>\n",
       "    </tr>\n",
       "    <tr>\n",
       "      <th>50%</th>\n",
       "      <td>1956.533748</td>\n",
       "    </tr>\n",
       "    <tr>\n",
       "      <th>75%</th>\n",
       "      <td>5655.821723</td>\n",
       "    </tr>\n",
       "    <tr>\n",
       "      <th>max</th>\n",
       "      <td>30212.182160</td>\n",
       "    </tr>\n",
       "  </tbody>\n",
       "</table>\n",
       "</div>"
      ],
      "text/plain": [
       "         amount_eth\n",
       "count    240.000000\n",
       "mean    4108.938137\n",
       "std     5429.763931\n",
       "min        0.000000\n",
       "25%      717.171710\n",
       "50%     1956.533748\n",
       "75%     5655.821723\n",
       "max    30212.182160"
      ]
     },
     "execution_count": 18,
     "metadata": {},
     "output_type": "execute_result"
    }
   ],
   "source": [
    "amount_history[500:].describe()"
   ]
  },
  {
   "cell_type": "markdown",
   "id": "50e29ac0",
   "metadata": {},
   "source": [
    "### Drop-off in cover amounts (since 14 Oct 2021)\n"
   ]
  },
  {
   "cell_type": "code",
   "execution_count": 20,
   "id": "ade7efa8",
   "metadata": {
    "ExecuteTime": {
     "end_time": "2022-06-13T09:09:55.192984Z",
     "start_time": "2022-06-13T09:09:55.170864Z"
    }
   },
   "outputs": [],
   "source": [
    "# group by day\n",
    "drop_history = cover_history.groupby('end_time')[['amount_eth']].sum().reset_index()\n",
    "drop_history = drop_history.iloc[569:807]\n",
    "drop_history = drop_history.set_index('end_time')\n",
    "idx = pd.date_range('2021-10-14', '2022-06-10')\n",
    "drop_history = drop_history.reindex(idx, fill_value=0)"
   ]
  },
  {
   "cell_type": "code",
   "execution_count": 21,
   "id": "c47e86f5",
   "metadata": {
    "ExecuteTime": {
     "end_time": "2022-06-13T09:09:55.584890Z",
     "start_time": "2022-06-13T09:09:55.568100Z"
    }
   },
   "outputs": [
    {
     "data": {
      "text/html": [
       "<div>\n",
       "<style scoped>\n",
       "    .dataframe tbody tr th:only-of-type {\n",
       "        vertical-align: middle;\n",
       "    }\n",
       "\n",
       "    .dataframe tbody tr th {\n",
       "        vertical-align: top;\n",
       "    }\n",
       "\n",
       "    .dataframe thead th {\n",
       "        text-align: right;\n",
       "    }\n",
       "</style>\n",
       "<table border=\"1\" class=\"dataframe\">\n",
       "  <thead>\n",
       "    <tr style=\"text-align: right;\">\n",
       "      <th></th>\n",
       "      <th>amount_eth</th>\n",
       "    </tr>\n",
       "  </thead>\n",
       "  <tbody>\n",
       "    <tr>\n",
       "      <th>2021-10-14</th>\n",
       "      <td>1462.750746</td>\n",
       "    </tr>\n",
       "    <tr>\n",
       "      <th>2021-10-15</th>\n",
       "      <td>232.040089</td>\n",
       "    </tr>\n",
       "    <tr>\n",
       "      <th>2021-10-16</th>\n",
       "      <td>1291.981851</td>\n",
       "    </tr>\n",
       "    <tr>\n",
       "      <th>2021-10-17</th>\n",
       "      <td>338.510886</td>\n",
       "    </tr>\n",
       "    <tr>\n",
       "      <th>2021-10-18</th>\n",
       "      <td>1133.082425</td>\n",
       "    </tr>\n",
       "    <tr>\n",
       "      <th>...</th>\n",
       "      <td>...</td>\n",
       "    </tr>\n",
       "    <tr>\n",
       "      <th>2022-06-06</th>\n",
       "      <td>17411.205743</td>\n",
       "    </tr>\n",
       "    <tr>\n",
       "      <th>2022-06-07</th>\n",
       "      <td>197.000000</td>\n",
       "    </tr>\n",
       "    <tr>\n",
       "      <th>2022-06-08</th>\n",
       "      <td>1148.981851</td>\n",
       "    </tr>\n",
       "    <tr>\n",
       "      <th>2022-06-09</th>\n",
       "      <td>601.868429</td>\n",
       "    </tr>\n",
       "    <tr>\n",
       "      <th>2022-06-10</th>\n",
       "      <td>2757.068771</td>\n",
       "    </tr>\n",
       "  </tbody>\n",
       "</table>\n",
       "<p>240 rows × 1 columns</p>\n",
       "</div>"
      ],
      "text/plain": [
       "              amount_eth\n",
       "2021-10-14   1462.750746\n",
       "2021-10-15    232.040089\n",
       "2021-10-16   1291.981851\n",
       "2021-10-17    338.510886\n",
       "2021-10-18   1133.082425\n",
       "...                  ...\n",
       "2022-06-06  17411.205743\n",
       "2022-06-07    197.000000\n",
       "2022-06-08   1148.981851\n",
       "2022-06-09    601.868429\n",
       "2022-06-10   2757.068771\n",
       "\n",
       "[240 rows x 1 columns]"
      ]
     },
     "execution_count": 21,
     "metadata": {},
     "output_type": "execute_result"
    }
   ],
   "source": [
    "drop_history"
   ]
  },
  {
   "cell_type": "code",
   "execution_count": 22,
   "id": "d17c9694",
   "metadata": {
    "ExecuteTime": {
     "end_time": "2022-06-13T09:09:59.232046Z",
     "start_time": "2022-06-13T09:09:59.222365Z"
    }
   },
   "outputs": [
    {
     "data": {
      "text/plain": [
       "amount_eth    3802.920618\n",
       "dtype: float64"
      ]
     },
     "execution_count": 22,
     "metadata": {},
     "output_type": "execute_result"
    }
   ],
   "source": [
    "drop_history.mean()"
   ]
  },
  {
   "cell_type": "markdown",
   "id": "217d9752",
   "metadata": {},
   "source": [
    "## Investigate frequency and size of accepted claims"
   ]
  },
  {
   "cell_type": "code",
   "execution_count": 23,
   "id": "2b7f9142",
   "metadata": {
    "ExecuteTime": {
     "end_time": "2022-06-13T09:10:14.841994Z",
     "start_time": "2022-06-13T09:10:14.828252Z"
    }
   },
   "outputs": [
    {
     "data": {
      "text/plain": [
       "0.03076923076923077"
      ]
     },
     "execution_count": 23,
     "metadata": {},
     "output_type": "execute_result"
    }
   ],
   "source": [
    "# filter accepted claims only\n",
    "accepted_claims = claims_history[claims_history['verdict'] == 'Accepted']\n",
    "\n",
    "# work out days since first claim\n",
    "days_since_first_claim = (pd.Timestamp.now() - accepted_claims['timestamp'].iloc[0]).days\n",
    "\n",
    "# count number of claims and divide by number of days\n",
    "avg_claim_freq = accepted_claims['verdict'].count() / days_since_first_claim\n",
    "\n",
    "avg_claim_freq "
   ]
  },
  {
   "cell_type": "code",
   "execution_count": 24,
   "id": "5fc28426",
   "metadata": {
    "ExecuteTime": {
     "end_time": "2022-06-13T09:10:19.132649Z",
     "start_time": "2022-06-13T09:10:18.924184Z"
    }
   },
   "outputs": [
    {
     "name": "stderr",
     "output_type": "stream",
     "text": [
      "/tmp/ipykernel_1303/834324826.py:1: SettingWithCopyWarning: \n",
      "A value is trying to be set on a copy of a slice from a DataFrame.\n",
      "Try using .loc[row_indexer,col_indexer] = value instead\n",
      "\n",
      "See the caveats in the documentation: https://pandas.pydata.org/pandas-docs/stable/user_guide/indexing.html#returning-a-view-versus-a-copy\n",
      "  accepted_claims['amount_eth'] = np.where(accepted_claims['currency'] == 'DAI',\n"
     ]
    }
   ],
   "source": [
    "accepted_claims['amount_eth'] = np.where(accepted_claims['currency'] == 'DAI',\n",
    "                                         accepted_claims['amount']/eth_price, accepted_claims['amount'])"
   ]
  },
  {
   "cell_type": "code",
   "execution_count": 25,
   "id": "7dfaa7ce",
   "metadata": {
    "ExecuteTime": {
     "end_time": "2022-06-13T09:10:19.868388Z",
     "start_time": "2022-06-13T09:10:19.841866Z"
    },
    "scrolled": true
   },
   "outputs": [
    {
     "data": {
      "text/html": [
       "<div>\n",
       "<style scoped>\n",
       "    .dataframe tbody tr th:only-of-type {\n",
       "        vertical-align: middle;\n",
       "    }\n",
       "\n",
       "    .dataframe tbody tr th {\n",
       "        vertical-align: top;\n",
       "    }\n",
       "\n",
       "    .dataframe thead th {\n",
       "        text-align: right;\n",
       "    }\n",
       "</style>\n",
       "<table border=\"1\" class=\"dataframe\">\n",
       "  <thead>\n",
       "    <tr style=\"text-align: right;\">\n",
       "      <th></th>\n",
       "      <th>timestamp</th>\n",
       "      <th>cover_id</th>\n",
       "      <th>block_number</th>\n",
       "      <th>verdict</th>\n",
       "      <th>claim_id</th>\n",
       "      <th>project</th>\n",
       "      <th>amount_usd</th>\n",
       "      <th>amount</th>\n",
       "      <th>currency</th>\n",
       "      <th>start_time</th>\n",
       "      <th>amount_eth</th>\n",
       "    </tr>\n",
       "  </thead>\n",
       "  <tbody>\n",
       "    <tr>\n",
       "      <th>0</th>\n",
       "      <td>2020-02-18 17:01:18</td>\n",
       "      <td>152</td>\n",
       "      <td>9508333</td>\n",
       "      <td>Accepted</td>\n",
       "      <td>2</td>\n",
       "      <td>bZx v1</td>\n",
       "      <td>8050.76</td>\n",
       "      <td>4.0</td>\n",
       "      <td>ETH</td>\n",
       "      <td>2020-02-03 19:58:33</td>\n",
       "      <td>4.000000</td>\n",
       "    </tr>\n",
       "    <tr>\n",
       "      <th>2</th>\n",
       "      <td>2020-02-19 23:55:22</td>\n",
       "      <td>158</td>\n",
       "      <td>9516760</td>\n",
       "      <td>Accepted</td>\n",
       "      <td>5</td>\n",
       "      <td>bZx v1</td>\n",
       "      <td>2598.70</td>\n",
       "      <td>2600.0</td>\n",
       "      <td>DAI</td>\n",
       "      <td>2020-02-05 01:27:47</td>\n",
       "      <td>2.180549</td>\n",
       "    </tr>\n",
       "    <tr>\n",
       "      <th>3</th>\n",
       "      <td>2020-02-18 17:07:50</td>\n",
       "      <td>121</td>\n",
       "      <td>9508364</td>\n",
       "      <td>Accepted</td>\n",
       "      <td>3</td>\n",
       "      <td>bZx v1</td>\n",
       "      <td>29985.00</td>\n",
       "      <td>30000.0</td>\n",
       "      <td>DAI</td>\n",
       "      <td>2019-12-10 15:49:23</td>\n",
       "      <td>25.160187</td>\n",
       "    </tr>\n",
       "    <tr>\n",
       "      <th>69</th>\n",
       "      <td>2021-02-04 23:20:43</td>\n",
       "      <td>729</td>\n",
       "      <td>11792745</td>\n",
       "      <td>Accepted</td>\n",
       "      <td>72</td>\n",
       "      <td>Yearn Finance (all vaults)</td>\n",
       "      <td>12076.14</td>\n",
       "      <td>6.0</td>\n",
       "      <td>ETH</td>\n",
       "      <td>2020-08-24 17:36:23</td>\n",
       "      <td>6.000000</td>\n",
       "    </tr>\n",
       "    <tr>\n",
       "      <th>70</th>\n",
       "      <td>2021-02-05 02:47:32</td>\n",
       "      <td>278</td>\n",
       "      <td>11793668</td>\n",
       "      <td>Accepted</td>\n",
       "      <td>73</td>\n",
       "      <td>Yearn Finance (all vaults)</td>\n",
       "      <td>1399.30</td>\n",
       "      <td>1400.0</td>\n",
       "      <td>DAI</td>\n",
       "      <td>2020-04-16 00:45:45</td>\n",
       "      <td>1.174142</td>\n",
       "    </tr>\n",
       "    <tr>\n",
       "      <th>72</th>\n",
       "      <td>2021-02-05 02:49:38</td>\n",
       "      <td>616</td>\n",
       "      <td>11793678</td>\n",
       "      <td>Accepted</td>\n",
       "      <td>74</td>\n",
       "      <td>Yearn Finance (all vaults)</td>\n",
       "      <td>48304.56</td>\n",
       "      <td>24.0</td>\n",
       "      <td>ETH</td>\n",
       "      <td>2020-08-16 10:02:18</td>\n",
       "      <td>24.000000</td>\n",
       "    </tr>\n",
       "    <tr>\n",
       "      <th>73</th>\n",
       "      <td>2021-02-05 03:19:09</td>\n",
       "      <td>203</td>\n",
       "      <td>11793813</td>\n",
       "      <td>Accepted</td>\n",
       "      <td>75</td>\n",
       "      <td>Yearn Finance (all vaults)</td>\n",
       "      <td>8995.50</td>\n",
       "      <td>9000.0</td>\n",
       "      <td>DAI</td>\n",
       "      <td>2020-02-20 04:33:53</td>\n",
       "      <td>7.548056</td>\n",
       "    </tr>\n",
       "    <tr>\n",
       "      <th>74</th>\n",
       "      <td>2021-02-05 17:42:46</td>\n",
       "      <td>652</td>\n",
       "      <td>11797703</td>\n",
       "      <td>Accepted</td>\n",
       "      <td>77</td>\n",
       "      <td>Yearn Finance (all vaults)</td>\n",
       "      <td>12076.14</td>\n",
       "      <td>6.0</td>\n",
       "      <td>ETH</td>\n",
       "      <td>2020-08-17 21:28:10</td>\n",
       "      <td>6.000000</td>\n",
       "    </tr>\n",
       "    <tr>\n",
       "      <th>75</th>\n",
       "      <td>2021-02-05 18:58:03</td>\n",
       "      <td>1815</td>\n",
       "      <td>11798055</td>\n",
       "      <td>Accepted</td>\n",
       "      <td>78</td>\n",
       "      <td>Yearn Finance (all vaults)</td>\n",
       "      <td>20126.90</td>\n",
       "      <td>10.0</td>\n",
       "      <td>ETH</td>\n",
       "      <td>2020-09-16 23:08:00</td>\n",
       "      <td>10.000000</td>\n",
       "    </tr>\n",
       "    <tr>\n",
       "      <th>76</th>\n",
       "      <td>2021-02-06 07:31:02</td>\n",
       "      <td>759</td>\n",
       "      <td>11801426</td>\n",
       "      <td>Accepted</td>\n",
       "      <td>80</td>\n",
       "      <td>Yearn Finance (all vaults)</td>\n",
       "      <td>100634.50</td>\n",
       "      <td>50.0</td>\n",
       "      <td>ETH</td>\n",
       "      <td>2020-08-28 06:40:35</td>\n",
       "      <td>50.000000</td>\n",
       "    </tr>\n",
       "    <tr>\n",
       "      <th>77</th>\n",
       "      <td>2021-02-06 19:01:51</td>\n",
       "      <td>768</td>\n",
       "      <td>11804529</td>\n",
       "      <td>Accepted</td>\n",
       "      <td>81</td>\n",
       "      <td>Yearn Finance (all vaults)</td>\n",
       "      <td>69225.37</td>\n",
       "      <td>69260.0</td>\n",
       "      <td>DAI</td>\n",
       "      <td>2020-08-28 16:58:51</td>\n",
       "      <td>58.086484</td>\n",
       "    </tr>\n",
       "    <tr>\n",
       "      <th>78</th>\n",
       "      <td>2021-02-06 19:01:51</td>\n",
       "      <td>767</td>\n",
       "      <td>11804529</td>\n",
       "      <td>Accepted</td>\n",
       "      <td>82</td>\n",
       "      <td>Yearn Finance (all vaults)</td>\n",
       "      <td>49975.00</td>\n",
       "      <td>50000.0</td>\n",
       "      <td>DAI</td>\n",
       "      <td>2020-08-28 16:57:43</td>\n",
       "      <td>41.933644</td>\n",
       "    </tr>\n",
       "    <tr>\n",
       "      <th>79</th>\n",
       "      <td>2021-02-06 20:41:39</td>\n",
       "      <td>517</td>\n",
       "      <td>11804973</td>\n",
       "      <td>Accepted</td>\n",
       "      <td>83</td>\n",
       "      <td>Yearn Finance (all vaults)</td>\n",
       "      <td>80507.60</td>\n",
       "      <td>40.0</td>\n",
       "      <td>ETH</td>\n",
       "      <td>2020-07-22 18:05:13</td>\n",
       "      <td>40.000000</td>\n",
       "    </tr>\n",
       "    <tr>\n",
       "      <th>80</th>\n",
       "      <td>2021-02-06 03:22:56</td>\n",
       "      <td>467</td>\n",
       "      <td>11800259</td>\n",
       "      <td>Accepted</td>\n",
       "      <td>79</td>\n",
       "      <td>Yearn Finance (all vaults)</td>\n",
       "      <td>201269.00</td>\n",
       "      <td>100.0</td>\n",
       "      <td>ETH</td>\n",
       "      <td>2020-07-19 22:50:19</td>\n",
       "      <td>100.000000</td>\n",
       "    </tr>\n",
       "    <tr>\n",
       "      <th>81</th>\n",
       "      <td>2021-02-07 01:11:41</td>\n",
       "      <td>1804</td>\n",
       "      <td>11806214</td>\n",
       "      <td>Accepted</td>\n",
       "      <td>84</td>\n",
       "      <td>Yearn Finance (all vaults)</td>\n",
       "      <td>2012690.00</td>\n",
       "      <td>1000.0</td>\n",
       "      <td>ETH</td>\n",
       "      <td>2020-09-16 22:07:31</td>\n",
       "      <td>1000.000000</td>\n",
       "    </tr>\n",
       "    <tr>\n",
       "      <th>82</th>\n",
       "      <td>2021-02-07 18:09:19</td>\n",
       "      <td>1159</td>\n",
       "      <td>11810842</td>\n",
       "      <td>Accepted</td>\n",
       "      <td>87</td>\n",
       "      <td>Yearn Finance (all vaults)</td>\n",
       "      <td>30190.35</td>\n",
       "      <td>15.0</td>\n",
       "      <td>ETH</td>\n",
       "      <td>2020-09-13 07:14:37</td>\n",
       "      <td>15.000000</td>\n",
       "    </tr>\n",
       "    <tr>\n",
       "      <th>83</th>\n",
       "      <td>2021-02-07 17:03:51</td>\n",
       "      <td>1044</td>\n",
       "      <td>11810546</td>\n",
       "      <td>Accepted</td>\n",
       "      <td>86</td>\n",
       "      <td>Yearn Finance (all vaults)</td>\n",
       "      <td>201269.00</td>\n",
       "      <td>100.0</td>\n",
       "      <td>ETH</td>\n",
       "      <td>2020-09-12 14:11:02</td>\n",
       "      <td>100.000000</td>\n",
       "    </tr>\n",
       "    <tr>\n",
       "      <th>86</th>\n",
       "      <td>2021-05-25 06:19:36</td>\n",
       "      <td>641</td>\n",
       "      <td>12501843</td>\n",
       "      <td>Accepted</td>\n",
       "      <td>93</td>\n",
       "      <td>Yearn Finance (all vaults)</td>\n",
       "      <td>2498.75</td>\n",
       "      <td>2500.0</td>\n",
       "      <td>DAI</td>\n",
       "      <td>2020-08-17 07:34:45</td>\n",
       "      <td>2.096682</td>\n",
       "    </tr>\n",
       "    <tr>\n",
       "      <th>97</th>\n",
       "      <td>2021-10-30 17:27:12</td>\n",
       "      <td>3951</td>\n",
       "      <td>13519778</td>\n",
       "      <td>Accepted</td>\n",
       "      <td>98</td>\n",
       "      <td>CREAM v1</td>\n",
       "      <td>29985.00</td>\n",
       "      <td>30000.0</td>\n",
       "      <td>DAI</td>\n",
       "      <td>2021-04-23 13:19:22</td>\n",
       "      <td>25.160187</td>\n",
       "    </tr>\n",
       "    <tr>\n",
       "      <th>98</th>\n",
       "      <td>2021-10-31 03:15:00</td>\n",
       "      <td>5803</td>\n",
       "      <td>13522367</td>\n",
       "      <td>Accepted</td>\n",
       "      <td>100</td>\n",
       "      <td>CREAM v1</td>\n",
       "      <td>49975.00</td>\n",
       "      <td>50000.0</td>\n",
       "      <td>DAI</td>\n",
       "      <td>2021-09-28 23:55:02</td>\n",
       "      <td>41.933644</td>\n",
       "    </tr>\n",
       "    <tr>\n",
       "      <th>99</th>\n",
       "      <td>2021-10-31 06:10:32</td>\n",
       "      <td>5722</td>\n",
       "      <td>13523153</td>\n",
       "      <td>Accepted</td>\n",
       "      <td>101</td>\n",
       "      <td>CREAM v1</td>\n",
       "      <td>18114.21</td>\n",
       "      <td>9.0</td>\n",
       "      <td>ETH</td>\n",
       "      <td>2021-09-16 14:16:17</td>\n",
       "      <td>9.000000</td>\n",
       "    </tr>\n",
       "    <tr>\n",
       "      <th>100</th>\n",
       "      <td>2021-10-30 20:04:47</td>\n",
       "      <td>5714</td>\n",
       "      <td>13520493</td>\n",
       "      <td>Accepted</td>\n",
       "      <td>99</td>\n",
       "      <td>CREAM v1</td>\n",
       "      <td>80507.60</td>\n",
       "      <td>40.0</td>\n",
       "      <td>ETH</td>\n",
       "      <td>2021-09-15 15:48:10</td>\n",
       "      <td>40.000000</td>\n",
       "    </tr>\n",
       "    <tr>\n",
       "      <th>102</th>\n",
       "      <td>2021-11-21 16:30:15</td>\n",
       "      <td>3308</td>\n",
       "      <td>13659255</td>\n",
       "      <td>Accepted</td>\n",
       "      <td>103</td>\n",
       "      <td>CREAM v1</td>\n",
       "      <td>9995.00</td>\n",
       "      <td>10000.0</td>\n",
       "      <td>DAI</td>\n",
       "      <td>2021-02-14 16:54:14</td>\n",
       "      <td>8.386729</td>\n",
       "    </tr>\n",
       "    <tr>\n",
       "      <th>104</th>\n",
       "      <td>2021-12-05 11:18:29</td>\n",
       "      <td>5920</td>\n",
       "      <td>13745752</td>\n",
       "      <td>Accepted</td>\n",
       "      <td>105</td>\n",
       "      <td>CREAM v1</td>\n",
       "      <td>24152.28</td>\n",
       "      <td>12.0</td>\n",
       "      <td>ETH</td>\n",
       "      <td>2021-10-16 20:30:47</td>\n",
       "      <td>12.000000</td>\n",
       "    </tr>\n",
       "    <tr>\n",
       "      <th>109</th>\n",
       "      <td>2022-05-04 08:30:09</td>\n",
       "      <td>6947</td>\n",
       "      <td>14709877</td>\n",
       "      <td>Accepted</td>\n",
       "      <td>110</td>\n",
       "      <td>Rari Capital</td>\n",
       "      <td>40253.80</td>\n",
       "      <td>20.0</td>\n",
       "      <td>ETH</td>\n",
       "      <td>2022-03-15 11:36:14</td>\n",
       "      <td>20.000000</td>\n",
       "    </tr>\n",
       "    <tr>\n",
       "      <th>110</th>\n",
       "      <td>2022-05-06 03:57:45</td>\n",
       "      <td>7185</td>\n",
       "      <td>14721312</td>\n",
       "      <td>Accepted</td>\n",
       "      <td>111</td>\n",
       "      <td>Rari Capital</td>\n",
       "      <td>7996.00</td>\n",
       "      <td>8000.0</td>\n",
       "      <td>DAI</td>\n",
       "      <td>2022-04-18 03:47:17</td>\n",
       "      <td>6.709383</td>\n",
       "    </tr>\n",
       "  </tbody>\n",
       "</table>\n",
       "</div>"
      ],
      "text/plain": [
       "              timestamp  cover_id  block_number   verdict  claim_id  \\\n",
       "0   2020-02-18 17:01:18       152       9508333  Accepted         2   \n",
       "2   2020-02-19 23:55:22       158       9516760  Accepted         5   \n",
       "3   2020-02-18 17:07:50       121       9508364  Accepted         3   \n",
       "69  2021-02-04 23:20:43       729      11792745  Accepted        72   \n",
       "70  2021-02-05 02:47:32       278      11793668  Accepted        73   \n",
       "72  2021-02-05 02:49:38       616      11793678  Accepted        74   \n",
       "73  2021-02-05 03:19:09       203      11793813  Accepted        75   \n",
       "74  2021-02-05 17:42:46       652      11797703  Accepted        77   \n",
       "75  2021-02-05 18:58:03      1815      11798055  Accepted        78   \n",
       "76  2021-02-06 07:31:02       759      11801426  Accepted        80   \n",
       "77  2021-02-06 19:01:51       768      11804529  Accepted        81   \n",
       "78  2021-02-06 19:01:51       767      11804529  Accepted        82   \n",
       "79  2021-02-06 20:41:39       517      11804973  Accepted        83   \n",
       "80  2021-02-06 03:22:56       467      11800259  Accepted        79   \n",
       "81  2021-02-07 01:11:41      1804      11806214  Accepted        84   \n",
       "82  2021-02-07 18:09:19      1159      11810842  Accepted        87   \n",
       "83  2021-02-07 17:03:51      1044      11810546  Accepted        86   \n",
       "86  2021-05-25 06:19:36       641      12501843  Accepted        93   \n",
       "97  2021-10-30 17:27:12      3951      13519778  Accepted        98   \n",
       "98  2021-10-31 03:15:00      5803      13522367  Accepted       100   \n",
       "99  2021-10-31 06:10:32      5722      13523153  Accepted       101   \n",
       "100 2021-10-30 20:04:47      5714      13520493  Accepted        99   \n",
       "102 2021-11-21 16:30:15      3308      13659255  Accepted       103   \n",
       "104 2021-12-05 11:18:29      5920      13745752  Accepted       105   \n",
       "109 2022-05-04 08:30:09      6947      14709877  Accepted       110   \n",
       "110 2022-05-06 03:57:45      7185      14721312  Accepted       111   \n",
       "\n",
       "                        project  amount_usd   amount currency  \\\n",
       "0                        bZx v1     8050.76      4.0      ETH   \n",
       "2                        bZx v1     2598.70   2600.0      DAI   \n",
       "3                        bZx v1    29985.00  30000.0      DAI   \n",
       "69   Yearn Finance (all vaults)    12076.14      6.0      ETH   \n",
       "70   Yearn Finance (all vaults)     1399.30   1400.0      DAI   \n",
       "72   Yearn Finance (all vaults)    48304.56     24.0      ETH   \n",
       "73   Yearn Finance (all vaults)     8995.50   9000.0      DAI   \n",
       "74   Yearn Finance (all vaults)    12076.14      6.0      ETH   \n",
       "75   Yearn Finance (all vaults)    20126.90     10.0      ETH   \n",
       "76   Yearn Finance (all vaults)   100634.50     50.0      ETH   \n",
       "77   Yearn Finance (all vaults)    69225.37  69260.0      DAI   \n",
       "78   Yearn Finance (all vaults)    49975.00  50000.0      DAI   \n",
       "79   Yearn Finance (all vaults)    80507.60     40.0      ETH   \n",
       "80   Yearn Finance (all vaults)   201269.00    100.0      ETH   \n",
       "81   Yearn Finance (all vaults)  2012690.00   1000.0      ETH   \n",
       "82   Yearn Finance (all vaults)    30190.35     15.0      ETH   \n",
       "83   Yearn Finance (all vaults)   201269.00    100.0      ETH   \n",
       "86   Yearn Finance (all vaults)     2498.75   2500.0      DAI   \n",
       "97                     CREAM v1    29985.00  30000.0      DAI   \n",
       "98                     CREAM v1    49975.00  50000.0      DAI   \n",
       "99                     CREAM v1    18114.21      9.0      ETH   \n",
       "100                    CREAM v1    80507.60     40.0      ETH   \n",
       "102                    CREAM v1     9995.00  10000.0      DAI   \n",
       "104                    CREAM v1    24152.28     12.0      ETH   \n",
       "109                Rari Capital    40253.80     20.0      ETH   \n",
       "110                Rari Capital     7996.00   8000.0      DAI   \n",
       "\n",
       "              start_time   amount_eth  \n",
       "0    2020-02-03 19:58:33     4.000000  \n",
       "2    2020-02-05 01:27:47     2.180549  \n",
       "3    2019-12-10 15:49:23    25.160187  \n",
       "69   2020-08-24 17:36:23     6.000000  \n",
       "70   2020-04-16 00:45:45     1.174142  \n",
       "72   2020-08-16 10:02:18    24.000000  \n",
       "73   2020-02-20 04:33:53     7.548056  \n",
       "74   2020-08-17 21:28:10     6.000000  \n",
       "75   2020-09-16 23:08:00    10.000000  \n",
       "76   2020-08-28 06:40:35    50.000000  \n",
       "77   2020-08-28 16:58:51    58.086484  \n",
       "78   2020-08-28 16:57:43    41.933644  \n",
       "79   2020-07-22 18:05:13    40.000000  \n",
       "80   2020-07-19 22:50:19   100.000000  \n",
       "81   2020-09-16 22:07:31  1000.000000  \n",
       "82   2020-09-13 07:14:37    15.000000  \n",
       "83   2020-09-12 14:11:02   100.000000  \n",
       "86   2020-08-17 07:34:45     2.096682  \n",
       "97   2021-04-23 13:19:22    25.160187  \n",
       "98   2021-09-28 23:55:02    41.933644  \n",
       "99   2021-09-16 14:16:17     9.000000  \n",
       "100  2021-09-15 15:48:10    40.000000  \n",
       "102  2021-02-14 16:54:14     8.386729  \n",
       "104  2021-10-16 20:30:47    12.000000  \n",
       "109  2022-03-15 11:36:14    20.000000  \n",
       "110  2022-04-18 03:47:17     6.709383  "
      ]
     },
     "execution_count": 25,
     "metadata": {},
     "output_type": "execute_result"
    }
   ],
   "source": [
    "accepted_claims"
   ]
  },
  {
   "cell_type": "code",
   "execution_count": 26,
   "id": "f8342ef3",
   "metadata": {
    "ExecuteTime": {
     "end_time": "2022-06-13T09:10:24.489706Z",
     "start_time": "2022-06-13T09:10:24.476844Z"
    }
   },
   "outputs": [
    {
     "data": {
      "text/plain": [
       "count      26.000000\n",
       "mean       63.706526\n",
       "std       192.886730\n",
       "min         1.174142\n",
       "25%         6.919051\n",
       "50%        17.500000\n",
       "75%        41.450233\n",
       "max      1000.000000\n",
       "Name: amount_eth, dtype: float64"
      ]
     },
     "execution_count": 26,
     "metadata": {},
     "output_type": "execute_result"
    }
   ],
   "source": [
    "accepted_claims.amount_eth.describe()"
   ]
  },
  {
   "cell_type": "code",
   "execution_count": null,
   "id": "2f55f3bf",
   "metadata": {},
   "outputs": [],
   "source": []
  },
  {
   "cell_type": "markdown",
   "id": "2bb28f28",
   "metadata": {},
   "source": [
    "## Check ratio of ETH vs USD Liabilities"
   ]
  },
  {
   "cell_type": "code",
   "execution_count": 51,
   "id": "594da36f",
   "metadata": {
    "ExecuteTime": {
     "end_time": "2022-06-17T16:08:18.074410Z",
     "start_time": "2022-06-17T16:08:18.065106Z"
    }
   },
   "outputs": [],
   "source": [
    "active_covers = cover_history[cover_history['end_time'] > pd.Timestamp.now()]"
   ]
  },
  {
   "cell_type": "code",
   "execution_count": 58,
   "id": "8cb8470e",
   "metadata": {
    "ExecuteTime": {
     "end_time": "2022-06-17T16:09:22.848951Z",
     "start_time": "2022-06-17T16:09:22.825815Z"
    }
   },
   "outputs": [
    {
     "data": {
      "text/plain": [
       "currency\n",
       "DAI    0.801497\n",
       "ETH    0.198503\n",
       "Name: amount_usd, dtype: float64"
      ]
     },
     "execution_count": 58,
     "metadata": {},
     "output_type": "execute_result"
    }
   ],
   "source": [
    "active_covers.groupby('currency').sum()['amount_usd']/(active_covers.groupby('currency').sum()['amount_usd'].sum())"
   ]
  },
  {
   "cell_type": "code",
   "execution_count": 52,
   "id": "1fc7080b",
   "metadata": {
    "ExecuteTime": {
     "end_time": "2022-06-17T16:08:18.591149Z",
     "start_time": "2022-06-17T16:08:18.581987Z"
    }
   },
   "outputs": [],
   "source": [
    "active_covers_no_enzyme_anchor = active_covers[~active_covers['project'].isin(['Anchor', 'Enzyme v3'])]"
   ]
  },
  {
   "cell_type": "code",
   "execution_count": 53,
   "id": "f8e3c238",
   "metadata": {
    "ExecuteTime": {
     "end_time": "2022-06-17T16:08:18.926115Z",
     "start_time": "2022-06-17T16:08:18.915823Z"
    }
   },
   "outputs": [],
   "source": [
    "currency_df = active_covers_no_enzyme_anchor.groupby('currency').sum()"
   ]
  },
  {
   "cell_type": "code",
   "execution_count": 54,
   "id": "f5fec431",
   "metadata": {
    "ExecuteTime": {
     "end_time": "2022-06-17T16:08:19.217405Z",
     "start_time": "2022-06-17T16:08:19.207700Z"
    }
   },
   "outputs": [
    {
     "data": {
      "text/plain": [
       "currency\n",
       "DAI    0.862858\n",
       "ETH    0.137142\n",
       "Name: amount_usd, dtype: float64"
      ]
     },
     "execution_count": 54,
     "metadata": {},
     "output_type": "execute_result"
    }
   ],
   "source": [
    "percentages = currency_df['amount_usd']/(currency_df['amount_usd'].sum())\n",
    "percentages"
   ]
  },
  {
   "cell_type": "code",
   "execution_count": 55,
   "id": "abada54f",
   "metadata": {
    "ExecuteTime": {
     "end_time": "2022-06-17T16:08:19.730303Z",
     "start_time": "2022-06-17T16:08:19.715804Z"
    }
   },
   "outputs": [],
   "source": [
    "currency_df_with_enz_anch = active_covers[active_covers['project'].isin(['Anchor', 'Enzyme v3'])].groupby('currency').sum()"
   ]
  },
  {
   "cell_type": "code",
   "execution_count": 56,
   "id": "170491f9",
   "metadata": {
    "ExecuteTime": {
     "end_time": "2022-06-17T16:08:20.113445Z",
     "start_time": "2022-06-17T16:08:20.105459Z"
    }
   },
   "outputs": [
    {
     "data": {
      "text/plain": [
       "currency\n",
       "DAI    0.591042\n",
       "ETH    0.408958\n",
       "Name: amount_usd, dtype: float64"
      ]
     },
     "execution_count": 56,
     "metadata": {},
     "output_type": "execute_result"
    }
   ],
   "source": [
    "percentages = currency_df_with_enz_anch['amount_usd']/currency_df_with_enz_anch['amount_usd'].sum()\n",
    "percentages"
   ]
  },
  {
   "cell_type": "markdown",
   "id": "ca9a09f4",
   "metadata": {},
   "source": [
    "## Playground for distributions"
   ]
  },
  {
   "cell_type": "code",
   "execution_count": 15,
   "id": "fb5d315b",
   "metadata": {
    "ExecuteTime": {
     "end_time": "2022-06-28T14:19:40.407203Z",
     "start_time": "2022-06-28T14:19:40.203800Z"
    }
   },
   "outputs": [
    {
     "data": {
      "text/html": [
       "<div>\n",
       "<style scoped>\n",
       "    .dataframe tbody tr th:only-of-type {\n",
       "        vertical-align: middle;\n",
       "    }\n",
       "\n",
       "    .dataframe tbody tr th {\n",
       "        vertical-align: top;\n",
       "    }\n",
       "\n",
       "    .dataframe thead th {\n",
       "        text-align: right;\n",
       "    }\n",
       "</style>\n",
       "<table border=\"1\" class=\"dataframe\">\n",
       "  <thead>\n",
       "    <tr style=\"text-align: right;\">\n",
       "      <th></th>\n",
       "      <th>0</th>\n",
       "    </tr>\n",
       "  </thead>\n",
       "  <tbody>\n",
       "    <tr>\n",
       "      <th>count</th>\n",
       "      <td>10000.000000</td>\n",
       "    </tr>\n",
       "    <tr>\n",
       "      <th>mean</th>\n",
       "      <td>7.140724</td>\n",
       "    </tr>\n",
       "    <tr>\n",
       "      <th>std</th>\n",
       "      <td>39.163480</td>\n",
       "    </tr>\n",
       "    <tr>\n",
       "      <th>min</th>\n",
       "      <td>0.000854</td>\n",
       "    </tr>\n",
       "    <tr>\n",
       "      <th>25%</th>\n",
       "      <td>0.257125</td>\n",
       "    </tr>\n",
       "    <tr>\n",
       "      <th>50%</th>\n",
       "      <td>0.977785</td>\n",
       "    </tr>\n",
       "    <tr>\n",
       "      <th>75%</th>\n",
       "      <td>3.750230</td>\n",
       "    </tr>\n",
       "    <tr>\n",
       "      <th>max</th>\n",
       "      <td>1988.184589</td>\n",
       "    </tr>\n",
       "  </tbody>\n",
       "</table>\n",
       "</div>"
      ],
      "text/plain": [
       "                  0\n",
       "count  10000.000000\n",
       "mean       7.140724\n",
       "std       39.163480\n",
       "min        0.000854\n",
       "25%        0.257125\n",
       "50%        0.977785\n",
       "75%        3.750230\n",
       "max     1988.184589"
      ]
     },
     "execution_count": 15,
     "metadata": {},
     "output_type": "execute_result"
    }
   ],
   "source": [
    "randomizer = lognorm.rvs(s=2, loc=0, scale=1, size=10_000)\n",
    "pd.DataFrame(randomizer).describe()"
   ]
  },
  {
   "cell_type": "code",
   "execution_count": 16,
   "id": "82d192b1",
   "metadata": {
    "ExecuteTime": {
     "end_time": "2022-06-28T14:22:04.230813Z",
     "start_time": "2022-06-28T14:22:04.205722Z"
    }
   },
   "outputs": [
    {
     "data": {
      "text/html": [
       "<div>\n",
       "<style scoped>\n",
       "    .dataframe tbody tr th:only-of-type {\n",
       "        vertical-align: middle;\n",
       "    }\n",
       "\n",
       "    .dataframe tbody tr th {\n",
       "        vertical-align: top;\n",
       "    }\n",
       "\n",
       "    .dataframe thead th {\n",
       "        text-align: right;\n",
       "    }\n",
       "</style>\n",
       "<table border=\"1\" class=\"dataframe\">\n",
       "  <thead>\n",
       "    <tr style=\"text-align: right;\">\n",
       "      <th></th>\n",
       "      <th>0</th>\n",
       "    </tr>\n",
       "  </thead>\n",
       "  <tbody>\n",
       "    <tr>\n",
       "      <th>count</th>\n",
       "      <td>10000.000000</td>\n",
       "    </tr>\n",
       "    <tr>\n",
       "      <th>mean</th>\n",
       "      <td>107.328086</td>\n",
       "    </tr>\n",
       "    <tr>\n",
       "      <th>std</th>\n",
       "      <td>39.894548</td>\n",
       "    </tr>\n",
       "    <tr>\n",
       "      <th>min</th>\n",
       "      <td>100.000863</td>\n",
       "    </tr>\n",
       "    <tr>\n",
       "      <th>25%</th>\n",
       "      <td>100.257993</td>\n",
       "    </tr>\n",
       "    <tr>\n",
       "      <th>50%</th>\n",
       "      <td>101.010296</td>\n",
       "    </tr>\n",
       "    <tr>\n",
       "      <th>75%</th>\n",
       "      <td>103.852078</td>\n",
       "    </tr>\n",
       "    <tr>\n",
       "      <th>max</th>\n",
       "      <td>1897.985626</td>\n",
       "    </tr>\n",
       "  </tbody>\n",
       "</table>\n",
       "</div>"
      ],
      "text/plain": [
       "                  0\n",
       "count  10000.000000\n",
       "mean     107.328086\n",
       "std       39.894548\n",
       "min      100.000863\n",
       "25%      100.257993\n",
       "50%      101.010296\n",
       "75%      103.852078\n",
       "max     1897.985626"
      ]
     },
     "execution_count": 16,
     "metadata": {},
     "output_type": "execute_result"
    }
   ],
   "source": [
    "randomizer_2 = lognorm.rvs(s=2, loc=100, scale=1, size=10_000)\n",
    "pd.DataFrame(randomizer_2).describe()"
   ]
  },
  {
   "cell_type": "code",
   "execution_count": null,
   "id": "19143ca5",
   "metadata": {},
   "outputs": [],
   "source": []
  }
 ],
 "metadata": {
  "kernelspec": {
   "display_name": "Python 3 (ipykernel)",
   "language": "python",
   "name": "python3"
  },
  "language_info": {
   "codemirror_mode": {
    "name": "ipython",
    "version": 3
   },
   "file_extension": ".py",
   "mimetype": "text/x-python",
   "name": "python",
   "nbconvert_exporter": "python",
   "pygments_lexer": "ipython3",
   "version": "3.8.12"
  },
  "toc": {
   "base_numbering": 1,
   "nav_menu": {},
   "number_sections": true,
   "sideBar": true,
   "skip_h1_title": false,
   "title_cell": "Table of Contents",
   "title_sidebar": "Contents",
   "toc_cell": false,
   "toc_position": {},
   "toc_section_display": true,
   "toc_window_display": false
  }
 },
 "nbformat": 4,
 "nbformat_minor": 5
}
