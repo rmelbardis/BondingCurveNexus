{
 "cells": [
  {
   "cell_type": "markdown",
   "id": "0c1c83f7",
   "metadata": {},
   "source": [
    "# Weighted average days on covers "
   ]
  },
  {
   "cell_type": "code",
   "execution_count": null,
   "id": "a42a48db",
   "metadata": {
    "ExecuteTime": {
     "end_time": "2022-05-28T15:21:05.678395Z",
     "start_time": "2022-05-28T15:21:05.663885Z"
    }
   },
   "outputs": [],
   "source": [
    "### TODO: Provide live feed instead of just pulling in .csv\n",
    "# https://github.com/rchen8/nexus-mutual-tracker"
   ]
  },
  {
   "cell_type": "code",
   "execution_count": 2,
   "id": "67057180",
   "metadata": {
    "ExecuteTime": {
     "end_time": "2022-11-16T10:38:58.880973Z",
     "start_time": "2022-11-16T10:38:58.854580Z"
    }
   },
   "outputs": [
    {
     "data": {
      "text/html": [
       "<div>\n",
       "<style scoped>\n",
       "    .dataframe tbody tr th:only-of-type {\n",
       "        vertical-align: middle;\n",
       "    }\n",
       "\n",
       "    .dataframe tbody tr th {\n",
       "        vertical-align: top;\n",
       "    }\n",
       "\n",
       "    .dataframe thead th {\n",
       "        text-align: right;\n",
       "    }\n",
       "</style>\n",
       "<table border=\"1\" class=\"dataframe\">\n",
       "  <thead>\n",
       "    <tr style=\"text-align: right;\">\n",
       "      <th></th>\n",
       "      <th>Unnamed: 0</th>\n",
       "      <th>USD</th>\n",
       "      <th>ETH</th>\n",
       "    </tr>\n",
       "  </thead>\n",
       "  <tbody>\n",
       "    <tr>\n",
       "      <th>0</th>\n",
       "      <td>2022-11-16 12:59:25</td>\n",
       "      <td>1.562828e+08</td>\n",
       "      <td>127152.196137</td>\n",
       "    </tr>\n",
       "    <tr>\n",
       "      <th>1</th>\n",
       "      <td>2022-11-16 20:50:09</td>\n",
       "      <td>1.562364e+08</td>\n",
       "      <td>127114.448712</td>\n",
       "    </tr>\n",
       "    <tr>\n",
       "      <th>2</th>\n",
       "      <td>2022-11-17 18:55:23</td>\n",
       "      <td>1.530314e+08</td>\n",
       "      <td>124506.857410</td>\n",
       "    </tr>\n",
       "    <tr>\n",
       "      <th>3</th>\n",
       "      <td>2022-11-18 01:21:33</td>\n",
       "      <td>1.529684e+08</td>\n",
       "      <td>124455.605519</td>\n",
       "    </tr>\n",
       "    <tr>\n",
       "      <th>4</th>\n",
       "      <td>2022-11-18 07:29:23</td>\n",
       "      <td>1.528784e+08</td>\n",
       "      <td>124382.388531</td>\n",
       "    </tr>\n",
       "    <tr>\n",
       "      <th>...</th>\n",
       "      <td>...</td>\n",
       "      <td>...</td>\n",
       "      <td>...</td>\n",
       "    </tr>\n",
       "    <tr>\n",
       "      <th>562</th>\n",
       "      <td>2023-11-15 08:07:47</td>\n",
       "      <td>6.616230e+04</td>\n",
       "      <td>53.829876</td>\n",
       "    </tr>\n",
       "    <tr>\n",
       "      <th>563</th>\n",
       "      <td>2023-11-15 08:09:11</td>\n",
       "      <td>4.158030e+04</td>\n",
       "      <td>33.829876</td>\n",
       "    </tr>\n",
       "    <tr>\n",
       "      <th>564</th>\n",
       "      <td>2023-11-15 15:11:35</td>\n",
       "      <td>3.051840e+04</td>\n",
       "      <td>24.829876</td>\n",
       "    </tr>\n",
       "    <tr>\n",
       "      <th>565</th>\n",
       "      <td>2023-11-15 21:13:59</td>\n",
       "      <td>1.699830e+04</td>\n",
       "      <td>13.829876</td>\n",
       "    </tr>\n",
       "    <tr>\n",
       "      <th>566</th>\n",
       "      <td>2023-11-15 22:37:47</td>\n",
       "      <td>0.000000e+00</td>\n",
       "      <td>0.000000</td>\n",
       "    </tr>\n",
       "  </tbody>\n",
       "</table>\n",
       "<p>567 rows × 3 columns</p>\n",
       "</div>"
      ],
      "text/plain": [
       "              Unnamed: 0           USD            ETH\n",
       "0    2022-11-16 12:59:25  1.562828e+08  127152.196137\n",
       "1    2022-11-16 20:50:09  1.562364e+08  127114.448712\n",
       "2    2022-11-17 18:55:23  1.530314e+08  124506.857410\n",
       "3    2022-11-18 01:21:33  1.529684e+08  124455.605519\n",
       "4    2022-11-18 07:29:23  1.528784e+08  124382.388531\n",
       "..                   ...           ...            ...\n",
       "562  2023-11-15 08:07:47  6.616230e+04      53.829876\n",
       "563  2023-11-15 08:09:11  4.158030e+04      33.829876\n",
       "564  2023-11-15 15:11:35  3.051840e+04      24.829876\n",
       "565  2023-11-15 21:13:59  1.699830e+04      13.829876\n",
       "566  2023-11-15 22:37:47  0.000000e+00       0.000000\n",
       "\n",
       "[567 rows x 3 columns]"
      ]
     },
     "execution_count": 2,
     "metadata": {},
     "output_type": "execute_result"
    }
   ],
   "source": [
    "# bring in csv\n",
    "active_covers_expiration = pd.read_csv('../raw_data/active_cover_amount_by_expiration_date.csv')\n",
    "active_covers_expiration"
   ]
  },
  {
   "cell_type": "code",
   "execution_count": 3,
   "id": "e574f2b6",
   "metadata": {
    "ExecuteTime": {
     "end_time": "2022-11-16T10:39:16.559574Z",
     "start_time": "2022-11-16T10:39:16.516335Z"
    }
   },
   "outputs": [
    {
     "data": {
      "text/html": [
       "<div>\n",
       "<style scoped>\n",
       "    .dataframe tbody tr th:only-of-type {\n",
       "        vertical-align: middle;\n",
       "    }\n",
       "\n",
       "    .dataframe tbody tr th {\n",
       "        vertical-align: top;\n",
       "    }\n",
       "\n",
       "    .dataframe thead th {\n",
       "        text-align: right;\n",
       "    }\n",
       "</style>\n",
       "<table border=\"1\" class=\"dataframe\">\n",
       "  <thead>\n",
       "    <tr style=\"text-align: right;\">\n",
       "      <th></th>\n",
       "      <th>exp_time</th>\n",
       "      <th>USD</th>\n",
       "      <th>ETH</th>\n",
       "    </tr>\n",
       "  </thead>\n",
       "  <tbody>\n",
       "    <tr>\n",
       "      <th>0</th>\n",
       "      <td>2022-11-16 12:59:25</td>\n",
       "      <td>1.562828e+08</td>\n",
       "      <td>127152.196137</td>\n",
       "    </tr>\n",
       "    <tr>\n",
       "      <th>1</th>\n",
       "      <td>2022-11-16 20:50:09</td>\n",
       "      <td>1.562364e+08</td>\n",
       "      <td>127114.448712</td>\n",
       "    </tr>\n",
       "    <tr>\n",
       "      <th>2</th>\n",
       "      <td>2022-11-17 18:55:23</td>\n",
       "      <td>1.530314e+08</td>\n",
       "      <td>124506.857410</td>\n",
       "    </tr>\n",
       "    <tr>\n",
       "      <th>3</th>\n",
       "      <td>2022-11-18 01:21:33</td>\n",
       "      <td>1.529684e+08</td>\n",
       "      <td>124455.605519</td>\n",
       "    </tr>\n",
       "    <tr>\n",
       "      <th>4</th>\n",
       "      <td>2022-11-18 07:29:23</td>\n",
       "      <td>1.528784e+08</td>\n",
       "      <td>124382.388531</td>\n",
       "    </tr>\n",
       "    <tr>\n",
       "      <th>...</th>\n",
       "      <td>...</td>\n",
       "      <td>...</td>\n",
       "      <td>...</td>\n",
       "    </tr>\n",
       "    <tr>\n",
       "      <th>562</th>\n",
       "      <td>2023-11-15 08:07:47</td>\n",
       "      <td>6.616230e+04</td>\n",
       "      <td>53.829876</td>\n",
       "    </tr>\n",
       "    <tr>\n",
       "      <th>563</th>\n",
       "      <td>2023-11-15 08:09:11</td>\n",
       "      <td>4.158030e+04</td>\n",
       "      <td>33.829876</td>\n",
       "    </tr>\n",
       "    <tr>\n",
       "      <th>564</th>\n",
       "      <td>2023-11-15 15:11:35</td>\n",
       "      <td>3.051840e+04</td>\n",
       "      <td>24.829876</td>\n",
       "    </tr>\n",
       "    <tr>\n",
       "      <th>565</th>\n",
       "      <td>2023-11-15 21:13:59</td>\n",
       "      <td>1.699830e+04</td>\n",
       "      <td>13.829876</td>\n",
       "    </tr>\n",
       "    <tr>\n",
       "      <th>566</th>\n",
       "      <td>2023-11-15 22:37:47</td>\n",
       "      <td>0.000000e+00</td>\n",
       "      <td>0.000000</td>\n",
       "    </tr>\n",
       "  </tbody>\n",
       "</table>\n",
       "<p>567 rows × 3 columns</p>\n",
       "</div>"
      ],
      "text/plain": [
       "                exp_time           USD            ETH\n",
       "0    2022-11-16 12:59:25  1.562828e+08  127152.196137\n",
       "1    2022-11-16 20:50:09  1.562364e+08  127114.448712\n",
       "2    2022-11-17 18:55:23  1.530314e+08  124506.857410\n",
       "3    2022-11-18 01:21:33  1.529684e+08  124455.605519\n",
       "4    2022-11-18 07:29:23  1.528784e+08  124382.388531\n",
       "..                   ...           ...            ...\n",
       "562  2023-11-15 08:07:47  6.616230e+04      53.829876\n",
       "563  2023-11-15 08:09:11  4.158030e+04      33.829876\n",
       "564  2023-11-15 15:11:35  3.051840e+04      24.829876\n",
       "565  2023-11-15 21:13:59  1.699830e+04      13.829876\n",
       "566  2023-11-15 22:37:47  0.000000e+00       0.000000\n",
       "\n",
       "[567 rows x 3 columns]"
      ]
     },
     "execution_count": 3,
     "metadata": {},
     "output_type": "execute_result"
    }
   ],
   "source": [
    "# rename columns\n",
    "active_covers_expiration.columns = ['exp_time', 'USD', 'ETH']\n",
    "active_covers_expiration"
   ]
  },
  {
   "cell_type": "code",
   "execution_count": 7,
   "id": "acce8d06",
   "metadata": {
    "ExecuteTime": {
     "end_time": "2022-11-16T10:39:49.225350Z",
     "start_time": "2022-11-16T10:39:49.215470Z"
    }
   },
   "outputs": [
    {
     "data": {
      "text/plain": [
       "exp_time    datetime64[ns]\n",
       "USD                float64\n",
       "ETH                float64\n",
       "dtype: object"
      ]
     },
     "execution_count": 7,
     "metadata": {},
     "output_type": "execute_result"
    }
   ],
   "source": [
    "# convert expiry time from string to datetime\n",
    "active_covers_expiration['exp_time'] = pd.to_datetime(active_covers_expiration['exp_time'])\n",
    "active_covers_expiration.dtypes"
   ]
  },
  {
   "cell_type": "code",
   "execution_count": 8,
   "id": "2905afa8",
   "metadata": {
    "ExecuteTime": {
     "end_time": "2022-11-16T10:40:09.927286Z",
     "start_time": "2022-11-16T10:40:09.901483Z"
    }
   },
   "outputs": [
    {
     "data": {
      "text/html": [
       "<div>\n",
       "<style scoped>\n",
       "    .dataframe tbody tr th:only-of-type {\n",
       "        vertical-align: middle;\n",
       "    }\n",
       "\n",
       "    .dataframe tbody tr th {\n",
       "        vertical-align: top;\n",
       "    }\n",
       "\n",
       "    .dataframe thead th {\n",
       "        text-align: right;\n",
       "    }\n",
       "</style>\n",
       "<table border=\"1\" class=\"dataframe\">\n",
       "  <thead>\n",
       "    <tr style=\"text-align: right;\">\n",
       "      <th></th>\n",
       "      <th>exp_time</th>\n",
       "      <th>USD</th>\n",
       "      <th>ETH</th>\n",
       "      <th>days_remaining</th>\n",
       "    </tr>\n",
       "  </thead>\n",
       "  <tbody>\n",
       "    <tr>\n",
       "      <th>0</th>\n",
       "      <td>2022-11-16 12:59:25</td>\n",
       "      <td>1.562828e+08</td>\n",
       "      <td>127152.196137</td>\n",
       "      <td>0 days 12:59:25</td>\n",
       "    </tr>\n",
       "    <tr>\n",
       "      <th>1</th>\n",
       "      <td>2022-11-16 20:50:09</td>\n",
       "      <td>1.562364e+08</td>\n",
       "      <td>127114.448712</td>\n",
       "      <td>0 days 20:50:09</td>\n",
       "    </tr>\n",
       "    <tr>\n",
       "      <th>2</th>\n",
       "      <td>2022-11-17 18:55:23</td>\n",
       "      <td>1.530314e+08</td>\n",
       "      <td>124506.857410</td>\n",
       "      <td>1 days 18:55:23</td>\n",
       "    </tr>\n",
       "    <tr>\n",
       "      <th>3</th>\n",
       "      <td>2022-11-18 01:21:33</td>\n",
       "      <td>1.529684e+08</td>\n",
       "      <td>124455.605519</td>\n",
       "      <td>2 days 01:21:33</td>\n",
       "    </tr>\n",
       "    <tr>\n",
       "      <th>4</th>\n",
       "      <td>2022-11-18 07:29:23</td>\n",
       "      <td>1.528784e+08</td>\n",
       "      <td>124382.388531</td>\n",
       "      <td>2 days 07:29:23</td>\n",
       "    </tr>\n",
       "    <tr>\n",
       "      <th>...</th>\n",
       "      <td>...</td>\n",
       "      <td>...</td>\n",
       "      <td>...</td>\n",
       "      <td>...</td>\n",
       "    </tr>\n",
       "    <tr>\n",
       "      <th>562</th>\n",
       "      <td>2023-11-15 08:07:47</td>\n",
       "      <td>6.616230e+04</td>\n",
       "      <td>53.829876</td>\n",
       "      <td>364 days 08:07:47</td>\n",
       "    </tr>\n",
       "    <tr>\n",
       "      <th>563</th>\n",
       "      <td>2023-11-15 08:09:11</td>\n",
       "      <td>4.158030e+04</td>\n",
       "      <td>33.829876</td>\n",
       "      <td>364 days 08:09:11</td>\n",
       "    </tr>\n",
       "    <tr>\n",
       "      <th>564</th>\n",
       "      <td>2023-11-15 15:11:35</td>\n",
       "      <td>3.051840e+04</td>\n",
       "      <td>24.829876</td>\n",
       "      <td>364 days 15:11:35</td>\n",
       "    </tr>\n",
       "    <tr>\n",
       "      <th>565</th>\n",
       "      <td>2023-11-15 21:13:59</td>\n",
       "      <td>1.699830e+04</td>\n",
       "      <td>13.829876</td>\n",
       "      <td>364 days 21:13:59</td>\n",
       "    </tr>\n",
       "    <tr>\n",
       "      <th>566</th>\n",
       "      <td>2023-11-15 22:37:47</td>\n",
       "      <td>0.000000e+00</td>\n",
       "      <td>0.000000</td>\n",
       "      <td>364 days 22:37:47</td>\n",
       "    </tr>\n",
       "  </tbody>\n",
       "</table>\n",
       "<p>567 rows × 4 columns</p>\n",
       "</div>"
      ],
      "text/plain": [
       "               exp_time           USD            ETH    days_remaining\n",
       "0   2022-11-16 12:59:25  1.562828e+08  127152.196137   0 days 12:59:25\n",
       "1   2022-11-16 20:50:09  1.562364e+08  127114.448712   0 days 20:50:09\n",
       "2   2022-11-17 18:55:23  1.530314e+08  124506.857410   1 days 18:55:23\n",
       "3   2022-11-18 01:21:33  1.529684e+08  124455.605519   2 days 01:21:33\n",
       "4   2022-11-18 07:29:23  1.528784e+08  124382.388531   2 days 07:29:23\n",
       "..                  ...           ...            ...               ...\n",
       "562 2023-11-15 08:07:47  6.616230e+04      53.829876 364 days 08:07:47\n",
       "563 2023-11-15 08:09:11  4.158030e+04      33.829876 364 days 08:09:11\n",
       "564 2023-11-15 15:11:35  3.051840e+04      24.829876 364 days 15:11:35\n",
       "565 2023-11-15 21:13:59  1.699830e+04      13.829876 364 days 21:13:59\n",
       "566 2023-11-15 22:37:47  0.000000e+00       0.000000 364 days 22:37:47\n",
       "\n",
       "[567 rows x 4 columns]"
      ]
     },
     "execution_count": 8,
     "metadata": {},
     "output_type": "execute_result"
    }
   ],
   "source": [
    "# create a 'days remaining column by subtracting today's date in datetime format\n",
    "active_covers_expiration['days_remaining'] = active_covers_expiration['exp_time']-pd.Timestamp.now().normalize()\n",
    "active_covers_expiration"
   ]
  },
  {
   "cell_type": "code",
   "execution_count": 9,
   "id": "255c8356",
   "metadata": {
    "ExecuteTime": {
     "end_time": "2022-11-16T10:48:44.070657Z",
     "start_time": "2022-11-16T10:48:44.050484Z"
    }
   },
   "outputs": [
    {
     "data": {
      "text/html": [
       "<div>\n",
       "<style scoped>\n",
       "    .dataframe tbody tr th:only-of-type {\n",
       "        vertical-align: middle;\n",
       "    }\n",
       "\n",
       "    .dataframe tbody tr th {\n",
       "        vertical-align: top;\n",
       "    }\n",
       "\n",
       "    .dataframe thead th {\n",
       "        text-align: right;\n",
       "    }\n",
       "</style>\n",
       "<table border=\"1\" class=\"dataframe\">\n",
       "  <thead>\n",
       "    <tr style=\"text-align: right;\">\n",
       "      <th></th>\n",
       "      <th>exp_time</th>\n",
       "      <th>USD</th>\n",
       "      <th>ETH</th>\n",
       "      <th>days_remaining</th>\n",
       "    </tr>\n",
       "  </thead>\n",
       "  <tbody>\n",
       "    <tr>\n",
       "      <th>0</th>\n",
       "      <td>2022-11-16 12:59:25</td>\n",
       "      <td>1.562828e+08</td>\n",
       "      <td>127152.196137</td>\n",
       "      <td>0.541262</td>\n",
       "    </tr>\n",
       "    <tr>\n",
       "      <th>1</th>\n",
       "      <td>2022-11-16 20:50:09</td>\n",
       "      <td>1.562364e+08</td>\n",
       "      <td>127114.448712</td>\n",
       "      <td>0.868160</td>\n",
       "    </tr>\n",
       "    <tr>\n",
       "      <th>2</th>\n",
       "      <td>2022-11-17 18:55:23</td>\n",
       "      <td>1.530314e+08</td>\n",
       "      <td>124506.857410</td>\n",
       "      <td>1.788461</td>\n",
       "    </tr>\n",
       "    <tr>\n",
       "      <th>3</th>\n",
       "      <td>2022-11-18 01:21:33</td>\n",
       "      <td>1.529684e+08</td>\n",
       "      <td>124455.605519</td>\n",
       "      <td>2.056632</td>\n",
       "    </tr>\n",
       "    <tr>\n",
       "      <th>4</th>\n",
       "      <td>2022-11-18 07:29:23</td>\n",
       "      <td>1.528784e+08</td>\n",
       "      <td>124382.388531</td>\n",
       "      <td>2.312072</td>\n",
       "    </tr>\n",
       "    <tr>\n",
       "      <th>...</th>\n",
       "      <td>...</td>\n",
       "      <td>...</td>\n",
       "      <td>...</td>\n",
       "      <td>...</td>\n",
       "    </tr>\n",
       "    <tr>\n",
       "      <th>562</th>\n",
       "      <td>2023-11-15 08:07:47</td>\n",
       "      <td>6.616230e+04</td>\n",
       "      <td>53.829876</td>\n",
       "      <td>364.338738</td>\n",
       "    </tr>\n",
       "    <tr>\n",
       "      <th>563</th>\n",
       "      <td>2023-11-15 08:09:11</td>\n",
       "      <td>4.158030e+04</td>\n",
       "      <td>33.829876</td>\n",
       "      <td>364.339711</td>\n",
       "    </tr>\n",
       "    <tr>\n",
       "      <th>564</th>\n",
       "      <td>2023-11-15 15:11:35</td>\n",
       "      <td>3.051840e+04</td>\n",
       "      <td>24.829876</td>\n",
       "      <td>364.633044</td>\n",
       "    </tr>\n",
       "    <tr>\n",
       "      <th>565</th>\n",
       "      <td>2023-11-15 21:13:59</td>\n",
       "      <td>1.699830e+04</td>\n",
       "      <td>13.829876</td>\n",
       "      <td>364.884711</td>\n",
       "    </tr>\n",
       "    <tr>\n",
       "      <th>566</th>\n",
       "      <td>2023-11-15 22:37:47</td>\n",
       "      <td>0.000000e+00</td>\n",
       "      <td>0.000000</td>\n",
       "      <td>364.942905</td>\n",
       "    </tr>\n",
       "  </tbody>\n",
       "</table>\n",
       "<p>567 rows × 4 columns</p>\n",
       "</div>"
      ],
      "text/plain": [
       "               exp_time           USD            ETH  days_remaining\n",
       "0   2022-11-16 12:59:25  1.562828e+08  127152.196137        0.541262\n",
       "1   2022-11-16 20:50:09  1.562364e+08  127114.448712        0.868160\n",
       "2   2022-11-17 18:55:23  1.530314e+08  124506.857410        1.788461\n",
       "3   2022-11-18 01:21:33  1.529684e+08  124455.605519        2.056632\n",
       "4   2022-11-18 07:29:23  1.528784e+08  124382.388531        2.312072\n",
       "..                  ...           ...            ...             ...\n",
       "562 2023-11-15 08:07:47  6.616230e+04      53.829876      364.338738\n",
       "563 2023-11-15 08:09:11  4.158030e+04      33.829876      364.339711\n",
       "564 2023-11-15 15:11:35  3.051840e+04      24.829876      364.633044\n",
       "565 2023-11-15 21:13:59  1.699830e+04      13.829876      364.884711\n",
       "566 2023-11-15 22:37:47  0.000000e+00       0.000000      364.942905\n",
       "\n",
       "[567 rows x 4 columns]"
      ]
     },
     "execution_count": 9,
     "metadata": {},
     "output_type": "execute_result"
    }
   ],
   "source": [
    "# turn the days remaining column to an integer value by dividing by a timedelta day object\n",
    "active_covers_expiration['days_remaining'] = active_covers_expiration['days_remaining']/np.timedelta64(1, 'D')\n",
    "active_covers_expiration"
   ]
  },
  {
   "cell_type": "code",
   "execution_count": 13,
   "id": "3b97b179",
   "metadata": {
    "ExecuteTime": {
     "end_time": "2022-11-16T10:51:20.646684Z",
     "start_time": "2022-11-16T10:51:20.637514Z"
    }
   },
   "outputs": [
    {
     "data": {
      "text/plain": [
       "0      0.002420\n",
       "1      0.003880\n",
       "2      0.007829\n",
       "3      0.008999\n",
       "4      0.010111\n",
       "         ...   \n",
       "562    0.000690\n",
       "563    0.000433\n",
       "564    0.000318\n",
       "565    0.000177\n",
       "566    0.000000\n",
       "Length: 567, dtype: float64"
      ]
     },
     "execution_count": 13,
     "metadata": {},
     "output_type": "execute_result"
    }
   ],
   "source": [
    "(active_covers_expiration['USD']*active_covers_expiration['days_remaining'])/active_covers_expiration['USD'].sum()"
   ]
  },
  {
   "cell_type": "code",
   "execution_count": 14,
   "id": "386620cd",
   "metadata": {
    "ExecuteTime": {
     "end_time": "2022-11-16T10:59:46.543281Z",
     "start_time": "2022-11-16T10:59:46.535927Z"
    }
   },
   "outputs": [
    {
     "data": {
      "text/plain": [
       "50.22900715192461"
      ]
     },
     "execution_count": 14,
     "metadata": {},
     "output_type": "execute_result"
    }
   ],
   "source": [
    "#calculate weighted average minutes remaining based on cover amount\n",
    "wavg_days = ((active_covers_expiration['USD']*active_covers_expiration['days_remaining'])\n",
    "                /active_covers_expiration['USD'].sum()).sum()\n",
    "wavg_days"
   ]
  },
  {
   "cell_type": "code",
   "execution_count": null,
   "id": "cd460c53",
   "metadata": {},
   "outputs": [],
   "source": []
  }
 ],
 "metadata": {
  "kernelspec": {
   "display_name": "Python 3 (ipykernel)",
   "language": "python",
   "name": "python3"
  },
  "language_info": {
   "codemirror_mode": {
    "name": "ipython",
    "version": 3
   },
   "file_extension": ".py",
   "mimetype": "text/x-python",
   "name": "python",
   "nbconvert_exporter": "python",
   "pygments_lexer": "ipython3",
   "version": "3.8.12"
  },
  "toc": {
   "base_numbering": 1,
   "nav_menu": {},
   "number_sections": true,
   "sideBar": true,
   "skip_h1_title": false,
   "title_cell": "Table of Contents",
   "title_sidebar": "Contents",
   "toc_cell": false,
   "toc_position": {},
   "toc_section_display": true,
   "toc_window_display": false
  }
 },
 "nbformat": 4,
 "nbformat_minor": 5
}
