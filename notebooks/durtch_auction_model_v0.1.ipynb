{
 "cells": [
  {
   "cell_type": "code",
   "execution_count": 1,
   "id": "ea027cd5",
   "metadata": {
    "ExecuteTime": {
     "end_time": "2022-08-18T13:16:56.581050Z",
     "start_time": "2022-08-18T13:16:56.221514Z"
    }
   },
   "outputs": [],
   "source": [
    "# Imports (numpy, pandas, matplotlib, seaborn imported automatically)\n",
    "import requests\n",
    "from etherscan import Etherscan\n",
    "from BondingCurveNexus import config\n",
    "from BondingCurveNexus.sys_class import NexusSystem\n",
    "from scipy.stats import poisson, lognorm, norm\n",
    "from random import shuffle"
   ]
  },
  {
   "cell_type": "code",
   "execution_count": 13,
   "id": "f9d7512b",
   "metadata": {
    "ExecuteTime": {
     "end_time": "2022-08-18T13:43:57.358286Z",
     "start_time": "2022-08-18T13:43:56.571335Z"
    },
    "scrolled": true
   },
   "outputs": [
    {
     "data": {
      "text/plain": [
       "1861.29"
      ]
     },
     "execution_count": 13,
     "metadata": {},
     "output_type": "execute_result"
    }
   ],
   "source": [
    "# activate etherscan client\n",
    "eth_client = Etherscan(config.etherscan_api)\n",
    "eth_price_usd = float(eth_client.get_eth_last_price()['ethusd'])\n",
    "eth_price_usd"
   ]
  },
  {
   "cell_type": "code",
   "execution_count": 3,
   "id": "bb0b3cec",
   "metadata": {
    "ExecuteTime": {
     "end_time": "2022-08-18T13:16:59.058745Z",
     "start_time": "2022-08-18T13:16:58.678095Z"
    }
   },
   "outputs": [
    {
     "data": {
      "text/plain": [
       "2820876.71761567"
      ]
     },
     "execution_count": 3,
     "metadata": {},
     "output_type": "execute_result"
    }
   ],
   "source": [
    "supply_url = 'https://api.coingecko.com/api/v3/coins/wrapped-nxm'\n",
    "wnxm_supply_now = requests.get(supply_url).json()['market_data']['total_supply']\n",
    "wnxm_supply_now"
   ]
  },
  {
   "cell_type": "markdown",
   "id": "22d16f6a",
   "metadata": {},
   "source": [
    "# Dutch Auction Modelling"
   ]
  },
  {
   "cell_type": "markdown",
   "id": "46659ed1",
   "metadata": {},
   "source": [
    "## Reverse Dutch Auction Mechanism - Below Book"
   ]
  },
  {
   "cell_type": "markdown",
   "id": "1e411995",
   "metadata": {},
   "source": [
    "At launch, exit price = wnxm price (or slightly below)\n",
    "\n",
    "2 Mechanisms:\n",
    "1. Uniswap v2 Curve to push price down when sales happen\n",
    "2. Slow increase in system price over time\n",
    "\n",
    "Ceiling at book value - we don't want to allow people to sell for more than BV.\n",
    "\n",
    "Incentive not to wait longer - some people may end up exiting in front of you and drive down the price.\n",
    "In the long term should tend towards book value as liquidity at lower levels is drained."
   ]
  },
  {
   "cell_type": "markdown",
   "id": "ad98bb10",
   "metadata": {},
   "source": [
    "### Initial Liquidity"
   ]
  },
  {
   "cell_type": "code",
   "execution_count": 7,
   "id": "b5e61698",
   "metadata": {
    "ExecuteTime": {
     "end_time": "2022-08-18T13:17:14.174113Z",
     "start_time": "2022-08-18T13:17:14.169360Z"
    }
   },
   "outputs": [],
   "source": [
    "free_capital_perc = 0.5\n",
    "liq_alloc_perc = 0.5\n",
    "free_capital = system.cap_pool * free_capital_perc\n",
    "opening_liquidity_eth = liq_alloc_perc * free_capital"
   ]
  },
  {
   "cell_type": "markdown",
   "id": "f01bd281",
   "metadata": {},
   "source": [
    "### wNXM Liquidity in Open Market"
   ]
  },
  {
   "cell_type": "markdown",
   "id": "45236540",
   "metadata": {},
   "source": [
    "Obtained from https://www.coingecko.com/en/coins/wrapped-nxm#markets, summed +2% and -2% depth across all exchanges & averaged the two"
   ]
  },
  {
   "cell_type": "code",
   "execution_count": 11,
   "id": "ed42b566",
   "metadata": {
    "ExecuteTime": {
     "end_time": "2022-08-18T13:41:31.890907Z",
     "start_time": "2022-08-18T13:41:31.884958Z"
    }
   },
   "outputs": [],
   "source": [
    "wnxm_liq_2perc_usd = 236_260"
   ]
  },
  {
   "cell_type": "code",
   "execution_count": 14,
   "id": "62562dd6",
   "metadata": {
    "ExecuteTime": {
     "end_time": "2022-08-18T13:44:21.083771Z",
     "start_time": "2022-08-18T13:44:21.074782Z"
    }
   },
   "outputs": [
    {
     "data": {
      "text/plain": [
       "126.93347087235198"
      ]
     },
     "execution_count": 14,
     "metadata": {},
     "output_type": "execute_result"
    }
   ],
   "source": [
    "wnxm_liq_2perc_eth = wnxm_liq_2perc_usd/eth_price_usd\n",
    "wnxm_liq_2perc_eth"
   ]
  },
  {
   "cell_type": "markdown",
   "id": "caeda11c",
   "metadata": {},
   "source": [
    "### Uniswap v2 OOP Class"
   ]
  },
  {
   "cell_type": "code",
   "execution_count": 37,
   "id": "6cb69680",
   "metadata": {
    "ExecuteTime": {
     "end_time": "2022-08-18T14:21:38.415322Z",
     "start_time": "2022-08-18T14:21:38.398907Z"
    }
   },
   "outputs": [],
   "source": [
    "# Create class with initial liquidity parameters\n",
    "\n",
    "class UniPool:\n",
    "    # initial parameters\n",
    "    def __init__(self):\n",
    "        # initial wNXM price, wNXM and NXM supply\n",
    "        self.wnxm_price = NexusSystem().wnxm_price\n",
    "        self.nxm_supply = NexusSystem().nxm_supply\n",
    "        self.wnxm_supply = wnxm_supply_now\n",
    "        # set initial ETH liquidity\n",
    "        self.liquidity_eth = opening_liquidity_eth\n",
    "        # set initial NXM liquidity\n",
    "        self.liquidity_nxm = self.liquidity_eth / NexusSystem().wnxm_price\n",
    "        # set intial invariant \n",
    "        self.invariant = self.liquidity_eth * self.liquidity_nxm\n",
    "        # set cumulative parameters to 0\n",
    "        self.eth_sold = 0\n",
    "        self.nxm_burned = 0\n",
    "    \n",
    "    # system nxm price expressed in ETH\n",
    "    def nxm_price(self):\n",
    "        return self.liquidity_eth / self.liquidity_nxm\n",
    "    \n",
    "    # one sale of n_nxm NXM\n",
    "    def sale(self, n_nxm):\n",
    "        # add sold NXM to pool\n",
    "        self.liquidity_nxm += n_nxm\n",
    "        self.nxm_supply -= n_nxm\n",
    "        # capture original ETH in pool and update to new value\n",
    "        new_eth = self.invariant / self.liquidity_nxm\n",
    "        # add ETH removed amount to cumulative total \n",
    "        self.eth_sold += self.liquidity_eth - new_eth\n",
    "        self.liquidity_eth = new_eth\n",
    "        \n",
    "    def ratchet(self, n_nxm):\n",
    "        self.liquidity_nxm -= n_nxm\n",
    "        self.invariant = self.liquidity_eth * self.liquidity_nxm"
   ]
  },
  {
   "cell_type": "code",
   "execution_count": 38,
   "id": "5cf7fd49",
   "metadata": {
    "ExecuteTime": {
     "end_time": "2022-08-18T14:21:39.079243Z",
     "start_time": "2022-08-18T14:21:39.074556Z"
    }
   },
   "outputs": [],
   "source": [
    "below_bv_ratchet_perc = 0.01"
   ]
  },
  {
   "cell_type": "code",
   "execution_count": 39,
   "id": "5d350ded",
   "metadata": {
    "ExecuteTime": {
     "end_time": "2022-08-18T14:21:40.627361Z",
     "start_time": "2022-08-18T14:21:40.616230Z"
    }
   },
   "outputs": [
    {
     "name": "stdout",
     "output_type": "stream",
     "text": [
      "0.00949828\n",
      "0.009594222222222223\n"
     ]
    }
   ],
   "source": [
    "sim = UniPool()\n",
    "print(sim.nxm_price())\n",
    "sim.ratchet(sim.liquidity_nxm*below_bv_ratchet_perc)\n",
    "print(sim.nxm_price())"
   ]
  },
  {
   "cell_type": "code",
   "execution_count": 49,
   "id": "3ecce50c",
   "metadata": {
    "ExecuteTime": {
     "end_time": "2022-08-18T14:35:40.874263Z",
     "start_time": "2022-08-18T14:35:39.711476Z"
    }
   },
   "outputs": [
    {
     "data": {
      "image/png": "[encoded data removed]",
      "text/plain": [
       "<Figure size 1080x720 with 2 Axes>"
      ]
     },
     "metadata": {
      "needs_background": "light"
     },
     "output_type": "display_data"
    }
   ],
   "source": [
    "# sale size vs ETH and Price obtained \n",
    "sale_sizes = np.linspace(100, NexusSystem().nxm_supply, 1000)\n",
    "eth_obtained = []\n",
    "nxm_prices_obtained = []\n",
    "\n",
    "for n_nxm in sale_sizes:\n",
    "    sim = UniPool()\n",
    "    sim.sale(n_nxm)\n",
    "    eth_obtained.append(sim.eth_sold)\n",
    "    nxm_prices_obtained.append(sim.eth_sold / n_nxm)\n",
    "    \n",
    "fig, axs = plt.subplots(2, 1, figsize=(15,10))\n",
    "axs[0].plot(sale_sizes, eth_sold)\n",
    "axs[0].set_title('ETH Obtained')\n",
    "axs[0].set_xlabel('NXM Sold')\n",
    "axs[1].plot(sale_sizes, nxm_prices_obtained)\n",
    "axs[1].set_title('Price Obtained')\n",
    "axs[1].set_xlabel('NXM Sold');"
   ]
  },
  {
   "cell_type": "code",
   "execution_count": 40,
   "id": "66b45097",
   "metadata": {
    "ExecuteTime": {
     "end_time": "2022-08-18T14:21:43.497280Z",
     "start_time": "2022-08-18T14:21:43.487610Z"
    }
   },
   "outputs": [
    {
     "name": "stdout",
     "output_type": "stream",
     "text": [
      "3636342.579919733\n",
      "34539.0\n",
      "3646342.579919733\n",
      "34444.27768786673\n"
     ]
    }
   ],
   "source": [
    "sim = UniPool()\n",
    "print(sim.liquidity_nxm)\n",
    "print(sim.liquidity_eth)\n",
    "sim.sale(10_000)\n",
    "print(sim.liquidity_nxm)\n",
    "print(sim.liquidity_eth)"
   ]
  },
  {
   "cell_type": "code",
   "execution_count": 50,
   "id": "f50d29c2",
   "metadata": {
    "ExecuteTime": {
     "end_time": "2022-08-18T14:37:37.545636Z",
     "start_time": "2022-08-18T14:37:37.537906Z"
    }
   },
   "outputs": [
    {
     "data": {
      "text/plain": [
       "22488.06023105508"
      ]
     },
     "execution_count": 50,
     "metadata": {},
     "output_type": "execute_result"
    }
   ],
   "source": [
    "sim.eth_sold"
   ]
  },
  {
   "cell_type": "code",
   "execution_count": null,
   "id": "ae910229",
   "metadata": {},
   "outputs": [],
   "source": []
  }
 ],
 "metadata": {
  "kernelspec": {
   "display_name": "Python 3 (ipykernel)",
   "language": "python",
   "name": "python3"
  },
  "language_info": {
   "codemirror_mode": {
    "name": "ipython",
    "version": 3
   },
   "file_extension": ".py",
   "mimetype": "text/x-python",
   "name": "python",
   "nbconvert_exporter": "python",
   "pygments_lexer": "ipython3",
   "version": "3.8.12"
  },
  "toc": {
   "base_numbering": 1,
   "nav_menu": {},
   "number_sections": true,
   "sideBar": true,
   "skip_h1_title": false,
   "title_cell": "Table of Contents",
   "title_sidebar": "Contents",
   "toc_cell": false,
   "toc_position": {},
   "toc_section_display": true,
   "toc_window_display": false
  }
 },
 "nbformat": 4,
 "nbformat_minor": 5
}
