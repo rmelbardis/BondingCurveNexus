{
 "cells": [
  {
   "cell_type": "code",
   "execution_count": 1,
   "id": "0cba1ea0",
   "metadata": {
    "ExecuteTime": {
     "end_time": "2022-06-28T11:20:17.278661Z",
     "start_time": "2022-06-28T11:20:16.936520Z"
    }
   },
   "outputs": [],
   "source": [
    "from BondingCurveNexus.single_sim import single_sim\n",
    "from BondingCurveNexus.multi_sim import multi_sim"
   ]
  },
  {
   "cell_type": "code",
   "execution_count": null,
   "id": "8636e832",
   "metadata": {
    "ExecuteTime": {
     "start_time": "2022-06-28T11:48:33.381Z"
    }
   },
   "outputs": [
    {
     "name": "stderr",
     "output_type": "stream",
     "text": [
      "  8%|███████▋                                                                                        | 8/100 [00:25<03:25,  2.23s/it]"
     ]
    }
   ],
   "source": [
    "multi_sim()\n"
   ]
  },
  {
   "cell_type": "code",
   "execution_count": null,
   "id": "5503f9fe",
   "metadata": {},
   "outputs": [],
   "source": []
  }
 ],
 "metadata": {
  "kernelspec": {
   "display_name": "Python 3 (ipykernel)",
   "language": "python",
   "name": "python3"
  },
  "language_info": {
   "codemirror_mode": {
    "name": "ipython",
    "version": 3
   },
   "file_extension": ".py",
   "mimetype": "text/x-python",
   "name": "python",
   "nbconvert_exporter": "python",
   "pygments_lexer": "ipython3",
   "version": "3.8.12"
  },
  "toc": {
   "base_numbering": 1,
   "nav_menu": {},
   "number_sections": true,
   "sideBar": true,
   "skip_h1_title": false,
   "title_cell": "Table of Contents",
   "title_sidebar": "Contents",
   "toc_cell": false,
   "toc_position": {},
   "toc_section_display": true,
   "toc_window_display": false
  }
 },
 "nbformat": 4,
 "nbformat_minor": 5
}
